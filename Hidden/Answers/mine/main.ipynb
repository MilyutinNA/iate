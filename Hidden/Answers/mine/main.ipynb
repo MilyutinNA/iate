{
 "cells": [
  {
   "cell_type": "markdown",
   "source": [
    "Задайте следующие переменные:\n",
    "\n",
    "* Формулу косвенной величины в функции func()"
   ],
   "metadata": {
    "collapsed": false,
    "pycharm": {
     "name": "#%% md\n"
    }
   }
  },
  {
   "cell_type": "code",
   "execution_count": 78,
   "outputs": [],
   "source": [
    "def func():\n",
    "    return h*s + v**2/u**0.5"
   ],
   "metadata": {
    "collapsed": false,
    "pycharm": {
     "name": "#%%\n"
    }
   }
  },
  {
   "cell_type": "markdown",
   "source": [
    "* Доверительную вероятность alpha"
   ],
   "metadata": {
    "collapsed": false,
    "pycharm": {
     "name": "#%% md\n"
    }
   }
  },
  {
   "cell_type": "code",
   "execution_count": 79,
   "outputs": [],
   "source": [
    "alpha = 0.95"
   ],
   "metadata": {
    "collapsed": false,
    "pycharm": {
     "name": "#%%\n"
    }
   }
  },
  {
   "cell_type": "markdown",
   "source": [
    "* Систематическую погрешность каждой величины x_sist (Если абсолютная погрешность величины уже известна, укажите ее в качестве систематической. В таблице укажите одно измерение этого параметра)"
   ],
   "metadata": {
    "collapsed": false,
    "pycharm": {
     "name": "#%% md\n"
    }
   }
  },
  {
   "cell_type": "code",
   "execution_count": 80,
   "outputs": [],
   "source": [
    "x_sist = {'v': 0.2, 'u': 0.5, 's': 0.1, 'h': 0.2}"
   ],
   "metadata": {
    "collapsed": false,
    "pycharm": {
     "name": "#%%\n"
    }
   }
  },
  {
   "cell_type": "markdown",
   "source": [
    "* Название таблицы с измеряемыми величинами lab_table"
   ],
   "metadata": {
    "collapsed": false,
    "pycharm": {
     "name": "#%% md\n"
    }
   }
  },
  {
   "cell_type": "code",
   "execution_count": 81,
   "outputs": [],
   "source": [
    "lab_table = 'lab2'"
   ],
   "metadata": {
    "collapsed": false,
    "pycharm": {
     "name": "#%%\n"
    }
   }
  },
  {
   "cell_type": "markdown",
   "source": [
    "* Название таблицы с резульатами рассчетов result_table"
   ],
   "metadata": {
    "collapsed": false,
    "pycharm": {
     "name": "#%% md\n"
    }
   }
  },
  {
   "cell_type": "code",
   "execution_count": 82,
   "outputs": [],
   "source": [
    "result_table = 'results_lab'"
   ],
   "metadata": {
    "collapsed": false,
    "pycharm": {
     "name": "#%%\n"
    }
   }
  },
  {
   "cell_type": "markdown",
   "source": [
    "* Название косвенной величины find_val"
   ],
   "metadata": {
    "collapsed": false,
    "pycharm": {
     "name": "#%% md\n"
    }
   }
  },
  {
   "cell_type": "code",
   "execution_count": 83,
   "outputs": [],
   "source": [
    "find_val = 'J'"
   ],
   "metadata": {
    "collapsed": false,
    "pycharm": {
     "name": "#%%\n"
    }
   }
  },
  {
   "cell_type": "markdown",
   "source": [
    "3...2...1..."
   ],
   "metadata": {
    "collapsed": false,
    "pycharm": {
     "name": "#%% md\n"
    }
   }
  },
  {
   "cell_type": "code",
   "execution_count": 84,
   "outputs": [
    {
     "name": "stdout",
     "output_type": "stream",
     "text": [
      "Подключение к БД PostgreSQL успешно\n",
      "[[12.5, 12.5, 12.6, 12.6, 12.5, 12.6, 12.5, 12.6, 12.4, 12.4, 12.5, 12.4], [5.1, 5.0, 5.1, 5.1, 5.0, 5.1, 5.1, 5.2, 5.0, 5.0, 5.2, 5.0], [2.3, 2.2, 2.3, 2.3, 2.3, 2.3, 2.2, 2.4, 2.1, 2.2, 2.3, 2.2], [10.7]]\n",
      "Таблица из БД импортирована в Jupyter Notebook\n",
      "Найдены параметры оценки погрешности величин:\n",
      "Количество измерений n: 1\n",
      "Средние значения измеренных величин <Xi>:\n",
      "{'v': 12.508333333333335, 'u': 5.075, 's': 2.2583333333333333, 'h': 10.7}\n",
      "Средние квадратичные погрешности отдельных результатов измерений Sn:\n",
      "{'v': 0.07929614610987563, 'u': 0.07537783614444091, 's': 0.07929614610987577, 'h': 0}\n",
      "Средние квадратичные погрешности среднего арифметического S:\n",
      "{'v': 0.022890825651118298, 'u': 0.02175970699446223, 's': 0.022890825651118336, 'h': 0}\n",
      "Случайные погрешности ΔXсл:\n",
      "{'v': 0.05038236756015748, 'u': 0.047892792182564516, 's': 0.050382367560157564, 'h': 0}\n",
      "Абсолютные погрешности ΔX:\n",
      "{'v': 0.20624835262606783, 'u': 0.5022884823913866, 's': 0.11197492112507523, 'h': 0.2}\n",
      "Относительные погрешности δX:\n",
      "{'v': 0.016488875626334536, 'u': 0.09897309997859834, 's': 0.04958299090409236, 'h': 0.01869158878504673}\n",
      "Найдем среднее значение J, используя средние значения измеренных величин:\n",
      "v:12.508333333333335\n",
      "u:5.075\n",
      "s:2.2583333333333333\n",
      "h:10.7\n",
      "Среднее значение J = 93.6155449877213\n",
      "Для функции f = h*s + v**2/u**0.5 найдем значения производных df/dxi:\n",
      "df/dv: 11.10481731982219\n",
      "df/du: -6.8425003271975005\n",
      "df/ds: 10.7\n",
      "df/dh: 2.2583333333333333\n",
      "Подставим df/dxi и абсолютные погрешности прямых измерений Δxi в формулу для нахождения абсолютной погрешности косвенного измерения\n",
      "Абсолютная погрешность ΔJ = 4.324068782716171\n",
      "Найдем относительную погрешность функции f, зная ее среднее значение и абсолютную погрешность\n",
      "Относительная погрешность δJ = 0.04618964492791576 или 4.62%\n",
      "Добавляем найденные значения в БД results_lab\n",
      "Подключение к БД PostgreSQL успешно\n",
      "Запрос на изменение таблицы выполнен успешно\n",
      "В БД results_lab добавлены найденные значения параметров оценки погрешности величины v\n",
      "Запрос на изменение таблицы выполнен успешно\n",
      "В БД results_lab добавлены найденные значения параметров оценки погрешности величины u\n",
      "Запрос на изменение таблицы выполнен успешно\n",
      "В БД results_lab добавлены найденные значения параметров оценки погрешности величины s\n",
      "Запрос на изменение таблицы выполнен успешно\n",
      "В БД results_lab добавлены найденные значения параметров оценки погрешности величины h\n",
      "Запрос на изменение таблицы выполнен успешно\n",
      "В БД results_lab добавлены найденные значения параметров оценки погрешности косвенной величины J\n"
     ]
    }
   ],
   "source": [
    "%run \"db_ex.ipynb\"\n",
    "%run \"lab_calc.ipynb\""
   ],
   "metadata": {
    "collapsed": false,
    "pycharm": {
     "name": "#%%\n"
    }
   }
  }
 ],
 "metadata": {
  "kernelspec": {
   "display_name": "Python 3",
   "language": "python",
   "name": "python3"
  },
  "language_info": {
   "codemirror_mode": {
    "name": "ipython",
    "version": 2
   },
   "file_extension": ".py",
   "mimetype": "text/x-python",
   "name": "python",
   "nbconvert_exporter": "python",
   "pygments_lexer": "ipython2",
   "version": "2.7.6"
  }
 },
 "nbformat": 4,
 "nbformat_minor": 0
}