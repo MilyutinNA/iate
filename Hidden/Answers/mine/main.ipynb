{
 "cells": [
  {
   "cell_type": "markdown",
   "source": [
    "Задайте следующие переменные:\n",
    "\n",
    "* Формулу косвенной величины в функции func()"
   ],
   "metadata": {
    "collapsed": false,
    "pycharm": {
     "name": "#%% md\n"
    }
   }
  },
  {
   "cell_type": "code",
   "execution_count": 21,
   "outputs": [],
   "source": [
    "def func():\n",
    "    return h*s + v**2/u**0.5"
   ],
   "metadata": {
    "collapsed": false,
    "pycharm": {
     "name": "#%%\n"
    }
   }
  },
  {
   "cell_type": "markdown",
   "source": [
    "* Доверительную вероятность alpha"
   ],
   "metadata": {
    "collapsed": false,
    "pycharm": {
     "name": "#%% md\n"
    }
   }
  },
  {
   "cell_type": "code",
   "execution_count": 22,
   "outputs": [],
   "source": [
    "alpha = 0.95"
   ],
   "metadata": {
    "collapsed": false,
    "pycharm": {
     "name": "#%%\n"
    }
   }
  },
  {
   "cell_type": "markdown",
   "source": [
    "* Систематическую погрешность каждой величины x_sist"
   ],
   "metadata": {
    "collapsed": false,
    "pycharm": {
     "name": "#%% md\n"
    }
   }
  },
  {
   "cell_type": "code",
   "execution_count": 23,
   "outputs": [],
   "source": [
    "x_sist = {'v': 0.2, 'u': 0.5, 's': 0.1, 'h': 0.01}"
   ],
   "metadata": {
    "collapsed": false,
    "pycharm": {
     "name": "#%%\n"
    }
   }
  },
  {
   "cell_type": "markdown",
   "source": [
    "* Название таблицы с измеряемыми величинами lab_table"
   ],
   "metadata": {
    "collapsed": false,
    "pycharm": {
     "name": "#%% md\n"
    }
   }
  },
  {
   "cell_type": "code",
   "execution_count": 24,
   "outputs": [],
   "source": [
    "lab_table = 'lab2'"
   ],
   "metadata": {
    "collapsed": false,
    "pycharm": {
     "name": "#%%\n"
    }
   }
  },
  {
   "cell_type": "markdown",
   "source": [
    "* Название таблицы с резульатами рассчетов result_table"
   ],
   "metadata": {
    "collapsed": false,
    "pycharm": {
     "name": "#%% md\n"
    }
   }
  },
  {
   "cell_type": "code",
   "execution_count": 25,
   "outputs": [],
   "source": [
    "result_table = 'results_lab'"
   ],
   "metadata": {
    "collapsed": false,
    "pycharm": {
     "name": "#%%\n"
    }
   }
  },
  {
   "cell_type": "markdown",
   "source": [
    "* Название косвенной величины find_val"
   ],
   "metadata": {
    "collapsed": false,
    "pycharm": {
     "name": "#%% md\n"
    }
   }
  },
  {
   "cell_type": "code",
   "execution_count": 26,
   "outputs": [],
   "source": [
    "find_val = 'J'"
   ],
   "metadata": {
    "collapsed": false,
    "pycharm": {
     "name": "#%%\n"
    }
   }
  },
  {
   "cell_type": "markdown",
   "source": [
    "3...2...1..."
   ],
   "metadata": {
    "collapsed": false,
    "pycharm": {
     "name": "#%% md\n"
    }
   }
  },
  {
   "cell_type": "code",
   "execution_count": 27,
   "outputs": [
    {
     "name": "stdout",
     "output_type": "stream",
     "text": [
      "Подключение к БД PostgreSQL успешно\n",
      "Таблица из БД импортирована в Jupyter Notebook\n",
      "Найдены параметры оценки погрешности величин:\n",
      "Количество измерений n: 12\n",
      "Средние значения измеренных величин <Xi>:\n",
      "{'v': 12.508333333333333, 'u': 5.075, 's': 2.2583333333333333, 'h': 10.65}\n",
      "Средние квадратичные погрешности отдельных результатов измерений Sn:\n",
      "{'v': 0.07929614610987562, 'u': 0.07537783614444091, 's': 0.07929614610987579, 'h': 0.06741998624632396}\n",
      "Средние квадратичные погрешности среднего арифметического S:\n",
      "{'v': 0.022890825651118295, 'u': 0.02175970699446223, 's': 0.022890825651118343, 'h': 0.019462473604038005}\n",
      "Случайные погрешности ΔXсл:\n",
      "{'v': 0.05038236756015747, 'u': 0.047892792182564516, 's': 0.05038236756015758, 'h': 0.042836615580993755}\n",
      "Абсолютные погрешности ΔX:\n",
      "{'v': 0.2062483526260678, 'u': 0.5022884823913866, 's': 0.11197492112507523, 'h': 0.04398835794200366}\n",
      "Относительные погрешности δX:\n",
      "{'v': 0.016488875626334536, 'u': 0.09897309997859834, 's': 0.04958299090409236, 'h': 0.004130362248075461}\n",
      "Найдем среднее значение J, используя средние значения измеренных величин:\n",
      "v:12.508333333333333\n",
      "u:5.075\n",
      "s:2.2583333333333333\n",
      "h:10.65\n",
      "Среднее значение J = 93.5026283210546\n",
      "Для функции f = h*s + v**2/u**0.5 найдем значения производных df/dxi:\n",
      "df/dv: 11.104817319822189\n",
      "df/du: -6.842500327197498\n",
      "df/ds: 10.65\n",
      "df/dh: 2.2583333333333333\n",
      "Подставим df/dxi и абсолютные погрешности прямых измерений Δxi в формулу для нахождения абсолютной погрешности косвенного измерения\n",
      "Абсолютная погрешность ΔJ = 4.300006028621449\n",
      "Найдем относительную погрешность функции f, зная ее среднее значение и абсолютную погрешность\n",
      "Относительная погрешность δJ = 0.045988076547503726 или 4.6%\n",
      "Добавляем найденные значения в БД results_lab\n",
      "Подключение к БД PostgreSQL успешно\n",
      "Запрос на изменение таблицы выполнен успешно\n",
      "В БД results_lab добавлены найденные значения параметров оценки погрешности величины v\n",
      "Запрос на изменение таблицы выполнен успешно\n",
      "В БД results_lab добавлены найденные значения параметров оценки погрешности величины u\n",
      "Запрос на изменение таблицы выполнен успешно\n",
      "В БД results_lab добавлены найденные значения параметров оценки погрешности величины s\n",
      "Запрос на изменение таблицы выполнен успешно\n",
      "В БД results_lab добавлены найденные значения параметров оценки погрешности величины h\n",
      "Запрос на изменение таблицы выполнен успешно\n",
      "В БД results_lab добавлены найденные значения параметров оценки погрешности косвенной величины J\n"
     ]
    }
   ],
   "source": [
    "%run \"db_ex.ipynb\"\n",
    "%run \"lab_calc.ipynb\""
   ],
   "metadata": {
    "collapsed": false,
    "pycharm": {
     "name": "#%%\n"
    }
   }
  }
 ],
 "metadata": {
  "kernelspec": {
   "display_name": "Python 3",
   "language": "python",
   "name": "python3"
  },
  "language_info": {
   "codemirror_mode": {
    "name": "ipython",
    "version": 2
   },
   "file_extension": ".py",
   "mimetype": "text/x-python",
   "name": "python",
   "nbconvert_exporter": "python",
   "pygments_lexer": "ipython2",
   "version": "2.7.6"
  }
 },
 "nbformat": 4,
 "nbformat_minor": 0
}