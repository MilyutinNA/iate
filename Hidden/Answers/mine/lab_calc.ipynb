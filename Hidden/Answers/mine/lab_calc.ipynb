{
 "cells": [
  {
   "cell_type": "markdown",
   "source": [
    "Импорт библиотек, необходимых для вычислений"
   ],
   "metadata": {
    "collapsed": false,
    "pycharm": {
     "name": "#%% md\n"
    }
   }
  },
  {
   "cell_type": "code",
   "execution_count": null,
   "outputs": [],
   "source": [
    "import numpy as np\n",
    "import math\n",
    "from scipy import stats"
   ],
   "metadata": {
    "collapsed": false,
    "pycharm": {
     "name": "#%%\n"
    }
   }
  },
  {
   "cell_type": "code",
   "execution_count": null,
   "outputs": [],
   "source": [
    "avg_x = {}; sigma = {}; SEM = {}; x_sl = {}; abs_x = {}; otn_x = {}"
   ],
   "metadata": {
    "collapsed": false,
    "pycharm": {
     "name": "#%%\n"
    }
   }
  },
  {
   "cell_type": "code",
   "execution_count": null,
   "metadata": {
    "collapsed": true,
    "pycharm": {
     "name": "#%%\n"
    }
   },
   "outputs": [],
   "source": [
    "for i in dict_lab:\n",
    "    n = len(dict_lab[i])\n",
    "    avg_x[i] = np.mean(dict_lab[i])\n",
    "    sigma[i] = np.std(dict_lab[i], ddof=1)\n",
    "    SEM[i] = np.std(dict_lab[i], ddof=1) / np.sqrt(np.size(dict_lab[i]))\n",
    "    x_sl[i] = stats.t.ppf((1 + alpha)/2, n-1) * SEM[i]\n",
    "    abs_x[i] = math.sqrt(x_sist[i] ** 2 + x_sl[i] ** 2)\n",
    "    otn_x[i] = abs_x[i]/avg_x[i]\n",
    "\n",
    "print(f\"Найдены параметры оценки погрешности величин:\")\n",
    "print(f\"Количество измерений n: {n}\")\n",
    "print(\"Средние значения измеренных величин <Xi>:\", avg_x, sep='\\n')\n",
    "print(\"Средние квадратичные погрешности отдельных результатов измерений Sn:\", sigma, sep='\\n')\n",
    "print(\"Средние квадратичные погрешности среднего арифметического S:\", SEM, sep='\\n')\n",
    "print(\"Случайные погрешности ΔXсл:\", x_sl, sep='\\n')\n",
    "print(\"Абсолютные погрешности ΔX:\", abs_x, sep='\\n')\n",
    "print(\"Относительные погрешности δX:\", otn_x, sep='\\n')"
   ]
  },
  {
   "cell_type": "code",
   "execution_count": null,
   "outputs": [],
   "source": [
    "print(f\"Найдем среднее значение {find_val}, используя средние значения измеренных величин:\")\n",
    "\n",
    "for i in dict_lab:\n",
    "    print(f\"{i}:{avg_x[i]}\")\n",
    "    globals()[i] = avg_x[i]\n",
    "\n",
    "avg_f = func()\n",
    "\n",
    "print(f\"Среднее значение {find_val} = {avg_f}\")"
   ],
   "metadata": {
    "collapsed": false,
    "pycharm": {
     "name": "#%%\n"
    }
   }
  },
  {
   "cell_type": "code",
   "execution_count": null,
   "outputs": [],
   "source": [
    "dx = []\n",
    "import sympy as sym\n",
    "for i in dict_lab:\n",
    "    globals()[i] = sym.Symbol(i)\n",
    "    dx.append(sym.Symbol(i))\n",
    "\n",
    "f = func()"
   ],
   "metadata": {
    "collapsed": false,
    "pycharm": {
     "name": "#%%\n"
    }
   }
  },
  {
   "cell_type": "code",
   "execution_count": null,
   "outputs": [],
   "source": [
    "derivative_f = []\n",
    "dfdx = []\n",
    "unpac_avg = []\n",
    "\n",
    "for i in val_names:\n",
    "    globals()[i] = avg_x[i]\n",
    "    unpac_avg.append(avg_x[i])\n",
    "\n",
    "unpac_avg = tuple(unpac_avg)\n",
    "\n",
    "for i in range(len(val_names)):\n",
    "    df = f.diff(dx[i])\n",
    "    derivative_f.append(df)\n",
    "    f_i = sym.lambdify([j for j in dx], df)\n",
    "    dfdx.append(f_i(*unpac_avg))\n",
    "\n",
    "print(f\"Для функции f = {f} найдем значения производных df/dxi:\")\n",
    "for i, v in enumerate(val_names):\n",
    "    print(f\"df/d{v}: {dfdx[i]}\")"
   ],
   "metadata": {
    "collapsed": false,
    "pycharm": {
     "name": "#%%\n"
    }
   }
  },
  {
   "cell_type": "code",
   "execution_count": null,
   "outputs": [],
   "source": [
    "print(f\"Подставим df/dxi и абсолютные погрешности прямых измерений Δxi в формулу для нахождения абсолютной погрешности косвенного измерения\")\n",
    "\n",
    "abs_f = 0\n",
    "for i, v in enumerate(dict_lab):\n",
    "    abs_f += (dfdx[i] * abs_x[v]) ** 2\n",
    "\n",
    "abs_f = math.sqrt(abs_f)\n",
    "otn_f = abs_f/avg_f\n",
    "\n",
    "print(f\"Абсолютная погрешность Δ{find_val} = {abs_f}\")\n",
    "print(f\"Найдем относительную погрешность функции f, зная ее среднее значение и абсолютную погрешность\")\n",
    "print(f\"Относительная погрешность δ{find_val} = {otn_f} или {round(otn_f * 100, 2)}%\")"
   ],
   "metadata": {
    "collapsed": false,
    "pycharm": {
     "name": "#%%\n"
    }
   }
  },
  {
   "cell_type": "code",
   "execution_count": null,
   "outputs": [],
   "source": [
    "print(f\"Добавляем найденные значения в БД {result_table}\")\n",
    "\n",
    "connection = create_connection(\"postgres\", \"postgres\", \"1234\", \"localhost\", \"5432\")\n",
    "\n",
    "for i in dict_lab:\n",
    "    update = f\"\"\"\n",
    "UPDATE {result_table}\n",
    "SET\n",
    "avg_x = '{avg_x[i]}',\n",
    "abs_x = '{abs_x[i]}',\n",
    "otn_x = '{otn_x[i]}',\n",
    "s = '{SEM[i]}'\n",
    "WHERE\n",
    "value = '{i}'\n",
    "\"\"\"\n",
    "    update_table = execute_query(connection, update)\n",
    "    print(f'В БД {result_table} добавлены найденные значения параметров оценки погрешности величины {i}')\n",
    "\n",
    "update = f\"\"\"\n",
    "UPDATE {result_table}\n",
    "SET\n",
    "avg_x = '{avg_f}',\n",
    "abs_x = '{abs_f}',\n",
    "otn_x = '{otn_f}'\n",
    "WHERE\n",
    "value = '{find_val}'\n",
    "\"\"\"\n",
    "\n",
    "update_table = execute_query(connection, update)\n",
    "print(f'В БД {result_table} добавлены найденные значения параметров оценки погрешности косвенной величины {find_val}')"
   ],
   "metadata": {
    "collapsed": false,
    "pycharm": {
     "name": "#%%\n"
    }
   }
  },
  {
   "cell_type": "markdown",
   "source": [],
   "metadata": {
    "collapsed": false,
    "pycharm": {
     "name": "#%% md\n"
    }
   }
  }
 ],
 "metadata": {
  "kernelspec": {
   "display_name": "Python 3",
   "language": "python",
   "name": "python3"
  },
  "language_info": {
   "codemirror_mode": {
    "name": "ipython",
    "version": 2
   },
   "file_extension": ".py",
   "mimetype": "text/x-python",
   "name": "python",
   "nbconvert_exporter": "python",
   "pygments_lexer": "ipython2",
   "version": "2.7.6"
  }
 },
 "nbformat": 4,
 "nbformat_minor": 0
}