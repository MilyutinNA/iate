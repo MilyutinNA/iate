{
 "cells": [
  {
   "cell_type": "code",
   "execution_count": 26,
   "metadata": {
    "collapsed": true,
    "pycharm": {
     "name": "#%%\n"
    }
   },
   "outputs": [
    {
     "name": "stdout",
     "output_type": "stream",
     "text": [
      "Connection to PostgreSQL DB successful\n",
      "В этом блоке найдены:\n",
      "Количество измерений n: 12\n",
      "Средние значения измеренных величин <Xi>:\n",
      "{'v': 12.508333333333333, 'u': 5.075, 's': 2.2583333333333333, 'h': 10.65}\n",
      "Средние квадратичные погрешности отдельных результатов измерений Sn:\n",
      "{'v': 0.07929614610987562, 'u': 0.07537783614444091, 's': 0.07929614610987579, 'h': 0.06741998624632396}\n",
      "Средние квадратичные погрешности среднего арифметического S:\n",
      "{'v': 0.022890825651118295, 'u': 0.02175970699446223, 's': 0.022890825651118343, 'h': 0.019462473604038005}\n",
      "Случайные погрешности ΔXсл:\n",
      "{'v': 0.05038236756015747, 'u': 0.047892792182564516, 's': 0.05038236756015758, 'h': 0.042836615580993755}\n",
      "Абсолютные погрешности ΔX:\n",
      "{'v': 0.5025319720783612, 'u': 0.5022884823913866, 's': 0.5025319720783612, 'h': 0.50183162079968}\n",
      "Относительные погрешности δX:\n",
      "{'v': 0.040175773916990905, 'u': 0.09897309997859834, 's': 0.22252338247012304, 'h': 0.04712033998119061}\n"
     ]
    }
   ],
   "source": [
    "%run \"sql.ipynb\"\n",
    "import math\n",
    "from scipy.stats import sem\n",
    "from scipy import stats\n",
    "x_sist = 0.5\n",
    "alpha = 0.95\n",
    "avg_x = {}\n",
    "sigma = {}\n",
    "SEM = {}\n",
    "x_sl = {}\n",
    "abs_x = {}\n",
    "otn_x = {}\n",
    "for i in dict_lab:\n",
    "    n = len(dict_lab[i])\n",
    "    avg_x[i] = np.mean(dict_lab[i])\n",
    "    sigma[i] = np.std(dict_lab[i], ddof=1)\n",
    "    SEM[i] = np.std(dict_lab[i], ddof=1) / np.sqrt(np.size(dict_lab[i]))\n",
    "    x_sl[i] = stats.t.ppf((1 + alpha)/2, n-1) * SEM[i]\n",
    "    abs_x[i] = math.sqrt(x_sist ** 2 + x_sl[i] ** 2)\n",
    "    otn_x[i] = abs_x[i]/avg_x[i]\n",
    "print(f\"В этом блоке найдены:\")\n",
    "print(f\"Количество измерений n: {n}\")\n",
    "print(\"Средние значения измеренных величин <Xi>:\", avg_x, sep='\\n')\n",
    "print(\"Средние квадратичные погрешности отдельных результатов измерений Sn:\", sigma, sep='\\n')\n",
    "print(\"Средние квадратичные погрешности среднего арифметического S:\", SEM, sep='\\n')\n",
    "print(\"Случайные погрешности ΔXсл:\", x_sl, sep='\\n')\n",
    "print(\"Абсолютные погрешности ΔX:\", abs_x, sep='\\n')\n",
    "print(\"Относительные погрешности δX:\", otn_x, sep='\\n')"
   ]
  },
  {
   "cell_type": "code",
   "execution_count": 27,
   "outputs": [
    {
     "name": "stdout",
     "output_type": "stream",
     "text": [
      "Запишите функцию J в переменную f в блоке ниже. Она должна содержать параметры [v, u, s, h], по которым будет производиться дифференцирование\n"
     ]
    }
   ],
   "source": [
    "dx = []\n",
    "import sympy as sym\n",
    "for i in dict_lab:\n",
    "    globals()[i] = sym.Symbol(i)\n",
    "    dx.append(sym.Symbol(i))\n",
    "print(f\"Запишите функцию {find_val} в переменную f в блоке ниже. Она должна содержать параметры {dx}, по которым будет производиться дифференцирование\")"
   ],
   "metadata": {
    "collapsed": false,
    "pycharm": {
     "name": "#%%\n"
    }
   }
  },
  {
   "cell_type": "code",
   "execution_count": 28,
   "outputs": [
    {
     "name": "stdout",
     "output_type": "stream",
     "text": [
      "Вы записали функцию f = h*s + v**2/u**0.5\n",
      "Вставьте значение переменной f в переменную avg_f в следующем блоке\n"
     ]
    }
   ],
   "source": [
    "f = h*s + v**2/u**0.5\n",
    "print(f\"Вы записали функцию f = {f}\")\n",
    "print(f\"Вставьте значение переменной f в переменную avg_f в следующем блоке\")"
   ],
   "metadata": {
    "collapsed": false,
    "pycharm": {
     "name": "#%%\n"
    }
   }
  },
  {
   "cell_type": "code",
   "execution_count": 29,
   "outputs": [
    {
     "name": "stdout",
     "output_type": "stream",
     "text": [
      "Найдем среднее значение J, используя средние значения измеренных величин:\n",
      "v:12.508333333333333\n",
      "u:5.075\n",
      "s:2.2583333333333333\n",
      "h:10.65\n",
      "Среднее значение J = 93.5026283210546\n"
     ]
    }
   ],
   "source": [
    "print(f\"Найдем среднее значение {find_val}, используя средние значения измеренных величин:\")\n",
    "for i in dict_lab:\n",
    "    print(f\"{i}:{avg_x[i]}\")\n",
    "    globals()[i] = avg_x[i]\n",
    "\n",
    "avg_f = h*s + v**2/u**0.5\n",
    "\n",
    "print(f\"Среднее значение {find_val} = {avg_f}\")"
   ],
   "metadata": {
    "collapsed": false,
    "pycharm": {
     "name": "#%%\n"
    }
   }
  },
  {
   "cell_type": "code",
   "execution_count": 30,
   "outputs": [
    {
     "name": "stdout",
     "output_type": "stream",
     "text": [
      "Найдем значения производных df/dxi для каждого измеренного значения xi:\n",
      "Найденные значения производных df/dxi для каждого измеренного значения xi: [11.104817319822189, -6.842500327197498, 10.65, 2.2583333333333333]\n"
     ]
    }
   ],
   "source": [
    "print(f\"Найдем значения производных df/dxi для каждого измеренного значения xi:\")\n",
    "derivative_f = []\n",
    "dfdx = []\n",
    "for i in range(len(val_names)):\n",
    "    df = f.diff(dx[i])\n",
    "    derivative_f.append(df)\n",
    "    f_i = sym.lambdify([j for j in dx], df)\n",
    "    dfdx.append(f_i(v, u, s, h))\n",
    "print(f\"Найденные значения производных df/dxi для каждого измеренного значения xi: {dfdx}\")"
   ],
   "metadata": {
    "collapsed": false,
    "pycharm": {
     "name": "#%%\n"
    }
   }
  },
  {
   "cell_type": "code",
   "execution_count": 31,
   "outputs": [
    {
     "name": "stdout",
     "output_type": "stream",
     "text": [
      "Подставим df/dxi и абсолютные погрешности xi в формулу для нахождения абсолютной погрешности косвенного измерения\n",
      "Абсолютная погрешность ΔJ = 8.537126121754222\n",
      "Относительная погрешность δJ = 0.09130359515072434 или 9.13%\n"
     ]
    }
   ],
   "source": [
    "print(f\"Подставим df/dxi и абсолютные погрешности xi в формулу для нахождения абсолютной погрешности косвенного измерения\")\n",
    "abs_f = 0\n",
    "for i, v in enumerate(dict_lab):\n",
    "    abs_f += (dfdx[i] * abs_x[v]) ** 2\n",
    "abs_f = math.sqrt(abs_f)\n",
    "otn_f = abs_f/avg_f\n",
    "print(f\"Абсолютная погрешность Δ{find_val} = {abs_f}\")\n",
    "print(f\"Относительная погрешность δ{find_val} = {otn_f} или {round(otn_f * 100, 2)}%\")"
   ],
   "metadata": {
    "collapsed": false,
    "pycharm": {
     "name": "#%%\n"
    }
   }
  },
  {
   "cell_type": "code",
   "execution_count": 32,
   "outputs": [
    {
     "name": "stdout",
     "output_type": "stream",
     "text": [
      "Добавляем найденные значения в БД results_lab1\n",
      "Connection to PostgreSQL DB successful\n",
      "Query executed successfully\n",
      "Query executed successfully\n",
      "Query executed successfully\n",
      "Query executed successfully\n",
      "Query executed successfully\n"
     ]
    }
   ],
   "source": [
    "print(f\"Добавляем найденные значения в БД {result_table}\")\n",
    "connection = create_connection(\"postgres\", \"postgres\", \"1234\", \"localhost\", \"5432\")\n",
    "for i in dict_lab:\n",
    "    update = f\"\"\"\n",
    "UPDATE {result_table}\n",
    "SET\n",
    "avg_x = '{avg_x[i]}',\n",
    "abs_x = '{abs_x[i]}',\n",
    "otn_x = '{otn_x[i]}',\n",
    "s = '{SEM[i]}'\n",
    "WHERE\n",
    "value = '{i}'\n",
    "\"\"\"\n",
    "    update_table = execute_query(connection, update)\n",
    "\n",
    "update = f\"\"\"\n",
    "UPDATE {result_table}\n",
    "SET\n",
    "avg_x = '{avg_f}',\n",
    "abs_x = '{abs_f}',\n",
    "otn_x = '{otn_f}'\n",
    "WHERE\n",
    "value = '{find_val}'\n",
    "\"\"\"\n",
    "update_table = execute_query(connection, update)"
   ],
   "metadata": {
    "collapsed": false,
    "pycharm": {
     "name": "#%%\n"
    }
   }
  },
  {
   "cell_type": "markdown",
   "source": [],
   "metadata": {
    "collapsed": false,
    "pycharm": {
     "name": "#%% md\n"
    }
   }
  }
 ],
 "metadata": {
  "kernelspec": {
   "display_name": "Python 3",
   "language": "python",
   "name": "python3"
  },
  "language_info": {
   "codemirror_mode": {
    "name": "ipython",
    "version": 2
   },
   "file_extension": ".py",
   "mimetype": "text/x-python",
   "name": "python",
   "nbconvert_exporter": "python",
   "pygments_lexer": "ipython2",
   "version": "2.7.6"
  }
 },
 "nbformat": 4,
 "nbformat_minor": 0
}