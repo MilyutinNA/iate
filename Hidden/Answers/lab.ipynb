{
 "cells": [
  {
   "cell_type": "code",
   "execution_count": 29,
   "metadata": {
    "collapsed": true,
    "pycharm": {
     "name": "#%%\n"
    }
   },
   "outputs": [
    {
     "name": "stdout",
     "output_type": "stream",
     "text": [
      "Connection to PostgreSQL DB successful\n"
     ]
    }
   ],
   "source": [
    "%run \"sql.ipynb\"\n",
    "import math\n",
    "from scipy.stats import sem\n",
    "from scipy import stats\n",
    "x_sist = 0.5\n",
    "alpha = 0.95\n",
    "avg_x = {}\n",
    "sigma = {}\n",
    "SEM = {}\n",
    "x_sl = {}\n",
    "abs_x = {}\n",
    "otn_x = {}\n",
    "for i in dict_lab1:\n",
    "    n = len(dict_lab1[i])\n",
    "    avg_x[i] = np.mean(dict_lab1[i])\n",
    "    sigma[i] = np.std(dict_lab1[i], ddof=1)\n",
    "    SEM[i] = np.std(dict_lab1[i], ddof=1) / np.sqrt(np.size(dict_lab1[i]))\n",
    "    x_sl[i] = stats.t.ppf((1 + alpha)/2, n-1) * SEM[i]\n",
    "    abs_x[i] = math.sqrt(x_sist ** 2 + x_sl[i] ** 2)\n",
    "    otn_x[i] = abs_x[i]/avg_x[i]\n"
   ]
  },
  {
   "cell_type": "code",
   "execution_count": 30,
   "outputs": [],
   "source": [
    "import sympy as sym\n",
    "dx = []\n",
    "derivative_f = []\n",
    "\n",
    "for i in range(len(val_names)):\n",
    "    dx.append(sym.Symbol(val_names[i]))\n",
    "\n",
    "avg_f = avg_x[val_names[0]] * avg_x[val_names[1]] * avg_x[val_names[2]]\n",
    "\n",
    "f = pow(dx[0],1) * pow(dx[1],1) * pow(dx[2],1)\n",
    "\n",
    "dfdx = []\n",
    "for i in range(len(val_names)):\n",
    "    df = f.diff(dx[i])\n",
    "    derivative_f.append(df)\n",
    "    f_i = sym.lambdify([j for j in dx], df)\n",
    "    dfdx.append(f_i(avg_x['a'], avg_x['b'], avg_x['c']))"
   ],
   "metadata": {
    "collapsed": false,
    "pycharm": {
     "name": "#%%\n"
    }
   }
  },
  {
   "cell_type": "code",
   "execution_count": 35,
   "outputs": [],
   "source": [
    "abs_f = 0\n",
    "for i, v in enumerate(dict_lab1):\n",
    "    abs_f += (dfdx[i] * abs_x[v]) ** 2\n",
    "abs_f = math.sqrt(abs_f)\n",
    "otn_f = abs_f/avg_f"
   ],
   "metadata": {
    "collapsed": false,
    "pycharm": {
     "name": "#%%\n"
    }
   }
  },
  {
   "cell_type": "code",
   "execution_count": 38,
   "outputs": [
    {
     "name": "stdout",
     "output_type": "stream",
     "text": [
      "Connection to PostgreSQL DB successful\n",
      "Query executed successfully\n",
      "Query executed successfully\n",
      "Query executed successfully\n",
      "Query executed successfully\n"
     ]
    }
   ],
   "source": [
    "connection = create_connection(\"postgres\", \"postgres\", \"1234\", \"localhost\", \"5432\")\n",
    "for i in dict_lab1:\n",
    "    update = f\"\"\"\n",
    "UPDATE results_lab1\n",
    "SET\n",
    "avg_x = '{avg_x[i]}',\n",
    "abs_x = '{abs_x[i]}',\n",
    "otn_x = '{otn_x[i]}',\n",
    "s = '{SEM[i]}'\n",
    "WHERE\n",
    "value = '{i}'\n",
    "\"\"\"\n",
    "    update_table = execute_query(connection, update)\n",
    "\n",
    "update = f\"\"\"\n",
    "UPDATE results_lab1\n",
    "SET\n",
    "avg_x = '{avg_f}',\n",
    "abs_x = '{abs_f}',\n",
    "otn_x = '{otn_f}'\n",
    "WHERE\n",
    "value = 'V'\n",
    "\"\"\"\n",
    "update_table = execute_query(connection, update)"
   ],
   "metadata": {
    "collapsed": false,
    "pycharm": {
     "name": "#%%\n"
    }
   }
  },
  {
   "cell_type": "markdown",
   "source": [],
   "metadata": {
    "collapsed": false,
    "pycharm": {
     "name": "#%% md\n"
    }
   }
  }
 ],
 "metadata": {
  "kernelspec": {
   "display_name": "Python 3",
   "language": "python",
   "name": "python3"
  },
  "language_info": {
   "codemirror_mode": {
    "name": "ipython",
    "version": 2
   },
   "file_extension": ".py",
   "mimetype": "text/x-python",
   "name": "python",
   "nbconvert_exporter": "python",
   "pygments_lexer": "ipython2",
   "version": "2.7.6"
  }
 },
 "nbformat": 4,
 "nbformat_minor": 0
}