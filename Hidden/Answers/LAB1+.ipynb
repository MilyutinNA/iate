{
 "cells": [
  {
   "cell_type": "markdown",
   "source": [
    "![коэффициенты Стьюдента](https://sun1.userapi.com/sun1-83/s/v1/ig2/T_nxYriEnsUJ_YlX-4h8im_5etqSl0Lm84EegbOadyszN27yNbTPGaAPIilvyiUsba4Eg3wMcUZj3rXMBYg6kALg.jpg?size=422x671&quality=96&type=album)"
   ],
   "metadata": {
    "collapsed": false,
    "pycharm": {
     "name": "#%% md\n"
    }
   }
  },
  {
   "cell_type": "markdown",
   "source": [
    "Можно создать таблицу внутри кода. Для этого удобно использовать словарь, где ключи - параметры таблицы ($t_{\\alpha,n}$, $\\alpha$, $n$) внутри которых хранятся кортежи с табличными значениями)\n",
    "Задав значения alpha и n, обращаемся к их индексу в списке значений. В соответствии с этими индексами находим $t_{\\alpha,n}$"
   ],
   "metadata": {
    "collapsed": false,
    "pycharm": {
     "name": "#%% md\n"
    }
   }
  },
  {
   "cell_type": "code",
   "execution_count": 30,
   "outputs": [
    {
     "name": "stdout",
     "output_type": "stream",
     "text": [
      "63.7\n"
     ]
    }
   ],
   "source": [
    "t = {'t_a_n': ((2.0, 1.3, 1.3, 1.2, 1.2, 1.1, 1.1, 1.1, 1.1, 1.1, 1.1, 1.1, 1.0),(12.7, 4.3, 3.2, 2.8, 2.6, 2.4, 2.4, 2.3, 2.3, 2.1, 2.1, 2.0, 2.0),(63.7, 9.9, 5.8, 4.6, 4.0, 3.7, 3.5, 3.4, 3.3, 3.0, 2.9, 2.8, 2.6)), 'alpha': (0.68, 0.95, 0.99), 'n': (2, 3, 4, 5, 6, 7, 8, 9, 10, 15, 20, 30, 100)}\n",
    "alpha = 0.99\n",
    "n = 2\n",
    "try:\n",
    "    print(t['t_a_n'][t['alpha'].index(alpha)][t['n'].index(n)])\n",
    "except:\n",
    "    print('Введите табличные значения alpha и n. Я пока не знаком с библиотекой scipy')"
   ],
   "metadata": {
    "collapsed": false,
    "pycharm": {
     "name": "#%%\n"
    }
   }
  },
  {
   "cell_type": "markdown",
   "source": [
    "Существует более простой способ нахождения коэффициента Стьюдента. Используя функцию из библиотеки scipy, необходимо передать параметры alpha и n."
   ],
   "metadata": {
    "collapsed": false,
    "pycharm": {
     "name": "#%% md\n"
    }
   }
  },
  {
   "cell_type": "code",
   "execution_count": 1,
   "outputs": [
    {
     "data": {
      "text/plain": "63.65674116287399"
     },
     "execution_count": 1,
     "metadata": {},
     "output_type": "execute_result"
    }
   ],
   "source": [
    "from scipy import stats\n",
    "alpha = 0.99\n",
    "n = 2\n",
    "stats.t.ppf((1 + alpha)/2, n-1)"
   ],
   "metadata": {
    "collapsed": false,
    "pycharm": {
     "name": "#%%\n"
    }
   }
  },
  {
   "cell_type": "markdown",
   "source": [
    "Нахождение SEM\n",
    "https://www.codingem.com/python-standard-error-of-the-mean/"
   ],
   "metadata": {
    "collapsed": false,
    "pycharm": {
     "name": "#%% md\n"
    }
   }
  },
  {
   "cell_type": "markdown",
   "source": [
    "Что касается записи и хранения табличных значений (измеренных или рассчитанных), то тут существует множество вариантов, например:\n",
    "* По аналогии с описанным выше способом хранения таблицы коэффициента Стьюдента, вы можете хранить и другие данные в массивах внутри кода;\n",
    "* Можно хранить табличные значения в файлах разного формата. Удобно в данном случае конечно использовать csv/excels формат, однако спектр возможных методов парсинга табличных значений довольно широкий. При желании можно вычленить информацию даже из картинки.\n",
    "* Продолжением метода описанного выше является использование баз данных. [DataSpell включает поддержку баз данных](https://www.jetbrains.com/ru-ru/datagrip/features/dbobjects.html), поэтому мы можем локально создать базу данных и использовать ее для хранения/изменения информации. База данных представляет собой место хранения таблиц (представьте файл csv/excels, только без возможности использования экселевских функций), которые мы можем изменять или просматривать. В БД также возможен [импорт csv/excels файлов](https://www.jetbrains.com/ru-ru/datagrip/features/importexport.html)"
   ],
   "metadata": {
    "collapsed": false,
    "pycharm": {
     "name": "#%% md\n"
    }
   }
  }
 ],
 "metadata": {
  "kernelspec": {
   "display_name": "Python 3",
   "language": "python",
   "name": "python3"
  },
  "language_info": {
   "codemirror_mode": {
    "name": "ipython",
    "version": 2
   },
   "file_extension": ".py",
   "mimetype": "text/x-python",
   "name": "python",
   "nbconvert_exporter": "python",
   "pygments_lexer": "ipython2",
   "version": "2.7.6"
  }
 },
 "nbformat": 4,
 "nbformat_minor": 0
}