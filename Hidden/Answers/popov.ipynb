{
 "cells": [
  {
   "cell_type": "code",
   "execution_count": 13,
   "outputs": [
    {
     "ename": "IndexError",
     "evalue": "list index out of range",
     "output_type": "error",
     "traceback": [
      "\u001B[1;31m---------------------------------------------------------------------------\u001B[0m",
      "\u001B[1;31mIndexError\u001B[0m                                Traceback (most recent call last)",
      "Input \u001B[1;32mIn [13]\u001B[0m, in \u001B[0;36m<cell line: 3>\u001B[1;34m()\u001B[0m\n\u001B[0;32m      1\u001B[0m t\u001B[38;5;241m=\u001B[39m[[\u001B[38;5;241m0.852\u001B[39m, \u001B[38;5;241m0.845\u001B[39m, \u001B[38;5;241m0.850\u001B[39m, \u001B[38;5;241m0.850\u001B[39m, \u001B[38;5;241m0.850\u001B[39m, \u001B[38;5;241m0.845\u001B[39m, \u001B[38;5;241m0.850\u001B[39m, \u001B[38;5;241m0.852\u001B[39m, \u001B[38;5;241m0.845\u001B[39m, \u001B[38;5;241m0.845\u001B[39m],[\u001B[38;5;241m0.764\u001B[39m, \u001B[38;5;241m0.756\u001B[39m, \u001B[38;5;241m0.760\u001B[39m, \u001B[38;5;241m0.760\u001B[39m, \u001B[38;5;241m0.762\u001B[39m, \u001B[38;5;241m0.761\u001B[39m, \u001B[38;5;241m0.764\u001B[39m, \u001B[38;5;241m0.755\u001B[39m, \u001B[38;5;241m0.764\u001B[39m, \u001B[38;5;241m0.759\u001B[39m],[\u001B[38;5;241m0.658\u001B[39m, \u001B[38;5;241m0.663\u001B[39m, \u001B[38;5;241m0.660\u001B[39m, \u001B[38;5;241m0.658\u001B[39m, \u001B[38;5;241m0.656\u001B[39m, \u001B[38;5;241m0.657\u001B[39m, \u001B[38;5;241m0.663\u001B[39m, \u001B[38;5;241m0.663\u001B[39m, \u001B[38;5;241m0.657\u001B[39m, \u001B[38;5;241m0.655\u001B[39m, \u001B[38;5;241m0.660\u001B[39m]]\n\u001B[0;32m      2\u001B[0m l\u001B[38;5;241m=\u001B[39m\u001B[38;5;241m0.4\u001B[39m\n\u001B[1;32m----> 3\u001B[0m \u001B[38;5;28;01mfor\u001B[39;00m i, ii \u001B[38;5;129;01min\u001B[39;00m \u001B[38;5;28menumerate\u001B[39m(\u001B[43mt\u001B[49m\u001B[43m[\u001B[49m\u001B[43mi\u001B[49m\u001B[43m]\u001B[49m):\n\u001B[0;32m      4\u001B[0m     \u001B[38;5;28;01mfor\u001B[39;00m j, jj \u001B[38;5;129;01min\u001B[39;00m \u001B[38;5;28menumerate\u001B[39m(t[\u001B[38;5;241m1\u001B[39m]):\n\u001B[0;32m      5\u001B[0m         ai\u001B[38;5;241m=\u001B[39m\u001B[38;5;241m2\u001B[39m\u001B[38;5;241m*\u001B[39ml\u001B[38;5;241m/\u001B[39mt[i][j]\u001B[38;5;241m*\u001B[39m\u001B[38;5;241m*\u001B[39m\u001B[38;5;241m2\u001B[39m\n",
      "\u001B[1;31mIndexError\u001B[0m: list index out of range"
     ]
    }
   ],
   "source": [
    "t=[[0.852, 0.845, 0.850, 0.850, 0.850, 0.845, 0.850, 0.852, 0.845, 0.845],[0.764, 0.756, 0.760, 0.760, 0.762, 0.761, 0.764, 0.755, 0.764, 0.759],[0.658, 0.663, 0.660, 0.658, 0.656, 0.657, 0.663, 0.663, 0.657, 0.655, 0.660]]\n",
    "l=0.4\n",
    "for i, ii in enumerate(t[i]):\n",
    "    for j, jj in enumerate(t[1]):\n",
    "        ai=2*l/t[i][j]**2\n",
    "        print('a=', ai)\n",
    "        acceleration = []\n",
    "        for k in range(len(t)):\n",
    "            acceleration.append(ai)\n",
    "print(acceleration)"
   ],
   "metadata": {
    "collapsed": false,
    "pycharm": {
     "name": "#%%\n"
    }
   }
  },
  {
   "cell_type": "code",
   "execution_count": null,
   "outputs": [],
   "source": [
    "a = []\n",
    "for i in t:\n",
    "    print(i)"
   ],
   "metadata": {
    "collapsed": false,
    "pycharm": {
     "name": "#%%\n"
    }
   }
  },
  {
   "cell_type": "code",
   "execution_count": null,
   "outputs": [],
   "source": [
    "a2 = [[],[],[]]\n",
    "for i in range(len(t)):\n",
    "    for j in range(len(t[i])):\n",
    "        a2[i].append(t[i][j])\n",
    "print(a2)"
   ],
   "metadata": {
    "collapsed": false,
    "pycharm": {
     "name": "#%%\n"
    }
   }
  },
  {
   "cell_type": "code",
   "execution_count": null,
   "outputs": [],
   "source": [
    "a3 = []\n",
    "for i, v1 in enumerate(t):\n",
    "    a3.append([])\n",
    "    for j, v2 in enumerate(t[i]):\n",
    "        a3[i].append(t[i][j])\n",
    "print(a3)"
   ],
   "metadata": {
    "collapsed": false,
    "pycharm": {
     "name": "#%%\n"
    }
   }
  }
 ],
 "metadata": {
  "kernelspec": {
   "display_name": "Python 3",
   "language": "python",
   "name": "python3"
  },
  "language_info": {
   "codemirror_mode": {
    "name": "ipython",
    "version": 2
   },
   "file_extension": ".py",
   "mimetype": "text/x-python",
   "name": "python",
   "nbconvert_exporter": "python",
   "pygments_lexer": "ipython2",
   "version": "2.7.6"
  }
 },
 "nbformat": 4,
 "nbformat_minor": 0
}