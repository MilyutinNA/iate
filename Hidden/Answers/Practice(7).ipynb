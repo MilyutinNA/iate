{
 "cells": [
  {
   "cell_type": "markdown",
   "source": [
    "Ваша задача - написать функцию, которая принимает строку и возвращает новую строку с удаленными всеми гласными.\n",
    "\n",
    "Пы.Сы. Гласных букв в русском языке- десять: «а» «у» «о» «и» «э» «ы» «я» «ю» «е» «ё».\n",
    "Например, строка \"В этом предложении нет гласных\"."
   ],
   "metadata": {
    "collapsed": false,
    "pycharm": {
     "name": "#%% md\n"
    }
   }
  },
  {
   "cell_type": "code",
   "execution_count": 6,
   "outputs": [],
   "source": [
    "def disemvowel(string):\n",
    "    return \"\".join(c for c in string if c.lower() not in \"ауоиэыяюеёАУОИЭЫЯЮЕЁ\")\n",
    "\n",
    "def disemvowel_2(s):\n",
    "    for i in \"ауоиэыяюеёАУОИЭЫЯЮЕЁ\":\n",
    "        s = s.replace(i,'')\n",
    "    return s\n",
    "\n",
    "def disemvowel_3(string):\n",
    "    return string.translate(None, 'ауоиэыяюеёАУОИЭЫЯЮЕЁ')\n",
    "\n",
    "def disemvowel_4(str2handle):\n",
    "    vowel_character = [\"а\", \"А\", \"у\", \"У\", \"о\", \"О\", \"и\", \"И\", \"э\", \"Э\", \"ы\", \"Ы\", \"я\", \"Я\", \"ю\", \"Ю\", \"е\", \"Е\", \"ё\", \"Ё\"]\n",
    "    str2return = \"\"\n",
    "    i = 0\n",
    "    n = len(str2handle)\n",
    "    while i < n:\n",
    "        if not str2handle[i] in vowel_character:\n",
    "            str2return += str2handle[i]\n",
    "        i += 1\n",
    "    return str2return"
   ],
   "metadata": {
    "collapsed": false,
    "pycharm": {
     "name": "#%%\n"
    }
   }
  },
  {
   "cell_type": "code",
   "execution_count": 7,
   "outputs": [
    {
     "name": "stdout",
     "output_type": "stream",
     "text": [
      "В тм прдлжн нт глснх\n"
     ]
    }
   ],
   "source": [
    "print(disemvowel(string=\"В этом предложении нет гласных\"))"
   ],
   "metadata": {
    "collapsed": false,
    "pycharm": {
     "name": "#%%\n"
    }
   }
  },
  {
   "cell_type": "markdown",
   "source": [
    "---"
   ],
   "metadata": {
    "collapsed": false,
    "pycharm": {
     "name": "#%% md\n"
    }
   }
  },
  {
   "cell_type": "markdown",
   "source": [
    "Возведите в квадрат каждую цифру числа и объедините их.\n",
    "\n",
    "Например, если мы запустим 9119 через функцию, получится 811181, потому что $9^2$ = 81, а $1^2$ = 1.\n",
    "\n",
    "Примечание: Функция принимает целое число и возвращает целое число"
   ],
   "metadata": {
    "collapsed": false,
    "pycharm": {
     "name": "#%% md\n"
    }
   }
  },
  {
   "cell_type": "code",
   "execution_count": 8,
   "outputs": [],
   "source": [
    "def square_digits(num):\n",
    "    ret = \"\"\n",
    "    for x in str(num):\n",
    "        ret += str(int(x)**2)\n",
    "    return int(ret)\n",
    "\n",
    "def square_digits_2(num):\n",
    "    return int(''.join(str(int(d)**2) for d in str(num)))"
   ],
   "metadata": {
    "collapsed": false,
    "pycharm": {
     "name": "#%%\n"
    }
   }
  },
  {
   "cell_type": "code",
   "execution_count": 9,
   "outputs": [
    {
     "name": "stdout",
     "output_type": "stream",
     "text": [
      "251149\n"
     ]
    }
   ],
   "source": [
    "print(square_digits(num=51123))"
   ],
   "metadata": {
    "collapsed": false,
    "pycharm": {
     "name": "#%%\n"
    }
   }
  },
  {
   "cell_type": "markdown",
   "source": [
    "---"
   ],
   "metadata": {
    "collapsed": false,
    "pycharm": {
     "name": "#%% md\n"
    }
   }
  }
 ],
 "metadata": {
  "kernelspec": {
   "display_name": "Python 3",
   "language": "python",
   "name": "python3"
  },
  "language_info": {
   "codemirror_mode": {
    "name": "ipython",
    "version": 2
   },
   "file_extension": ".py",
   "mimetype": "text/x-python",
   "name": "python",
   "nbconvert_exporter": "python",
   "pygments_lexer": "ipython2",
   "version": "2.7.6"
  }
 },
 "nbformat": 4,
 "nbformat_minor": 0
}