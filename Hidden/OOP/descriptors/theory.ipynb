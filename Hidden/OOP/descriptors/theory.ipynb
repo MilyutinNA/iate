{
 "cells": [
  {
   "cell_type": "markdown",
   "source": [
    "Дескрипторы позволяют копировать логику работы с переменными (проверка, удаление)"
   ],
   "metadata": {
    "collapsed": false,
    "pycharm": {
     "name": "#%% md\n"
    }
   }
  },
  {
   "cell_type": "markdown",
   "source": [
    "Простой пример: дескриптор, возвращающий константу\n",
    "Класс Ten представляет собой дескриптор, __get__() метод которого всегда возвращает константу 10:"
   ],
   "metadata": {
    "collapsed": false,
    "pycharm": {
     "name": "#%% md\n"
    }
   }
  },
  {
   "cell_type": "code",
   "execution_count": 2,
   "outputs": [],
   "source": [
    "class Ten:\n",
    "    def __get__(self, obj, objtype=None):\n",
    "        return 10"
   ],
   "metadata": {
    "collapsed": false,
    "pycharm": {
     "name": "#%%\n"
    }
   }
  },
  {
   "cell_type": "markdown",
   "source": [
    "Чтобы использовать дескриптор, он должен храниться как переменная класса в другом классе:"
   ],
   "metadata": {
    "collapsed": false,
    "pycharm": {
     "name": "#%% md\n"
    }
   }
  },
  {
   "cell_type": "code",
   "execution_count": 7,
   "outputs": [],
   "source": [
    "class A:\n",
    "    x = 5                       # Regular class attribute\n",
    "    y = Ten()                   # Descriptor instance"
   ],
   "metadata": {
    "collapsed": false,
    "pycharm": {
     "name": "#%%\n"
    }
   }
  },
  {
   "cell_type": "markdown",
   "source": [
    "Интерактивный сеанс показывает разницу между обычным поиском атрибутов и поиском дескриптора:"
   ],
   "metadata": {
    "collapsed": false,
    "pycharm": {
     "name": "#%% md\n"
    }
   }
  },
  {
   "cell_type": "code",
   "execution_count": 9,
   "outputs": [
    {
     "data": {
      "text/plain": "5"
     },
     "execution_count": 9,
     "metadata": {},
     "output_type": "execute_result"
    }
   ],
   "source": [
    "a = A()                     # Make an instance of class A\n",
    "a.x                         # Normal attribute lookup"
   ],
   "metadata": {
    "collapsed": false,
    "pycharm": {
     "name": "#%%\n"
    }
   }
  },
  {
   "cell_type": "code",
   "execution_count": 10,
   "outputs": [
    {
     "data": {
      "text/plain": "10"
     },
     "execution_count": 10,
     "metadata": {},
     "output_type": "execute_result"
    }
   ],
   "source": [
    "a.y                         # Descriptor lookup"
   ],
   "metadata": {
    "collapsed": false,
    "pycharm": {
     "name": "#%%\n"
    }
   }
  },
  {
   "cell_type": "markdown",
   "source": [
    "Обратите внимание, что значение 10 не сохраняется ни в словаре класса, ни в словаре экземпляра. Вместо этого значение 10 вычисляется по требованию."
   ],
   "metadata": {
    "collapsed": false,
    "pycharm": {
     "name": "#%% md\n"
    }
   }
  },
  {
   "cell_type": "markdown",
   "source": [
    "Динамический поиск\n",
    "Интересные дескрипторы обычно выполняют вычисления, а не возвращают константы:"
   ],
   "metadata": {
    "collapsed": false,
    "pycharm": {
     "name": "#%% md\n"
    }
   }
  },
  {
   "cell_type": "code",
   "execution_count": null,
   "outputs": [],
   "source": [
    "import os\n",
    "\n",
    "class DirectorySize:\n",
    "\n",
    "    def __get__(self, obj, objtype=None):\n",
    "        return len(os.listdir(obj.dirname))\n",
    "\n",
    "class Directory:\n",
    "\n",
    "    size = DirectorySize()              # Descriptor instance\n",
    "\n",
    "    def __init__(self, dirname):\n",
    "        self.dirname = dirname          # Regular instance attribute\n"
   ],
   "metadata": {
    "collapsed": false,
    "pycharm": {
     "name": "#%%\n"
    }
   }
  },
  {
   "cell_type": "markdown",
   "source": [
    "Интерактивный сеанс показывает, что поиск является динамическим — он каждый раз вычисляет разные обновленные ответы:"
   ],
   "metadata": {
    "collapsed": false,
    "pycharm": {
     "name": "#%% md\n"
    }
   }
  },
  {
   "cell_type": "code",
   "execution_count": 12,
   "outputs": [
    {
     "ename": "NameError",
     "evalue": "name 'Directory' is not defined",
     "output_type": "error",
     "traceback": [
      "\u001B[1;31m---------------------------------------------------------------------------\u001B[0m",
      "\u001B[1;31mNameError\u001B[0m                                 Traceback (most recent call last)",
      "Input \u001B[1;32mIn [12]\u001B[0m, in \u001B[0;36m<cell line: 1>\u001B[1;34m()\u001B[0m\n\u001B[1;32m----> 1\u001B[0m s \u001B[38;5;241m=\u001B[39m \u001B[43mDirectory\u001B[49m(\u001B[38;5;124m'\u001B[39m\u001B[38;5;124m'\u001B[39m)\n\u001B[0;32m      2\u001B[0m g \u001B[38;5;241m=\u001B[39m Directory(\u001B[38;5;124m'\u001B[39m\u001B[38;5;124mgames\u001B[39m\u001B[38;5;124m'\u001B[39m)\n\u001B[0;32m      3\u001B[0m s\u001B[38;5;241m.\u001B[39msize                              \u001B[38;5;66;03m# The songs directory has twenty files\u001B[39;00m\n",
      "\u001B[1;31mNameError\u001B[0m: name 'Directory' is not defined"
     ]
    }
   ],
   "source": [
    "s = Directory('songs')\n",
    "g = Directory('games')\n",
    "s.size                              # The songs directory has twenty files\n",
    "g.size                              # The games directory has three files\n",
    "os.remove('games/chess')            # Delete a game\n",
    "g.size                              # File count is automatically updated"
   ],
   "metadata": {
    "collapsed": false,
    "pycharm": {
     "name": "#%%\n"
    }
   }
  },
  {
   "cell_type": "code",
   "execution_count": null,
   "outputs": [],
   "source": [
    "class Order:\n",
    "    product = 'Milk'\n",
    "    amount = 0\n",
    "\n",
    "    def set_amount(self, value):\n",
    "        if value < 0:\n",
    "            raise ValueError()\n",
    "        self.amount = value\n",
    "order = Order()\n",
    "order.set_amount(-10)\n",
    "print('User ordered', order.amount, order.product)"
   ],
   "metadata": {
    "collapsed": false,
    "pycharm": {
     "name": "#%%\n"
    }
   }
  },
  {
   "cell_type": "code",
   "execution_count": null,
   "outputs": [],
   "source": [
    "class PositiveNumber:\n",
    "    def __get__(self, instance, owner):\n",
    "        return instance._amount\n",
    "\n",
    "    def __set__(self, instance, value):\n",
    "        if value < 0:\n",
    "            raise ValueError()\n",
    "        instance._amount = value\n",
    "\n",
    "\n",
    "class Order:\n",
    "    product = 'Milk'\n",
    "    amount = PositiveNumber()\n",
    "\n",
    "order = Order()\n",
    "order.amount = -10\n",
    "print(order.amount)"
   ],
   "metadata": {
    "collapsed": false,
    "pycharm": {
     "name": "#%%\n"
    }
   }
  },
  {
   "cell_type": "code",
   "execution_count": 7,
   "outputs": [
    {
     "name": "stdout",
     "output_type": "stream",
     "text": [
      "4 4\n"
     ]
    }
   ],
   "source": [
    "class PositiveNumber:\n",
    "    def __get__(self, instance, owner):\n",
    "        return instance._amount\n",
    "\n",
    "    def __set__(self, instance, value):\n",
    "        if value < 0:\n",
    "            raise ValueError()\n",
    "        instance._amount = value\n",
    "\n",
    "\n",
    "class Order:\n",
    "    product = 'Milk'\n",
    "    amount = PositiveNumber()\n",
    "    cost = PositiveNumber()\n",
    "\n",
    "order = Order()\n",
    "order.amount = 10\n",
    "order.cost = 4\n",
    "print(order.amount, order.cost)"
   ],
   "metadata": {
    "collapsed": false,
    "pycharm": {
     "name": "#%%\n"
    }
   }
  },
  {
   "cell_type": "code",
   "execution_count": 1,
   "outputs": [
    {
     "name": "stdout",
     "output_type": "stream",
     "text": [
      "4 10\n"
     ]
    }
   ],
   "source": [
    "class PositiveNumber:\n",
    "    def __get__(self, instance, owner):\n",
    "        return getattr(instance, self.var_name)\n",
    "\n",
    "    def __set__(self, instance, value):\n",
    "        if value < 0:\n",
    "            raise ValueError()\n",
    "        setattr(instance, self.var_name, value)\n",
    "\n",
    "    def __set_name__(self, owner, name):\n",
    "        self.var_name = '_' + name\n",
    "\n",
    "\n",
    "class Order:\n",
    "    product = 'Milk'\n",
    "    amount = PositiveNumber()\n",
    "    cost = PositiveNumber()\n",
    "\n",
    "order = Order()\n",
    "order.amount = 4\n",
    "order.cost = 10\n",
    "print(order.amount, order.cost)"
   ],
   "metadata": {
    "collapsed": false,
    "pycharm": {
     "name": "#%%\n"
    }
   }
  }
 ],
 "metadata": {
  "kernelspec": {
   "display_name": "Python 3",
   "language": "python",
   "name": "python3"
  },
  "language_info": {
   "codemirror_mode": {
    "name": "ipython",
    "version": 2
   },
   "file_extension": ".py",
   "mimetype": "text/x-python",
   "name": "python",
   "nbconvert_exporter": "python",
   "pygments_lexer": "ipython2",
   "version": "2.7.6"
  }
 },
 "nbformat": 4,
 "nbformat_minor": 0
}