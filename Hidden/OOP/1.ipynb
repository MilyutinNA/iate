{
 "cells": [
  {
   "cell_type": "markdown",
   "source": [
    "Объектно-ориентированное программирование (ООП) представляет собой методологию структурирования программы за счет упаковки взаимосвязанных свойств и поведения в отдельные объекты.\n",
    "\n",
    "Объектно-ориентированное программирование (ООП) представляет собой методологию структурирования программы за счет упаковки взаимосвязанных свойств и поведения в отдельные объекты.\n",
    "\n",
    "Представьте программу как своего рода сборочную линию: на каждом этапе сборки отдельный узел системы (объект) обрабатывает материал, а в конечном итоге из сырья получается конечный продукт.\n",
    "\n",
    "#### ОПРЕДЕЛЕНИЕ КЛАССА\n",
    "\n",
    "Примитивные структуры данных - такие, как числа, строки, списки, - создавались для представления простой информации: стоимости килограмма яблок, названия стихотворения, ваши любимые цвета ... А если надо представить что-то более сложное?\n",
    "\n",
    "Допустим, вы хотите создать базу данных сотрудников в организации. Требуется хранить о каждом из них основную информацию: имя, возраст, должность и год поступления на работу.\n",
    "\n",
    "Одно из возможных решений - представить информацию о каждом сотруднике в виде списка:\n",
    "```\n",
    "kirk = [\"James Kirk\", 34, \"Captain\", 2265)\n",
    "spock [\"Spock\", 35, \"Science Officer\", 2254)\n",
    "mccoy = [\"Leonard МсСоу\", \"Chief Medical Officer\", 2266)\n",
    "```\n",
    "У такого подхода масса недостатков.\n",
    "\n",
    "Во-первых, усложняется сопровождение файлов с большим количеством кода. Если вы обратитесь к kirk[0] спустя какое-то время после объявления списка kirk, будете ли вы помнить, что элемент с индексом О содержит имя работника?\n",
    "\n",
    "Во-вторых, возможно возникновение ошибки, если для разных работников списки содержат разное количество элементов. В списке mccoy из приведенного выше примера возраст не указан, поэтому mccoy[l] вместо возраста вернет строку с должностью \"Chief Medical Officer\".\n",
    "\n",
    "Если вы хотите сделать такой код более управляемым и удобным в сопровождении, используйте классы - это отличный выход.\n",
    "\n",
    "#### Классы и экземпляры\n",
    "\n",
    "Классы применяются для создания пользовательских структур данных. Классы определяют функции, называемые **методами**; в них задаются поведение и действия, которые объект, созданный на основе класса, сможет выполнять со своими данными.\n",
    "\n",
    "В качестве примера мы создадим класс Dog для хранения информации о свойствах и поведении собак.\n",
    "\n",
    "Класс представляет собой «чертеж», то есть прототип для определения объектов. Он не содержит никаких данных. Класс Dog указывает, что кличка и возраст необходимы для определения собаки, но он не содержит клички и возраста никакой конкретной собаки.\n",
    "\n",
    "Если класс можно сравнить с чертежом, то **экземпляр** представляет собой объект, построенный на основе класса; он содержит реальные данные. Экземпляр класса Dog уже не является чертежом. Он представляет конкретную собаку - например, это может быть Майлз четырех лет от роду.\n",
    "\n",
    "Иначе говоря, класс можно сравнить с бланком или анкетой, а экземпляр - это анкета, заполненная информацией. Подобно тому как один вид анкеты разные люди могут заполнить данными, уникальными для каждого из них, на основе одного класса можно создать множество экземпляров.\n",
    "\n",
    "Как определить класс\n",
    "\n",
    "Все определения классов начинаются с ключевого слова class, за которым следует имя класса и двоеточие. Любой код с отступом, расположенный под определением класса, считается частью тела класса.\n",
    "\n",
    "Пример класса Dog:"
   ],
   "metadata": {
    "collapsed": false,
    "pycharm": {
     "name": "#%% md\n"
    }
   }
  },
  {
   "cell_type": "code",
   "execution_count": 37,
   "outputs": [],
   "source": [
    "class Dog:\n",
    "    pass"
   ],
   "metadata": {
    "collapsed": false,
    "pycharm": {
     "name": "#%%\n"
    }
   }
  },
  {
   "cell_type": "markdown",
   "source": [
    "Тело класса Dog состоит из одной команды: ключевого слова pass. Оно часто используется в качестве заполнителя, обозначающего, где в будущем появится код. Это позволит запустить код, при этом Python не будет выдавать сообщения об ошибках."
   ],
   "metadata": {
    "collapsed": false,
    "pycharm": {
     "name": "#%% md\n"
    }
   }
  },
  {
   "cell_type": "markdown",
   "source": [
    ">В Python имена классов принято записывать по ВотТакойСхеме, то есть слова сшиваются без пробелов и нижнего подчеркивания, через использование заглавных букв. Например, имя класса для конкретной породы собак может быть записано в виде JackRussellTerrier"
   ],
   "metadata": {
    "collapsed": false,
    "pycharm": {
     "name": "#%% md\n"
    }
   }
  },
  {
   "cell_type": "markdown",
   "source": [
    "Класс Dog пока не особо интересен. Давайте немного улучшим его, добавив свойства, которые должны быть общими для всех объектов Dog. Таких свойств может быть достаточно много: кличка, возраст, цвет, порода и т. д. Для простоты мы ограничимся кличкой и возрастом.\n",
    "\n",
    "Свойства, общие для всех объектов Dog, должны определяться в методе .\\_\\_init\\_\\_(). При создании нового объекта Dog метод .\\_\\_init\\_\\_() задает исходное состояние объекта, присваивая значения свойствам объекта. Иначе говоря, метод .\\_\\_init\\_\\_() инициализирует каждый экземпляр класса.\n",
    "\n",
    "Методу .\\_\\_init\\_\\_() может передаваться любое количество параметров, но первым параметром всегда является переменная с именем sel f. При создании нового экземпляра класса экземпляр автоматически передается в параметре self при вызове .\\_\\_init\\_\\_(), чтобы для объекта можно было задать новые атрибуты.\n",
    "\n",
    "Обновим класс Dog и добавим метод .\\_\\_init\\_\\_(), создающий атрибуты .name и .age:"
   ],
   "metadata": {
    "collapsed": false,
    "pycharm": {
     "name": "#%% md\n"
    }
   }
  },
  {
   "cell_type": "code",
   "execution_count": 38,
   "outputs": [],
   "source": [
    "class Dog:\n",
    "    def __init__(self, name, age):\n",
    "        self .name = name\n",
    "        self .age = age"
   ],
   "metadata": {
    "collapsed": false,
    "pycharm": {
     "name": "#%%\n"
    }
   }
  },
  {
   "cell_type": "markdown",
   "source": [
    "Обратите внимание: сигнатура метода .\\_\\_init\\_\\_() имеет отступ из четырех пробелов, а тело метода - из восьми пробелов. Эти отступы очень важны. Они сообщают Python, что метод .\\_\\_init\\_\\_() принадлежит классу Dog.\n",
    "\n",
    "В теле .\\_\\_init\\_\\_() содержатся две команды, в которых используется переменная\n",
    "self.\n",
    "1. self.name = name создает атрибут с именем name и присваивает ему значение параметра name.\n",
    "2. self.age = age создает атрибут с именем age и присваивает ему значение параметра age.\n",
    "\n",
    "Атрибуты, созданные в .\\_\\_init\\_\\_(), называются атрибутами экземпляров. Значение атрибута экземпляра относится к конкретному экземпляру класса. Все объекты Dog обладают атрибутами name и age, но значения name и age зависят от конкретного экземпляра Dog.\n",
    "\n",
    "С другой стороны, атрибуты класса имеют одно и то же значение для всех экземпляров класса. Атрибут класса можно определить, присваивая значение переменной name за пределами .\\_\\_init\\_\\_().\n",
    "\n",
    "Например, следующий класс Dog содержит атрибут класса с именем species и значением \"Canis familiaris\":"
   ],
   "metadata": {
    "collapsed": false,
    "pycharm": {
     "name": "#%% md\n"
    }
   }
  },
  {
   "cell_type": "code",
   "execution_count": 39,
   "outputs": [],
   "source": [
    "class Dog:\n",
    "    # Атрибут класса\n",
    "    species = \"Canis familiaris\"\n",
    "\n",
    "    def __init__(self, name, age):\n",
    "        self.name = name\n",
    "        self.age = age"
   ],
   "metadata": {
    "collapsed": false,
    "pycharm": {
     "name": "#%%\n"
    }
   }
  },
  {
   "cell_type": "markdown",
   "source": [
    "Атрибуты класса определяются непосредственно под первой строкой имени класса с отступом в четыре пробела. Им всегда должно присваиваться исходное значение. При создании экземпляра класса атрибуты класса формируются автоматически, и им присваиваются исходные значения. Используйте атрибуты класса для определения свойств, которые должны иметь одно и то же значение для всех экземпляров класса. Используйте атрибуты экземпляров для свойств, которые отличаются в разных экземплярах."
   ],
   "metadata": {
    "collapsed": false,
    "pycharm": {
     "name": "#%% md\n"
    }
   }
  },
  {
   "cell_type": "markdown",
   "source": [
    "#### СОЗДАНИЕ ЭКЗЕМПЛЯРОВ\n",
    "Создадим новый класс Dog, не содержащий ни атрибутов, ни\n",
    "методов."
   ],
   "metadata": {
    "collapsed": false,
    "pycharm": {
     "name": "#%% md\n"
    }
   }
  },
  {
   "cell_type": "code",
   "execution_count": 40,
   "outputs": [],
   "source": [
    "class Dog:\n",
    "    pass"
   ],
   "metadata": {
    "collapsed": false,
    "pycharm": {
     "name": "#%%\n"
    }
   }
  },
  {
   "cell_type": "markdown",
   "source": [
    "Чтобы создать новый объект Dog, введите имя класса, за которым следует пара круглых скобок:"
   ],
   "metadata": {
    "collapsed": false,
    "pycharm": {
     "name": "#%% md\n"
    }
   }
  },
  {
   "cell_type": "code",
   "execution_count": 41,
   "outputs": [
    {
     "name": "stdout",
     "output_type": "stream",
     "text": [
      "<__main__.Dog object at 0x000001E256CEDB50>\n"
     ]
    }
   ],
   "source": [
    "print(Dog())"
   ],
   "metadata": {
    "collapsed": false,
    "pycharm": {
     "name": "#%%\n"
    }
   }
  },
  {
   "cell_type": "markdown",
   "source": [
    "Теперь новый объект Dog существует по индивидуальному адресу. Загадочная строка из букв и цифр - адрес памяти, указывающий, где объект Dog хранится в памяти компьютера.\n",
    "\n",
    "Учтите, что адрес, который вы увидите в своей системе, будет другим.\n",
    "\n",
    "Теперь создайте второй объект Dog:"
   ],
   "metadata": {
    "collapsed": false,
    "pycharm": {
     "name": "#%% md\n"
    }
   }
  },
  {
   "cell_type": "code",
   "execution_count": 42,
   "outputs": [
    {
     "name": "stdout",
     "output_type": "stream",
     "text": [
      "<__main__.Dog object at 0x000001E256CED970>\n"
     ]
    }
   ],
   "source": [
    "print(Dog())"
   ],
   "metadata": {
    "collapsed": false,
    "pycharm": {
     "name": "#%%\n"
    }
   }
  },
  {
   "cell_type": "markdown",
   "source": [
    "Новый экземпляр Dog располагается по другому адресу памяти.\n",
    "\n",
    "Дело в том, что это совершенно новый экземпляр, который никак не связан с первым объектом Dog, созданным ранее.\n",
    "\n",
    "Можно посмотреть на это иначе. Введите следующий фрагмент:"
   ],
   "metadata": {
    "collapsed": false,
    "pycharm": {
     "name": "#%% md\n"
    }
   }
  },
  {
   "cell_type": "code",
   "execution_count": 43,
   "outputs": [
    {
     "data": {
      "text/plain": "False"
     },
     "execution_count": 43,
     "metadata": {},
     "output_type": "execute_result"
    }
   ],
   "source": [
    "a = Dog()\n",
    "b = Dog()\n",
    "a == b"
   ],
   "metadata": {
    "collapsed": false,
    "pycharm": {
     "name": "#%%\n"
    }
   }
  },
  {
   "cell_type": "markdown",
   "source": [
    "В этом коде создаются два объекта Dog, которые присваиваются переменным a и b. При сравнении a и b оператором == будет получен результат False. Хотя как a, так и b являются экземплярами класса Dog, они представляют два разных объекта в памяти.\n",
    "\n",
    "#### Атрибуты класса и экземпляра\n",
    "\n",
    "Теперь создадим новый класс Dog с атрибутом класса .species и двумя атрибутами экземпляров .name и .age:"
   ],
   "metadata": {
    "collapsed": false,
    "pycharm": {
     "name": "#%% md\n"
    }
   }
  },
  {
   "cell_type": "code",
   "execution_count": 44,
   "outputs": [],
   "source": [
    "class Dog:\n",
    "    # Атрибут класса\n",
    "    species = \"Canis familiaris\"\n",
    "\n",
    "    def __init__(self, name, age):\n",
    "        self.name = name\n",
    "        self.age = age"
   ],
   "metadata": {
    "collapsed": false,
    "pycharm": {
     "name": "#%%\n"
    }
   }
  },
  {
   "cell_type": "markdown",
   "source": [
    "Чтобы создать объект класса Dog, необходимо задать значения для name и age. Если этого не сделать, Python выдаст ошибку TypeError:"
   ],
   "metadata": {
    "collapsed": false,
    "pycharm": {
     "name": "#%% md\n"
    }
   }
  },
  {
   "cell_type": "code",
   "execution_count": 45,
   "outputs": [
    {
     "ename": "TypeError",
     "evalue": "__init__() missing 2 required positional arguments: 'name' and 'age'",
     "output_type": "error",
     "traceback": [
      "\u001B[1;31m---------------------------------------------------------------------------\u001B[0m",
      "\u001B[1;31mTypeError\u001B[0m                                 Traceback (most recent call last)",
      "Input \u001B[1;32mIn [45]\u001B[0m, in \u001B[0;36m<cell line: 1>\u001B[1;34m()\u001B[0m\n\u001B[1;32m----> 1\u001B[0m \u001B[43mDog\u001B[49m\u001B[43m(\u001B[49m\u001B[43m)\u001B[49m\n",
      "\u001B[1;31mTypeError\u001B[0m: __init__() missing 2 required positional arguments: 'name' and 'age'"
     ]
    }
   ],
   "source": [
    "Dog()"
   ],
   "metadata": {
    "collapsed": false,
    "pycharm": {
     "name": "#%%\n"
    }
   }
  },
  {
   "cell_type": "markdown",
   "source": [
    "Чтобы передать аргументы для параметров name и age, укажите соответствующие значения в круглых скобках после имени класса:"
   ],
   "metadata": {
    "collapsed": false,
    "pycharm": {
     "name": "#%% md\n"
    }
   }
  },
  {
   "cell_type": "code",
   "execution_count": null,
   "outputs": [],
   "source": [
    "buddy = Dog(\"Buddy\", 9)\n",
    "miles = Dog(\"Miles\", 4)"
   ],
   "metadata": {
    "collapsed": false,
    "pycharm": {
     "name": "#%%\n"
    }
   }
  },
  {
   "cell_type": "markdown",
   "source": [
    "Этот фрагмент создает два экземпляра Dog - один представляет девятилетнюю собаку по кличке Buddy, а другой - четырехлетнюю собаку по кличке Miles.\n",
    "\n",
    "Метод .\\_\\_init\\_\\_() класса Dog получает три параметра, тогда почему в этом примере ему передаются только два аргумента?\n",
    "\n",
    "При создании объекта Dog Python создает новый экземпляр и передает его в первом параметре .\\_\\_init\\_\\_(), задавая self, и вам придется думать только о параметрах name и age.\n",
    "После того как экземпляры Dog будут созданы, вы можете обращаться к их атрибутам экземпляров с использованием точечной нотации:"
   ],
   "metadata": {
    "collapsed": false,
    "pycharm": {
     "name": "#%% md\n"
    }
   }
  },
  {
   "cell_type": "code",
   "execution_count": null,
   "outputs": [],
   "source": [
    "print(buddy.name, buddy.age)\n",
    "print(miles.name, miles.age)"
   ],
   "metadata": {
    "collapsed": false,
    "pycharm": {
     "name": "#%%\n"
    }
   }
  },
  {
   "cell_type": "markdown",
   "source": [
    "Аналогичным образом можно обращаться к атрибутам класса:"
   ],
   "metadata": {
    "collapsed": false,
    "pycharm": {
     "name": "#%% md\n"
    }
   }
  },
  {
   "cell_type": "code",
   "execution_count": null,
   "outputs": [],
   "source": [
    "print(buddy.species)\n",
    "print(miles.species)"
   ],
   "metadata": {
    "collapsed": false,
    "pycharm": {
     "name": "#%%\n"
    }
   }
  },
  {
   "cell_type": "markdown",
   "source": [
    "Одно из самых больших преимуществ использования классов для организации данных заключается в том, что экземпляры гарантированно содержат все заданные атрибуты. Все экземпляры Dog содержат атрибуты . species, .name и .age, и вы можете обращаться к ним с полной уверенностью в том, что они всегда возвращают какое-либо значение.\n",
    "\n",
    "Хотя атрибуты заведомо существуют, их значения можно менять динамически:"
   ],
   "metadata": {
    "collapsed": false,
    "pycharm": {
     "name": "#%% md\n"
    }
   }
  },
  {
   "cell_type": "code",
   "execution_count": null,
   "outputs": [],
   "source": [
    "print(buddy.age)\n",
    "buddy.age = 10\n",
    "print(buddy.age)"
   ],
   "metadata": {
    "collapsed": false,
    "pycharm": {
     "name": "#%%\n"
    }
   }
  },
  {
   "cell_type": "code",
   "execution_count": null,
   "outputs": [],
   "source": [
    "print(miles.species)\n",
    "miles.species = \"Felis silvestris\"\n",
    "print(miles.species)"
   ],
   "metadata": {
    "collapsed": false,
    "pycharm": {
     "name": "#%%\n"
    }
   }
  },
  {
   "cell_type": "markdown",
   "source": [
    "Вывод заключается в том, что пользовательские объекты по умолчанию изменяемы. Вспомните: объект называется изменяемым, если он может изменяться динамически во время выполнения. Например, списки и словари являются изменяемыми, а строки и кортежи неизменяемы."
   ],
   "metadata": {
    "collapsed": false,
    "pycharm": {
     "name": "#%% md\n"
    }
   }
  },
  {
   "cell_type": "markdown",
   "source": [
    "#### Методы экземпляров\n",
    "\n",
    "Методами экземпляров называют функции, которые определяются внутри класса и могут вызываться только из экземпляра этого класса. Как и в случае с .\\_\\_init\\_\\_(), первым параметром метода экземпляра всегда является self.\n",
    "\n",
    "Помимо метода .\\_\\_init\\_\\_() добавим еще два метода:\n",
    "1. Метод . description() возвращает строку с кличкой и возрастом собаки.\n",
    "2. Метод . speak() получает один параметр sound и возвращает строку с кличкой собаки и транскрипцией звуков, которые она издает."
   ],
   "metadata": {
    "collapsed": false,
    "pycharm": {
     "name": "#%% md\n"
    }
   }
  },
  {
   "cell_type": "code",
   "execution_count": 47,
   "outputs": [],
   "source": [
    "class Dog:\n",
    "    # Атрибут класса\n",
    "    species = \"Canis familiaris\"\n",
    "\n",
    "    def __init__(self, name, age):\n",
    "        self.name = name\n",
    "        self.age = age\n",
    "    # Метод экземпляра\n",
    "    def description(self):\n",
    "       return f\"{self.name} is {self.age} years old\"\n",
    "    # Другой метод экземпляра\n",
    "    def speak(self, sound):\n",
    "        return f\"{self.name} says {sound}\""
   ],
   "metadata": {
    "collapsed": false,
    "pycharm": {
     "name": "#%%\n"
    }
   }
  },
  {
   "cell_type": "code",
   "execution_count": 48,
   "outputs": [
    {
     "data": {
      "text/plain": "'Miles is 4 years old'"
     },
     "execution_count": 48,
     "metadata": {},
     "output_type": "execute_result"
    }
   ],
   "source": [
    "miles = Dog(\"Miles\", 4)\n",
    "miles.description()"
   ],
   "metadata": {
    "collapsed": false,
    "pycharm": {
     "name": "#%%\n"
    }
   }
  },
  {
   "cell_type": "code",
   "execution_count": 49,
   "outputs": [
    {
     "data": {
      "text/plain": "'Miles says Woof Woof'"
     },
     "execution_count": 49,
     "metadata": {},
     "output_type": "execute_result"
    }
   ],
   "source": [
    "miles.speak('Woof Woof')"
   ],
   "metadata": {
    "collapsed": false,
    "pycharm": {
     "name": "#%%\n"
    }
   }
  },
  {
   "cell_type": "code",
   "execution_count": 50,
   "outputs": [
    {
     "data": {
      "text/plain": "'Miles says Bow Wow'"
     },
     "execution_count": 50,
     "metadata": {},
     "output_type": "execute_result"
    }
   ],
   "source": [
    "miles.speak('Bow Wow')"
   ],
   "metadata": {
    "collapsed": false,
    "pycharm": {
     "name": "#%%\n"
    }
   }
  },
  {
   "cell_type": "markdown",
   "source": [
    "В этом классе Dog метод .description() возвращает строку, содержащую информацию об экземпляре Dog из переменной miles. При написании собственных классов желательно создать метод, который возвращает строку с полезной информацией об экземпляре класса. Тем не менее метод .description() - не самый подходящий способ."
   ],
   "metadata": {
    "collapsed": false,
    "pycharm": {
     "name": "#%% md\n"
    }
   }
  },
  {
   "cell_type": "markdown",
   "source": [
    "При создании объекта типа list можно воспользоваться функцией print () для вывода строки, которая выглядит как список:"
   ],
   "metadata": {
    "collapsed": false,
    "pycharm": {
     "name": "#%% md\n"
    }
   }
  },
  {
   "cell_type": "code",
   "execution_count": 51,
   "outputs": [
    {
     "name": "stdout",
     "output_type": "stream",
     "text": [
      "['David', 'Dan', 'Joanna', 'Fletcher']\n"
     ]
    }
   ],
   "source": [
    "names = [\"David\", \"Dan\", \"Joanna\", \"Fletcher\"]\n",
    "print(names)"
   ],
   "metadata": {
    "collapsed": false,
    "pycharm": {
     "name": "#%%\n"
    }
   }
  },
  {
   "cell_type": "markdown",
   "source": [
    "А теперь посмотрим, что происходит при выводе объекта miles функцией print():"
   ],
   "metadata": {
    "collapsed": false,
    "pycharm": {
     "name": "#%% md\n"
    }
   }
  },
  {
   "cell_type": "code",
   "execution_count": 52,
   "outputs": [
    {
     "name": "stdout",
     "output_type": "stream",
     "text": [
      "<__main__.Dog object at 0x000001E2563F99A0>\n"
     ]
    }
   ],
   "source": [
    "print(miles)"
   ],
   "metadata": {
    "collapsed": false,
    "pycharm": {
     "name": "#%%\n"
    }
   }
  },
  {
   "cell_type": "markdown",
   "source": [
    "При вызове print(miles) вы получаете загадочное сообщение, из которого можно узнать, что объект Dog находится в памяти по определенному адресу. Пользы от такого сообщения немного. Чтобы изменить выводимую информацию, следует определить специальный метод экземпляра с именем .\\_\\str\\_\\_()\n",
    "В окне редактора измените имя метода. description() класса Dog на .\\_\\str\\_\\_():"
   ],
   "metadata": {
    "collapsed": false,
    "pycharm": {
     "name": "#%% md\n"
    }
   }
  },
  {
   "cell_type": "code",
   "execution_count": 57,
   "outputs": [],
   "source": [
    "class Dog:\n",
    "    # Атрибут класса\n",
    "    species = \"Canis familiaris\"\n",
    "\n",
    "    def __init__(self, name, age):\n",
    "        self.name = name\n",
    "        self.age = age\n",
    "    # Метод экземпляра\n",
    "    def __str__(self):\n",
    "        return f\"{self.name} is {self.age} years old\"\n",
    "    # Другой метод экземпляра\n",
    "    def speak(self, sound):\n",
    "        return f\"{self.name} says {sound}\""
   ],
   "metadata": {
    "collapsed": false,
    "pycharm": {
     "name": "#%%\n"
    }
   }
  },
  {
   "cell_type": "code",
   "execution_count": 58,
   "outputs": [
    {
     "name": "stdout",
     "output_type": "stream",
     "text": [
      "Miles is 4 years old\n"
     ]
    }
   ],
   "source": [
    "miles = Dog(\"Miles\", 4)\n",
    "print(miles)"
   ],
   "metadata": {
    "collapsed": false,
    "pycharm": {
     "name": "#%%\n"
    }
   }
  },
  {
   "cell_type": "markdown",
   "source": [
    "Такие методы, как .\\_\\init\\_\\_() и .\\_\\str\\_\\_(),называются dunder-методами (dunder - сокращение от double underscores, то есть двойное подчеркивание).\n",
    "\n",
    "Существует много dunder-мeтoдoв, которые могут использоваться для настройки поведения классов в Python. Понимание dunder-мeтoдoв очень важно для освоения\n",
    "ООП на языке Python."
   ],
   "metadata": {
    "collapsed": false,
    "pycharm": {
     "name": "#%% md\n"
    }
   }
  },
  {
   "cell_type": "markdown",
   "source": [
    "### Упражнения\n",
    "1. Измените класс Dog и включите в него третий атрибут экземпляра с именем coat_color, в котором будет храниться цвет шерсти собаки в виде строки. Сохраните новый класс в файле и протестируйте его, добавив следующий фрагмент в конец программы:\n",
    "\n",
    "```\n",
    "        philo = Dog(\"Philo\", 5, \"brown\")\n",
    "        print(f\"{philo.name}'s coat is {philo.coat_color}.\")\n",
    "```\n",
    "\n",
    "Программа должна выводить следующий результат:\n",
    "\n",
    "```\n",
    "        Philo's coat is brown.\n",
    "```\n",
    "\n",
    "2. Создайте класс Car с двумя атрибутами экземпляров: .color для хранения цвета машины в виде строки и .mileage для хранения пробега в милях в виде целого числа. Создайте два объекта Car - синюю машину с пробегом 20 ООО и красную с пробегом 30 ООО. Выведите данные на каждую машину. Результат должен выглядеть так:\n",
    "\n",
    "```\n",
    "        The blue car has 20,000 miles.\n",
    "        The red car has 30,000 miles.\n",
    "```\n",
    "\n",
    "3. Измените класс Car и добавьте в него метод экземпляра .drive(), который получает числовой аргумент и прибавляет его к атрибуту .mileage. Убедитесь в том, что ваше решение работает; создайте экземпляр с нулевым пробегом, вызовите .drive(100) и выведите атрибут .mileage, чтобы убедиться в том, что он принял значение 100."
   ],
   "metadata": {
    "collapsed": false,
    "pycharm": {
     "name": "#%% md\n"
    }
   }
  },
  {
   "cell_type": "markdown",
   "source": [
    "### НАСЛЕДОВАНИЕ ОТ ДРУГИХ КЛАССОВ\n",
    "\n",
    "**Наследованием** называется процесс, в котором один класс получает атрибуты и методы другого класса. Создаваемый класс называется **производным**, или **дочерним, классом**, а классы, от которых наследуют производные классы, называются **родительскими**.\n",
    "\n",
    "Дочерние классы могут переопределять или расширять атрибуты и методы родительских классов. Другими словами, они наследуют все атрибуты и методы родительских классов, но также могут задавать свои уникальные атрибуты и методы.\n",
    "\n",
    "Как и в прошлом примере создадим класс Dog, но добавим в него атрибут .breed - определяющий породу собаки"
   ],
   "metadata": {
    "collapsed": false,
    "pycharm": {
     "name": "#%% md\n"
    }
   }
  },
  {
   "cell_type": "code",
   "execution_count": 64,
   "outputs": [],
   "source": [
    "class Dog:\n",
    "    # Атрибут класса\n",
    "    species = \"Canis familiaris\"\n",
    "\n",
    "    def __init__(self, name, age, breed):\n",
    "        self.name = name\n",
    "        self.age = age\n",
    "        self.breed = breed\n",
    "    # Метод экземпляра\n",
    "    def __str__(self):\n",
    "        return f\"{self.name} is {self.age} years old\"\n",
    "    # Другой метод экземпляра\n",
    "    def speak(self, sound):\n",
    "        return f\"{self.name} says {sound}\""
   ],
   "metadata": {
    "collapsed": false,
    "pycharm": {
     "name": "#%%\n"
    }
   }
  },
  {
   "cell_type": "markdown",
   "source": [
    "Определим экземпляры класса Dog"
   ],
   "metadata": {
    "collapsed": false,
    "pycharm": {
     "name": "#%% md\n"
    }
   }
  },
  {
   "cell_type": "code",
   "execution_count": 66,
   "outputs": [],
   "source": [
    "miles = Dog(\"Miles\", 4, \"Jack Russell Terrier\")\n",
    "buddy = Dog(\"Buddy\", 9, \"Dachshund\")\n",
    "jack = Dog(\"Jack\", 3, \"Bulldog\")\n",
    "jim = Dog(\"Jim\", 5, \"Bulldog\")"
   ],
   "metadata": {
    "collapsed": false,
    "pycharm": {
     "name": "#%%\n"
    }
   }
  },
  {
   "cell_type": "markdown",
   "source": [
    "Разные породы собак имеют разные отличительные особенности. Например, у бульдогов лай низкий, а у такс - высокий и пронзительный.\n",
    "\n",
    "Если использовать только класс Dog, можно передавать методу .speak строку с транскрипцией лая каждый раз, когда этот метод вызывается для экземпляра Dog:"
   ],
   "metadata": {
    "collapsed": false,
    "pycharm": {
     "name": "#%% md\n"
    }
   }
  },
  {
   "cell_type": "code",
   "execution_count": 69,
   "outputs": [
    {
     "name": "stdout",
     "output_type": "stream",
     "text": [
      "Buddy says Vap\n",
      "Jim says Woof\n",
      "Jack says Woof\n"
     ]
    }
   ],
   "source": [
    "print(buddy.speak(\"Vap\"))\n",
    "print(jim.speak(\"Woof\"))\n",
    "print(jack.speak(\"Woof\"))"
   ],
   "metadata": {
    "collapsed": false,
    "pycharm": {
     "name": "#%%\n"
    }
   }
  },
  {
   "cell_type": "markdown",
   "source": [
    "Впрочем, решение с передачей строки при каждом вызове .speak() однообразно и неудобно. Более того, строка, представляющая звук, издаваемый каждым экземпляром Dog, должна определяться его атрибутом .breed, а нам приходится вручную передавать правильную строку .speak() при каждом вызове.\n",
    "\n",
    "Чтобы с классом Dog было удобнее работать, мы создадим отдельный дочерний класс для каждой породы собак. Это позволит расширить функциональность, наследуемую каждым производным классом, включая определение аргумента по умолчанию для .sреаk().\n",
    "\n",
    "#### Родительские классы и дочерние классы\n",
    "\n",
    "Создадим дочерний класс для каждой из трех пород, упоминавшихся ранее: джек-рассел-терьер Jack Russell Terrier), такса (Dachshund) и бульдог\n",
    "(Bulldog).\n",
    "\n",
    "Чтобы создать дочерний класс, создайте новый класс с соответствующим именем и укажите имя родительского класса в круглых скобках. Следующий фрагмент после класса Dog создает три новых класса, производных от Dog:"
   ],
   "metadata": {
    "collapsed": false,
    "pycharm": {
     "name": "#%% md\n"
    }
   }
  },
  {
   "cell_type": "code",
   "execution_count": 70,
   "outputs": [],
   "source": [
    "class Dog:\n",
    "    # Атрибут класса\n",
    "    species = \"Canis familiaris\"\n",
    "\n",
    "    def __init__(self, name, age):\n",
    "        self.name = name\n",
    "        self.age = age\n",
    "    # Метод экземпляра\n",
    "    def __str__(self):\n",
    "        return f\"{self.name} is {self.age} years old\"\n",
    "    # Другой метод экземпляра\n",
    "    def speak(self, sound):\n",
    "        return f\"{self.name} says {sound}\"\n",
    "\n",
    "class JackRussellTerrier(Dog):\n",
    "    pass\n",
    "class Dachshund(Dog):\n",
    "    pass\n",
    "class Bulldog(Dog):\n",
    "    pass"
   ],
   "metadata": {
    "collapsed": false,
    "pycharm": {
     "name": "#%%\n"
    }
   }
  },
  {
   "cell_type": "markdown",
   "source": [
    "После того как дочерние классы будут определены, можно создать экземпляры собак конкретных пород:"
   ],
   "metadata": {
    "collapsed": false,
    "pycharm": {
     "name": "#%% md\n"
    }
   }
  },
  {
   "cell_type": "code",
   "execution_count": 72,
   "outputs": [],
   "source": [
    "miles = JackRussellTerrier(\"Miles\", 4)\n",
    "buddy = Dachshund(\"Buddy\", 9)\n",
    "jack = Bulldog(\"Jack\", 3)\n",
    "jim = Bulldog(\"Jim\", 5)\n"
   ],
   "metadata": {
    "collapsed": false,
    "pycharm": {
     "name": "#%%\n"
    }
   }
  },
  {
   "cell_type": "markdown",
   "source": [
    "Экземпляры дочерних классов наследуют все атрибуты и методы родительского класса:"
   ],
   "metadata": {
    "collapsed": false,
    "pycharm": {
     "name": "#%% md\n"
    }
   }
  },
  {
   "cell_type": "code",
   "execution_count": 73,
   "outputs": [
    {
     "name": "stdout",
     "output_type": "stream",
     "text": [
      "Canis familiaris\n",
      "Buddy\n",
      "Jack is 3 years old\n",
      "Jim says Woof\n"
     ]
    }
   ],
   "source": [
    "print(miles.species)\n",
    "print(buddy.name)\n",
    "print(jack)\n",
    "print(jim.speak('Woof'))"
   ],
   "metadata": {
    "collapsed": false,
    "pycharm": {
     "name": "#%%\n"
    }
   }
  },
  {
   "cell_type": "markdown",
   "source": [
    "Чтобы увидеть, к какому классу принадлежит объект, воспользуйтесь встроенной функцией type():"
   ],
   "metadata": {
    "collapsed": false,
    "pycharm": {
     "name": "#%% md\n"
    }
   }
  },
  {
   "cell_type": "code",
   "execution_count": 74,
   "outputs": [
    {
     "data": {
      "text/plain": "__main__.JackRussellTerrier"
     },
     "execution_count": 74,
     "metadata": {},
     "output_type": "execute_result"
    }
   ],
   "source": [
    "type(miles)"
   ],
   "metadata": {
    "collapsed": false,
    "pycharm": {
     "name": "#%%\n"
    }
   }
  },
  {
   "cell_type": "markdown",
   "source": [
    "А если вы захотите узнать, является ли miles также экземпляром класса Dog? В этом вам поможет встроенная функция isinstance( ):"
   ],
   "metadata": {
    "collapsed": false,
    "pycharm": {
     "name": "#%% md\n"
    }
   }
  },
  {
   "cell_type": "code",
   "execution_count": 75,
   "outputs": [
    {
     "data": {
      "text/plain": "True"
     },
     "execution_count": 75,
     "metadata": {},
     "output_type": "execute_result"
    }
   ],
   "source": [
    "isinstance(miles, Dog)"
   ],
   "metadata": {
    "collapsed": false,
    "pycharm": {
     "name": "#%%\n"
    }
   }
  },
  {
   "cell_type": "markdown",
   "source": [
    "Обратите внимание: функция isinstance() получает два аргумента, объект и класс. В данном случае isinstance() проверяет, является ли miles экземпляром класса Dog, и возвращает True.\n",
    "Все объекты, miles, buddy, jack и jim, являются экземплярами Dog, но miles не является экземпляром Bulldog, а jack не является экземпляром Dachshund:"
   ],
   "metadata": {
    "collapsed": false,
    "pycharm": {
     "name": "#%% md\n"
    }
   }
  },
  {
   "cell_type": "code",
   "execution_count": 76,
   "outputs": [
    {
     "name": "stdout",
     "output_type": "stream",
     "text": [
      "False\n",
      "False\n"
     ]
    }
   ],
   "source": [
    "print(isinstance(miles, Bulldog))\n",
    "print(isinstance(jack, Dachshund))"
   ],
   "metadata": {
    "collapsed": false,
    "pycharm": {
     "name": "#%%\n"
    }
   }
  },
  {
   "cell_type": "markdown",
   "source": [
    "В более общем понимании все объекты, созданные на основе дочерних классов, являются экземплярами родительского класса, хотя при этом не являются экземплярами других дочерних классов.\n",
    "\n",
    "Итак, мы создали дочерние классы для нескольких пород собак. Теперь назначим каждой породе транскрипцию звука, который она издает.\n",
    "\n",
    "#### Расширение функциональности родительского класса\n",
    "\n",
    "Так как разные породы собак лают по-разному, мы хотим предоставить значение по умолчанию для аргумента sound в соответствующем методе .speak(). Для этого необходимо переопределить .speak() в определении класса для каждой породы.\n",
    "\n",
    "Чтобы переопределить метод, заданный в родительском классе, вы определяете одноименный метод в дочернем классе. Вот как это делается в классе JackRussellTerrier:"
   ],
   "metadata": {
    "collapsed": false,
    "pycharm": {
     "name": "#%% md\n"
    }
   }
  },
  {
   "cell_type": "code",
   "execution_count": 77,
   "outputs": [],
   "source": [
    "class JackRussellTerrier(Dog):\n",
    "    def speak(self, sound=\"Arf\"):\n",
    "        return f\"{self.name} says {sound}\""
   ],
   "metadata": {
    "collapsed": false,
    "pycharm": {
     "name": "#%%\n"
    }
   }
  },
  {
   "cell_type": "markdown",
   "source": [
    "Теперь метод .speak() определен в классе JackRussellTerrier с аргументом по умолчанию для sound, которому присвоено значение \"Arf\". Этот аргумент можно установить произвольным, для чего при вызове метода .speak() необходимо передать параметр sound"
   ],
   "metadata": {
    "collapsed": false,
    "pycharm": {
     "name": "#%% md\n"
    }
   }
  },
  {
   "cell_type": "code",
   "execution_count": 79,
   "outputs": [
    {
     "name": "stdout",
     "output_type": "stream",
     "text": [
      "Miles says Arf\n",
      "Miles says Grr\n"
     ]
    }
   ],
   "source": [
    "miles = JackRussellTerrier(\"Miles\", 4)\n",
    "print(miles.speak())\n",
    "print(miles.speak('Grr'))"
   ],
   "metadata": {
    "collapsed": false,
    "pycharm": {
     "name": "#%%\n"
    }
   }
  },
  {
   "cell_type": "markdown",
   "source": [
    "Имея дело с наследованием классов, важно помнить, что изменения в родительском классе автоматически распространяются на дочерние классы - при условии, что изменяемый атрибут или метод не был переопределен в дочернем классе.\n",
    "Например, изменив строку, возвращаемую методом .speak() из класса Dog мы получим изменение и для класса Bulldog в методе .speak()\n",
    "А в случае класса JackRussellTerrier изменений не будет, так как мы переопределили метод .speak() в дочернем классе\n",
    "\n",
    "Иногда полное переопределение метода из родительского класса оправданно. Но в данном случае мы не хотим, чтобы в классе JackRussell Terrier терялись изменения, внесенные в форматирование выходной строки Dog.speak().\n",
    "\n",
    "Как и прежде, задача решается определением метода .speak() в дочернем классе JackRussell Terrier. Но вместо того, чтобы явно определять выходную строку, мы вызовем метод .speak () класса Dog внутри метода .speak() дочернего класса с теми же аргументами, которые передавались JackRussellTerrier.speak().\n",
    "\n",
    "Для обращения к родительскому классу из метода дочернего класса используется вызов super():"
   ],
   "metadata": {
    "collapsed": false,
    "pycharm": {
     "name": "#%% md\n"
    }
   }
  },
  {
   "cell_type": "code",
   "execution_count": 89,
   "outputs": [],
   "source": [
    "class JackRussellTerrier(Dog):\n",
    "    def speak(self, sound=\"Arf\"):\n",
    "        return super().speak(sound)"
   ],
   "metadata": {
    "collapsed": false,
    "pycharm": {
     "name": "#%%\n"
    }
   }
  },
  {
   "cell_type": "markdown",
   "source": [
    "Когда вы вызываете super().speak(sound) внутри JackRussell Terrier, Python ищет в родительском классе Dog метод .speak() и вызывает его с переменной sound.\n",
    "\n",
    "Теперь при вызове miles.speak() вывод будет отражать новое форматирование в классе."
   ],
   "metadata": {
    "collapsed": false,
    "pycharm": {
     "name": "#%% md\n"
    }
   }
  },
  {
   "cell_type": "code",
   "execution_count": 91,
   "outputs": [
    {
     "data": {
      "text/plain": "'Miles barks: Arf'"
     },
     "execution_count": 91,
     "metadata": {},
     "output_type": "execute_result"
    }
   ],
   "source": [
    "miles = JackRussellTerrier(\"Miles\", 4)\n",
    "miles.speak()"
   ],
   "metadata": {
    "collapsed": false,
    "pycharm": {
     "name": "#%%\n"
    }
   }
  },
  {
   "cell_type": "markdown",
   "source": [
    "В этом примере иерархия классов очень проста: у класса JackRussellTerrier всего один родительский класс Dog. В реальных примерах иерархии классов могут быть достаточно сложными.\n",
    "Вызов .super() не ограничивается простым поиском метода или атрибута в родительском классе. Он обходит всю иерархию классов в поисках подходящего метода или атрибута. При малейшей невнимательности super() может привести к удивительным результатам."
   ],
   "metadata": {
    "collapsed": false,
    "pycharm": {
     "name": "#%% md\n"
    }
   }
  },
  {
   "cell_type": "markdown",
   "source": [
    "### Упражнения\n",
    "1. Создайте класс GoldenRetriever, наследующий от класса Dog. Задайте аргументу sound метода GoldenRetriever.speak() значение по умолчанию \"Bark\". Используйте следующий код для родительского класса Dog:\n",
    "```\n",
    "        class Dog:\n",
    "        species = \"Canis familiaris\"\n",
    "        def __init__(self, name, age):\n",
    "            self.name = name\n",
    "            self.age = age\n",
    "        def __str__(self):\n",
    "            return f\"{self.name} is {self.age} years old\"\n",
    "        def speak(self, sound):\n",
    "            return f\"{self.name} says {sound}\"\n",
    "```\n",
    "2. Напишите класс Rectangle, представляющий прямоугольник. Экземпляры класса должны создаваться с двумя атрибутами: .length и .width. Добавьте в класс метод .аrea(), который возвращает площадь прямоугольника (length * width).\n",
    "\n",
    "    Затем напишите класс Square, представляющий квадрат. Этот класс должен наследовать от класса Rectangle и создаваться с одним атрибутом .side_length. Протестируйте класс Square: создайте экземпляр Square с атрибутом .side_length, равным 4. Вызов .area () должен возвращать 16. Задайте свойству .width вашего экземпляра Square значение 5. Затем снова вызовите .area (). Метод должен вернуть значение 20.\n",
    "\n",
    "    Этот пример показывает, что наследование классов не всегда наилучшим образом моделирует отношения между подмножествами. В математике любой квадрат является прямоугольником, но в компьютерных программах это не всегда так.\n",
    "\n",
    "    Хорошо продумывайте варианты поведения, чтобы они выполняли именно то, что вы задумали, и используйте иерархии классов с осторожностью."
   ],
   "metadata": {
    "collapsed": false,
    "pycharm": {
     "name": "#%% md\n"
    }
   }
  },
  {
   "cell_type": "markdown",
   "source": [
    "### Задача: ИЕРАРХИЯ КЛАССОВ\n",
    "В этой задаче вы создадите модель, описывающую поведение группы классов (придумать свой родительский класс, как в примере из теории - класс Dog)\n",
    "В этой задаче на первый план выходит не столько синтаксис классов Python, сколько проектирование программных структур вообще, а это в высшей степени субъективно.\n",
    "\n",
    "Прежде чем начинать программирование, возьмите бумагу и ручку и набросайте модель, включая классы, атрибуты и методы. Подумайте над наследованием. Как предотвратить дублирование кода? Можете проработать столько вариантов модели, сколько посчитаете нужным.\n",
    "\n",
    "Требования задачи открыты для интерпретации, но постарайтесь придерживаться следующих рекомендаций.\n",
    "1. В программе должно быть по крайней мере четыре класса: родительский класс и не менее трех производных классов.\n",
    "\n",
    "2. Каждый класс должен содержать несколько атрибутов и по крайней мере один метод, моделирующий поведение, присущее конкретному\n",
    "объекту или всем объектам (как на примере классов наследуемых от класса Dog из теории метод speak)\n",
    "\n",
    "3. Не усложняйте. Используйте наследование. Предусмотрите возможность вывода подробной информации об объектах и их поведении."
   ],
   "metadata": {
    "collapsed": false,
    "pycharm": {
     "name": "#%% md\n"
    }
   }
  },
  {
   "cell_type": "markdown",
   "source": [
    "В Python класс предназначен ______ для конкретного объекта.\n",
    "1. экземпляром\n",
    "2. методом\n",
    "3. планом - верно\n",
    "4. атрибутом"
   ],
   "metadata": {
    "collapsed": false,
    "pycharm": {
     "name": "#%% md\n"
    }
   }
  },
  {
   "cell_type": "markdown",
   "source": [
    "```\n",
    "class Dog:\n",
    "    def __init__(self, name, age):\n",
    "        self.name = name\n",
    "        self.age = age\n",
    "```\n",
    "Правильный способ создания экземпляра вышеуказанного Dog класса:\n",
    "1. Dog.create(\"Rufus\", 3)\n",
    "2. Dog(\"Rufus\", 3) - верно\n",
    "3. Dog()\n",
    "4. Dog.\\_\\_init\\_\\_(\"Rufus\", 3)"
   ],
   "metadata": {
    "collapsed": false,
    "pycharm": {
     "name": "#%% md\n"
    }
   }
  },
  {
   "cell_type": "markdown",
   "source": [
    "Как вывести атрибут name объекта или класса \"X\":\n",
    "1. X.name - верно\n",
    "2. X(name)\n",
    "3. name(X)\n",
    "4. name.X"
   ],
   "metadata": {
    "collapsed": false,
    "pycharm": {
     "name": "#%% md\n"
    }
   }
  },
  {
   "cell_type": "markdown",
   "source": [
    "В Python функция внутри класса называется:\n",
    "1. объект\n",
    "2. метод - верно\n",
    "3. атрибут\n",
    "4. экземпляр"
   ],
   "metadata": {
    "collapsed": false,
    "pycharm": {
     "name": "#%% md\n"
    }
   }
  },
  {
   "cell_type": "markdown",
   "source": [
    "Что выводит следующий фрагмент кода?\n",
    "```\n",
    "class Dog:\n",
    "    def walk(self):\n",
    "        return \"*walking*\"\n",
    "\n",
    "    def speak(self):\n",
    "        return \"Woof!\"\n",
    "\n",
    "class JackRussellTerrier(Dog):\n",
    "    def speak(self):\n",
    "        return \"Arff!\"\n",
    "\n",
    "bobo = JackRussellTerrier()\n",
    "bobo.walk()\n",
    "```\n",
    "1. \\*walking\\* - верно\n",
    "2. AttributeError: 'JackRussellTerrier' object has no attribute 'walk'\n",
    "3. Woof!\n",
    "4. Arff!"
   ],
   "metadata": {
    "collapsed": false,
    "pycharm": {
     "name": "#%% md\n"
    }
   }
  },
  {
   "cell_type": "markdown",
   "source": [
    "Что выводит следующий фрагмент кода?\n",
    "```\n",
    "class Dog:\n",
    "    def walk(self):\n",
    "        return \"*walking*\"\n",
    "\n",
    "    def speak(self):\n",
    "        return \"Woof!\"\n",
    "\n",
    "class JackRussellTerrier(Dog):\n",
    "    def speak(self):\n",
    "        return \"Arff!\"\n",
    "\n",
    "bobo = JackRussellTerrier()\n",
    "bobo.speak()\n",
    "```\n",
    "1. Arff! - верно\n",
    "2. Woof!\n",
    "3. \\*walking\\*\n",
    "4. CanineError: Dog malfunction"
   ],
   "metadata": {
    "collapsed": false,
    "pycharm": {
     "name": "#%% md\n"
    }
   }
  },
  {
   "cell_type": "markdown",
   "source": [
    "Что выводит следующий фрагмент кода?\n",
    "```\n",
    "class Dog:\n",
    "    def walk(self):\n",
    "        return \"*walking*\"\n",
    "\n",
    "    def speak(self):\n",
    "        return \"Woof!\"\n",
    "\n",
    "class JackRussellTerrier(Dog):\n",
    "    def talk(self):\n",
    "        return super().speak\n",
    "\n",
    "bobo = JackRussellTerrier()\n",
    "bobo.talk()\n",
    "```\n",
    "1. \\*walking\\*\n",
    "2. Woof! - верно\n",
    "3. CanineError: Tail curvature exceeded"
   ],
   "metadata": {
    "collapsed": false,
    "pycharm": {
     "name": "#%% md\n"
    }
   }
  },
  {
   "cell_type": "markdown",
   "source": [
    "```\n",
    "class Dog:\n",
    "    def __init__(self, name, age):\n",
    "        self.name = name\n",
    "        self.age = age\n",
    "\n",
    "class JackRussellTerrier(Dog):\n",
    "    pass\n",
    "\n",
    "class Dachshund(Dog):\n",
    "    pass\n",
    "\n",
    "class Bulldog(Dog):\n",
    "    pass\n",
    "\n",
    "miles = JackRussellTerrier(\"Miles\", 4)\n",
    "buddy = Dachshund(\"Buddy\", 9)\n",
    "jack = Bulldog(\"Jack\", 3)\n",
    "jim = Bulldog(\"Jim\", 5)\n",
    "```\n",
    "Учитывая приведенный выше фрагмент кода, какие из следующих выходных данных верны? (Выбрать все, что подходит):\n",
    "1. >>> isinstance(miles, Dog) - верно\n",
    "    True\n",
    "2. >>> isinstance(miles, Dog)\n",
    "    False\n",
    "3. >>> isinstance(buddy, Bulldog)\n",
    "    True\n",
    "4. >>> isinstance(jack, Dachshund) - верно\n",
    "    False\n",
    "5. >>> isinstance(jack, Dog)\n",
    "    False\n",
    "6. >>> isinstance(miles, Bulldog) - верно\n",
    "    False"
   ],
   "metadata": {
    "collapsed": false,
    "pycharm": {
     "name": "#%% md\n"
    }
   }
  },
  {
   "cell_type": "code",
   "execution_count": null,
   "outputs": [],
   "source": [],
   "metadata": {
    "collapsed": false,
    "pycharm": {
     "name": "#%%\n"
    }
   }
  }
 ],
 "metadata": {
  "kernelspec": {
   "display_name": "Python 3",
   "language": "python",
   "name": "python3"
  },
  "language_info": {
   "codemirror_mode": {
    "name": "ipython",
    "version": 2
   },
   "file_extension": ".py",
   "mimetype": "text/x-python",
   "name": "python",
   "nbconvert_exporter": "python",
   "pygments_lexer": "ipython2",
   "version": "2.7.6"
  }
 },
 "nbformat": 4,
 "nbformat_minor": 0
}