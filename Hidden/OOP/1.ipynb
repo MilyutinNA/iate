{
 "cells": [
  {
   "cell_type": "code",
   "execution_count": 21,
   "metadata": {
    "collapsed": true,
    "pycharm": {
     "name": "#%%\n"
    }
   },
   "outputs": [
    {
     "name": "stdout",
     "output_type": "stream",
     "text": [
      "Барсик\n",
      "Чел\n"
     ]
    }
   ],
   "source": [
    "class Cat:\n",
    "    name = None\n",
    "    age = None\n",
    "    isHappy = None\n",
    "\n",
    "    def set_data(self, name, age, isHappy):\n",
    "        self.name = name\n",
    "        self.age = age\n",
    "        self.isHappy = isHappy\n",
    "\n",
    "    def get_happy(self):\n",
    "        if self.isHappy:\n",
    "            a = \"счастлив\"\n",
    "        else:\n",
    "            a = \"несчастлив\"\n",
    "        print(self.name, a)\n",
    "\n",
    "cat1 = Cat()\n",
    "cat1.name = 'Барсик'\n",
    "cat1.age = 3\n",
    "cat1.isHappy = True\n",
    "\n",
    "cat2 = Cat()\n",
    "cat2.set_data('Чел', 2, False)\n",
    "\n",
    "print(cat1.name)\n",
    "print(cat2.name)\n",
    "print(cat2.get_happy())"
   ]
  }
 ],
 "metadata": {
  "kernelspec": {
   "display_name": "Python 3",
   "language": "python",
   "name": "python3"
  },
  "language_info": {
   "codemirror_mode": {
    "name": "ipython",
    "version": 2
   },
   "file_extension": ".py",
   "mimetype": "text/x-python",
   "name": "python",
   "nbconvert_exporter": "python",
   "pygments_lexer": "ipython2",
   "version": "2.7.6"
  }
 },
 "nbformat": 4,
 "nbformat_minor": 0
}