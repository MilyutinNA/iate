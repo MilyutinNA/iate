{
 "cells": [
  {
   "cell_type": "markdown",
   "source": [
    "# Cоздание переменных и выполнение различных действия над ними. Типы данных"
   ],
   "metadata": {
    "collapsed": false,
    "pycharm": {
     "name": "#%% md\n"
    }
   }
  },
  {
   "cell_type": "markdown",
   "source": [
    "#### Переменные и передача аргументов\n",
    "##### Присваивание значения переменной (или имени) в Python приводит к созданию ссылки на объект, стоящий в правой части присваивания. Понимать семантику ссылок в Python и знать, когда, как и почему данные копируются, особенно важно при работе с большими наборами данных. Операцию присваивания называют также связыванием, потому что мы связываем имя с объектом. Имена переменных, которым присвоено значение, иногда называют связанными переменными. Рассмотрим список целых чисел:"
   ],
   "metadata": {
    "collapsed": false,
    "pycharm": {
     "name": "#%% md\n"
    }
   }
  },
  {
   "cell_type": "code",
   "execution_count": null,
   "outputs": [],
   "source": [
    "a = [1, 2, 3]\n",
    "# Предположим, что мы присвоили значение a новой переменной b:\n",
    "b = a"
   ],
   "metadata": {
    "collapsed": false,
    "pycharm": {
     "name": "#%%\n"
    }
   }
  },
  {
   "cell_type": "markdown",
   "source": [
    "##### В некоторых языках такое присваивание приводит к копированию данных [1, 2, 3]. В Python a и b указывают на один и тот же объект – исходный список [1, 2, 3].\n",
    "![две ссылки на объект](https://sun9-west.userapi.com/sun9-15/s/v1/ig2/IJpCiOM0-wHOuPx7tJku6ET6DGFnGNxMoiZyn7S6RT5627yVLBGzAT9ywTlufkpVXkaNG6sedRlQAPhMMAsYecE4.jpg?size=580x197&quality=96&type=album)\n",
    "##### Чтобы убедиться в этом, добавим в список a еще один элемент и проверим список b:"
   ],
   "metadata": {
    "collapsed": false,
    "pycharm": {
     "name": "#%% md\n"
    }
   }
  },
  {
   "cell_type": "code",
   "execution_count": null,
   "outputs": [],
   "source": [
    "a.append(4)\n",
    "b"
   ],
   "metadata": {
    "collapsed": false,
    "pycharm": {
     "name": "#%%\n"
    }
   }
  },
  {
   "cell_type": "markdown",
   "source": [
    "##### В отличие от многих компилируемых языков, в частности Java и C++, со ссылкой на объект в Python не связан никакой тип. Следующий код не приведет к ошибке:"
   ],
   "metadata": {
    "collapsed": false,
    "pycharm": {
     "name": "#%% md\n"
    }
   }
  },
  {
   "cell_type": "code",
   "execution_count": null,
   "outputs": [],
   "source": [
    "number = 5\n",
    "print('Результат:', number)"
   ],
   "metadata": {
    "collapsed": false,
    "pycharm": {
     "name": "#%%\n"
    }
   }
  },
  {
   "cell_type": "markdown",
   "source": [
    "#### Интроспекция\n",
    "##### Если ввести вопросительный знак (?) до или после имени переменной, то будет напечатана общая информация об объекте."
   ],
   "metadata": {
    "collapsed": false,
    "pycharm": {
     "name": "#%% md\n"
    }
   }
  },
  {
   "cell_type": "code",
   "execution_count": null,
   "outputs": [],
   "source": [
    "number?"
   ],
   "metadata": {
    "collapsed": false,
    "pycharm": {
     "name": "#%%\n"
    }
   }
  },
  {
   "cell_type": "code",
   "execution_count": null,
   "outputs": [],
   "source": [
    "?print"
   ],
   "metadata": {
    "collapsed": false,
    "pycharm": {
     "name": "#%%\n"
    }
   }
  },
  {
   "cell_type": "markdown",
   "source": [
    "##### Это называется интроспекцией объекта. Если объект представляет собой функцию или метод экземпляра, то будет показана строка документации, если она существует. Допустим, мы написали функцию add_numbers. Тогда при вводе знака ? мы увидим строку документации (опять же если она существует). Два вопросительных знака ?? покажут также исходный код функции, если это возможно."
   ],
   "metadata": {
    "collapsed": false,
    "pycharm": {
     "name": "#%% md\n"
    }
   }
  },
  {
   "cell_type": "code",
   "execution_count": null,
   "outputs": [],
   "source": [
    "def add_numbers(a, b):\n",
    "    \"\"\"\n",
    "    Сложить два числа\n",
    "    Возвращает\n",
    "    ––––––––––\n",
    "    the_sum : тип аргументов\n",
    "    \"\"\"\n",
    "    return a + b\n",
    "add_numbers?"
   ],
   "metadata": {
    "collapsed": false,
    "pycharm": {
     "name": "#%%\n"
    }
   }
  },
  {
   "cell_type": "code",
   "execution_count": null,
   "outputs": [],
   "source": [
    "add_numbers??"
   ],
   "metadata": {
    "collapsed": false,
    "pycharm": {
     "name": "#%%\n"
    }
   }
  },
  {
   "cell_type": "markdown",
   "source": [
    "##### Команда %run позволяет выполнить любой файл как Python-программу в контексте текущего сеанса. Предположим, что в файле example.ipynb хранится переменная example_number"
   ],
   "metadata": {
    "collapsed": false,
    "pycharm": {
     "name": "#%% md\n"
    }
   }
  },
  {
   "cell_type": "code",
   "execution_count": null,
   "outputs": [],
   "source": [
    "%run example.ipynb\n",
    "print(example_number)"
   ],
   "metadata": {
    "collapsed": false,
    "pycharm": {
     "name": "#%%\n"
    }
   }
  },
  {
   "cell_type": "markdown",
   "source": [
    "##### Код в Python читается сверху вниз. Переменная в данном случае перезапишется и начиная с 3 строки имеет новое значение."
   ],
   "metadata": {
    "collapsed": false,
    "pycharm": {
     "name": "#%% md\n"
    }
   }
  },
  {
   "cell_type": "code",
   "execution_count": null,
   "outputs": [],
   "source": [
    "number = 5\n",
    "print('Результат:', number)\n",
    "number = 7\n",
    "print('Результат:', number)"
   ],
   "metadata": {
    "collapsed": false,
    "pycharm": {
     "name": "#%%\n"
    }
   }
  },
  {
   "cell_type": "markdown",
   "source": [
    "##### Хотя строки 6-7 введены корректно, ошибка в строке 5 останавливает весь оставшийся под ошибкой код."
   ],
   "metadata": {
    "collapsed": false,
    "pycharm": {
     "name": "#%% md\n"
    }
   }
  },
  {
   "cell_type": "code",
   "execution_count": null,
   "outputs": [],
   "source": [
    "number = 5\n",
    "print('Добавили переменную number')\n",
    "del number\n",
    "print('Удалили созданную переменную number')\n",
    "print('Результат:', number)\n",
    "number = 7\n",
    "print('Результат:', number)"
   ],
   "metadata": {
    "collapsed": false,
    "pycharm": {
     "name": "#%%\n"
    }
   }
  },
  {
   "cell_type": "markdown",
   "source": [
    "##### Необходимо, чтобы переменная была определена перед ее вызовом"
   ],
   "metadata": {
    "collapsed": false,
    "pycharm": {
     "name": "#%% md\n"
    }
   }
  },
  {
   "cell_type": "code",
   "execution_count": null,
   "outputs": [],
   "source": [
    "number = 5\n",
    "print('Результат:', number)\n",
    "del number\n",
    "number = 7\n",
    "print('Результат:', number)"
   ],
   "metadata": {
    "collapsed": false,
    "pycharm": {
     "name": "#%%\n"
    }
   }
  },
  {
   "cell_type": "markdown",
   "source": [
    "#### Всё является объектом\n",
    "##### Важная характеристика языка Python – последовательность его объектной модели. Все числа, строки, структуры данных, функции, классы, модули и т. д. в интерпретаторе заключены в «ящики», которые называются объектами Python. С каждым объектом ассоциирован тип (например, строка или функция) и внутренние данные. На практике это делает язык более гибким, потому что даже функции можно рассматривать как объекты.\n",
    "##### Python считается строго типизированным языком, т. е. у любого объекта есть конкретный тип (или класс), а неявные преобразования разрешены только в некоторых не вызывающих сомнений случаях, например: 4.5 + 5\n",
    "##### Знать тип объекта важно, и полезно также уметь писать функции, способные обрабатывать входные параметры различных типов. Проверить, является ли объект экземпляром определенного типа, позволяет функция isinstance. Также можно обратиться к функции type для определения типа объекта"
   ],
   "metadata": {
    "collapsed": false,
    "pycharm": {
     "name": "#%% md\n"
    }
   }
  },
  {
   "cell_type": "code",
   "execution_count": null,
   "outputs": [],
   "source": [
    "a = 5\n",
    "isinstance(a, int)"
   ],
   "metadata": {
    "collapsed": false,
    "pycharm": {
     "name": "#%%\n"
    }
   }
  },
  {
   "cell_type": "markdown",
   "source": [
    "##### Функция isinstance может также принимать кортеж типов. Тогда она проверяет, присутствует ли в кортеже тип переданного объекта:"
   ],
   "metadata": {
    "collapsed": false,
    "pycharm": {
     "name": "#%% md\n"
    }
   }
  },
  {
   "cell_type": "code",
   "execution_count": null,
   "outputs": [],
   "source": [
    "a = 5\n",
    "isinstance(a, (int, float))"
   ],
   "metadata": {
    "collapsed": false,
    "pycharm": {
     "name": "#%%\n"
    }
   }
  },
  {
   "cell_type": "markdown",
   "source": [
    "##### Определить тип определенного экземпляра позволяет функция type"
   ],
   "metadata": {
    "collapsed": false,
    "pycharm": {
     "name": "#%% md\n"
    }
   }
  },
  {
   "cell_type": "code",
   "execution_count": null,
   "outputs": [],
   "source": [
    "type(a)"
   ],
   "metadata": {
    "collapsed": false,
    "pycharm": {
     "name": "#%%\n"
    }
   }
  },
  {
   "cell_type": "markdown",
   "source": [
    " <head>\n",
    "  <meta charset=\"utf-8\">\n",
    " </head>\n",
    " <body>\n",
    " <table border=\"1\">\n",
    "  <caption>Типы данных</caption>\n",
    "  <table>\n",
    "   <tr><th width=\"100\">Обозначение</th><th>Описание</th><th width=\"180\">Примеры</th></tr>\n",
    "   <tr><td>int</td><td>Целые числа</td><td>8, -3, 0, 1124</td></tr>\n",
    "   <tr><td>float</td><td>Вещественные числа</td><td>8.5125, -3.0, 1124., 0.1</td></tr>\n",
    "   <tr><td>str</td><td>Строка — базовый тип представляющий из себя неизменяемую последовательность символов</td><td>\"Текст\", 'Текст True 2.5 < 3'</td></tr>\n",
    "   <tr><td>bool</td><td>Логический (булев) тип данных - примитивный тип данных в информатике, принимающий два возможных значения, иногда называемых истиной и ложью</td><td>Truе/False</td></tr>\n",
    "   <tr><td>list</td><td>Список - упорядоченные изменяемые коллекции объектов произвольных типов</td><td>['Иван', 25, True, 4.5]</td></tr>\n",
    "   <tr><td>dict</td><td>Словарь - неупорядоченные коллекции произвольных объектов с доступом по ключу</td><td>{'Имя': 'Иван', 'Возраст': 25}</td></tr>\n",
    "   <tr><td>tuple</td><td>Кортеж - неизменяемый список</td><td>(1, 2, 3)</td></tr>\n",
    "   <tr><td>set/frozenset</td><td>Множество - \"контейнер\", содержащий не повторяющиеся элементы в случайном порядке.set - изменяемое, frozenset - замороженное (неизменяемое) множество</td><td>{1, 2, 3}/({1, 2, 3})</td></tr>\n",
    "      <tr><td>NoneType</td><td>None – это тип значения null в Python. Если функция явно не возвращает никакого значения, то неявно она возвращает None.</td><td>None</td></tr>\n",
    "  </table>\n",
    " </body>"
   ],
   "metadata": {
    "collapsed": false,
    "pycharm": {
     "name": "#%% md\n"
    }
   }
  },
  {
   "cell_type": "code",
   "execution_count": null,
   "outputs": [],
   "source": [
    "integer_number = 5\n",
    "float_number = 4.5\n",
    "string_value = 'Текст'\n",
    "bolean_value = True\n",
    "some_list = ['Иван', 25, True, 4.5]\n",
    "some_dict = {'Имя' : 'Иван', 'Возраст' : 25}\n",
    "some_tuple = tuple([1, 2, 3, 3])\n",
    "some_set = set([1, 2, 3, 3])\n",
    "some_frozenset = frozenset([1, 2, 3, 3])\n",
    "none_type = None\n",
    "\n",
    "print('Тип данных переменной integer_number =', integer_number, ':', type(integer_number))\n",
    "print('Тип данных переменной float_number =', float_number, ':', type(float_number))\n",
    "print('Тип данных переменной string_value =', string_value, ':', type(string_value))\n",
    "print('Тип данных переменной bolean_value =', bolean_value, ':', type(bolean_value))\n",
    "print('Тип данных переменной some_list =', some_list, ':', type(some_list))\n",
    "print('Тип данных переменной some_dict =', some_dict, ':', type(some_dict))\n",
    "print('Тип данных переменной some_tuple =', some_tuple, ':', type(some_tuple))\n",
    "print('Тип данных переменной some_set =', some_set, ':', type(some_set))\n",
    "print('Тип данных переменной some_frozenset =', some_frozenset, ':', type(some_frozenset))\n",
    "print('Тип данных переменной none_type =', none_type, ':', type(none_type))"
   ],
   "metadata": {
    "collapsed": false,
    "pycharm": {
     "name": "#%%\n"
    }
   }
  },
  {
   "cell_type": "markdown",
   "source": [
    "#### Атрибуты и методы\n",
    "##### Объекты в Python обычно имеют атрибуты – другие объекты, хранящиеся «внутри» данного, и методы – ассоциированные с объектом функции, имеющие доступ к внутреннему состоянию объекта. Обращение к тем и другим синтаксически выглядит как obj.attribute_name:"
   ],
   "metadata": {
    "collapsed": false,
    "pycharm": {
     "name": "#%% md\n"
    }
   }
  },
  {
   "cell_type": "code",
   "execution_count": null,
   "outputs": [],
   "source": [
    "from numpy import random as r\n",
    "import numpy as np\n",
    "data1 = r.randint(0,11)\n",
    "data2 = np.random.randint(0,11)\n",
    "# data1 и data2 используют одинаковый метод вызова случайного числа в диапазоне от 0 до 10.\n",
    "print(data1, data2)\n",
    "a = [1, 3, 'qwe']\n",
    "a.append(2)\n",
    "# метод append добавляет заданное значение в конец листа a\n",
    "print(a)"
   ],
   "metadata": {
    "collapsed": false,
    "pycharm": {
     "name": "#%%\n"
    }
   }
  },
  {
   "cell_type": "markdown",
   "source": [
    "##### Стоит отметить, что есть типы данных, для которых осуществить бинарные операции с другими типами данных невозможно.\n",
    "##### Так например операции со строкой:"
   ],
   "metadata": {
    "collapsed": false,
    "pycharm": {
     "name": "#%% md\n"
    }
   }
  },
  {
   "cell_type": "code",
   "execution_count": null,
   "outputs": [],
   "source": [
    "print('asd' * 'asd')\n",
    "print('asd' + 5)\n",
    "print('asd' + True)"
   ],
   "metadata": {
    "collapsed": false,
    "pycharm": {
     "name": "#%%\n"
    }
   }
  },
  {
   "cell_type": "markdown",
   "source": [
    "##### Однако str можно умножить на int и сложить со str и даже провести операции сравнения str и str\n",
    "##### True и False эквивалентны 1 и 0, поэтому с bool бинарные операторы работают по аналогии с int"
   ],
   "metadata": {
    "collapsed": false,
    "pycharm": {
     "name": "#%% md\n"
    }
   }
  },
  {
   "cell_type": "code",
   "execution_count": null,
   "outputs": [],
   "source": [
    "num = 5; boleanTrue = True; word = 'Hi'\n",
    "print(num + boleanTrue)\n",
    "print(boleanTrue == 1)\n",
    "print(word * num)\n",
    "print('abc' < 'abd')\n",
    "#Сложение двух строк означает конкатенацию, при этом создается новая строка:\n",
    "print(str(num) + str(num))"
   ],
   "metadata": {
    "collapsed": false,
    "pycharm": {
     "name": "#%%\n"
    }
   }
  },
  {
   "cell_type": "markdown",
   "source": [
    "##### Вы уже поняли, что предложения в Python не обязаны завершаться точкой с запятой. Но ее можно использовать, чтобы отделить друг от друга предложения, находящиеся в одной строчке, как это сделано выше. Впрочем, писать несколько предложений в одной строчке не рекомендуется, потому что код из-за этого труднее читается."
   ],
   "metadata": {
    "collapsed": false,
    "pycharm": {
     "name": "#%% md\n"
    }
   }
  },
  {
   "cell_type": "markdown",
   "source": [
    "##### Вводя какие-то новые данные им автоматически присваивается соответсвующий тип.\n",
    "##### Так, например, данным в кавычках присваивается тип str, списку из элементов в заключенных в [] присваивается тип list\n",
    "##### В языке Python нет строгой типизации. Тип у данных можно изменить, если это возможно для конкретного типа. Так, типы str, bool, int и float являются также функциями, которые можно использовать для приведения значения к соответствующему типу"
   ],
   "metadata": {
    "collapsed": false,
    "pycharm": {
     "name": "#%% md\n"
    }
   }
  },
  {
   "cell_type": "code",
   "execution_count": null,
   "outputs": [],
   "source": [
    "digit = 4.54356876\n",
    "word = 'Результат: '\n",
    "print(word + str(digit))"
   ],
   "metadata": {
    "collapsed": false,
    "pycharm": {
     "name": "#%%\n"
    }
   }
  },
  {
   "cell_type": "code",
   "execution_count": null,
   "outputs": [],
   "source": [
    "number = 5\n",
    "str_num = '5'\n",
    "word = 'Результат: '\n",
    "print(word, number + int(str_num))\n",
    "print(word + str(number + int(str_num)))"
   ],
   "metadata": {
    "collapsed": false,
    "pycharm": {
     "name": "#%%\n"
    }
   }
  },
  {
   "cell_type": "markdown",
   "source": [
    "#### Изучите TypeError и исправьте ошибку"
   ],
   "metadata": {
    "collapsed": false,
    "pycharm": {
     "name": "#%% md\n"
    }
   }
  },
  {
   "cell_type": "code",
   "execution_count": null,
   "outputs": [],
   "source": [
    "num1 = input(\"Введите первое число: \")\n",
    "num2 = input(\"Введите второе число: \")\n",
    "print('Result:', num1 + num2)\n",
    "print('Result:', num1 - num2)\n",
    "print('Result:', num1 / num2)\n",
    "print('Result:', num1 * num2)"
   ],
   "metadata": {
    "collapsed": false,
    "pycharm": {
     "name": "#%%\n"
    }
   }
  },
  {
   "cell_type": "markdown",
   "source": [
    "Существуют операторы, которые выполняют сразу 2 действия, а именно осуществляют математическую операцию с переменной и присваивают ей полученное значение"
   ],
   "metadata": {
    "collapsed": false,
    "pycharm": {
     "name": "#%% md\n"
    }
   }
  },
  {
   "cell_type": "code",
   "execution_count": null,
   "outputs": [],
   "source": [
    "num1 = 10\n",
    "print (num1)\n",
    "num1 += 5 # num1 = num1 + 5\n",
    "print (num1)\n",
    "num1 -= 5 # num1 = num1 - 5\n",
    "print (num1)\n",
    "num1 *= 5 # num1 = num1 * 5\n",
    "print (num1)\n",
    "num1 /= 5 # num1 = num1 / 5\n",
    "print (num1)\n",
    "num1 %= 8  # num1 = num1 - 8 * (num1 // 8)\n",
    "# num1 %= 8 присваивает переменной num1 значение num1 % 8\n",
    "print (num1)"
   ],
   "metadata": {
    "collapsed": false,
    "pycharm": {
     "name": "#%%\n"
    }
   }
  }
 ],
 "metadata": {
  "kernelspec": {
   "display_name": "Python 3",
   "language": "python",
   "name": "python3"
  },
  "language_info": {
   "codemirror_mode": {
    "name": "ipython",
    "version": 2
   },
   "file_extension": ".py",
   "mimetype": "text/x-python",
   "name": "python",
   "nbconvert_exporter": "python",
   "pygments_lexer": "ipython2",
   "version": "2.7.6"
  }
 },
 "nbformat": 4,
 "nbformat_minor": 0
}