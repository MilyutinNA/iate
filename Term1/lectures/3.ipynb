{
 "cells": [
  {
   "cell_type": "markdown",
   "source": [
    "# Условные операторы. Использование if-elif-else, а также тернарный оператор"
   ],
   "metadata": {
    "collapsed": false,
    "pycharm": {
     "name": "#%% md\n"
    }
   }
  },
  {
   "cell_type": "markdown",
   "source": [
    "##### В Python имеется несколько ключевых слов для реализации условного выполнения, циклов и других стандартных конструкций потока управления, имеющихся в других языках.\n",
    "#### if, elif, else\n",
    "##### Предложение if – одно из самых хорошо известных предложений управления потоком выполнения. Оно вычисляет условие и, если получилось True, исполняет код в следующем далее блоке:\n",
    "##### Сначала записывается часть if с условным выражением, далее могут следовать одна или более необязательных частей elif, и, наконец, необязательная часть else, которая выполняется, если все остальные условия оказались равны False. Общая форма записи условной инструкции if выглядит следующим образом:\n",
    "```\n",
    "if test1:\n",
    "    state1\n",
    "elif test2:\n",
    "    state2\n",
    "else:\n",
    "    state3\n",
    "```\n",
    "где test1 и test 2 - проверка истинности (передают значение True или False)\n",
    "state1, state2 и state3 - блоки с действиями"
   ],
   "metadata": {
    "collapsed": false,
    "pycharm": {
     "name": "#%% md\n"
    }
   }
  },
  {
   "cell_type": "markdown",
   "source": [
    "#### Отступы вместо скобок\n",
    "##### В Python для структурирования кода используются пробелы (или знаки табуляции), а не фигурные скобки, как во многих других языках, например R, C++, Java и Perl.\n",
    "```\n",
    "for x in array:\n",
    "    if x < pivot:\n",
    "        less.append(x)\n",
    "    else:\n",
    "        greater.append(x)\n",
    "```\n",
    "##### Двоеточием обозначается начало блока кода с отступом, весь последующий код до конца блока должен быть набран с точно таким же отступом."
   ],
   "metadata": {
    "collapsed": false,
    "pycharm": {
     "name": "#%% md\n"
    }
   }
  },
  {
   "cell_type": "markdown",
   "source": [],
   "metadata": {
    "collapsed": false,
    "pycharm": {
     "name": "#%% md\n"
    }
   }
  },
  {
   "cell_type": "markdown",
   "source": [
    "### Проверка истинности в Python\n",
    "#### Существуют следующие способы проверки истинности, при которых результатом будет вывод логического значение True или False:\n",
    "1. Любое число, не равное 0, или непустой объект - истина (вспоминаем что True == 1)"
   ],
   "metadata": {
    "collapsed": false,
    "pycharm": {
     "name": "#%% md\n"
    }
   }
  },
  {
   "cell_type": "code",
   "execution_count": null,
   "outputs": [],
   "source": [
    "if 5:\n",
    "    print ('Истина')\n",
    "else:\n",
    "    print ('Ложь')"
   ],
   "metadata": {
    "collapsed": false,
    "pycharm": {
     "name": "#%%\n"
    }
   }
  },
  {
   "cell_type": "markdown",
   "source": [
    "2. Числа, равные 0, пустые объекты и значение None - ложь (False == 0)"
   ],
   "metadata": {
    "collapsed": false,
    "pycharm": {
     "name": "#%% md\n"
    }
   }
  },
  {
   "cell_type": "code",
   "execution_count": null,
   "outputs": [],
   "source": [
    "if 0:\n",
    "    print ('Ложь')\n",
    "else:\n",
    "    print ('Истина')\n",
    "\n",
    "if []:\n",
    "    print ('Ложь')\n",
    "else:\n",
    "    print ('Истина')\n",
    "\n",
    "if None:\n",
    "    print ('Ложь')\n",
    "else:\n",
    "    print ('Истина')\n"
   ],
   "metadata": {
    "collapsed": false,
    "pycharm": {
     "name": "#%%\n"
    }
   }
  },
  {
   "cell_type": "markdown",
   "source": [
    "3. Операции сравнения"
   ],
   "metadata": {
    "collapsed": false,
    "pycharm": {
     "name": "#%% md\n"
    }
   }
  },
  {
   "cell_type": "code",
   "execution_count": null,
   "outputs": [],
   "source": [
    "user_data = 5\n",
    "print('user_data =', user_data)\n",
    "print('user_data > 5? -',  user_data > 5)\n",
    "print('user_data >= 5? -',  user_data >= 5)\n",
    "print('user_data < 5? -',  user_data < 5)\n",
    "print('user_data <= 5? -',  user_data <= 5)\n",
    "print('user_data == 5? -',  user_data == 5)\n",
    "print('user_data != 5? -',  user_data != 5)"
   ],
   "metadata": {
    "collapsed": false,
    "pycharm": {
     "name": "#%%\n"
    }
   }
  },
  {
   "cell_type": "markdown",
   "source": [
    "4. Логические операторы and/or/not возвращают истинный или ложный объект-операнд"
   ],
   "metadata": {
    "collapsed": false,
    "pycharm": {
     "name": "#%% md\n"
    }
   }
  },
  {
   "cell_type": "markdown",
   "source": [
    "X and Y: Истина, если оба значения X и Y истинны"
   ],
   "metadata": {
    "collapsed": false,
    "pycharm": {
     "name": "#%% md\n"
    }
   }
  },
  {
   "cell_type": "code",
   "execution_count": null,
   "outputs": [],
   "source": [
    "print('True and True =', 5 == 5 and 5 > 4)\n",
    "print('True and False =', 5 == 5 and 5 < 4)\n",
    "print('False and False =', 5 == 4 and 5 < 4)"
   ],
   "metadata": {
    "collapsed": false,
    "pycharm": {
     "name": "#%%\n"
    }
   }
  },
  {
   "cell_type": "markdown",
   "source": [
    "X or Y: Истина, если хотя бы одно из значений X или Y истинно"
   ],
   "metadata": {
    "collapsed": false,
    "pycharm": {
     "name": "#%% md\n"
    }
   }
  },
  {
   "cell_type": "code",
   "execution_count": null,
   "outputs": [],
   "source": [
    "print('True or True =', 5 == 5 or 5 > 4)\n",
    "print('True or False =', 5 == 5 or 5 < 4)\n",
    "print('False or False =', 5 == 4 or 5 < 4)"
   ],
   "metadata": {
    "collapsed": false,
    "pycharm": {
     "name": "#%%\n"
    }
   }
  },
  {
   "cell_type": "markdown",
   "source": [
    "not X: Истина, если хотя бы одно из значений X или Y истинно"
   ],
   "metadata": {
    "collapsed": false,
    "pycharm": {
     "name": "#%% md\n"
    }
   }
  },
  {
   "cell_type": "code",
   "execution_count": null,
   "outputs": [],
   "source": [
    "a = 4\n",
    "print(not a == 5)"
   ],
   "metadata": {
    "collapsed": false,
    "pycharm": {
     "name": "#%%\n"
    }
   }
  },
  {
   "cell_type": "markdown",
   "source": [
    "5. Операторы is и is not очень часто употребляются, чтобы проверить, равна ли некоторая переменная None, потому что существует ровно один экземпляр None:"
   ],
   "metadata": {
    "collapsed": false,
    "pycharm": {
     "name": "#%% md\n"
    }
   }
  },
  {
   "cell_type": "code",
   "execution_count": null,
   "outputs": [],
   "source": [
    "a = None\n",
    "print(a is None, a is not None)"
   ],
   "metadata": {
    "collapsed": false,
    "pycharm": {
     "name": "#%%\n"
    }
   }
  },
  {
   "cell_type": "markdown",
   "source": [
    "##### Пример, в котором на вход приходит целое число. Результатом будет соответствующий условию текст, если число не равно 5. Во всех остальных случаях ничего выводиться не будет, так как для них не были указаны свои условия"
   ],
   "metadata": {
    "collapsed": false,
    "pycharm": {
     "name": "#%% md\n"
    }
   }
  },
  {
   "cell_type": "code",
   "execution_count": null,
   "outputs": [],
   "source": [
    "user_data = int(input(\"Введите число: \"))\n",
    "print(user_data != 5)\n",
    "if user_data != 5:\n",
    "    print(\"Число не равно 5\")"
   ],
   "metadata": {
    "collapsed": false,
    "pycharm": {
     "name": "#%%\n"
    }
   }
  },
  {
   "cell_type": "markdown",
   "source": [
    "##### Если какое-то условие равно True, последующие блоки elif и else даже не рассматриваются."
   ],
   "metadata": {
    "collapsed": false,
    "pycharm": {
     "name": "#%% md\n"
    }
   }
  },
  {
   "cell_type": "code",
   "execution_count": null,
   "outputs": [],
   "source": [
    "if True:\n",
    "    print(\"Истина\")\n",
    "else:\n",
    "    print(\"Ложь\")\n",
    "\n",
    "if 5 == 5:\n",
    "    print(\"Всегда выводится этот текст\")\n",
    "else:\n",
    "    print(\"Этот текст не будет выводиться\")"
   ],
   "metadata": {
    "collapsed": false,
    "pycharm": {
     "name": "#%%\n"
    }
   }
  },
  {
   "cell_type": "markdown",
   "source": [
    "##### И наоборот, блок с условием равным False не будет выводиться"
   ],
   "metadata": {
    "collapsed": false,
    "pycharm": {
     "name": "#%% md\n"
    }
   }
  },
  {
   "cell_type": "code",
   "execution_count": null,
   "outputs": [],
   "source": [
    "if False:\n",
    "    print(\"Ложь\")\n",
    "else:\n",
    "    print(\"Истина\")\n",
    "\n",
    "if 5 > 6:\n",
    "    print(\"Этот текст не будет выводиться\")\n",
    "else:\n",
    "    print(\"Всегда выводится этот текст\")"
   ],
   "metadata": {
    "collapsed": false,
    "pycharm": {
     "name": "#%%\n"
    }
   }
  },
  {
   "cell_type": "markdown",
   "source": [
    "##### Если задана конструкция, содержащая помимо if операторы elif и/или else, то проверки условий будут выполняться у каждого оператора сверху вниз до тех пор, пока в условии не будет передано True. Так, в следующем примере всегда будет выполняться только первый блок содержащий `print(\"Истина\")` независимо от того, какое значение передается переменной user_data"
   ],
   "metadata": {
    "collapsed": false,
    "pycharm": {
     "name": "#%% md\n"
    }
   }
  },
  {
   "cell_type": "code",
   "execution_count": null,
   "outputs": [],
   "source": [
    "user_data = 7\n",
    "if False:\n",
    "    print(\"Ложь\")\n",
    "elif user_data == 5:\n",
    "    print(\"Число равно 5\")\n",
    "elif user_data == 7:\n",
    "    print(\"Число равно 7\")\n",
    "else:\n",
    "    print(\"Истина\")"
   ],
   "metadata": {
    "collapsed": false,
    "pycharm": {
     "name": "#%%\n"
    }
   }
  },
  {
   "cell_type": "code",
   "execution_count": null,
   "outputs": [],
   "source": [
    "user_data = int(input(\"Введите число: \"))\n",
    "print(user_data != 5)\n",
    "if user_data != 5:\n",
    "    print(\"Число не равно 5\")\n",
    "else:\n",
    "    print(\"Число равно 5\")"
   ],
   "metadata": {
    "collapsed": false,
    "pycharm": {
     "name": "#%%\n"
    }
   }
  },
  {
   "cell_type": "markdown",
   "source": [
    "Написать проверку:\n",
    "* Число не равно 5:\n",
    "  - Вывод соответствующего текста\n",
    "  - Выполняем проверку:\n",
    "    - число больше 5 - вывод соответствующего текста\n",
    "    - число меньше 5 - вывод соответствующего текста\n",
    "* Число равно 5 - вывод соответствующего текста"
   ],
   "metadata": {
    "collapsed": false,
    "pycharm": {
     "name": "#%% md\n"
    }
   }
  },
  {
   "cell_type": "markdown",
   "source": [
    "#### Тернарный оператор\n",
    "##### Тернарное выражение в Python позволяет записать блок if–else, порождающий единственное значение, в виде однострочного выражения. Синтаксически это выглядит так:\n",
    "```\n",
    "value = true-expr if condition else false-expr\n",
    "```\n",
    "##### Здесь true-expr и false-expr могут быть произвольными выражениями Python."
   ],
   "metadata": {
    "collapsed": false,
    "pycharm": {
     "name": "#%% md\n"
    }
   }
  },
  {
   "cell_type": "code",
   "execution_count": null,
   "outputs": [],
   "source": [
    "data = input()\n",
    "\n",
    "number = 5 if data == 'Five' else 0\n",
    "\n",
    "print(number)\n",
    "\n"
   ],
   "metadata": {
    "collapsed": false,
    "pycharm": {
     "name": "#%%\n"
    }
   }
  },
  {
   "cell_type": "markdown",
   "source": [
    "##### Ниже представлен условный оператор эквивалентный тернарному оператору выше"
   ],
   "metadata": {
    "collapsed": false,
    "pycharm": {
     "name": "#%% md\n"
    }
   }
  },
  {
   "cell_type": "code",
   "execution_count": null,
   "outputs": [],
   "source": [
    "data = input()\n",
    "\n",
    "if data == 'Five':\n",
    "    number = 5\n",
    "else:\n",
    "    number = 0\n",
    "\n",
    "print(number)"
   ],
   "metadata": {
    "collapsed": false,
    "pycharm": {
     "name": "#%%\n"
    }
   }
  },
  {
   "cell_type": "markdown",
   "source": [
    "##### И хотя возникает искушение использовать тернарные выражения всегда, чтобы сократить длину программы, нужно понимать, что если подвыражения очень сложны, то таким образом вы приносите в жертву понятность кода."
   ],
   "metadata": {
    "collapsed": false,
    "pycharm": {
     "name": "#%% md\n"
    }
   }
  },
  {
   "cell_type": "code",
   "execution_count": 31,
   "outputs": [
    {
     "name": "stdout",
     "output_type": "stream",
     "text": [
      "True\n"
     ]
    }
   ],
   "source": [
    "a = 4\n",
    "print(not a == 5)"
   ],
   "metadata": {
    "collapsed": false,
    "pycharm": {
     "name": "#%%\n"
    }
   }
  },
  {
   "cell_type": "markdown",
   "source": [
    "5. Операторы is и is not очень часто употребляются, чтобы проверить, равна ли некоторая переменная None, потому что существует ровно один экземпляр None:"
   ],
   "metadata": {
    "collapsed": false,
    "pycharm": {
     "name": "#%% md\n"
    }
   }
  },
  {
   "cell_type": "code",
   "execution_count": 34,
   "outputs": [
    {
     "name": "stdout",
     "output_type": "stream",
     "text": [
      "True False\n"
     ]
    }
   ],
   "source": [
    "a = None\n",
    "print(a is None, a is not None)"
   ],
   "metadata": {
    "collapsed": false,
    "pycharm": {
     "name": "#%%\n"
    }
   }
  },
  {
   "cell_type": "markdown",
   "source": [
    "##### Пример, в котором на вход приходит целое число. Результатом будет соответствующий условию текст, если число не равно 5. Во всех остальных случаях ничего выводиться не будет, так как для них не были указаны свои условия"
   ],
   "metadata": {
    "collapsed": false,
    "pycharm": {
     "name": "#%% md\n"
    }
   }
  },
  {
   "cell_type": "code",
   "execution_count": null,
   "outputs": [],
   "source": [
    "user_data = int(input(\"Введите число: \"))\n",
    "print(user_data != 5)\n",
    "if user_data != 5:\n",
    "    print(\"Число не равно 5\")"
   ],
   "metadata": {
    "collapsed": false,
    "pycharm": {
     "name": "#%%\n"
    }
   }
  },
  {
   "cell_type": "markdown",
   "source": [
    "##### Если какое-то условие равно True, последующие блоки elif и else даже не рассматриваются."
   ],
   "metadata": {
    "collapsed": false,
    "pycharm": {
     "name": "#%% md\n"
    }
   }
  },
  {
   "cell_type": "code",
   "execution_count": null,
   "outputs": [],
   "source": [
    "if True:\n",
    "    print(\"Истина\")\n",
    "else:\n",
    "    print(\"Ложь\")\n",
    "\n",
    "if 5 == 5:\n",
    "    print(\"Всегда выводится этот текст\")\n",
    "else:\n",
    "    print(\"Этот текст не будет выводиться\")"
   ],
   "metadata": {
    "collapsed": false,
    "pycharm": {
     "name": "#%%\n"
    }
   }
  },
  {
   "cell_type": "markdown",
   "source": [
    "##### И наоборот, блок с условием равным False не будет выводиться"
   ],
   "metadata": {
    "collapsed": false,
    "pycharm": {
     "name": "#%% md\n"
    }
   }
  },
  {
   "cell_type": "code",
   "execution_count": null,
   "outputs": [],
   "source": [
    "if False:\n",
    "    print(\"Ложь\")\n",
    "else:\n",
    "    print(\"Истина\")\n",
    "\n",
    "if 5 > 6:\n",
    "    print(\"Этот текст не будет выводиться\")\n",
    "else:\n",
    "    print(\"Всегда выводится этот текст\")"
   ],
   "metadata": {
    "collapsed": false,
    "pycharm": {
     "name": "#%%\n"
    }
   }
  },
  {
   "cell_type": "markdown",
   "source": [
    "##### Если задана конструкция, содержащая помимо if операторы elif и/или else, то проверки условий будут выполняться у каждого оператора сверху вниз до тех пор, пока в условии не будет передано True. Так, в следующем примере всегда будет выполняться только первый блок содержащий `print(\"Истина\")` независимо от того, какое значение передается переменной user_data"
   ],
   "metadata": {
    "collapsed": false,
    "pycharm": {
     "name": "#%% md\n"
    }
   }
  },
  {
   "cell_type": "code",
   "execution_count": null,
   "outputs": [],
   "source": [
    "user_data = 7\n",
    "if False:\n",
    "    print(\"Ложь\")\n",
    "elif user_data == 5:\n",
    "    print(\"Число равно 5\")\n",
    "elif user_data == 7:\n",
    "    print(\"Число равно 7\")\n",
    "else:\n",
    "    print(\"Истина\")"
   ],
   "metadata": {
    "collapsed": false,
    "pycharm": {
     "name": "#%%\n"
    }
   }
  },
  {
   "cell_type": "code",
   "execution_count": null,
   "outputs": [],
   "source": [
    "user_data = int(input(\"Введите число: \"))\n",
    "print(user_data != 5)\n",
    "if user_data != 5:\n",
    "    print(\"Число не равно 5\")\n",
    "else:\n",
    "    print(\"Число равно 5\")"
   ],
   "metadata": {
    "collapsed": false,
    "pycharm": {
     "name": "#%%\n"
    }
   }
  },
  {
   "cell_type": "markdown",
   "source": [
    "Написать проверку:\n",
    "* Число не равно 5:\n",
    "  - Вывод соответствующего текста\n",
    "  - Выполняем проверку:\n",
    "    - число больше 5 - вывод соответствующего текста\n",
    "    - число меньше 5 - вывод соответствующего текста\n",
    "* Число равно 5 - вывод соответствующего текста"
   ],
   "metadata": {
    "collapsed": false,
    "pycharm": {
     "name": "#%% md\n"
    }
   }
  },
  {
   "cell_type": "markdown",
   "source": [
    "#### Тернарный оператор\n",
    "##### Тернарное выражение в Python позволяет записать блок if–else, порождающий единственное значение, в виде однострочного выражения. Синтаксически это выглядит так:\n",
    "```\n",
    "value = true-expr if condition else false-expr\n",
    "```\n",
    "##### Здесь true-expr и false-expr могут быть произвольными выражениями Python."
   ],
   "metadata": {
    "collapsed": false,
    "pycharm": {
     "name": "#%% md\n"
    }
   }
  },
  {
   "cell_type": "code",
   "execution_count": null,
   "outputs": [],
   "source": [
    "data = input()\n",
    "\n",
    "number = 5 if data == 'Five' else 0\n",
    "\n",
    "print(number)\n",
    "\n"
   ],
   "metadata": {
    "collapsed": false,
    "pycharm": {
     "name": "#%%\n"
    }
   }
  },
  {
   "cell_type": "markdown",
   "source": [
    "##### Ниже представлен условный оператор эквивалентный тернарному оператору выше"
   ],
   "metadata": {
    "collapsed": false,
    "pycharm": {
     "name": "#%% md\n"
    }
   }
  },
  {
   "cell_type": "code",
   "execution_count": null,
   "outputs": [],
   "source": [
    "data = input()\n",
    "\n",
    "if data == 'Five':\n",
    "    number = 5\n",
    "else:\n",
    "    number = 0\n",
    "\n",
    "print(number)"
   ],
   "metadata": {
    "collapsed": false,
    "pycharm": {
     "name": "#%%\n"
    }
   }
  },
  {
   "cell_type": "markdown",
   "source": [
    "##### И хотя возникает искушение использовать тернарные выражения всегда, чтобы сократить длину программы, нужно понимать, что если подвыражения очень сложны, то таким образом вы приносите в жертву понятность кода."
   ],
   "metadata": {
    "collapsed": false,
    "pycharm": {
     "name": "#%% md\n"
    }
   }
  }
 ],
 "metadata": {
  "kernelspec": {
   "display_name": "Python 3",
   "language": "python",
   "name": "python3"
  },
  "language_info": {
   "codemirror_mode": {
    "name": "ipython",
    "version": 2
   },
   "file_extension": ".py",
   "mimetype": "text/x-python",
   "name": "python",
   "nbconvert_exporter": "python",
   "pygments_lexer": "ipython2",
   "version": "2.7.6"
  }
 },
 "nbformat": 4,
 "nbformat_minor": 0
}