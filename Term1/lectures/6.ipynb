{
 "cells": [
  {
   "cell_type": "markdown",
   "source": [
    "# Срезы"
   ],
   "metadata": {
    "collapsed": false,
    "pycharm": {
     "name": "#%% md\n"
    }
   }
  },
  {
   "cell_type": "markdown",
   "source": [
    "##### Из большинства последовательностей можно вырезать участки с помощью нотации, которая в простейшей форме сводится к передаче пары start:stop оператору доступа по индексу []:"
   ],
   "metadata": {
    "collapsed": false,
    "pycharm": {
     "name": "#%% md\n"
    }
   }
  },
  {
   "cell_type": "code",
   "execution_count": 21,
   "outputs": [
    {
     "data": {
      "text/plain": "[2, 3, 7, 5]"
     },
     "execution_count": 21,
     "metadata": {},
     "output_type": "execute_result"
    }
   ],
   "source": [
    "seq = [7, 2, 3, 7, 5, 6, 0, 1]\n",
    "seq[1:5]"
   ],
   "metadata": {
    "collapsed": false,
    "pycharm": {
     "name": "#%%\n"
    }
   }
  },
  {
   "cell_type": "code",
   "execution_count": 20,
   "outputs": [
    {
     "data": {
      "text/plain": "(2, 6)"
     },
     "execution_count": 20,
     "metadata": {},
     "output_type": "execute_result"
    }
   ],
   "source": [
    "tp = 1, 2, 6, 7, 2, 7\n",
    "tp[1:3]"
   ],
   "metadata": {
    "collapsed": false,
    "pycharm": {
     "name": "#%%\n"
    }
   }
  },
  {
   "cell_type": "markdown",
   "source": [
    "##### Строки также можно разбивать на срезы:"
   ],
   "metadata": {
    "collapsed": false,
    "pycharm": {
     "name": "#%% md\n"
    }
   }
  },
  {
   "cell_type": "code",
   "execution_count": null,
   "outputs": [],
   "source": [
    "word = 'Hello'\n",
    "word[1:3]"
   ],
   "metadata": {
    "collapsed": false,
    "pycharm": {
     "name": "#%%\n"
    }
   }
  },
  {
   "cell_type": "markdown",
   "source": [
    "##### Элемент с индексом start включается в срез, элемент с индексом stop не включается, поэтому количество элементов в результате равно stop – start. Любой член пары, как start, так и stop, можно опустить, тогда по умолчанию подразумевается начало и конец последовательности соответственно. Если индекс в срезе отрицателен, то он отсчитывается от конца последовательности."
   ],
   "metadata": {
    "collapsed": false,
    "pycharm": {
     "name": "#%% md\n"
    }
   }
  },
  {
   "cell_type": "code",
   "execution_count": 139,
   "outputs": [
    {
     "name": "stdout",
     "output_type": "stream",
     "text": [
      "[1, 2, 3, 4, 5]\n",
      "[4, 5, 6, 7, 8, 9]\n",
      "[6, 7, 8, 9]\n",
      "[4, 5, 6, 7]\n"
     ]
    }
   ],
   "source": [
    "seq = [1, 2, 3, 4, 5, 6, 7, 8, 9]\n",
    "print(seq[:5])\n",
    "print(seq[3:])\n",
    "print(seq[-4:])\n",
    "print(seq[-6:-2])"
   ],
   "metadata": {
    "collapsed": false,
    "pycharm": {
     "name": "#%%\n"
    }
   }
  },
  {
   "cell_type": "markdown",
   "source": [
    "![Срез](https://lh3.googleusercontent.com/jWUtwmKE8Ks2ifYRkR0cM6jthjTglMlt4gbkYysUX9jx-Y_rkr5jgrw1IErE0_DyKtmkDbQ1v5ZD0uCKBgTG-zT6Vf2SfoJrRDhkB7SafmaEWviWndYDNJvtEeza2zGievnHUK638NqtLPbS0Sb1omQAdoK1XcX2ZLZdfmFNEDCP0Y-510SF_rqB-MI4CkqOJNGp8fSJQceJnoQ8eVb-99jNDelhScQb2ubbBJ4CXM_BKezOCaELDQ3RixiTy8ploUd8LY38xLJAiuVCWOpD9iwkFwMUt-CddVe5syI-wtF1pyXKqTnMihcGoyOZYhfoWPlGn_iTF1lW9V8zTYdnN9wINIrMkPXVtp8BF-_uB4xxXXEaqLCjpAgHTQgjl8TZGQQmfUOkvIDPYcw9qGiggLjmwsFhfLzHAxBK2xhWacG5DlWnAtvAVbY6aPu-9gH4FFzVD_sFwLRyx660CbrWOOT0lFWhZb56W_Tc0DdR5V_ATGliH7rD61856An3SK8lC5k_F-DfkYnwP7OEWFYpkBPJexfZDm8Xnf08llkgqRD4MQwVeesfxb1dmEJ12qkUzsnLEOgaJCNixvAAui_v7QXQQUVTgCNb2LGHQqjFnFFByioaY3aGgpnPx76tRO_V1Ge5vEwtbduwoyanKmWwYVbBQgQa0Ybz7bsBqFkMcywpEQmgZS-1bMFPLHtsSUbb8w5Pmw2e3fCb6Y6iL0Pfu0BYYAX1Y3udd-_xNE0sTOLXQ9yTQil-7rQnrn1jzD9SGf9qwxbroLYPyCDC7619Q7H6enkijygvc7ctA1xwql0wmlJNlXOk5KS1J8NZpX9fmCyGN7zwZtsFqPCu3nP4sQIGnJ__acb9brLDs143jDHK2z0yftQ4R98vLqgWtcH42zR0Bkno_9udLa73iQBo_xEvjY4Q4okF5pEPZA=w702-h315-no?authuser=0)\n",
    "##### На рисунке показано, как происходит вырезание при положительном и отрицательном индексах. В левом верхнем углу каждой ячейки проставлены индексы, чтобы было проще понять, где начинается и заканчивается срез при положительных и отрицательных индексах. Допускается и вторая запятая, после которой можно указать шаг, например взять каждый второй элемент:"
   ],
   "metadata": {
    "collapsed": false,
    "pycharm": {
     "name": "#%% md\n"
    }
   }
  },
  {
   "cell_type": "code",
   "execution_count": 140,
   "outputs": [
    {
     "name": "stdout",
     "output_type": "stream",
     "text": [
      "[1, 3, 5, 7, 9]\n",
      "[9, 8, 7, 6, 5, 4, 3, 2, 1]\n"
     ]
    }
   ],
   "source": [
    "seq = [1, 2, 3, 4, 5, 6, 7, 8, 9]\n",
    "print(seq[::2])\n",
    "#Если задать шаг –1, то список или кортеж будут инвертированы:\n",
    "print(seq[::-1])"
   ],
   "metadata": {
    "collapsed": false,
    "pycharm": {
     "name": "#%%\n"
    }
   }
  },
  {
   "cell_type": "markdown",
   "source": [
    "##### Срезу также можно присваивать последовательность:"
   ],
   "metadata": {
    "collapsed": false,
    "pycharm": {
     "name": "#%% md\n"
    }
   }
  },
  {
   "cell_type": "code",
   "execution_count": 134,
   "outputs": [
    {
     "data": {
      "text/plain": "[0, 0, 0, 6, 3, 0, 0, 0]"
     },
     "execution_count": 134,
     "metadata": {},
     "output_type": "execute_result"
    }
   ],
   "source": [
    "seq = [0, 0, 0, 0, 0, 0, 0]\n",
    "seq[3:4] = [6, 3]\n",
    "seq"
   ],
   "metadata": {
    "collapsed": false,
    "pycharm": {
     "name": "#%%\n"
    }
   }
  },
  {
   "cell_type": "markdown",
   "source": [
    "##### Большинство операций, представленных выше, можно использовать для работы со строками. В случае кортежей можно только найти срез, но не вставить его в кортеж"
   ],
   "metadata": {
    "collapsed": false,
    "pycharm": {
     "name": "#%% md\n"
    }
   }
  },
  {
   "cell_type": "code",
   "execution_count": 6,
   "outputs": [
    {
     "name": "stdout",
     "output_type": "stream",
     "text": [
      "(0, 2, 4, 6)\n"
     ]
    }
   ],
   "source": [
    "seq = 0, 1, 2, 3, 4, 5, 6\n",
    "print(seq[::2])"
   ],
   "metadata": {
    "collapsed": false,
    "pycharm": {
     "name": "#%%\n"
    }
   }
  }
 ],
 "metadata": {
  "kernelspec": {
   "display_name": "Python 3",
   "language": "python",
   "name": "python3"
  },
  "language_info": {
   "codemirror_mode": {
    "name": "ipython",
    "version": 2
   },
   "file_extension": ".py",
   "mimetype": "text/x-python",
   "name": "python",
   "nbconvert_exporter": "python",
   "pygments_lexer": "ipython2",
   "version": "2.7.6"
  }
 },
 "nbformat": 4,
 "nbformat_minor": 0
}