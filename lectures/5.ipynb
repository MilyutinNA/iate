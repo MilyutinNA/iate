{
 "cells": [
  {
   "cell_type": "markdown",
   "source": [
    "# Списки (list). Функции и их методы"
   ],
   "metadata": {
    "collapsed": false,
    "pycharm": {
     "name": "#%% md\n"
    }
   }
  },
  {
   "cell_type": "markdown",
   "source": [
    "##### Создание пустого списка"
   ],
   "metadata": {
    "collapsed": false,
    "pycharm": {
     "name": "#%% md\n"
    }
   }
  },
  {
   "cell_type": "code",
   "execution_count": 1,
   "outputs": [
    {
     "name": "stdout",
     "output_type": "stream",
     "text": [
      "[]\n",
      "[1, 2, 3, 4, 5]\n",
      "[5, 7, 2, 4, 7, True, 'Hello', 6.7, [1, 3], (2, 2), {'a': 1, 'b': 5}]\n",
      "<class 'list'>\n"
     ]
    }
   ],
   "source": [
    "nums = []\n",
    "l1 = [1, 2, 3, 4, 5]\n",
    "l2 = [5, 7, 2, 4, 7, True, 'Hello', 6.7, [1, 3], (2, 2), {'a' : 1, 'b' :5}]\n",
    "print(nums, l1, l2, sep='\\n')\n",
    "print(type(nums))"
   ],
   "metadata": {
    "collapsed": false,
    "pycharm": {
     "name": "#%%\n"
    }
   }
  },
  {
   "cell_type": "markdown",
   "source": [
    "##### Чтобы изменить значение элемента с определенным индексом в списке, достаточно сослаться на его индекс и указать новое значение"
   ],
   "metadata": {
    "collapsed": false,
    "pycharm": {
     "name": "#%% md\n"
    }
   }
  },
  {
   "cell_type": "code",
   "execution_count": 2,
   "outputs": [
    {
     "name": "stdout",
     "output_type": "stream",
     "text": [
      "[1, 2, 3, 4, 5]\n",
      "[50, 2, 3, 4, True]\n",
      "True\n",
      "[50, 2, 3, 4, [5, 7]]\n",
      "[5, 7]\n",
      "7\n"
     ]
    }
   ],
   "source": [
    "nums = [1, 2, 3, 4, 5]\n",
    "print(nums)\n",
    "nums[0] = 50\n",
    "nums[4] = True\n",
    "print(nums)\n",
    "print(nums[4])\n",
    "nums[-1] = [5, 7]\n",
    "print(nums)\n",
    "print(nums[-1])\n",
    "print(nums[-1][1])"
   ],
   "metadata": {
    "collapsed": false,
    "pycharm": {
     "name": "#%%\n"
    }
   }
  },
  {
   "cell_type": "markdown",
   "source": [
    "#### Методы списков:\n",
    "1. append(x) - добавление элемента x в конец списка"
   ],
   "metadata": {
    "collapsed": false,
    "pycharm": {
     "name": "#%% md\n"
    }
   }
  },
  {
   "cell_type": "code",
   "execution_count": 3,
   "outputs": [
    {
     "name": "stdout",
     "output_type": "stream",
     "text": [
      "append(100): [1, 2, 3] ---> [1, 2, 3, 100]\n"
     ]
    }
   ],
   "source": [
    "nums = [1, 2, 3]; copy_nums = nums.copy()\n",
    "nums.append(100)\n",
    "print('append(100):', copy_nums,'--->',nums)"
   ],
   "metadata": {
    "collapsed": false,
    "pycharm": {
     "name": "#%%\n"
    }
   }
  },
  {
   "cell_type": "markdown",
   "source": [
    "2. insert(i, x) - добавление элемента x на место i в списке (элементы с индексом >= i смещаются вправо на единицу)"
   ],
   "metadata": {
    "collapsed": false,
    "pycharm": {
     "name": "#%% md\n"
    }
   }
  },
  {
   "cell_type": "code",
   "execution_count": 4,
   "outputs": [
    {
     "name": "stdout",
     "output_type": "stream",
     "text": [
      "insert(1, True): [1, 2, 3] ---> [1, True, 2, 3]\n",
      "insert(100, False): [1, True, 2, 3] ---> [1, True, 2, 3, False]\n",
      "insert(0, [8, 9]): [1, True, 2, 3, False] ---> [[8, 9], 1, True, 2, 3, False]\n"
     ]
    }
   ],
   "source": [
    "nums = [1, 2, 3]; copy_nums = nums.copy()\n",
    "nums.insert(1, True)\n",
    "print('insert(1, True):', copy_nums,'--->',nums)\n",
    "copy_nums = nums.copy()\n",
    "nums.insert(100, False)\n",
    "print('insert(100, False):', copy_nums,'--->',nums)\n",
    "copy_nums = nums.copy()\n",
    "nums.insert(0, [8, 9])\n",
    "print('insert(0, [8, 9]):', copy_nums,'--->',nums)"
   ],
   "metadata": {
    "collapsed": false,
    "pycharm": {
     "name": "#%%\n"
    }
   }
  },
  {
   "cell_type": "markdown",
   "source": [
    "3. extend([a, b, c]) - добавить в конец списка несколько элементов"
   ],
   "metadata": {
    "collapsed": false,
    "pycharm": {
     "name": "#%% md\n"
    }
   }
  },
  {
   "cell_type": "code",
   "execution_count": 5,
   "outputs": [
    {
     "name": "stdout",
     "output_type": "stream",
     "text": [
      "extend([8, 8, 8]): [1, 2, 3] ---> [1, 2, 3, 8, 8, 8]\n"
     ]
    }
   ],
   "source": [
    "nums = [1, 2, 3]; copy_nums = nums.copy()\n",
    "nums.extend([8, 8, 8])\n",
    "print('extend([8, 8, 8]):', copy_nums,'--->',nums)"
   ],
   "metadata": {
    "collapsed": false,
    "pycharm": {
     "name": "#%%\n"
    }
   }
  },
  {
   "cell_type": "markdown",
   "source": [
    "##### Вместо функции extend можно складывать списки, однако конкатенация – сравнительно дорогая операция, потому что нужно создать новый список и скопировать в него все объекты. Обычно предпочтительнее использовать extend для добавления элементов в имеющийся список, особенно если строится длинный перечень. Таким образом:"
   ],
   "metadata": {
    "collapsed": false,
    "pycharm": {
     "name": "#%% md\n"
    }
   }
  },
  {
   "cell_type": "code",
   "execution_count": 6,
   "outputs": [
    {
     "name": "stdout",
     "output_type": "stream",
     "text": [
      "[1, 2, 3, 4, 5, 6]\n",
      "[1, 2, 3, 4, 5, 6]\n"
     ]
    }
   ],
   "source": [
    "everything = []\n",
    "list_of_lists = [[1, 2, 3], [4, 5, 6]]\n",
    "for i in list_of_lists:\n",
    "    everything.extend(i)\n",
    "print(everything)\n",
    "\n",
    "#быстрее, чем эквивалентная конкатенация:\n",
    "\n",
    "everything = []\n",
    "for i in list_of_lists:\n",
    "    everything = everything + i\n",
    "print(everything)"
   ],
   "metadata": {
    "collapsed": false,
    "pycharm": {
     "name": "#%%\n"
    }
   }
  },
  {
   "cell_type": "markdown",
   "source": [
    "4. sort() - сортирование элементов в порядке возрастания"
   ],
   "metadata": {
    "collapsed": false,
    "pycharm": {
     "name": "#%% md\n"
    }
   }
  },
  {
   "cell_type": "code",
   "execution_count": 7,
   "outputs": [
    {
     "name": "stdout",
     "output_type": "stream",
     "text": [
      "sort(): [5, 4, True, 8, -1, False, 0.5] ---> [-1, False, 0.5, True, 4, 5, 8]\n"
     ]
    }
   ],
   "source": [
    "nums = [5, 4, True, 8, -1, False, 0.5]; copy_nums = nums.copy()\n",
    "nums.sort()\n",
    "print('sort():', copy_nums,'--->',nums)"
   ],
   "metadata": {
    "collapsed": false,
    "pycharm": {
     "name": "#%%\n"
    }
   }
  },
  {
   "cell_type": "markdown",
   "source": [
    "##### У метода sort есть несколько удобных возможностей. Одна из них – возможность передать ключ сортировки, т. е. функцию, порождающую значение, по которому должны сортироваться объекты. Например, вот как можно отсортировать коллекцию строк по длине:"
   ],
   "metadata": {
    "collapsed": false,
    "pycharm": {
     "name": "#%% md\n"
    }
   }
  },
  {
   "cell_type": "code",
   "execution_count": 8,
   "outputs": [
    {
     "data": {
      "text/plain": "['He', 'saw', 'six', 'small', 'foxes']"
     },
     "execution_count": 8,
     "metadata": {},
     "output_type": "execute_result"
    }
   ],
   "source": [
    "b = ['saw', 'small', 'He', 'foxes', 'six']\n",
    "b.sort(key=len)\n",
    "b"
   ],
   "metadata": {
    "collapsed": false,
    "pycharm": {
     "name": "#%%\n"
    }
   }
  },
  {
   "cell_type": "markdown",
   "source": [
    "5. reverse() - переворачивание списка"
   ],
   "metadata": {
    "collapsed": false,
    "pycharm": {
     "name": "#%% md\n"
    }
   }
  },
  {
   "cell_type": "code",
   "execution_count": 9,
   "outputs": [
    {
     "name": "stdout",
     "output_type": "stream",
     "text": [
      "reverse(): [1, 2, 3] ---> [3, 2, 1]\n"
     ]
    }
   ],
   "source": [
    "nums = [1, 2, 3]; copy_nums = nums.copy()\n",
    "nums.reverse()\n",
    "print('reverse():', copy_nums,'--->',nums)"
   ],
   "metadata": {
    "collapsed": false,
    "pycharm": {
     "name": "#%%\n"
    }
   }
  },
  {
   "cell_type": "markdown",
   "source": [
    "5. pop() - если () удаление последнего элемента в списке, если (i) - удаление элемента с индексом i"
   ],
   "metadata": {
    "collapsed": false,
    "pycharm": {
     "name": "#%% md\n"
    }
   }
  },
  {
   "cell_type": "code",
   "execution_count": 10,
   "outputs": [
    {
     "name": "stdout",
     "output_type": "stream",
     "text": [
      "pop(): [1, 2, 3, 4, 5, 6] ---> [1, 2, 3, 4, 5]\n",
      "pop(0): [1, 2, 3, 4, 5] ---> [2, 3, 4, 5]\n",
      "pop(-2): [2, 3, 4, 5] ---> [2, 3, 5]\n"
     ]
    }
   ],
   "source": [
    "nums = [1, 2, 3, 4, 5, 6]; copy_nums = nums.copy()\n",
    "nums.pop()\n",
    "print('pop():', copy_nums,'--->',nums)\n",
    "copy_nums = nums.copy()\n",
    "nums.pop(0)\n",
    "print('pop(0):', copy_nums,'--->',nums)\n",
    "copy_nums = nums.copy()\n",
    "nums.pop(-2)\n",
    "print('pop(-2):', copy_nums,'--->',nums)"
   ],
   "metadata": {
    "collapsed": false,
    "pycharm": {
     "name": "#%%\n"
    }
   }
  },
  {
   "cell_type": "markdown",
   "source": [
    "6. remove(x) - находит и удаляет из списка первый элемент с указанным значением x. Если такого элемента нет - появится ошибка."
   ],
   "metadata": {
    "collapsed": false,
    "pycharm": {
     "name": "#%% md\n"
    }
   }
  },
  {
   "cell_type": "code",
   "execution_count": 11,
   "outputs": [
    {
     "name": "stdout",
     "output_type": "stream",
     "text": [
      "remove(2): [1, 2, 3, 2] ---> [1, 3, 2]\n"
     ]
    }
   ],
   "source": [
    "nums = [1, 2, 3, 2]; copy_nums = nums.copy()\n",
    "nums.remove(2)\n",
    "print('remove(2):', copy_nums,'--->',nums)"
   ],
   "metadata": {
    "collapsed": false,
    "pycharm": {
     "name": "#%%\n"
    }
   }
  },
  {
   "cell_type": "code",
   "execution_count": 12,
   "outputs": [
    {
     "name": "stdout",
     "output_type": "stream",
     "text": [
      "Числа 10 не было в списке nums. Появилась ошибка:\n",
      "ValueError: list.remove(x): x not in list\n"
     ]
    }
   ],
   "source": [
    "nums = [1, 2, 3]; copy_nums = nums.copy()\n",
    "try:\n",
    "    x = 10\n",
    "    nums.remove(x)\n",
    "    print('Число',x, 'был в списке nums и мы его удалили')\n",
    "except ValueError:\n",
    "    print('Числа',x, 'не было в списке nums. Появилась ошибка:\\nValueError: list.remove(x): x not in list')"
   ],
   "metadata": {
    "collapsed": false,
    "pycharm": {
     "name": "#%%\n"
    }
   }
  },
  {
   "cell_type": "markdown",
   "source": [
    "6. clear() - полностью очистить весь список"
   ],
   "metadata": {
    "collapsed": false,
    "pycharm": {
     "name": "#%% md\n"
    }
   }
  },
  {
   "cell_type": "code",
   "execution_count": 13,
   "outputs": [
    {
     "name": "stdout",
     "output_type": "stream",
     "text": [
      "clear(): [1, 2, 3] ---> []\n"
     ]
    }
   ],
   "source": [
    "nums = [1, 2, 3]; copy_nums = nums.copy()\n",
    "nums.clear()\n",
    "print('clear():', copy_nums,'--->',nums)"
   ],
   "metadata": {
    "collapsed": false,
    "pycharm": {
     "name": "#%%\n"
    }
   }
  },
  {
   "cell_type": "markdown",
   "source": [
    "7. count(x) - поиск элементов совпадающих по значению x. Функция count(x) применима также и для строк."
   ],
   "metadata": {
    "collapsed": false,
    "pycharm": {
     "name": "#%% md\n"
    }
   }
  },
  {
   "cell_type": "code",
   "execution_count": 14,
   "outputs": [
    {
     "name": "stdout",
     "output_type": "stream",
     "text": [
      "3 1 4\n",
      "1 0\n"
     ]
    }
   ],
   "source": [
    "nums = [1, 1, 1, 2, 3, 3, 3, 3]\n",
    "word = 'Hello'\n",
    "print(nums.count(1), nums.count(2), nums.count(3))\n",
    "print(word.count('e'), word.count('w'))"
   ],
   "metadata": {
    "collapsed": false,
    "pycharm": {
     "name": "#%%\n"
    }
   }
  },
  {
   "cell_type": "markdown",
   "source": [
    "#### Методы кортежа\n",
    "##### Большинство операций, представленных выше, можно использовать для работы со строками. В случае кортежей, поскольку ни размер, ни содержимое кортежа нельзя модифицировать, методов экземпляра у него совсем немного. Пожалуй, наиболее полезен метод count (имеется также у списков), возвращающий количество вхождений значения"
   ],
   "metadata": {
    "collapsed": false,
    "pycharm": {
     "name": "#%% md\n"
    }
   }
  },
  {
   "cell_type": "markdown",
   "source": [
    "#### Функции последовательностей:\n",
    "##### У последовательностей в Python есть несколько полезных функций, которые следует знать. Методы, в отличие от функций, применимы к определенному типу (многие методы списков не получится применить к строкам, кортежам и прочим последовательностям)."
   ],
   "metadata": {
    "collapsed": false,
    "pycharm": {
     "name": "#%% md\n"
    }
   }
  },
  {
   "cell_type": "markdown",
   "source": [
    "1) Аналогом метода sort() является функция sorted(x), где x - объект сортировки. Данная функция, в отличие от метода sort преобразует последовательность в строку (list) и дальше сортирует элементы этой последовательности."
   ],
   "metadata": {
    "collapsed": false,
    "pycharm": {
     "name": "#%% md\n"
    }
   }
  },
  {
   "cell_type": "code",
   "execution_count": 15,
   "outputs": [
    {
     "name": "stdout",
     "output_type": "stream",
     "text": [
      "[' ', 'A', 'B', 'B', 'E', 'H', 'J', 'J', 'Q', 'R', 'S', 'W', 'W']\n",
      "[1, 2, 3, 8]\n",
      "[1, 2, 3, 8]\n"
     ]
    }
   ],
   "source": [
    "word = 'QWJBR ASBWHJE'\n",
    "t = (8, 3, 1, 2)\n",
    "d = {8: 'asd', 3: 'qw', 1: 'aazsd', 2: 'gaa'}\n",
    "print(sorted(word))\n",
    "print(sorted(t))\n",
    "print(sorted(d))"
   ],
   "metadata": {
    "collapsed": false,
    "pycharm": {
     "name": "#%%\n"
    }
   }
  },
  {
   "cell_type": "markdown",
   "source": [
    "2. len(x) выводит число элементов в последовательности x. Функция len(x) применима не только для списков"
   ],
   "metadata": {
    "collapsed": false,
    "pycharm": {
     "name": "#%% md\n"
    }
   }
  },
  {
   "cell_type": "code",
   "execution_count": 16,
   "outputs": [
    {
     "name": "stdout",
     "output_type": "stream",
     "text": [
      "4\n",
      "4\n",
      "6\n",
      "2\n",
      "5\n"
     ]
    }
   ],
   "source": [
    "l = [1, 2, 4, 8]\n",
    "t = (1, 2, 4, 8)\n",
    "d = {8: 'asd', 3: 'qw', 1: 'aazsd', 'wqq': ('gaa','foo'), 'www': 'gaa', 11: 'gaa'}\n",
    "w= 'Hello'\n",
    "\n",
    "print(len(l))\n",
    "print(len(t))\n",
    "print(len(d))\n",
    "print(len(d['wqq']))\n",
    "print(len(w))"
   ],
   "metadata": {
    "collapsed": false,
    "pycharm": {
     "name": "#%%\n"
    }
   }
  },
  {
   "cell_type": "markdown",
   "source": [
    "3. enumerate(collection) - возвращает последовательность кортежей (i, value) при обходе последовательности"
   ],
   "metadata": {
    "collapsed": false,
    "pycharm": {
     "name": "#%% md\n"
    }
   }
  },
  {
   "cell_type": "code",
   "execution_count": 17,
   "outputs": [
    {
     "name": "stdout",
     "output_type": "stream",
     "text": [
      "0 5\n",
      "1 4\n",
      "2 True\n",
      "3 8\n",
      "4 -1\n",
      "5 False\n",
      "6 0.5\n"
     ]
    }
   ],
   "source": [
    "collection = [5, 4, True, 8, -1, False, 0.5]\n",
    "for i, value in enumerate(collection):\n",
    "    print(i, value)"
   ],
   "metadata": {
    "collapsed": false,
    "pycharm": {
     "name": "#%%\n"
    }
   }
  },
  {
   "cell_type": "code",
   "execution_count": 18,
   "outputs": [
    {
     "name": "stdout",
     "output_type": "stream",
     "text": [
      "0 H\n",
      "1 e\n",
      "2 l\n",
      "3 l\n",
      "4 o\n"
     ]
    }
   ],
   "source": [
    "w = 'Hello'\n",
    "for i, value in enumerate(w):\n",
    "    print(i, value)"
   ],
   "metadata": {
    "collapsed": false,
    "pycharm": {
     "name": "#%%\n"
    }
   }
  },
  {
   "cell_type": "markdown",
   "source": [
    "4. Функция zip «сшивает» элементы нескольких списков, кортежей или других последовательностей в пары, создавая список кортежей:"
   ],
   "metadata": {
    "collapsed": false,
    "pycharm": {
     "name": "#%% md\n"
    }
   }
  },
  {
   "cell_type": "code",
   "execution_count": 19,
   "outputs": [
    {
     "data": {
      "text/plain": "[('foo', 'one'), ('bar', 'two'), ('baz', 'three')]"
     },
     "execution_count": 19,
     "metadata": {},
     "output_type": "execute_result"
    }
   ],
   "source": [
    "seq1 = ['foo', 'bar', 'baz']\n",
    "seq2 = ['one', 'two', 'three']\n",
    "zipped = zip(seq1, seq2)\n",
    "list(zipped)"
   ],
   "metadata": {
    "collapsed": false,
    "pycharm": {
     "name": "#%%\n"
    }
   }
  },
  {
   "cell_type": "markdown",
   "source": [
    "##### Функция zip принимает любое число аргументов, а количество порождаемых ей кортежей определяется длиной самой короткой последовательности:"
   ],
   "metadata": {
    "collapsed": false,
    "pycharm": {
     "name": "#%% md\n"
    }
   }
  },
  {
   "cell_type": "code",
   "execution_count": 20,
   "outputs": [
    {
     "data": {
      "text/plain": "[('foo', 'one', False), ('bar', 'two', True)]"
     },
     "execution_count": 20,
     "metadata": {},
     "output_type": "execute_result"
    }
   ],
   "source": [
    "seq3 = [False, True]\n",
    "list(zip(seq1, seq2, seq3))"
   ],
   "metadata": {
    "collapsed": false,
    "pycharm": {
     "name": "#%%\n"
    }
   }
  },
  {
   "cell_type": "markdown",
   "source": [
    "##### Очень распространенное применение zip – одновременный обход нескольких последовательностей, возможно, в сочетании с enumerate:"
   ],
   "metadata": {
    "collapsed": false,
    "pycharm": {
     "name": "#%% md\n"
    }
   }
  },
  {
   "cell_type": "code",
   "execution_count": 21,
   "outputs": [
    {
     "name": "stdout",
     "output_type": "stream",
     "text": [
      "0: foo, one\n",
      "1: bar, two\n",
      "2: baz, three\n"
     ]
    }
   ],
   "source": [
    "for i, (a, b) in enumerate(zip(seq1, seq2)):\n",
    "    print('{0}: {1}, {2}'.format(i, a, b))"
   ],
   "metadata": {
    "collapsed": false,
    "pycharm": {
     "name": "#%%\n"
    }
   }
  },
  {
   "cell_type": "markdown",
   "source": [
    "##### Если имеется «сшитая» последовательность, то zip можно использовать, чтобы «распороть» ее. Это можно также представить себе как преобразование списка строк в список столбцов. Синтаксис, несколько причудливый, выглядит следующим образом:"
   ],
   "metadata": {
    "collapsed": false,
    "pycharm": {
     "name": "#%% md\n"
    }
   }
  },
  {
   "cell_type": "code",
   "execution_count": 22,
   "outputs": [
    {
     "name": "stdout",
     "output_type": "stream",
     "text": [
      "('Вася', 'Петя', 'Гриша')\n",
      "('Пупкин', 'Лупкин', 'Закупкин')\n"
     ]
    }
   ],
   "source": [
    "pitchers = [('Вася', 'Пупкин'), ('Петя', 'Лупкин'), ('Гриша', 'Закупкин')]\n",
    "first_names, last_names = zip(*pitchers)\n",
    "print(first_names)\n",
    "print(last_names)"
   ],
   "metadata": {
    "collapsed": false,
    "pycharm": {
     "name": "#%%\n"
    }
   }
  },
  {
   "cell_type": "markdown",
   "source": [
    "5. Функция reversed наподобие метода reverse перебирает элементы последовательности в обратном порядке:\n",
    "##### Имейте в виду, что reversed – это генератор, следовательно, он не создает инвертированную последовательность, если только не будет материализован (например, с помощью функции list или в цикле for)."
   ],
   "metadata": {
    "collapsed": false,
    "pycharm": {
     "name": "#%% md\n"
    }
   }
  },
  {
   "cell_type": "code",
   "execution_count": 23,
   "outputs": [
    {
     "name": "stdout",
     "output_type": "stream",
     "text": [
      "<range_iterator object at 0x000001E1F03D4D30>\n",
      "[3, 2, 1, 0]\n",
      "3\n",
      "2\n",
      "1\n",
      "0\n"
     ]
    }
   ],
   "source": [
    "print(reversed(range(4)))\n",
    "print(list(reversed(range(4))))\n",
    "for i in reversed(range(4)):\n",
    "    print(i)"
   ],
   "metadata": {
    "collapsed": false,
    "pycharm": {
     "name": "#%%\n"
    }
   }
  }
 ],
 "metadata": {
  "kernelspec": {
   "display_name": "Python 3",
   "language": "python",
   "name": "python3"
  },
  "language_info": {
   "codemirror_mode": {
    "name": "ipython",
    "version": 2
   },
   "file_extension": ".py",
   "mimetype": "text/x-python",
   "name": "python",
   "nbconvert_exporter": "python",
   "pygments_lexer": "ipython2",
   "version": "2.7.6"
  }
 },
 "nbformat": 4,
 "nbformat_minor": 0
}