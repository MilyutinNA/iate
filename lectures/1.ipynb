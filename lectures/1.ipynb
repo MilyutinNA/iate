{
 "cells": [
  {
   "cell_type": "markdown",
   "source": [
    "# Базовые концепции языка. Создание комментариев. Работа с математическими операциями. Получение и вывод информации пользователю."
   ],
   "metadata": {
    "collapsed": false,
    "pycharm": {
     "name": "#%% md\n"
    }
   }
  },
  {
   "cell_type": "markdown",
   "source": [
    "# большой шрифт\n",
    "### шрифт по менбше\n",
    "##### ваще маленький шрифт жесть...\n",
    "\n",
    "Горизонтальная линия:\n",
    "- - -\n",
    "Обычный\n",
    "*Курсив*\n",
    "**Жирный**\n",
    "~~Зачеркнутый~~\n",
    "- - -\n",
    "Неупорядоченный список:\n",
    "* фыва\n",
    "* олдж\n",
    "- - -\n",
    "Упорядоченный список:\n",
    "1. ффф\n",
    "2. ыыы\n",
    "- - -\n",
    "Встроенный код с одинарными обратными кавычками:\n",
    "`\n",
    "import nympy\n",
    "x = x + 1\n",
    "`\n",
    "- - -\n",
    "Блок кода(используйте три обратных кавычки без пробелов):\n",
    "```\n",
    "import nympy\n",
    "x = x + 1\n",
    "```\n",
    "- - -\n",
    "Цитата блока:\n",
    "> если волк молчит, лучше его не перебивать...\n",
    "- - -\n",
    "| param1 | param2 | param3 |\n",
    "|--------|:------:|-------:|\n",
    "| val11  | val12  |  val13 |\n",
    "| val21  | val22  |  val23 |\n",
    "- - -\n",
    "Математические формулы в LaTeX:\n",
    "$$\\forall x \\in X, \\quad \\exists y \\leq \\epsilon$$\n",
    "$$\\lim\\limits_{x \\to \\infty} \\exp(-x) = 0$$\n",
    "- - -\n",
    "Изображение:\n",
    "![Python](https://media.tproger.ru/uploads/2021/03/iconfinder_267_Python_logo_4375050-cover-icon-original.png)"
   ],
   "metadata": {
    "collapsed": false,
    "pycharm": {
     "name": "#%% md\n"
    }
   }
  },
  {
   "cell_type": "markdown",
   "source": [
    "<i>Курсив</i>\n",
    "<b>Жирный</b>\n",
    "\n",
    " <head>\n",
    "  <meta charset=\"utf-8\">\n",
    " </head>\n",
    " <body>\n",
    " <table border=\"1\">\n",
    "  <caption>Таблица</caption>\n",
    "  <table>\n",
    "   <tr><th>param1</th><th>param2</th><th>param3</th></tr>\n",
    "   <tr><td>val11</td><td>val12</td><td>val13</td></tr>\n",
    "   <tr><td>val21</td><td>val22</td><td>val23</td></tr>\n",
    "  </table>\n",
    " </body>"
   ],
   "metadata": {
    "collapsed": false,
    "pycharm": {
     "name": "#%% md\n"
    }
   }
  },
  {
   "cell_type": "markdown",
   "source": [
    "Полезные ссылки:\n",
    "[Ссылка на документацию DataSpell](https://www.jetbrains.com/help/dataspell/installation-guide.html)\n",
    "[Математические формулы в LaTeX](https://www.jetbrains.com/help/dataspell/installation-guide.html)\n",
    "[Онлайн-редактор уравнений LaTeX](https://latex.codecogs.com/eqneditor/editor.php)\n",
    "[Справочник HTML](https://htmlbase.ru/)"
   ],
   "metadata": {
    "collapsed": false,
    "pycharm": {
     "name": "#%% md\n"
    }
   }
  },
  {
   "cell_type": "markdown",
   "source": [
    "#### Комментарии\n",
    "##### Интерпретатор Python игнорирует текст, которому предшествует знак решетки #. Комментарий может располагаться также в конце строки с исполняемым кодом. Так же часто этим пользуются, чтобы включить в код комментарии. Иногда желательно исключить какие-то блоки кода, не удаляя их. Самое простое решение – закомментировать такой код:"
   ],
   "metadata": {
    "collapsed": false,
    "pycharm": {
     "name": "#%% md\n"
    }
   }
  },
  {
   "cell_type": "code",
   "execution_count": null,
   "outputs": [],
   "source": [
    "results = []\n",
    "for line in file_handle:\n",
    "    # пока оставляем пустые строки\n",
    "    # if len(line) == 0:\n",
    "    # continue\n",
    "    results.append(line.replace('foo', 'bar'))"
   ],
   "metadata": {
    "collapsed": false,
    "pycharm": {
     "name": "#%%\n"
    }
   }
  },
  {
   "cell_type": "markdown",
   "source": [
    "#### Вызов функции и метода объекта\n",
    "#####  После имени функции ставятся круглые скобки, внутри которых размещено ноль или более параметров. Возвращенное значение может быть присвоено переменной. Рассмотрим самую простецкую функцию print:"
   ],
   "metadata": {
    "collapsed": false,
    "pycharm": {
     "name": "#%% md\n"
    }
   }
  },
  {
   "cell_type": "markdown",
   "source": [
    "##### Функции могут принимать позиционные и именованные аргументы:"
   ],
   "metadata": {
    "collapsed": false,
    "pycharm": {
     "name": "#%% md\n"
    }
   }
  },
  {
   "cell_type": "code",
   "execution_count": null,
   "outputs": [],
   "source": [
    "print(\"Hello World\")\n",
    "print(5)\n",
    "print(\"Результат: 5\")\n",
    "print(\"Результат:\", 7)\n",
    "print(\"Результат:\", 7, 15, \".\")"
   ],
   "metadata": {
    "collapsed": false,
    "pycharm": {
     "name": "#%%\n"
    }
   }
  },
  {
   "cell_type": "markdown",
   "source": [
    "##### Как видно, при этом, функция print позволяет перечислять значения через запятую, для их последовательного вывода."
   ],
   "metadata": {
    "collapsed": false,
    "pycharm": {
     "name": "#%% md\n"
    }
   }
  },
  {
   "cell_type": "code",
   "execution_count": null,
   "outputs": [],
   "source": [
    "print(\"Результат:\", 7, \".\", 15, sep=\"\")\n",
    "print(\"Результат:\", 7, 15, \".\", sep=\"|\")\n",
    "print(\"Результат:\", 7, \".\", 15, sep=\"\", end=\"\")\n",
    "print(\"Результат:\", 7, \".\", 15, sep=\"\", end=\"!\")\n",
    "print(\"Результат:\", 7, \".\", 15, sep=\"\", end=\"!\\n\")"
   ],
   "metadata": {
    "collapsed": false,
    "pycharm": {
     "name": "#%%\n"
    }
   }
  },
  {
   "cell_type": "markdown",
   "source": [
    "##### Знак обратной косой черты \\ играет роль управляющего символа. Основные способы управления с использованием косой черты:\n",
    "* \\\\\"\tПозволяет записать один символ кавычки\n",
    "* \\\\'\tПозволяет записать один символ апострофа\n",
    "* \\\\n\tПеренос строки (новая строка)\n",
    "* \\\\t\tГоризонтальный отступ слева от начала строки (горизонтальная табуляция).\n",
    "* \\\\\tПозволяет записать символ обратного слеша"
   ],
   "metadata": {
    "collapsed": false,
    "pycharm": {
     "name": "#%% md\n"
    }
   }
  },
  {
   "cell_type": "code",
   "execution_count": null,
   "outputs": [],
   "source": [
    "print(\"Second \\\" line\")\n",
    "print('Second \" line')\n",
    "print('Second \\' l\\ni\\nn\\ne')\n",
    "print('Second \\' \\t line')\n",
    "print('Second \\\\ line')"
   ],
   "metadata": {
    "collapsed": false,
    "pycharm": {
     "name": "#%%\n"
    }
   }
  },
  {
   "cell_type": "code",
   "execution_count": null,
   "outputs": [],
   "source": [
    "# Одиночные кавычки. Часто встречаемый вариант записи.\n",
    "print('а внутри \"можно\" поместить обычные')\n",
    "\n",
    "# Двойные кавычки.\n",
    "print(\"а внутри 'можно' поместить одиночные\")\n",
    "\n",
    "# Три одиночных кавычки. Удобно для записей в несколько строк\n",
    "print('''В трёх\n",
    "одиночных кавычках \"можно\" так, а 'можно' и так''')\n",
    "\n",
    "# Три двойных кавычки. Общепринятый способ для строк документации.\n",
    "print(\"\"\"В трёх двойных кавычках \"можно\" так, а 'можно' и так\"\"\")"
   ],
   "metadata": {
    "collapsed": false,
    "pycharm": {
     "name": "#%%\n"
    }
   }
  },
  {
   "cell_type": "markdown",
   "source": [
    "##### Знак операции, такой как +, называют оператором. Операторы выполняют операции над определенными значениями, которые называются операндами. Сами операторы — это обычно один или несколько символов. Реже — слово. Подавляющее большинство операторов соответствуют математическим операциям."
   ],
   "metadata": {
    "collapsed": false,
    "pycharm": {
     "name": "#%% md\n"
    }
   }
  },
  {
   "cell_type": "code",
   "execution_count": null,
   "outputs": [],
   "source": [
    "print(5 + 5)\n",
    "print(5 - 5)\n",
    "print(5 * 5)\n",
    "print(5 ** 2)\n",
    "print(5 ** 3)\n",
    "print(5 / 3)\n",
    "print(5 // 3)"
   ],
   "metadata": {
    "collapsed": false,
    "pycharm": {
     "name": "#%%\n"
    }
   }
  },
  {
   "cell_type": "markdown",
   "source": [
    "##### Ниже представлен список основных бинарных операций"
   ],
   "metadata": {
    "collapsed": false,
    "pycharm": {
     "name": "#%% md\n"
    }
   }
  },
  {
   "cell_type": "markdown",
   "source": [
    "#### Бинарные операторы\n",
    "| Операция      | Описание |\n",
    "|---------------|:------:|\n",
    "| a + b         | Сложить a и b |\n",
    "| a – b         | Вычесть b из a |\n",
    "| a * b         | Умножить a на b |\n",
    "| a / b         | Разделить a на b |\n",
    "| a // b        | Разделить a на b нацело, отбросив дробный остаток |\n",
    "| a ** b        | Возвести a в степень b |\n",
    "| a and b       | True, если и a, и b равны True. Для целых чисел вычисляет поразрядное И |\n",
    "| a or b        | True, либо a, либо b равно True. Для целых чисел вычисляет поразрядное ИЛИ |\n",
    "| a ^ b         | Для булевых величин True, если либо a, либо b, но не обе одновременно равны True. Для целых чисел вычисляет поразрядное ИСКЛЮЧИТЕЛЬНОЕ ИЛИ |\n",
    "| a == b        | True, если a равно b |\n",
    "| a != b        | True, если a не равно b |\n",
    "| a < b, a <= b | True, если a меньше (меньше или равно) b |\n",
    "| a > b, a >= b | True, если a больше (больше или равно) b |\n",
    "| a is b        | True, если a и b ссылаются на один и тот же объект Python |\n",
    "| a is not b    | True, если a и b ссылаются на разные объекты Python |"
   ],
   "metadata": {
    "collapsed": false,
    "pycharm": {
     "name": "#%% md\n"
    }
   }
  },
  {
   "cell_type": "markdown",
   "source": [
    "##### Выполняя различные операции между операндам, важно знать, какие типы данных существуют и какие между ними можно проводить операции. Об этом можно найти в 2.ipynb"
   ],
   "metadata": {
    "collapsed": false,
    "pycharm": {
     "name": "#%% md\n"
    }
   }
  },
  {
   "cell_type": "markdown",
   "source": [
    "##### Также существуют следующие функции:"
   ],
   "metadata": {
    "collapsed": false,
    "pycharm": {
     "name": "#%% md\n"
    }
   }
  },
  {
   "cell_type": "code",
   "execution_count": null,
   "outputs": [],
   "source": [
    "print(\"Нахождение минимального числа:\", min(5, 6, 3, 0, 2, -3, 5))\n",
    "print(\"Нахождение максимального числа:\", max(5, 6, 3, 0, 2, -3, 5))\n",
    "print(\"Модуль:\", abs(-5))\n",
    "print(\"Возведение в степень:\", pow(5, 3))\n",
    "print(\"Округление:\", round(5 / 3))"
   ],
   "metadata": {
    "collapsed": false,
    "pycharm": {
     "name": "#%%\n"
    }
   }
  },
  {
   "cell_type": "markdown",
   "source": [
    "##### Функция получения пользовательского ввода. Обратите внимание, что вводимое значение передается с типом данных str. Позже поговорим о типах данных"
   ],
   "metadata": {
    "collapsed": false,
    "pycharm": {
     "name": "#%% md\n"
    }
   }
  },
  {
   "cell_type": "code",
   "execution_count": null,
   "outputs": [],
   "source": [
    "input()"
   ],
   "metadata": {
    "collapsed": false,
    "pycharm": {
     "name": "#%%\n"
    }
   }
  },
  {
   "cell_type": "markdown",
   "source": [
    "При передаче аргумента в кавычках, внутри функции input, перед полем для ввода появляется соответствующий текст"
   ],
   "metadata": {
    "collapsed": false,
    "pycharm": {
     "name": "#%% md\n"
    }
   }
  },
  {
   "cell_type": "code",
   "execution_count": null,
   "outputs": [],
   "source": [
    "input(\"Текст перед полем ввода\")"
   ],
   "metadata": {
    "collapsed": false,
    "pycharm": {
     "name": "#%%\n"
    }
   }
  },
  {
   "cell_type": "markdown",
   "source": [
    "#### Бинарные операторы\n",
    "| Операция      | Описание |\n",
    "|---------------|:------:|\n",
    "| a + b         | Сложить a и b |\n",
    "| a – b         | Вычесть b из a |\n",
    "| a * b         | Умножить a на b |\n",
    "| a / b         | Разделить a на b |\n",
    "| a // b        | Разделить a на b нацело, отбросив дробный остаток |\n",
    "| a ** b        | Возвести a в степень b |\n",
    "| a and b       | True, если и a, и b равны True. Для целых чисел вычисляет поразрядное И |\n",
    "| a or b        | True, либо a, либо b равно True. Для целых чисел вычисляет поразрядное ИЛИ |\n",
    "| a ^ b         | Для булевых величин True, если либо a, либо b, но не обе одновременно равны True. Для целых чисел вычисляет поразрядное ИСКЛЮЧИТЕЛЬНОЕ ИЛИ |\n",
    "| a == b        | True, если a равно b |\n",
    "| a != b        | True, если a не равно b |\n",
    "| a < b, a <= b | True, если a меньше (меньше или равно) b |\n",
    "| a > b, a >= b | True, если a больше (больше или равно) b |\n",
    "| a is b        | True, если a и b ссылаются на один и тот же объект Python |\n",
    "| a is not b    | True, если a и b ссылаются на разные объекты Python |"
   ],
   "metadata": {
    "collapsed": false,
    "pycharm": {
     "name": "#%% md\n"
    }
   }
  },
  {
   "cell_type": "markdown",
   "source": [
    "##### Выполняя различные операции между операндам, важно знать, какие типы данных существуют и какие между ними можно проводить операции. Об этом можно найти в 2.ipynb"
   ],
   "metadata": {
    "collapsed": false,
    "pycharm": {
     "name": "#%% md\n"
    }
   }
  },
  {
   "cell_type": "markdown",
   "source": [
    "##### Также существуют следующие функции:"
   ],
   "metadata": {
    "collapsed": false,
    "pycharm": {
     "name": "#%% md\n"
    }
   }
  },
  {
   "cell_type": "code",
   "execution_count": 1,
   "outputs": [
    {
     "name": "stdout",
     "output_type": "stream",
     "text": [
      "Нахождение минимального числа: -3\n",
      "Нахождение максимального числа: 6\n",
      "Модуль: 5\n",
      "Возведение в степень: 125\n",
      "Округление: 2\n"
     ]
    }
   ],
   "source": [
    "print(\"Нахождение минимального числа:\", min(5, 6, 3, 0, 2, -3, 5))\n",
    "print(\"Нахождение максимального числа:\", max(5, 6, 3, 0, 2, -3, 5))\n",
    "print(\"Модуль:\", abs(-5))\n",
    "print(\"Возведение в степень:\", pow(5, 3))\n",
    "print(\"Округление:\", round(5 / 3))"
   ],
   "metadata": {
    "collapsed": false,
    "pycharm": {
     "name": "#%%\n"
    }
   }
  },
  {
   "cell_type": "markdown",
   "source": [
    "##### Функция получения пользовательского ввода. Обратите внимание, что вводимое значение передается с типом данных str. Позже поговорим о типах данных"
   ],
   "metadata": {
    "collapsed": false,
    "pycharm": {
     "name": "#%% md\n"
    }
   }
  },
  {
   "cell_type": "code",
   "execution_count": 9,
   "metadata": {
    "pycharm": {
     "name": "#%%\n"
    }
   },
   "outputs": [
    {
     "data": {
      "text/plain": [
       "''"
      ]
     },
     "execution_count": 9,
     "metadata": {},
     "output_type": "execute_result"
    }
   ],
   "source": [
    "input()"
   ]
  },
  {
   "cell_type": "markdown",
   "source": [
    "При передаче аргумента в кавычках, внутри функции input, перед полем для ввода появляется соответствующий текст"
   ],
   "metadata": {
    "collapsed": false,
    "pycharm": {
     "name": "#%% md\n"
    }
   }
  },
  {
   "cell_type": "code",
   "execution_count": 2,
   "metadata": {
    "pycharm": {
     "name": "#%%\n"
    }
   },
   "outputs": [
    {
     "data": {
      "text/plain": "'5'"
     },
     "execution_count": 2,
     "metadata": {},
     "output_type": "execute_result"
    }
   ],
   "source": [
    "input(\"Текст перед полем ввода\")"
   ]
  }
 ],
 "metadata": {
  "kernelspec": {
   "display_name": "Python 3 (ipykernel)",
   "language": "python",
   "name": "python3"
  },
  "language_info": {
   "codemirror_mode": {
    "name": "ipython",
    "version": 3
   },
   "file_extension": ".py",
   "mimetype": "text/x-python",
   "name": "python",
   "nbconvert_exporter": "python",
   "pygments_lexer": "ipython3",
   "version": "3.9.12"
  }
 },
 "nbformat": 4,
 "nbformat_minor": 1
}