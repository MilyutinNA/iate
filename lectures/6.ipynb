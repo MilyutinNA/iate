{
 "cells": [
  {
   "cell_type": "markdown",
   "source": [
    "# Срезы"
   ],
   "metadata": {
    "collapsed": false,
    "pycharm": {
     "name": "#%% md\n"
    }
   }
  },
  {
   "cell_type": "markdown",
   "source": [
    "Из большинства последовательностей можно вырезать участки с помощью нотации, которая в простейшей форме сводится к передаче пары start:stop оператору доступа по индексу []:"
   ],
   "metadata": {
    "collapsed": false,
    "pycharm": {
     "name": "#%% md\n"
    }
   }
  },
  {
   "cell_type": "code",
   "execution_count": 21,
   "outputs": [
    {
     "data": {
      "text/plain": "[2, 3, 7, 5]"
     },
     "execution_count": 21,
     "metadata": {},
     "output_type": "execute_result"
    }
   ],
   "source": [
    "seq = [7, 2, 3, 7, 5, 6, 0, 1]\n",
    "seq[1:5]"
   ],
   "metadata": {
    "collapsed": false,
    "pycharm": {
     "name": "#%%\n"
    }
   }
  },
  {
   "cell_type": "code",
   "execution_count": 20,
   "outputs": [
    {
     "data": {
      "text/plain": "(2, 6)"
     },
     "execution_count": 20,
     "metadata": {},
     "output_type": "execute_result"
    }
   ],
   "source": [
    "tp = 1, 2, 6, 7, 2, 7\n",
    "tp[1:3]"
   ],
   "metadata": {
    "collapsed": false,
    "pycharm": {
     "name": "#%%\n"
    }
   }
  },
  {
   "cell_type": "markdown",
   "source": [
    "Строки также можно разбивать на срезы:"
   ],
   "metadata": {
    "collapsed": false,
    "pycharm": {
     "name": "#%% md\n"
    }
   }
  },
  {
   "cell_type": "code",
   "execution_count": null,
   "outputs": [],
   "source": [
    "word = 'Hello'\n",
    "word[1:3]"
   ],
   "metadata": {
    "collapsed": false,
    "pycharm": {
     "name": "#%%\n"
    }
   }
  },
  {
   "cell_type": "markdown",
   "source": [
    "Элемент с индексом start включается в срез, элемент с индексом stop не включается, поэтому количество элементов в результате равно stop – start. Любой член пары, как start, так и stop, можно опустить, тогда по умолчанию подразумевается начало и конец последовательности соответственно. Если индекс в срезе отрицателен, то он отсчитывается от конца последовательности."
   ],
   "metadata": {
    "collapsed": false,
    "pycharm": {
     "name": "#%% md\n"
    }
   }
  },
  {
   "cell_type": "code",
   "execution_count": 139,
   "outputs": [
    {
     "name": "stdout",
     "output_type": "stream",
     "text": [
      "[1, 2, 3, 4, 5]\n",
      "[4, 5, 6, 7, 8, 9]\n",
      "[6, 7, 8, 9]\n",
      "[4, 5, 6, 7]\n"
     ]
    }
   ],
   "source": [
    "seq = [1, 2, 3, 4, 5, 6, 7, 8, 9]\n",
    "print(seq[:5])\n",
    "print(seq[3:])\n",
    "print(seq[-4:])\n",
    "print(seq[-6:-2])"
   ],
   "metadata": {
    "collapsed": false,
    "pycharm": {
     "name": "#%%\n"
    }
   }
  },
  {
   "cell_type": "markdown",
   "source": [
    "![Срез](https://trello.com/1/cards/6339890c2b46a8046bba4ae9/attachments/6339891bb090f60209a5859d/previews/6339891cb090f60209a585c2/download/image.png)\n",
    "На рисунке показано, как происходит вырезание при положительном и отрицательном индексах. В левом верхнем углу каждой ячейки проставлены индексы, чтобы было проще понять, где начинается и заканчивается срез при положительных и отрицательных индексах.\n",
    "Допускается и вторая запятая, после которой можно указать шаг, например взять каждый второй элемент:"
   ],
   "metadata": {
    "collapsed": false,
    "pycharm": {
     "name": "#%% md\n"
    }
   }
  },
  {
   "cell_type": "code",
   "execution_count": 140,
   "outputs": [
    {
     "name": "stdout",
     "output_type": "stream",
     "text": [
      "[1, 3, 5, 7, 9]\n",
      "[9, 8, 7, 6, 5, 4, 3, 2, 1]\n"
     ]
    }
   ],
   "source": [
    "seq = [1, 2, 3, 4, 5, 6, 7, 8, 9]\n",
    "print(seq[::2])\n",
    "#Если задать шаг –1, то список или кортеж будут инвертированы:\n",
    "print(seq[::-1])"
   ],
   "metadata": {
    "collapsed": false,
    "pycharm": {
     "name": "#%%\n"
    }
   }
  },
  {
   "cell_type": "markdown",
   "source": [
    "Срезу также можно присваивать последовательность:"
   ],
   "metadata": {
    "collapsed": false,
    "pycharm": {
     "name": "#%% md\n"
    }
   }
  },
  {
   "cell_type": "code",
   "execution_count": 134,
   "outputs": [
    {
     "data": {
      "text/plain": "[0, 0, 0, 6, 3, 0, 0, 0]"
     },
     "execution_count": 134,
     "metadata": {},
     "output_type": "execute_result"
    }
   ],
   "source": [
    "seq = [0, 0, 0, 0, 0, 0, 0]\n",
    "seq[3:4] = [6, 3]\n",
    "seq"
   ],
   "metadata": {
    "collapsed": false,
    "pycharm": {
     "name": "#%%\n"
    }
   }
  },
  {
   "cell_type": "markdown",
   "source": [
    "Большинство операций, представленных выше, можно использовать для работы со строками. В случае кортежей"
   ],
   "metadata": {
    "collapsed": false,
    "pycharm": {
     "name": "#%% md\n"
    }
   }
  }
 ],
 "metadata": {
  "kernelspec": {
   "display_name": "Python 3",
   "language": "python",
   "name": "python3"
  },
  "language_info": {
   "codemirror_mode": {
    "name": "ipython",
    "version": 2
   },
   "file_extension": ".py",
   "mimetype": "text/x-python",
   "name": "python",
   "nbconvert_exporter": "python",
   "pygments_lexer": "ipython2",
   "version": "2.7.6"
  }
 },
 "nbformat": 4,
 "nbformat_minor": 0
}