{
 "cells": [
  {
   "cell_type": "markdown",
   "source": [
    "  #### Функции (def, lambda)"
   ],
   "metadata": {
    "collapsed": false,
    "pycharm": {
     "name": "#%% md\n"
    }
   }
  },
  {
   "cell_type": "code",
   "execution_count": 1,
   "outputs": [
    {
     "name": "stdout",
     "output_type": "stream",
     "text": [
      "Сработала функция test_func\n",
      "Сработала функция test_func\n"
     ]
    }
   ],
   "source": [
    "def test_func1():\n",
    "    print('Сработала функция test_func')\n",
    "\n",
    "test_func1()\n",
    "test_func1()"
   ],
   "metadata": {
    "collapsed": false,
    "pycharm": {
     "name": "#%%\n"
    }
   }
  },
  {
   "cell_type": "code",
   "execution_count": null,
   "outputs": [],
   "source": [
    "def test_func2(word):\n",
    "    print(word)\n",
    "\n",
    "test_func2(word)"
   ],
   "metadata": {
    "collapsed": false,
    "pycharm": {
     "name": "#%%\n"
    }
   }
  },
  {
   "cell_type": "code",
   "execution_count": 3,
   "outputs": [
    {
     "name": "stdout",
     "output_type": "stream",
     "text": [
      "Параметр word в функции test_func2\n"
     ]
    }
   ],
   "source": [
    "def test_func2(word):\n",
    "    print(word)\n",
    "\n",
    "test_func2('Параметр word в функции test_func2')"
   ],
   "metadata": {
    "collapsed": false,
    "pycharm": {
     "name": "#%%\n"
    }
   }
  },
  {
   "cell_type": "code",
   "execution_count": 16,
   "outputs": [
    {
     "name": "stdout",
     "output_type": "stream",
     "text": [
      "10\n",
      "10\n",
      "None\n"
     ]
    }
   ],
   "source": [
    "def plus(a,b):\n",
    "    res = a + b\n",
    "    print(res)\n",
    "plus(3,7)"
   ],
   "metadata": {
    "collapsed": false,
    "pycharm": {
     "name": "#%%\n"
    }
   }
  },
  {
   "cell_type": "code",
   "execution_count": 15,
   "outputs": [
    {
     "name": "stdout",
     "output_type": "stream",
     "text": [
      "None\n"
     ]
    }
   ],
   "source": [
    "def plus(a,b):\n",
    "    a + b\n",
    "res = plus(56,4)\n",
    "print(plus(56,4))"
   ],
   "metadata": {
    "collapsed": false,
    "pycharm": {
     "name": "#%%\n"
    }
   }
  },
  {
   "cell_type": "code",
   "execution_count": 20,
   "outputs": [
    {
     "name": "stdout",
     "output_type": "stream",
     "text": [
      "60\n"
     ]
    }
   ],
   "source": [
    "def plus(a,b):\n",
    "    return a + b\n",
    "res = plus(56,4)\n",
    "print(res)"
   ],
   "metadata": {
    "collapsed": false,
    "pycharm": {
     "name": "#%%\n"
    }
   }
  },
  {
   "cell_type": "code",
   "execution_count": 21,
   "outputs": [
    {
     "name": "stdout",
     "output_type": "stream",
     "text": [
      "4\n",
      "2.3\n"
     ]
    }
   ],
   "source": [
    "nums1 = [5, 7, 9, 4]\n",
    "min = nums1[0]\n",
    "for el in nums1:\n",
    "    if el < min:\n",
    "        min = el\n",
    "\n",
    "print(min)\n",
    "\n",
    "nums2 = [5.4, 7.2, 2.3, 9.4, 4.2]\n",
    "min2 = nums2[0]\n",
    "for el in nums2:\n",
    "    if el < min2:\n",
    "        min2 = el\n",
    "\n",
    "print(min2)"
   ],
   "metadata": {
    "collapsed": false,
    "pycharm": {
     "name": "#%%\n"
    }
   }
  },
  {
   "cell_type": "code",
   "execution_count": 23,
   "outputs": [
    {
     "name": "stdout",
     "output_type": "stream",
     "text": [
      "4\n",
      "2.3\n"
     ]
    }
   ],
   "source": [
    "def minimal(l):\n",
    "    min_number = l[0]\n",
    "    for el in l:\n",
    "        if el < min_number:\n",
    "            min_number = el\n",
    "    return min_number\n",
    "\n",
    "nums1 = [5, 7, 9, 4]\n",
    "nums2 = [5.4, 7.2, 2.3, 9.4, 4.2]\n",
    "print(minimal(nums1))\n",
    "print(minimal(nums2))"
   ],
   "metadata": {
    "collapsed": false,
    "pycharm": {
     "name": "#%%\n"
    }
   }
  },
  {
   "cell_type": "code",
   "execution_count": null,
   "outputs": [],
   "source": [
    "func = lambda a, b: a + b\n",
    "res = func(5, 2)\n",
    "print(res)"
   ],
   "metadata": {
    "collapsed": false,
    "pycharm": {
     "name": "#%%\n"
    }
   }
  }
 ],
 "metadata": {
  "kernelspec": {
   "display_name": "Python 3",
   "language": "python",
   "name": "python3"
  },
  "language_info": {
   "codemirror_mode": {
    "name": "ipython",
    "version": 2
   },
   "file_extension": ".py",
   "mimetype": "text/x-python",
   "name": "python",
   "nbconvert_exporter": "python",
   "pygments_lexer": "ipython2",
   "version": "2.7.6"
  }
 },
 "nbformat": 4,
 "nbformat_minor": 0
}