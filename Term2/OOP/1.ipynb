{
 "cells": [
  {
   "cell_type": "markdown",
   "source": [
    "Объектно-ориентированное программирование (ООП) представляет собой методологию структурирования программы за счет упаковки взаимосвязанных свойств и поведения в отдельные объекты.\n",
    "#### Object-oriented programming (OOP) is a methodology for structuring a program by packing interrelated properties and behavior into separate objects.\n",
    "\n",
    "Представьте программу как своего рода сборочную линию: на каждом этапе сборки отдельный узел системы (объект) обрабатывает материал, а в конечном итоге из сырья получается конечный продукт.\n",
    "#### Imagine the program as a kind of assembly line: at each stage of assembly, a separate node of the system (object) processes the material, and eventually the final product is obtained from the raw materials.\n",
    "\n",
    "\n",
    "#### ОПРЕДЕЛЕНИЕ КЛАССА\n",
    "#### CLASS DEFINITION\n",
    "\n",
    "Примитивные структуры данных - такие, как числа, строки, списки, - создавались для представления простой информации: стоимости килограмма яблок, названия стихотворения, ваши любимые цвета ... А если надо представить что-то более сложное?\n",
    "#### Primitive data structures - such as numbers, strings, lists-were created to represent simple information: the cost of a kilogram of apples, the title of a poem, your favorite colors... And if you need to imagine something more complex?\n",
    "\n",
    "Допустим, вы хотите создать базу данных сотрудников в организации. Требуется хранить о каждом из них основную информацию: имя, возраст, должность и год поступления на работу.\n",
    "#### Let's say you want to create a database of employees in an organization. It is required to store basic information about each of them: name, age, position and year of admission to work.\n",
    "\n",
    "Одно из возможных решений - представить информацию о каждом сотруднике в виде списка:\n",
    "#### One possible solution is to provide information about each employee in the form of a list:\n"
   ],
   "metadata": {
    "collapsed": false,
    "pycharm": {
     "name": "#%% md\n"
    }
   }
  },
  {
   "cell_type": "code",
   "execution_count": 3,
   "outputs": [],
   "source": [
    "kirk = [\"James Kirk\", 34, \"Captain\", 2265]\n",
    "spock = [\"Spock\", 35, \"Science Officer\", 2254]\n",
    "mccoy = [\"Leonard МсСоу\", \"Chief Medical Officer\", 2266]"
   ],
   "metadata": {
    "collapsed": false,
    "pycharm": {
     "name": "#%%\n"
    }
   }
  },
  {
   "cell_type": "markdown",
   "source": [
    "У такого подхода масса недостатков.\n",
    "#### This approach has a lot of disadvantages.\n",
    "\n",
    "Во-первых, усложняется сопровождение файлов с большим количеством кода. Если вы обратитесь к kirk[0] спустя какое-то время после объявления списка kirk, будете ли вы помнить, что элемент с индексом 0 содержит имя работника?\n",
    "#### Firstly, the maintenance of files with a large amount of code becomes more complicated. If you contact kirk[0] some time after the kirk list is announced, will you remember that the element with the index O contains the name of the employee?\n",
    "\n",
    "Во-вторых, возможно возникновение ошибки, если для разных работников списки содержат разное количество элементов. В списке mccoy из приведенного выше примера возраст не указан, поэтому mccoy[l] вместо возраста вернет строку с должностью \"Chief Medical Officer\".\n",
    "#### Secondly, an error may occur if the lists contain different numbers of items for different employees. In the mccoy list from the example above, the age is not specified, so mccoy[l] will return a string with the position \"Chief Medical Officer\" instead of the age.\n",
    "\n",
    "Если вы хотите сделать такой код более управляемым и удобным в сопровождении, используйте классы - это отличный выход.\n",
    "#### If you want to make such code more manageable and easy to maintain, use classes - this is a great way out."
   ],
   "metadata": {
    "collapsed": false,
    "pycharm": {
     "name": "#%% md\n"
    }
   }
  },
  {
   "cell_type": "markdown",
   "source": [
    "#### Классы и экземпляры\n",
    "#### Classes and instances\n",
    "\n",
    "Классы применяются для создания пользовательских структур данных. Классы определяют функции, называемые **методами**; в них задаются поведение и действия, которые объект, созданный на основе класса, сможет выполнять со своими данными.\n",
    "#### Classes are used to create custom data structures. Classes define functions called **methods**; they specify the behavior and actions that an object created based on the class will be able to perform with its data.\n",
    "\n",
    "В качестве примера мы создадим класс Dog для хранения информации о свойствах и поведении собак.\n",
    "#### As an example, we will create a Dog class to store information about the properties and behavior of dogs.\n",
    "\n",
    "Класс представляет собой «чертеж», то есть прототип для определения объектов. Он не содержит никаких данных. Класс Dog указывает, что кличка и возраст необходимы для определения собаки, но он не содержит клички и возраста никакой конкретной собаки.\n",
    "#### The class is a \"blueprint\", that is, a prototype for defining objects. It does not contain any data. The Dog class indicates that the nickname and age are necessary to determine the dog, but it does not contain the nickname and age of any particular dog.\n",
    "\n",
    "Если класс можно сравнить с чертежом, то **экземпляр** представляет собой объект, построенный на основе класса; он содержит реальные данные. Экземпляр класса Dog уже не является чертежом. Он представляет конкретную собаку - например, это может быть Майлз четырех лет от роду.\n",
    "#### If the class can be compared with a blueprint, then **instance** is an object built on the basis of the class; it contains real data. An instance of the Dog class is no longer a blueprint. He represents a specific dog - for example, it could be Miles four years old.\n",
    "\n",
    "Иначе говоря, класс можно сравнить с бланком или анкетой, а экземпляр - это анкета, заполненная информацией. Подобно тому как один вид анкеты разные люди могут заполнить данными, уникальными для каждого из них, на основе одного класса можно создать множество экземпляров.\n",
    "#### In other words, a class can be compared with a form or questionnaire, and an instance is a questionnaire filled with information. Just as different people can fill out one type of questionnaire with data unique to each of them, many instances can be created based on one class.\n",
    "\n",
    "How to define a class\n",
    "#### Как определить класс\n",
    "\n",
    "Все определения классов начинаются с ключевого слова class, за которым следует имя класса и двоеточие. Любой код с отступом, расположенный под определением класса, считается частью тела класса.\n",
    "#### All class definitions start with the keyword class, followed by the class name and a colon. Any indented code located under the class definition is considered part of the class body.\n",
    "\n",
    "Пример класса Dog:\n",
    "#### Example of the Dog class:"
   ],
   "metadata": {
    "collapsed": false,
    "pycharm": {
     "name": "#%% md\n"
    }
   }
  },
  {
   "cell_type": "code",
   "execution_count": 37,
   "outputs": [],
   "source": [
    "class Dog:\n",
    "    pass"
   ],
   "metadata": {
    "collapsed": false,
    "pycharm": {
     "name": "#%%\n"
    }
   }
  },
  {
   "cell_type": "markdown",
   "source": [
    "Тело класса Dog состоит из одной команды: ключевого слова pass. Оно часто используется в качестве заполнителя, обозначающего, где в будущем появится код. Это позволит запустить код, при этом Python не будет выдавать сообщения об ошибках.\n",
    "#### The body of the Dog class consists of one command: the pass keyword. It is often used as a placeholder indicating where the code will appear in the future. This will allow the code to run, while Python will not issue error messages."
   ],
   "metadata": {
    "collapsed": false,
    "pycharm": {
     "name": "#%% md\n"
    }
   }
  },
  {
   "cell_type": "markdown",
   "source": [
    ">В Python имена классов принято записывать по ВотТакойСхеме, то есть слова сшиваются без пробелов и нижнего подчеркивания, через использование заглавных букв. Например, имя класса для конкретной породы собак может быть записано в виде JackRussellTerrier\n",
    "#### In Python, it is customary to write class names according to This Scheme, that is, words are stitched without spaces and underscores, through the use of capital letters. For example, the class name for a particular breed of dog can be written as JackRussellTerrier"
   ],
   "metadata": {
    "collapsed": false,
    "pycharm": {
     "name": "#%% md\n"
    }
   }
  },
  {
   "cell_type": "markdown",
   "source": [
    "Класс Dog пока не особо интересен. Давайте немного улучшим его, добавив свойства, которые должны быть общими для всех объектов Dog. Таких свойств может быть достаточно много: кличка, возраст, цвет, порода и т. д. Для простоты мы ограничимся кличкой и возрастом.\n",
    "#### The Dog class is not particularly interesting yet. Let's improve it a bit by adding properties that should be common to all Dog objects. There can be quite a lot of such properties: nickname, age, color, breed, etc. For simplicity, we will limit ourselves to nickname and age.\n",
    "\n",
    "Свойства, общие для всех объектов Dog, должны определяться в методе .\\_\\_init\\_\\_().\n",
    "#### Properties common to all Dog objects must be defined in the method.\\_\\_init\\_\\_().\n",
    "\n",
    "При создании нового объекта Dog метод .\\_\\_init\\_\\_() задает исходное состояние объекта, присваивая значения свойствам объекта. Иначе говоря, метод .\\_\\_init\\_\\_() инициализирует каждый экземпляр класса.\n",
    "#### When creating a new object, the Dog method.\\_\\_init\\_\\_() sets the initial state of the object by assigning values to the properties of the object. In other words, the method .\\_\\_init\\_\\_() initializes each instance of the class.\n",
    "\n",
    "Методу .\\_\\_init\\_\\_() может передаваться любое количество параметров, но первым параметром всегда является переменная с именем self. При создании нового экземпляра класса экземпляр автоматически передается в параметре self при вызове .\\_\\_init\\_\\_(), чтобы для объекта можно было задать новые атрибуты.\n",
    "#### The method .\\_\\_init\\_\\_() any number of parameters can be passed, but the first parameter is always a variable named self. When creating a new instance of a class , the instance is automatically passed in the self parameter when called .\\_\\_init\\_\\_() so that new attributes can be set for the object.\n",
    "\n",
    "Обновим класс Dog и добавим метод .\\_\\_init\\_\\_(), создающий атрибуты .name и .age:\n",
    "#### Update the Dog class and add a method .\\_\\_init\\_\\_(), which creates attributes .name and .age:"
   ],
   "metadata": {
    "collapsed": false,
    "pycharm": {
     "name": "#%% md\n"
    }
   }
  },
  {
   "cell_type": "code",
   "execution_count": 38,
   "outputs": [],
   "source": [
    "class Dog:\n",
    "    def __init__(self, name, age):\n",
    "        self .name = name\n",
    "        self .age = age"
   ],
   "metadata": {
    "collapsed": false,
    "pycharm": {
     "name": "#%%\n"
    }
   }
  },
  {
   "cell_type": "markdown",
   "source": [
    "Обратите внимание: сигнатура метода .\\_\\_init\\_\\_() имеет отступ из четырех пробелов, а тело метода - из восьми пробелов. Эти отступы очень важны. Они сообщают Python, что метод .\\_\\_init\\_\\_() принадлежит классу Dog.\n",
    "#### Please note: the signature of the method.\\_\\_init\\_\\_() has an indent of four spaces, and the method body has eight spaces. These margins are very important. They tell Python that the method .\\_\\_init\\_\\_() belongs to the Dog class.\n",
    "\n",
    "В теле .\\_\\_init\\_\\_() содержатся две команды, в которых используется переменная\n",
    "self.\n",
    "#### In the body .\\_\\_init\\_\\_() contains two commands that use the self variable.\n",
    "1. self.name = name создает атрибут с именем name и присваивает ему значение параметра name.\n",
    "#### 1. self.name = name creates an attribute named name and assigns it the value of the name parameter.\n",
    "2. self.age = age создает атрибут с именем age и присваивает ему значение параметра age.\n",
    "#### 2. self.age = age creates an attribute named age and assigns it the value of the age parameter.\n",
    "\n",
    "Атрибуты, созданные в .\\_\\_init\\_\\_(), называются атрибутами экземпляров. Значение атрибута экземпляра относится к конкретному экземпляру класса. Все объекты Dog обладают атрибутами name и age, но значения name и age зависят от конкретного экземпляра Dog.\n",
    "#### Attributes created in .\\_\\_init\\_\\_(), are called instance attributes. The value of the instance attribute refers to a specific instance of the class. All Dog objects have the name and age attributes, but the values of name and age depend on the specific instance of Dog.\n",
    "\n",
    "С другой стороны, атрибуты класса имеют одно и то же значение для всех экземпляров класса. Атрибут класса можно определить, присваивая значение переменной name за пределами .\\_\\_init\\_\\_().\n",
    "#### On the other hand, class attributes have the same value for all instances of the class. A class attribute can be defined by assigning a value to the name variable outside.\\_\\_init\\_\\_().\n",
    "\n",
    "Например, следующий класс Dog содержит атрибут класса с именем species и значением \"Canis familiaris\":\n",
    "#### For example, the following Dog class contains a class attribute named species and the value \"Canis familiaris\":"
   ],
   "metadata": {
    "collapsed": false,
    "pycharm": {
     "name": "#%% md\n"
    }
   }
  },
  {
   "cell_type": "code",
   "execution_count": 39,
   "outputs": [],
   "source": [
    "class Dog:\n",
    "    # Атрибут класса\n",
    "    species = \"Canis familiaris\"\n",
    "\n",
    "    def __init__(self, name, age):\n",
    "        self.name = name\n",
    "        self.age = age"
   ],
   "metadata": {
    "collapsed": false,
    "pycharm": {
     "name": "#%%\n"
    }
   }
  },
  {
   "cell_type": "markdown",
   "source": [
    "Атрибуты класса определяются непосредственно под первой строкой имени класса с отступом в четыре пробела.\n",
    "#### Class attributes are defined directly below the first line of the class name with an indentation of four spaces.\n",
    "\n",
    "Им всегда должно присваиваться исходное значение.\n",
    "#### They should always be assigned the original value.\n",
    "\n",
    "При создании экземпляра класса атрибуты класса формируются автоматически, и им присваиваются исходные значения.\n",
    "#### When creating an instance of a class, the attributes of the class are formed automatically, and their original values are assigned to them.\n",
    "\n",
    "Используйте атрибуты класса для определения свойств, которые должны иметь одно и то же значение для всех экземпляров класса.\n",
    "#### Use class attributes to define properties that should have the same value for all instances of the class.\n",
    "\n",
    "Используйте атрибуты экземпляров для свойств, которые отличаются в разных экземплярах.\n",
    " #### Use instance attributes for properties that differ in different instances."
   ],
   "metadata": {
    "collapsed": false,
    "pycharm": {
     "name": "#%% md\n"
    }
   }
  },
  {
   "cell_type": "markdown",
   "source": [
    "#### СОЗДАНИЕ ЭКЗЕМПЛЯРОВ\n",
    "#### CREATING INSTANCES\n",
    "Создадим новый класс Dog, не содержащий ни атрибутов, ни\n",
    "методов.\n",
    "#### Let's create a new Dog class that contains neither attributes nor methods."
   ],
   "metadata": {
    "collapsed": false,
    "pycharm": {
     "name": "#%% md\n"
    }
   }
  },
  {
   "cell_type": "code",
   "execution_count": 40,
   "outputs": [],
   "source": [
    "class Dog:\n",
    "    pass"
   ],
   "metadata": {
    "collapsed": false,
    "pycharm": {
     "name": "#%%\n"
    }
   }
  },
  {
   "cell_type": "markdown",
   "source": [
    "Чтобы создать новый объект Dog, введите имя класса, за которым следует пара круглых скобок:\n",
    "#### To create a new Dog object, enter the class name followed by a pair of parentheses:"
   ],
   "metadata": {
    "collapsed": false,
    "pycharm": {
     "name": "#%% md\n"
    }
   }
  },
  {
   "cell_type": "code",
   "execution_count": 41,
   "outputs": [
    {
     "name": "stdout",
     "output_type": "stream",
     "text": [
      "<__main__.Dog object at 0x000001E256CEDB50>\n"
     ]
    }
   ],
   "source": [
    "print(Dog())"
   ],
   "metadata": {
    "collapsed": false,
    "pycharm": {
     "name": "#%%\n"
    }
   }
  },
  {
   "cell_type": "markdown",
   "source": [
    "Теперь новый объект Dog существует по индивидуальному адресу. Загадочная строка из букв и цифр - адрес памяти, указывающий, где объект Dog хранится в памяти компьютера.\n",
    "#### Now the new Dog object exists at an individual address. A mysterious string of letters and numbers is a memory address indicating where the Dog object is stored in the computer's memory.\n",
    "\n",
    "Учтите, что адрес, который вы увидите в своей системе, будет другим.\n",
    "#### Please note that the address you will see in your system will be different.\n",
    "\n",
    "Теперь создайте второй объект Dog:\n",
    "#### Now create a second Dog object:"
   ],
   "metadata": {
    "collapsed": false,
    "pycharm": {
     "name": "#%% md\n"
    }
   }
  },
  {
   "cell_type": "code",
   "execution_count": 42,
   "outputs": [
    {
     "name": "stdout",
     "output_type": "stream",
     "text": [
      "<__main__.Dog object at 0x000001E256CED970>\n"
     ]
    }
   ],
   "source": [
    "print(Dog())"
   ],
   "metadata": {
    "collapsed": false,
    "pycharm": {
     "name": "#%%\n"
    }
   }
  },
  {
   "cell_type": "markdown",
   "source": [
    "Новый экземпляр Dog располагается по другому адресу памяти.\n",
    "#### The new instance of Dog is located at a different memory address.\n",
    "\n",
    "Дело в том, что это совершенно новый экземпляр, который никак не связан с первым объектом Dog, созданным ранее.\n",
    "#### The fact is that this is a completely new instance that has nothing to do with the first Dog object created earlier.\n",
    "\n",
    "Можно посмотреть на это иначе. Введите следующий фрагмент:\n",
    "#### You can look at it differently. Enter the following snippet:"
   ],
   "metadata": {
    "collapsed": false,
    "pycharm": {
     "name": "#%% md\n"
    }
   }
  },
  {
   "cell_type": "code",
   "execution_count": 43,
   "outputs": [
    {
     "data": {
      "text/plain": "False"
     },
     "execution_count": 43,
     "metadata": {},
     "output_type": "execute_result"
    }
   ],
   "source": [
    "a = Dog()\n",
    "b = Dog()\n",
    "a == b"
   ],
   "metadata": {
    "collapsed": false,
    "pycharm": {
     "name": "#%%\n"
    }
   }
  },
  {
   "cell_type": "markdown",
   "source": [
    "В этом коде создаются два объекта Dog, которые присваиваются переменным a и b. При сравнении a и b оператором == будет получен результат False. Хотя как a, так и b являются экземплярами класса Dog, они представляют два разных объекта в памяти.\n",
    "#### In this code, two Dog objects are created, which are assigned to variables a and b. When comparing a and b with the == operator, the result is False. Although both a and b are instances of the Dog class, they represent two different objects in memory.\n",
    "\n",
    "#### Атрибуты класса и экземпляра\n",
    "#### Class and Instance attributes\n",
    "\n",
    "Теперь создадим новый класс Dog с атрибутом класса .species и двумя атрибутами экземпляров .name и .age:\n",
    "#### Now let's create a new Dog class with the .species class attribute and two instance attributes.name and .age:"
   ],
   "metadata": {
    "collapsed": false,
    "pycharm": {
     "name": "#%% md\n"
    }
   }
  },
  {
   "cell_type": "code",
   "execution_count": 44,
   "outputs": [],
   "source": [
    "class Dog:\n",
    "    # Атрибут класса\n",
    "    species = \"Canis familiaris\"\n",
    "\n",
    "    def __init__(self, name, age):\n",
    "        self.name = name\n",
    "        self.age = age"
   ],
   "metadata": {
    "collapsed": false,
    "pycharm": {
     "name": "#%%\n"
    }
   }
  },
  {
   "cell_type": "markdown",
   "source": [
    "Чтобы создать объект класса Dog, необходимо задать значения для name и age. Если этого не сделать, Python выдаст ошибку TypeError:\n",
    "#### To create an object of the Dog class, you need to set values for name and age. If this is not done, Python throws a TypeError error:"
   ],
   "metadata": {
    "collapsed": false,
    "pycharm": {
     "name": "#%% md\n"
    }
   }
  },
  {
   "cell_type": "code",
   "execution_count": 45,
   "outputs": [
    {
     "ename": "TypeError",
     "evalue": "__init__() missing 2 required positional arguments: 'name' and 'age'",
     "output_type": "error",
     "traceback": [
      "\u001B[1;31m---------------------------------------------------------------------------\u001B[0m",
      "\u001B[1;31mTypeError\u001B[0m                                 Traceback (most recent call last)",
      "Input \u001B[1;32mIn [45]\u001B[0m, in \u001B[0;36m<cell line: 1>\u001B[1;34m()\u001B[0m\n\u001B[1;32m----> 1\u001B[0m \u001B[43mDog\u001B[49m\u001B[43m(\u001B[49m\u001B[43m)\u001B[49m\n",
      "\u001B[1;31mTypeError\u001B[0m: __init__() missing 2 required positional arguments: 'name' and 'age'"
     ]
    }
   ],
   "source": [
    "Dog()"
   ],
   "metadata": {
    "collapsed": false,
    "pycharm": {
     "name": "#%%\n"
    }
   }
  },
  {
   "cell_type": "markdown",
   "source": [
    "Чтобы передать аргументы для параметров name и age, укажите соответствующие значения в круглых скобках после имени класса:\n",
    "#### To pass arguments for the name and age parameters, specify the corresponding values in parentheses after the class name:"
   ],
   "metadata": {
    "collapsed": false,
    "pycharm": {
     "name": "#%% md\n"
    }
   }
  },
  {
   "cell_type": "code",
   "execution_count": null,
   "outputs": [],
   "source": [
    "buddy = Dog(\"Buddy\", 9)\n",
    "miles = Dog(\"Miles\", 4)"
   ],
   "metadata": {
    "collapsed": false,
    "pycharm": {
     "name": "#%%\n"
    }
   }
  },
  {
   "cell_type": "markdown",
   "source": [
    "Этот фрагмент создает два экземпляра Dog - один представляет девятилетнюю собаку по кличке Buddy, а другой - четырехлетнюю собаку по кличке Miles.\n",
    "#### This fragment creates two instances of Dog - one represents a nine-year-old dog named Buddy, and the other a four-year-old dog named Miles.\n",
    "\n",
    "Метод .\\_\\_init\\_\\_() класса Dog получает три параметра, тогда почему в этом примере ему передаются только два аргумента?\n",
    "#### Method.\\_\\_init\\_\\_() of the Dog class gets three parameters, then why are only two arguments passed to it in this example?\n",
    "\n",
    "При создании объекта Dog Python создает новый экземпляр и передает его в первом параметре .\\_\\_init\\_\\_(), задавая self, и вам придется думать только о параметрах name и age.\n",
    "#### When creating a Dog object , Python creates a new instance and passes it in the first parameter .\\_\\_init\\_\\_() by setting self, and you'll only have to think about the name and age parameters.\n",
    "\n",
    "После того как экземпляры Dog будут созданы, вы можете обращаться к их атрибутам экземпляров с использованием точечной нотации:\n",
    "#### After the Dog instances are created, you can access their instance attributes using dot notation:"
   ],
   "metadata": {
    "collapsed": false,
    "pycharm": {
     "name": "#%% md\n"
    }
   }
  },
  {
   "cell_type": "code",
   "execution_count": null,
   "outputs": [],
   "source": [
    "print(buddy.name, buddy.age)\n",
    "print(miles.name, miles.age)"
   ],
   "metadata": {
    "collapsed": false,
    "pycharm": {
     "name": "#%%\n"
    }
   }
  },
  {
   "cell_type": "markdown",
   "source": [
    "Аналогичным образом можно обращаться к атрибутам класса:\n",
    "#### Similarly, you can access the attributes of the class:"
   ],
   "metadata": {
    "collapsed": false,
    "pycharm": {
     "name": "#%% md\n"
    }
   }
  },
  {
   "cell_type": "code",
   "execution_count": null,
   "outputs": [],
   "source": [
    "print(buddy.species)\n",
    "print(miles.species)"
   ],
   "metadata": {
    "collapsed": false,
    "pycharm": {
     "name": "#%%\n"
    }
   }
  },
  {
   "cell_type": "markdown",
   "source": [
    "Одно из самых больших преимуществ использования классов для организации данных заключается в том, что экземпляры гарантированно содержат все заданные атрибуты. Все экземпляры Dog содержат атрибуты . species, .name и .age, и вы можете обращаться к ним с полной уверенностью в том, что они всегда возвращают какое-либо значение.\n",
    "#### One of the biggest advantages of using classes to organize data is that instances are guaranteed to contain all the specified attributes. All Dog instances contain attributes . species, .name and .age, and you can refer to them with full confidence that they always return some value.\n",
    "\n",
    "Хотя атрибуты заведомо существуют, их значения можно менять динамически:\n",
    "#### Although attributes obviously exist, their values can be changed dynamically:"
   ],
   "metadata": {
    "collapsed": false,
    "pycharm": {
     "name": "#%% md\n"
    }
   }
  },
  {
   "cell_type": "code",
   "execution_count": 4,
   "outputs": [
    {
     "ename": "NameError",
     "evalue": "name 'buddy' is not defined",
     "output_type": "error",
     "traceback": [
      "\u001B[1;31m---------------------------------------------------------------------------\u001B[0m",
      "\u001B[1;31mNameError\u001B[0m                                 Traceback (most recent call last)",
      "Input \u001B[1;32mIn [4]\u001B[0m, in \u001B[0;36m<cell line: 1>\u001B[1;34m()\u001B[0m\n\u001B[1;32m----> 1\u001B[0m \u001B[38;5;28mprint\u001B[39m(\u001B[43mbuddy\u001B[49m\u001B[38;5;241m.\u001B[39mage)\n\u001B[0;32m      2\u001B[0m buddy\u001B[38;5;241m.\u001B[39mage \u001B[38;5;241m=\u001B[39m \u001B[38;5;241m10\u001B[39m\n\u001B[0;32m      3\u001B[0m \u001B[38;5;28mprint\u001B[39m(buddy\u001B[38;5;241m.\u001B[39mage)\n",
      "\u001B[1;31mNameError\u001B[0m: name 'buddy' is not defined"
     ]
    }
   ],
   "source": [
    "print(buddy.age)\n",
    "buddy.age = 10\n",
    "print(buddy.age)"
   ],
   "metadata": {
    "collapsed": false,
    "pycharm": {
     "name": "#%%\n"
    }
   }
  },
  {
   "cell_type": "code",
   "execution_count": null,
   "outputs": [],
   "source": [
    "print(miles.species)\n",
    "miles.species = \"Felis silvestris\"\n",
    "print(miles.species)"
   ],
   "metadata": {
    "collapsed": false,
    "pycharm": {
     "name": "#%%\n"
    }
   }
  },
  {
   "cell_type": "markdown",
   "source": [
    "Вывод заключается в том, что пользовательские объекты по умолчанию изменяемы. Вспомните: объект называется изменяемым, если он может изменяться динамически во время выполнения. Например, списки и словари являются изменяемыми, а строки и кортежи неизменяемы.\n",
    "#### The conclusion is that user objects are mutable by default. Remember: an object is called mutable if it can change dynamically during execution. For example, lists and dictionaries are mutable, and strings and tuples are immutable."
   ],
   "metadata": {
    "collapsed": false,
    "pycharm": {
     "name": "#%% md\n"
    }
   }
  },
  {
   "cell_type": "markdown",
   "source": [
    "#### Методы экземпляров\n",
    "#### Instance Methods\n",
    "\n",
    "Методами экземпляров называют функции, которые определяются внутри класса и могут вызываться только из экземпляра этого класса. Как и в случае с .\\_\\_init\\_\\_(), первым параметром метода экземпляра всегда является self.\n",
    "#### Instance methods are functions that are defined inside a class and can only be called from an instance of that class. As in the case of .\\_\\_init\\_\\_(), the first parameter of the instance method is always self.\n",
    "\n",
    "Помимо метода .\\_\\_init\\_\\_() добавим еще два метода:\n",
    "#### Besides the method .\\_\\_init\\_\\_() adding two more methods:\n",
    "1. Метод . description() возвращает строку с кличкой и возрастом собаки.\n",
    "#### 1. Method. description() returns a string with the dog's name and age.\n",
    "2. Метод . speak() получает один параметр sound и возвращает строку с кличкой собаки и транскрипцией звуков, которые она издает.\n",
    "#### 2. Method. speak() gets one sound parameter and returns a string with the dog's name and a transcription of the sounds it makes."
   ],
   "metadata": {
    "collapsed": false,
    "pycharm": {
     "name": "#%% md\n"
    }
   }
  },
  {
   "cell_type": "code",
   "execution_count": 47,
   "outputs": [],
   "source": [
    "class Dog:\n",
    "    # Атрибут класса\n",
    "    species = \"Canis familiaris\"\n",
    "\n",
    "    def __init__(self, name, age):\n",
    "        self.name = name\n",
    "        self.age = age\n",
    "    # Метод экземпляра\n",
    "    def description(self):\n",
    "       return f\"{self.name} is {self.age} years old\"\n",
    "    # Другой метод экземпляра\n",
    "    def speak(self, sound):\n",
    "        return f\"{self.name} says {sound}\""
   ],
   "metadata": {
    "collapsed": false,
    "pycharm": {
     "name": "#%%\n"
    }
   }
  },
  {
   "cell_type": "code",
   "execution_count": 48,
   "outputs": [
    {
     "data": {
      "text/plain": "'Miles is 4 years old'"
     },
     "execution_count": 48,
     "metadata": {},
     "output_type": "execute_result"
    }
   ],
   "source": [
    "miles = Dog(\"Miles\", 4)\n",
    "miles.description()"
   ],
   "metadata": {
    "collapsed": false,
    "pycharm": {
     "name": "#%%\n"
    }
   }
  },
  {
   "cell_type": "code",
   "execution_count": 49,
   "outputs": [
    {
     "data": {
      "text/plain": "'Miles says Woof Woof'"
     },
     "execution_count": 49,
     "metadata": {},
     "output_type": "execute_result"
    }
   ],
   "source": [
    "miles.speak('Woof Woof')"
   ],
   "metadata": {
    "collapsed": false,
    "pycharm": {
     "name": "#%%\n"
    }
   }
  },
  {
   "cell_type": "code",
   "execution_count": 50,
   "outputs": [
    {
     "data": {
      "text/plain": "'Miles says Bow Wow'"
     },
     "execution_count": 50,
     "metadata": {},
     "output_type": "execute_result"
    }
   ],
   "source": [
    "miles.speak('Bow Wow')"
   ],
   "metadata": {
    "collapsed": false,
    "pycharm": {
     "name": "#%%\n"
    }
   }
  },
  {
   "cell_type": "markdown",
   "source": [
    "В этом классе Dog метод .description() возвращает строку, содержащую информацию об экземпляре Dog из переменной miles.\n",
    "#### In this class , the Dog method .description() returns a string containing information about the Dog instance from the miles variable.\n",
    "\n",
    "При написании собственных классов желательно создать метод, который возвращает строку с полезной информацией об экземпляре класса. Тем не менее метод .description() - не самый подходящий способ.\n",
    "#### When writing your own classes, it is advisable to create a method that returns a string with useful information about the instance of the class. Nevertheless , the method .description() is not the most appropriate way."
   ],
   "metadata": {
    "collapsed": false,
    "pycharm": {
     "name": "#%% md\n"
    }
   }
  },
  {
   "cell_type": "markdown",
   "source": [
    "При создании объекта типа list можно воспользоваться функцией print () для вывода строки, которая выглядит как список:\n",
    "#### When creating a list object, you can use the print() function to output a string that looks like a list:"
   ],
   "metadata": {
    "collapsed": false,
    "pycharm": {
     "name": "#%% md\n"
    }
   }
  },
  {
   "cell_type": "code",
   "execution_count": 51,
   "outputs": [
    {
     "name": "stdout",
     "output_type": "stream",
     "text": [
      "['David', 'Dan', 'Joanna', 'Fletcher']\n"
     ]
    }
   ],
   "source": [
    "names = [\"David\", \"Dan\", \"Joanna\", \"Fletcher\"]\n",
    "print(names)"
   ],
   "metadata": {
    "collapsed": false,
    "pycharm": {
     "name": "#%%\n"
    }
   }
  },
  {
   "cell_type": "markdown",
   "source": [
    "А теперь посмотрим, что происходит при выводе объекта miles функцией print():\n",
    "#### And now let's see what happens when the miles object is output by the print() function:"
   ],
   "metadata": {
    "collapsed": false,
    "pycharm": {
     "name": "#%% md\n"
    }
   }
  },
  {
   "cell_type": "code",
   "execution_count": 52,
   "outputs": [
    {
     "name": "stdout",
     "output_type": "stream",
     "text": [
      "<__main__.Dog object at 0x000001E2563F99A0>\n"
     ]
    }
   ],
   "source": [
    "print(miles)"
   ],
   "metadata": {
    "collapsed": false,
    "pycharm": {
     "name": "#%%\n"
    }
   }
  },
  {
   "cell_type": "markdown",
   "source": [
    "При вызове print(miles) вы получаете загадочное сообщение, из которого можно узнать, что объект Dog находится в памяти по определенному адресу. Пользы от такого сообщения немного. Чтобы изменить выводимую информацию, следует определить специальный метод экземпляра с именем .\\_\\str\\_\\_()\n",
    "#### When you call print(miles), you get a mysterious message from which you can find out that the Dog object is in memory at a certain address. There is little benefit from such a message. To change the output information, you should define a special instance method with the name.\\_\\str\\_\\_()\n",
    "В окне редактора измените имя метода. description() класса Dog на .\\_\\str\\_\\_():\n",
    "#### In the editor window, change the method name. description() of the Dog class on .\\_\\str\\_\\_():"
   ],
   "metadata": {
    "collapsed": false,
    "pycharm": {
     "name": "#%% md\n"
    }
   }
  },
  {
   "cell_type": "code",
   "execution_count": 57,
   "outputs": [],
   "source": [
    "class Dog:\n",
    "    # Атрибут класса\n",
    "    species = \"Canis familiaris\"\n",
    "\n",
    "    def __init__(self, name, age):\n",
    "        self.name = name\n",
    "        self.age = age\n",
    "    # Метод экземпляра\n",
    "    def __str__(self):\n",
    "        return f\"{self.name} is {self.age} years old\"\n",
    "    # Другой метод экземпляра\n",
    "    def speak(self, sound):\n",
    "        return f\"{self.name} says {sound}\""
   ],
   "metadata": {
    "collapsed": false,
    "pycharm": {
     "name": "#%%\n"
    }
   }
  },
  {
   "cell_type": "code",
   "execution_count": 58,
   "outputs": [
    {
     "name": "stdout",
     "output_type": "stream",
     "text": [
      "Miles is 4 years old\n"
     ]
    }
   ],
   "source": [
    "miles = Dog(\"Miles\", 4)\n",
    "print(miles)"
   ],
   "metadata": {
    "collapsed": false,
    "pycharm": {
     "name": "#%%\n"
    }
   }
  },
  {
   "cell_type": "markdown",
   "source": [
    "Такие методы, как .\\_\\init\\_\\_() и .\\_\\str\\_\\_(),называются dunder-методами (dunder - сокращение от double underscores, то есть двойное подчеркивание).\n",
    "#### Methods such as .\\_\\init\\_\\_() and .\\_\\str\\_\\_(), are called dunder methods (dunder is short for double underscores, that is, double underscores).\n",
    "\n",
    "Существует много dunder-мeтoдoв, которые могут использоваться для настройки поведения классов в Python. Понимание dunder-мeтoдoв очень важно для освоения\n",
    "ООП на языке Python.\n",
    "#### There are many dunder methods that can be used to customize the behavior of classes in Python. Understanding dunder methods is very important for mastering\n",
    "OOP in Python."
   ],
   "metadata": {
    "collapsed": false,
    "pycharm": {
     "name": "#%% md\n"
    }
   }
  }
 ],
 "metadata": {
  "kernelspec": {
   "display_name": "Python 3",
   "language": "python",
   "name": "python3"
  },
  "language_info": {
   "codemirror_mode": {
    "name": "ipython",
    "version": 2
   },
   "file_extension": ".py",
   "mimetype": "text/x-python",
   "name": "python",
   "nbconvert_exporter": "python",
   "pygments_lexer": "ipython2",
   "version": "2.7.6"
  }
 },
 "nbformat": 4,
 "nbformat_minor": 0
}