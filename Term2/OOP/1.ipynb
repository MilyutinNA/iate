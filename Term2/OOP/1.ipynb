{
 "cells": [
  {
   "cell_type": "markdown",
   "source": [
    "Объектно-ориентированное программирование (ООП) представляет собой методологию структурирования программы за счет упаковки взаимосвязанных свойств и поведения в отдельные объекты.\n",
    "\n",
    "Объектно-ориентированное программирование (ООП) представляет собой методологию структурирования программы за счет упаковки взаимосвязанных свойств и поведения в отдельные объекты.\n",
    "\n",
    "Представьте программу как своего рода сборочную линию: на каждом этапе сборки отдельный узел системы (объект) обрабатывает материал, а в конечном итоге из сырья получается конечный продукт.\n",
    "\n",
    "#### ОПРЕДЕЛЕНИЕ КЛАССА\n",
    "\n",
    "Примитивные структуры данных - такие, как числа, строки, списки, - создавались для представления простой информации: стоимости килограмма яблок, названия стихотворения, ваши любимые цвета ... А если надо представить что-то более сложное?\n",
    "\n",
    "Допустим, вы хотите создать базу данных сотрудников в организации. Требуется хранить о каждом из них основную информацию: имя, возраст, должность и год поступления на работу.\n",
    "\n",
    "Одно из возможных решений - представить информацию о каждом сотруднике в виде списка:\n",
    "```\n",
    "kirk = [\"James Kirk\", 34, \"Captain\", 2265)\n",
    "spock [\"Spock\", 35, \"Science Officer\", 2254)\n",
    "mccoy = [\"Leonard МсСоу\", \"Chief Medical Officer\", 2266)\n",
    "```\n",
    "У такого подхода масса недостатков.\n",
    "\n",
    "Во-первых, усложняется сопровождение файлов с большим количеством кода. Если вы обратитесь к kirk[0] спустя какое-то время после объявления списка kirk, будете ли вы помнить, что элемент с индексом О содержит имя работника?\n",
    "\n",
    "Во-вторых, возможно возникновение ошибки, если для разных работников списки содержат разное количество элементов. В списке mccoy из приведенного выше примера возраст не указан, поэтому mccoy[l] вместо возраста вернет строку с должностью \"Chief Medical Officer\".\n",
    "\n",
    "Если вы хотите сделать такой код более управляемым и удобным в сопровождении, используйте классы - это отличный выход.\n",
    "\n",
    "#### Классы и экземпляры\n",
    "\n",
    "Классы применяются для создания пользовательских структур данных. Классы определяют функции, называемые **методами**; в них задаются поведение и действия, которые объект, созданный на основе класса, сможет выполнять со своими данными.\n",
    "\n",
    "В качестве примера мы создадим класс Dog для хранения информации о свойствах и поведении собак.\n",
    "\n",
    "Класс представляет собой «чертеж», то есть прототип для определения объектов. Он не содержит никаких данных. Класс Dog указывает, что кличка и возраст необходимы для определения собаки, но он не содержит клички и возраста никакой конкретной собаки.\n",
    "\n",
    "Если класс можно сравнить с чертежом, то **экземпляр** представляет собой объект, построенный на основе класса; он содержит реальные данные. Экземпляр класса Dog уже не является чертежом. Он представляет конкретную собаку - например, это может быть Майлз четырех лет от роду.\n",
    "\n",
    "Иначе говоря, класс можно сравнить с бланком или анкетой, а экземпляр - это анкета, заполненная информацией. Подобно тому как один вид анкеты разные люди могут заполнить данными, уникальными для каждого из них, на основе одного класса можно создать множество экземпляров.\n",
    "\n",
    "Как определить класс\n",
    "\n",
    "Все определения классов начинаются с ключевого слова class, за которым следует имя класса и двоеточие. Любой код с отступом, расположенный под определением класса, считается частью тела класса.\n",
    "\n",
    "Пример класса Dog:"
   ],
   "metadata": {
    "collapsed": false,
    "pycharm": {
     "name": "#%% md\n"
    }
   }
  },
  {
   "cell_type": "code",
   "execution_count": 37,
   "outputs": [],
   "source": [
    "class Dog:\n",
    "    pass"
   ],
   "metadata": {
    "collapsed": false,
    "pycharm": {
     "name": "#%%\n"
    }
   }
  },
  {
   "cell_type": "markdown",
   "source": [
    "Тело класса Dog состоит из одной команды: ключевого слова pass. Оно часто используется в качестве заполнителя, обозначающего, где в будущем появится код. Это позволит запустить код, при этом Python не будет выдавать сообщения об ошибках."
   ],
   "metadata": {
    "collapsed": false,
    "pycharm": {
     "name": "#%% md\n"
    }
   }
  },
  {
   "cell_type": "markdown",
   "source": [
    ">В Python имена классов принято записывать по ВотТакойСхеме, то есть слова сшиваются без пробелов и нижнего подчеркивания, через использование заглавных букв. Например, имя класса для конкретной породы собак может быть записано в виде JackRussellTerrier"
   ],
   "metadata": {
    "collapsed": false,
    "pycharm": {
     "name": "#%% md\n"
    }
   }
  },
  {
   "cell_type": "markdown",
   "source": [
    "Класс Dog пока не особо интересен. Давайте немного улучшим его, добавив свойства, которые должны быть общими для всех объектов Dog. Таких свойств может быть достаточно много: кличка, возраст, цвет, порода и т. д. Для простоты мы ограничимся кличкой и возрастом.\n",
    "\n",
    "Свойства, общие для всех объектов Dog, должны определяться в методе .\\_\\_init\\_\\_(). При создании нового объекта Dog метод .\\_\\_init\\_\\_() задает исходное состояние объекта, присваивая значения свойствам объекта. Иначе говоря, метод .\\_\\_init\\_\\_() инициализирует каждый экземпляр класса.\n",
    "\n",
    "Методу .\\_\\_init\\_\\_() может передаваться любое количество параметров, но первым параметром всегда является переменная с именем sel f. При создании нового экземпляра класса экземпляр автоматически передается в параметре self при вызове .\\_\\_init\\_\\_(), чтобы для объекта можно было задать новые атрибуты.\n",
    "\n",
    "Обновим класс Dog и добавим метод .\\_\\_init\\_\\_(), создающий атрибуты .name и .age:"
   ],
   "metadata": {
    "collapsed": false,
    "pycharm": {
     "name": "#%% md\n"
    }
   }
  },
  {
   "cell_type": "code",
   "execution_count": 38,
   "outputs": [],
   "source": [
    "class Dog:\n",
    "    def __init__(self, name, age):\n",
    "        self .name = name\n",
    "        self .age = age"
   ],
   "metadata": {
    "collapsed": false,
    "pycharm": {
     "name": "#%%\n"
    }
   }
  },
  {
   "cell_type": "markdown",
   "source": [
    "Обратите внимание: сигнатура метода .\\_\\_init\\_\\_() имеет отступ из четырех пробелов, а тело метода - из восьми пробелов. Эти отступы очень важны. Они сообщают Python, что метод .\\_\\_init\\_\\_() принадлежит классу Dog.\n",
    "\n",
    "В теле .\\_\\_init\\_\\_() содержатся две команды, в которых используется переменная\n",
    "self.\n",
    "1. self.name = name создает атрибут с именем name и присваивает ему значение параметра name.\n",
    "2. self.age = age создает атрибут с именем age и присваивает ему значение параметра age.\n",
    "\n",
    "Атрибуты, созданные в .\\_\\_init\\_\\_(), называются атрибутами экземпляров. Значение атрибута экземпляра относится к конкретному экземпляру класса. Все объекты Dog обладают атрибутами name и age, но значения name и age зависят от конкретного экземпляра Dog.\n",
    "\n",
    "С другой стороны, атрибуты класса имеют одно и то же значение для всех экземпляров класса. Атрибут класса можно определить, присваивая значение переменной name за пределами .\\_\\_init\\_\\_().\n",
    "\n",
    "Например, следующий класс Dog содержит атрибут класса с именем species и значением \"Canis familiaris\":"
   ],
   "metadata": {
    "collapsed": false,
    "pycharm": {
     "name": "#%% md\n"
    }
   }
  },
  {
   "cell_type": "code",
   "execution_count": 39,
   "outputs": [],
   "source": [
    "class Dog:\n",
    "    # Атрибут класса\n",
    "    species = \"Canis familiaris\"\n",
    "\n",
    "    def __init__(self, name, age):\n",
    "        self.name = name\n",
    "        self.age = age"
   ],
   "metadata": {
    "collapsed": false,
    "pycharm": {
     "name": "#%%\n"
    }
   }
  },
  {
   "cell_type": "markdown",
   "source": [
    "Атрибуты класса определяются непосредственно под первой строкой имени класса с отступом в четыре пробела. Им всегда должно присваиваться исходное значение. При создании экземпляра класса атрибуты класса формируются автоматически, и им присваиваются исходные значения. Используйте атрибуты класса для определения свойств, которые должны иметь одно и то же значение для всех экземпляров класса. Используйте атрибуты экземпляров для свойств, которые отличаются в разных экземплярах."
   ],
   "metadata": {
    "collapsed": false,
    "pycharm": {
     "name": "#%% md\n"
    }
   }
  },
  {
   "cell_type": "markdown",
   "source": [
    "#### СОЗДАНИЕ ЭКЗЕМПЛЯРОВ\n",
    "Создадим новый класс Dog, не содержащий ни атрибутов, ни\n",
    "методов."
   ],
   "metadata": {
    "collapsed": false,
    "pycharm": {
     "name": "#%% md\n"
    }
   }
  },
  {
   "cell_type": "code",
   "execution_count": 40,
   "outputs": [],
   "source": [
    "class Dog:\n",
    "    pass"
   ],
   "metadata": {
    "collapsed": false,
    "pycharm": {
     "name": "#%%\n"
    }
   }
  },
  {
   "cell_type": "markdown",
   "source": [
    "Чтобы создать новый объект Dog, введите имя класса, за которым следует пара круглых скобок:"
   ],
   "metadata": {
    "collapsed": false,
    "pycharm": {
     "name": "#%% md\n"
    }
   }
  },
  {
   "cell_type": "code",
   "execution_count": 41,
   "outputs": [
    {
     "name": "stdout",
     "output_type": "stream",
     "text": [
      "<__main__.Dog object at 0x000001E256CEDB50>\n"
     ]
    }
   ],
   "source": [
    "print(Dog())"
   ],
   "metadata": {
    "collapsed": false,
    "pycharm": {
     "name": "#%%\n"
    }
   }
  },
  {
   "cell_type": "markdown",
   "source": [
    "Теперь новый объект Dog существует по индивидуальному адресу. Загадочная строка из букв и цифр - адрес памяти, указывающий, где объект Dog хранится в памяти компьютера.\n",
    "\n",
    "Учтите, что адрес, который вы увидите в своей системе, будет другим.\n",
    "\n",
    "Теперь создайте второй объект Dog:"
   ],
   "metadata": {
    "collapsed": false,
    "pycharm": {
     "name": "#%% md\n"
    }
   }
  },
  {
   "cell_type": "code",
   "execution_count": 42,
   "outputs": [
    {
     "name": "stdout",
     "output_type": "stream",
     "text": [
      "<__main__.Dog object at 0x000001E256CED970>\n"
     ]
    }
   ],
   "source": [
    "print(Dog())"
   ],
   "metadata": {
    "collapsed": false,
    "pycharm": {
     "name": "#%%\n"
    }
   }
  },
  {
   "cell_type": "markdown",
   "source": [
    "Новый экземпляр Dog располагается по другому адресу памяти.\n",
    "\n",
    "Дело в том, что это совершенно новый экземпляр, который никак не связан с первым объектом Dog, созданным ранее.\n",
    "\n",
    "Можно посмотреть на это иначе. Введите следующий фрагмент:"
   ],
   "metadata": {
    "collapsed": false,
    "pycharm": {
     "name": "#%% md\n"
    }
   }
  },
  {
   "cell_type": "code",
   "execution_count": 43,
   "outputs": [
    {
     "data": {
      "text/plain": "False"
     },
     "execution_count": 43,
     "metadata": {},
     "output_type": "execute_result"
    }
   ],
   "source": [
    "a = Dog()\n",
    "b = Dog()\n",
    "a == b"
   ],
   "metadata": {
    "collapsed": false,
    "pycharm": {
     "name": "#%%\n"
    }
   }
  },
  {
   "cell_type": "markdown",
   "source": [
    "В этом коде создаются два объекта Dog, которые присваиваются переменным a и b. При сравнении a и b оператором == будет получен результат False. Хотя как a, так и b являются экземплярами класса Dog, они представляют два разных объекта в памяти.\n",
    "\n",
    "#### Атрибуты класса и экземпляра\n",
    "\n",
    "Теперь создадим новый класс Dog с атрибутом класса .species и двумя атрибутами экземпляров .name и .age:"
   ],
   "metadata": {
    "collapsed": false,
    "pycharm": {
     "name": "#%% md\n"
    }
   }
  },
  {
   "cell_type": "code",
   "execution_count": 44,
   "outputs": [],
   "source": [
    "class Dog:\n",
    "    # Атрибут класса\n",
    "    species = \"Canis familiaris\"\n",
    "\n",
    "    def __init__(self, name, age):\n",
    "        self.name = name\n",
    "        self.age = age"
   ],
   "metadata": {
    "collapsed": false,
    "pycharm": {
     "name": "#%%\n"
    }
   }
  },
  {
   "cell_type": "markdown",
   "source": [
    "Чтобы создать объект класса Dog, необходимо задать значения для name и age. Если этого не сделать, Python выдаст ошибку TypeError:"
   ],
   "metadata": {
    "collapsed": false,
    "pycharm": {
     "name": "#%% md\n"
    }
   }
  },
  {
   "cell_type": "code",
   "execution_count": 45,
   "outputs": [
    {
     "ename": "TypeError",
     "evalue": "__init__() missing 2 required positional arguments: 'name' and 'age'",
     "output_type": "error",
     "traceback": [
      "\u001B[1;31m---------------------------------------------------------------------------\u001B[0m",
      "\u001B[1;31mTypeError\u001B[0m                                 Traceback (most recent call last)",
      "Input \u001B[1;32mIn [45]\u001B[0m, in \u001B[0;36m<cell line: 1>\u001B[1;34m()\u001B[0m\n\u001B[1;32m----> 1\u001B[0m \u001B[43mDog\u001B[49m\u001B[43m(\u001B[49m\u001B[43m)\u001B[49m\n",
      "\u001B[1;31mTypeError\u001B[0m: __init__() missing 2 required positional arguments: 'name' and 'age'"
     ]
    }
   ],
   "source": [
    "Dog()"
   ],
   "metadata": {
    "collapsed": false,
    "pycharm": {
     "name": "#%%\n"
    }
   }
  },
  {
   "cell_type": "markdown",
   "source": [
    "Чтобы передать аргументы для параметров name и age, укажите соответствующие значения в круглых скобках после имени класса:"
   ],
   "metadata": {
    "collapsed": false,
    "pycharm": {
     "name": "#%% md\n"
    }
   }
  },
  {
   "cell_type": "code",
   "execution_count": null,
   "outputs": [],
   "source": [
    "buddy = Dog(\"Buddy\", 9)\n",
    "miles = Dog(\"Miles\", 4)"
   ],
   "metadata": {
    "collapsed": false,
    "pycharm": {
     "name": "#%%\n"
    }
   }
  },
  {
   "cell_type": "markdown",
   "source": [
    "Этот фрагмент создает два экземпляра Dog - один представляет девятилетнюю собаку по кличке Buddy, а другой - четырехлетнюю собаку по кличке Miles.\n",
    "\n",
    "Метод .\\_\\_init\\_\\_() класса Dog получает три параметра, тогда почему в этом примере ему передаются только два аргумента?\n",
    "\n",
    "При создании объекта Dog Python создает новый экземпляр и передает его в первом параметре .\\_\\_init\\_\\_(), задавая self, и вам придется думать только о параметрах name и age.\n",
    "После того как экземпляры Dog будут созданы, вы можете обращаться к их атрибутам экземпляров с использованием точечной нотации:"
   ],
   "metadata": {
    "collapsed": false,
    "pycharm": {
     "name": "#%% md\n"
    }
   }
  },
  {
   "cell_type": "code",
   "execution_count": null,
   "outputs": [],
   "source": [
    "print(buddy.name, buddy.age)\n",
    "print(miles.name, miles.age)"
   ],
   "metadata": {
    "collapsed": false,
    "pycharm": {
     "name": "#%%\n"
    }
   }
  },
  {
   "cell_type": "markdown",
   "source": [
    "Аналогичным образом можно обращаться к атрибутам класса:"
   ],
   "metadata": {
    "collapsed": false,
    "pycharm": {
     "name": "#%% md\n"
    }
   }
  },
  {
   "cell_type": "code",
   "execution_count": null,
   "outputs": [],
   "source": [
    "print(buddy.species)\n",
    "print(miles.species)"
   ],
   "metadata": {
    "collapsed": false,
    "pycharm": {
     "name": "#%%\n"
    }
   }
  },
  {
   "cell_type": "markdown",
   "source": [
    "Одно из самых больших преимуществ использования классов для организации данных заключается в том, что экземпляры гарантированно содержат все заданные атрибуты. Все экземпляры Dog содержат атрибуты . species, .name и .age, и вы можете обращаться к ним с полной уверенностью в том, что они всегда возвращают какое-либо значение.\n",
    "\n",
    "Хотя атрибуты заведомо существуют, их значения можно менять динамически:"
   ],
   "metadata": {
    "collapsed": false,
    "pycharm": {
     "name": "#%% md\n"
    }
   }
  },
  {
   "cell_type": "code",
   "execution_count": null,
   "outputs": [],
   "source": [
    "print(buddy.age)\n",
    "buddy.age = 10\n",
    "print(buddy.age)"
   ],
   "metadata": {
    "collapsed": false,
    "pycharm": {
     "name": "#%%\n"
    }
   }
  },
  {
   "cell_type": "code",
   "execution_count": null,
   "outputs": [],
   "source": [
    "print(miles.species)\n",
    "miles.species = \"Felis silvestris\"\n",
    "print(miles.species)"
   ],
   "metadata": {
    "collapsed": false,
    "pycharm": {
     "name": "#%%\n"
    }
   }
  },
  {
   "cell_type": "markdown",
   "source": [
    "Вывод заключается в том, что пользовательские объекты по умолчанию изменяемы. Вспомните: объект называется изменяемым, если он может изменяться динамически во время выполнения. Например, списки и словари являются изменяемыми, а строки и кортежи неизменяемы."
   ],
   "metadata": {
    "collapsed": false,
    "pycharm": {
     "name": "#%% md\n"
    }
   }
  },
  {
   "cell_type": "markdown",
   "source": [
    "#### Методы экземпляров\n",
    "\n",
    "Методами экземпляров называют функции, которые определяются внутри класса и могут вызываться только из экземпляра этого класса. Как и в случае с .\\_\\_init\\_\\_(), первым параметром метода экземпляра всегда является self.\n",
    "\n",
    "Помимо метода .\\_\\_init\\_\\_() добавим еще два метода:\n",
    "1. Метод . description() возвращает строку с кличкой и возрастом собаки.\n",
    "2. Метод . speak() получает один параметр sound и возвращает строку с кличкой собаки и транскрипцией звуков, которые она издает."
   ],
   "metadata": {
    "collapsed": false,
    "pycharm": {
     "name": "#%% md\n"
    }
   }
  },
  {
   "cell_type": "code",
   "execution_count": 47,
   "outputs": [],
   "source": [
    "class Dog:\n",
    "    # Атрибут класса\n",
    "    species = \"Canis familiaris\"\n",
    "\n",
    "    def __init__(self, name, age):\n",
    "        self.name = name\n",
    "        self.age = age\n",
    "    # Метод экземпляра\n",
    "    def description(self):\n",
    "       return f\"{self.name} is {self.age} years old\"\n",
    "    # Другой метод экземпляра\n",
    "    def speak(self, sound):\n",
    "        return f\"{self.name} says {sound}\""
   ],
   "metadata": {
    "collapsed": false,
    "pycharm": {
     "name": "#%%\n"
    }
   }
  },
  {
   "cell_type": "code",
   "execution_count": 48,
   "outputs": [
    {
     "data": {
      "text/plain": "'Miles is 4 years old'"
     },
     "execution_count": 48,
     "metadata": {},
     "output_type": "execute_result"
    }
   ],
   "source": [
    "miles = Dog(\"Miles\", 4)\n",
    "miles.description()"
   ],
   "metadata": {
    "collapsed": false,
    "pycharm": {
     "name": "#%%\n"
    }
   }
  },
  {
   "cell_type": "code",
   "execution_count": 49,
   "outputs": [
    {
     "data": {
      "text/plain": "'Miles says Woof Woof'"
     },
     "execution_count": 49,
     "metadata": {},
     "output_type": "execute_result"
    }
   ],
   "source": [
    "miles.speak('Woof Woof')"
   ],
   "metadata": {
    "collapsed": false,
    "pycharm": {
     "name": "#%%\n"
    }
   }
  },
  {
   "cell_type": "code",
   "execution_count": 50,
   "outputs": [
    {
     "data": {
      "text/plain": "'Miles says Bow Wow'"
     },
     "execution_count": 50,
     "metadata": {},
     "output_type": "execute_result"
    }
   ],
   "source": [
    "miles.speak('Bow Wow')"
   ],
   "metadata": {
    "collapsed": false,
    "pycharm": {
     "name": "#%%\n"
    }
   }
  },
  {
   "cell_type": "markdown",
   "source": [
    "В этом классе Dog метод .description() возвращает строку, содержащую информацию об экземпляре Dog из переменной miles. При написании собственных классов желательно создать метод, который возвращает строку с полезной информацией об экземпляре класса. Тем не менее метод .description() - не самый подходящий способ."
   ],
   "metadata": {
    "collapsed": false,
    "pycharm": {
     "name": "#%% md\n"
    }
   }
  },
  {
   "cell_type": "markdown",
   "source": [
    "При создании объекта типа list можно воспользоваться функцией print () для вывода строки, которая выглядит как список:"
   ],
   "metadata": {
    "collapsed": false,
    "pycharm": {
     "name": "#%% md\n"
    }
   }
  },
  {
   "cell_type": "code",
   "execution_count": 51,
   "outputs": [
    {
     "name": "stdout",
     "output_type": "stream",
     "text": [
      "['David', 'Dan', 'Joanna', 'Fletcher']\n"
     ]
    }
   ],
   "source": [
    "names = [\"David\", \"Dan\", \"Joanna\", \"Fletcher\"]\n",
    "print(names)"
   ],
   "metadata": {
    "collapsed": false,
    "pycharm": {
     "name": "#%%\n"
    }
   }
  },
  {
   "cell_type": "markdown",
   "source": [
    "А теперь посмотрим, что происходит при выводе объекта miles функцией print():"
   ],
   "metadata": {
    "collapsed": false,
    "pycharm": {
     "name": "#%% md\n"
    }
   }
  },
  {
   "cell_type": "code",
   "execution_count": 52,
   "outputs": [
    {
     "name": "stdout",
     "output_type": "stream",
     "text": [
      "<__main__.Dog object at 0x000001E2563F99A0>\n"
     ]
    }
   ],
   "source": [
    "print(miles)"
   ],
   "metadata": {
    "collapsed": false,
    "pycharm": {
     "name": "#%%\n"
    }
   }
  },
  {
   "cell_type": "markdown",
   "source": [
    "При вызове print(miles) вы получаете загадочное сообщение, из которого можно узнать, что объект Dog находится в памяти по определенному адресу. Пользы от такого сообщения немного. Чтобы изменить выводимую информацию, следует определить специальный метод экземпляра с именем .\\_\\str\\_\\_()\n",
    "В окне редактора измените имя метода. description() класса Dog на .\\_\\str\\_\\_():"
   ],
   "metadata": {
    "collapsed": false,
    "pycharm": {
     "name": "#%% md\n"
    }
   }
  },
  {
   "cell_type": "code",
   "execution_count": 57,
   "outputs": [],
   "source": [
    "class Dog:\n",
    "    # Атрибут класса\n",
    "    species = \"Canis familiaris\"\n",
    "\n",
    "    def __init__(self, name, age):\n",
    "        self.name = name\n",
    "        self.age = age\n",
    "    # Метод экземпляра\n",
    "    def __str__(self):\n",
    "        return f\"{self.name} is {self.age} years old\"\n",
    "    # Другой метод экземпляра\n",
    "    def speak(self, sound):\n",
    "        return f\"{self.name} says {sound}\""
   ],
   "metadata": {
    "collapsed": false,
    "pycharm": {
     "name": "#%%\n"
    }
   }
  },
  {
   "cell_type": "code",
   "execution_count": 58,
   "outputs": [
    {
     "name": "stdout",
     "output_type": "stream",
     "text": [
      "Miles is 4 years old\n"
     ]
    }
   ],
   "source": [
    "miles = Dog(\"Miles\", 4)\n",
    "print(miles)"
   ],
   "metadata": {
    "collapsed": false,
    "pycharm": {
     "name": "#%%\n"
    }
   }
  },
  {
   "cell_type": "markdown",
   "source": [
    "Такие методы, как .\\_\\init\\_\\_() и .\\_\\str\\_\\_(),называются dunder-методами (dunder - сокращение от double underscores, то есть двойное подчеркивание).\n",
    "\n",
    "Существует много dunder-мeтoдoв, которые могут использоваться для настройки поведения классов в Python. Понимание dunder-мeтoдoв очень важно для освоения\n",
    "ООП на языке Python."
   ],
   "metadata": {
    "collapsed": false,
    "pycharm": {
     "name": "#%% md\n"
    }
   }
  }
 ],
 "metadata": {
  "kernelspec": {
   "display_name": "Python 3",
   "language": "python",
   "name": "python3"
  },
  "language_info": {
   "codemirror_mode": {
    "name": "ipython",
    "version": 2
   },
   "file_extension": ".py",
   "mimetype": "text/x-python",
   "name": "python",
   "nbconvert_exporter": "python",
   "pygments_lexer": "ipython2",
   "version": "2.7.6"
  }
 },
 "nbformat": 4,
 "nbformat_minor": 0
}