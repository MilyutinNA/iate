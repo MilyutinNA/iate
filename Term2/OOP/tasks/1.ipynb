{
 "cells": [
  {
   "cell_type": "markdown",
   "source": [
    "### Упражнения\n",
    "1. Измените класс Dog и включите в него третий атрибут экземпляра с именем coat_color, в котором будет храниться цвет шерсти собаки в виде строки. Сохраните новый класс в файле и протестируйте его, добавив следующий фрагмент в конец программы:\n",
    "\n",
    "```\n",
    "        philo = Dog(\"Philo\", 5, \"brown\")\n",
    "        print(f\"{philo.name}'s coat is {philo.coat_color}.\")\n",
    "```\n",
    "\n",
    "Программа должна выводить следующий результат:\n",
    "\n",
    "```\n",
    "        Philo's coat is brown.\n",
    "```\n",
    "\n",
    "2. Создайте класс Car с двумя атрибутами экземпляров: .color для хранения цвета машины в виде строки и .mileage для хранения пробега в милях в виде целого числа. Создайте два объекта Car - синюю машину с пробегом 20 ООО и красную с пробегом 30 ООО. Выведите данные на каждую машину. Результат должен выглядеть так:\n",
    "\n",
    "```\n",
    "        The blue car has 20,000 miles.\n",
    "        The red car has 30,000 miles.\n",
    "```\n",
    "\n",
    "3. Измените класс Car и добавьте в него метод экземпляра .drive(), который получает числовой аргумент и прибавляет его к атрибуту .mileage. Убедитесь в том, что ваше решение работает; создайте экземпляр с нулевым пробегом, вызовите .drive(100) и выведите атрибут .mileage, чтобы убедиться в том, что он принял значение 100."
   ],
   "metadata": {
    "collapsed": false,
    "pycharm": {
     "name": "#%% md\n"
    }
   }
  }
 ],
 "metadata": {
  "kernelspec": {
   "display_name": "Python 3",
   "language": "python",
   "name": "python3"
  },
  "language_info": {
   "codemirror_mode": {
    "name": "ipython",
    "version": 2
   },
   "file_extension": ".py",
   "mimetype": "text/x-python",
   "name": "python",
   "nbconvert_exporter": "python",
   "pygments_lexer": "ipython2",
   "version": "2.7.6"
  }
 },
 "nbformat": 4,
 "nbformat_minor": 0
}