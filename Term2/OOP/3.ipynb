{
 "cells": [
  {
   "cell_type": "markdown",
   "source": [
    "##### Знакомство с библиотекой tkinter\n",
    "tkinter – это кроссплатформенная библиотека для разработки графического интерфейса на языке Python\n",
    "\n",
    "Чтобы написать GUI-программу, надо выполнить приблизительно следующее:\n",
    "\n",
    "1. Создать главное окно.\n",
    "2. Создать виджеты и выполнить конфигурацию их свойств (опций).\n",
    "3. Определить события, то есть то, на что будет реагировать программа.\n",
    "4. Описать обработчики событий, то есть то, как будет реагировать программа.\n",
    "5. Расположить виджеты в главном окне.\n",
    "6. Запустить цикл обработки событий."
   ],
   "metadata": {
    "collapsed": false,
    "pycharm": {
     "name": "#%% md\n"
    }
   }
  },
  {
   "cell_type": "code",
   "execution_count": null,
   "outputs": [],
   "source": [
    "from tkinter import *"
   ],
   "metadata": {
    "collapsed": false,
    "pycharm": {
     "name": "#%%\n"
    }
   }
  },
  {
   "cell_type": "markdown",
   "source": [
    "##### class Tk\n",
    "В современных операционных системах любое пользовательское приложение заключено в окно, которое можно назвать главным, так как в нем располагаются все остальные виджеты. Объект окна верхнего уровня создается от класса Tk модуля tkinter. Переменную, связываемую с объектом, часто называют root (корень):"
   ],
   "metadata": {
    "collapsed": false,
    "pycharm": {
     "name": "#%% md\n"
    }
   }
  },
  {
   "cell_type": "code",
   "execution_count": null,
   "outputs": [],
   "source": [
    "root = Tk()\n",
    "root.mainloop()"
   ],
   "metadata": {
    "collapsed": false,
    "pycharm": {
     "name": "#%%\n"
    }
   }
  },
  {
   "cell_type": "markdown",
   "source": [
    "##### class Label\n",
    "Класс Label позволяет создавать текст. Чтобы отобразить элемент в GUI интерфейсе, который мы назвали как root, необходимо к экземпляру класса Label применить метод pack().\n",
    " В дальнейшем мы познакомимся и с другими классами отображения элементов в интерфейсе. Пока что рассмотрим упаковку элемента класса Label"
   ],
   "metadata": {
    "collapsed": false,
    "pycharm": {
     "name": "#%% md\n"
    }
   }
  },
  {
   "cell_type": "code",
   "execution_count": null,
   "metadata": {
    "collapsed": true,
    "pycharm": {
     "name": "#%%\n"
    }
   },
   "outputs": [],
   "source": [
    "root = Tk()\n",
    "# Creating a Label Widget\n",
    "myLabel = Label(root, text='Hello World')\n",
    "#Shoving it onto the screen\n",
    "myLabel.pack()\n",
    "\n",
    "root.mainloop()"
   ]
  },
  {
   "cell_type": "markdown",
   "source": [
    "##### Можно вызывать методы в строке создания объекта класса\n",
    "В лекциях будет применяться такой подход, если он возможен, для того чтобы сделать примеры короче"
   ],
   "metadata": {
    "collapsed": false,
    "pycharm": {
     "name": "#%% md\n"
    }
   }
  },
  {
   "cell_type": "code",
   "execution_count": null,
   "outputs": [],
   "source": [
    "root = Tk()\n",
    "# Creating a Label Widget\n",
    "Label(root, text='Hello').pack()\n",
    "Label(root, text='World!').pack()\n",
    "\n",
    "root.mainloop()"
   ],
   "metadata": {
    "collapsed": false,
    "pycharm": {
     "name": "#%%\n"
    }
   }
  },
  {
   "cell_type": "markdown",
   "source": [
    "##### function grid()\n",
    "Функция grid(), как и функция pack() позволяет отобразить элемент в созданном интерфейсе.\n",
    "Однако, если pack() отображает элементы сверху вниз, то grid() позволяет создавать массив из элементов. Ниже создадим массив 2х2"
   ],
   "metadata": {
    "collapsed": false,
    "pycharm": {
     "name": "#%% md\n"
    }
   }
  },
  {
   "cell_type": "code",
   "execution_count": null,
   "outputs": [],
   "source": [
    "root = Tk()\n",
    "\n",
    "Label(root, text='_11_').grid(row=0,column=0)\n",
    "Label(root, text='_12_').grid(row=0,column=1)\n",
    "Label(root, text='').grid(row=1,column=0)\n",
    "Label(root, text='_22_').grid(row=1,column=1)\n",
    "\n",
    "root.mainloop()"
   ],
   "metadata": {
    "collapsed": false,
    "pycharm": {
     "name": "#%%\n"
    }
   }
  },
  {
   "cell_type": "markdown",
   "source": [
    "##### class Button\n",
    "Класс Button позволяет создать кнопки"
   ],
   "metadata": {
    "collapsed": false,
    "pycharm": {
     "name": "#%% md\n"
    }
   }
  },
  {
   "cell_type": "code",
   "execution_count": null,
   "outputs": [],
   "source": [
    "root = Tk()\n",
    "\n",
    "Label(root, text='Hey there').pack()\n",
    "Button(root, text='Click on me!').pack()\n",
    "\n",
    "root.mainloop()"
   ],
   "metadata": {
    "collapsed": false,
    "pycharm": {
     "name": "#%%\n"
    }
   }
  },
  {
   "cell_type": "markdown",
   "source": [
    "Как и в случае с Label к элементам класса Button применимы функции pack() и grid()"
   ],
   "metadata": {
    "collapsed": false,
    "pycharm": {
     "name": "#%% md\n"
    }
   }
  },
  {
   "cell_type": "code",
   "execution_count": null,
   "outputs": [],
   "source": [
    "root = Tk()\n",
    "\n",
    "Button(root, text='Hey there').grid(row=0,column=0)\n",
    "Button(root, text='Click on me!').grid(row=0,column=1)\n",
    "\n",
    "root.mainloop()"
   ],
   "metadata": {
    "collapsed": false,
    "pycharm": {
     "name": "#%%\n"
    }
   }
  },
  {
   "cell_type": "markdown",
   "source": [
    "padx - размер кнопки в пикселях по оси x,\n",
    "pady - размер кнопки в пикселях по оси y"
   ],
   "metadata": {
    "collapsed": false,
    "pycharm": {
     "name": "#%% md\n"
    }
   }
  },
  {
   "cell_type": "code",
   "execution_count": null,
   "outputs": [],
   "source": [
    "root = Tk()\n",
    "\n",
    "Label(root, text='Hey there').pack()\n",
    "Button(root, text='Click on me!', padx=200, pady=50).pack()\n",
    "\n",
    "root.mainloop()"
   ],
   "metadata": {
    "collapsed": false,
    "pycharm": {
     "name": "#%%\n"
    }
   }
  },
  {
   "cell_type": "markdown",
   "source": [
    "fg - цвет текста кнопки\n",
    "bg - цвет кнопки"
   ],
   "metadata": {
    "collapsed": false,
    "pycharm": {
     "name": "#%% md\n"
    }
   }
  },
  {
   "cell_type": "code",
   "execution_count": null,
   "outputs": [],
   "source": [
    "root = Tk()\n",
    "\n",
    "Label(root, text='Hey there').pack()\n",
    "Button(root, text='Click on me!', fg='white', bg='#52AE30').pack()\n",
    "\n",
    "root.mainloop()"
   ],
   "metadata": {
    "collapsed": false,
    "pycharm": {
     "name": "#%%\n"
    }
   }
  },
  {
   "cell_type": "markdown",
   "source": [
    "command позволяет вызывать функцию при нажатии на кнопку.\n",
    "При этом если функция указана в формате func, то вызываться она будет только после нажатия на кнопку, тогда как в формате func() она вызывается перед кнопкой при инициализации интерфейса"
   ],
   "metadata": {
    "collapsed": false,
    "pycharm": {
     "name": "#%% md\n"
    }
   }
  },
  {
   "cell_type": "code",
   "execution_count": null,
   "outputs": [],
   "source": [
    "root = Tk()\n",
    "\n",
    "def under_button():\n",
    "    Label(root, text='Hey there').pack()\n",
    "\n",
    "#command=under_button\n",
    "Button(root, text='Click on me!', command=under_button).pack()\n",
    "\n",
    "root.mainloop()"
   ],
   "metadata": {
    "collapsed": false,
    "pycharm": {
     "name": "#%%\n"
    }
   }
  },
  {
   "cell_type": "markdown",
   "source": [
    "command=under_button() вызывается перед кнопкой"
   ],
   "metadata": {
    "collapsed": false,
    "pycharm": {
     "name": "#%% md\n"
    }
   }
  },
  {
   "cell_type": "code",
   "execution_count": null,
   "outputs": [],
   "source": [
    "root = Tk()\n",
    "\n",
    "def under_button():\n",
    "    Label(root, text='Hey there').pack()\n",
    "\n",
    "#command=under_button()\n",
    "Button(root, text='Click on me!', command=under_button()).pack()\n",
    "\n",
    "root.mainloop()"
   ],
   "metadata": {
    "collapsed": false,
    "pycharm": {
     "name": "#%%\n"
    }
   }
  },
  {
   "cell_type": "markdown",
   "source": [
    "Можно создать кнопку на изображении.\n",
    "Используя параметр image, передадим объект класса PhotoImage"
   ],
   "metadata": {
    "collapsed": false,
    "pycharm": {
     "name": "#%% md\n"
    }
   }
  },
  {
   "cell_type": "code",
   "execution_count": null,
   "outputs": [],
   "source": [
    "root = Tk()\n",
    "\n",
    "def under_button():\n",
    "    Label(root, text=f'Hello').pack()\n",
    "\n",
    "photo = PhotoImage(file = r\"Button.png\")\n",
    "#command=under_button\n",
    "Button(root, command=under_button,image=photo, borderwidth=0).pack()\n",
    "\n",
    "root.mainloop()"
   ],
   "metadata": {
    "collapsed": false,
    "pycharm": {
     "name": "#%%\n"
    }
   }
  },
  {
   "cell_type": "markdown",
   "source": [
    "##### class Entry\n",
    "Класс Entry позволяет создать поле для ввода текста\n",
    "width - длина поля\n",
    "borderwidth - толщина границы"
   ],
   "metadata": {
    "collapsed": false,
    "pycharm": {
     "name": "#%% md\n"
    }
   }
  },
  {
   "cell_type": "code",
   "execution_count": null,
   "outputs": [],
   "source": [
    "root = Tk()\n",
    "\n",
    "Entry(root, fg='#222222', bg='#EBE0AA', width=100, borderwidth=10).pack()\n",
    "\n",
    "def under_button():\n",
    "    Label(root, text='Hey there').pack()\n",
    "\n",
    "#command=under_button\n",
    "Button(root, text='Click on me!', command=under_button).pack()\n",
    "\n",
    "root.mainloop()"
   ],
   "metadata": {
    "collapsed": false,
    "pycharm": {
     "name": "#%%\n"
    }
   }
  },
  {
   "cell_type": "markdown",
   "source": [
    "Функция get() в классе Entry позволяет получить текст из поля ввода.\n",
    "Добавим его в нашу функцию under_button"
   ],
   "metadata": {
    "collapsed": false,
    "pycharm": {
     "name": "#%% md\n"
    }
   }
  },
  {
   "cell_type": "code",
   "execution_count": null,
   "outputs": [],
   "source": [
    "root = Tk()\n",
    "\n",
    "e = Entry(root, fg='#222222', bg='#EBE0AA', width=50)\n",
    "e.pack()\n",
    "\n",
    "def under_button():\n",
    "    Label(root, text=f'Hello {e.get()}').pack()\n",
    "\n",
    "#command=under_button\n",
    "Button(root, text='Enter Your Name', command=under_button).pack()\n",
    "\n",
    "root.mainloop()"
   ],
   "metadata": {
    "collapsed": false,
    "pycharm": {
     "name": "#%%\n"
    }
   }
  },
  {
   "cell_type": "markdown",
   "source": [
    "Функция insert() в классе Entry позволяет вставить текст в поле ввода.\n",
    "Добавим его в нашу функцию under_button"
   ],
   "metadata": {
    "collapsed": false,
    "pycharm": {
     "name": "#%% md\n"
    }
   }
  },
  {
   "cell_type": "code",
   "execution_count": null,
   "outputs": [],
   "source": [
    "from tkinter import *\n",
    "\n",
    "root = Tk()\n",
    "\n",
    "e = Entry(root, width=50)\n",
    "e.pack()\n",
    "e.insert(1, 'одиндва')\n",
    "e.insert(0, '123')\n",
    "\n",
    "def under_button():\n",
    "    Label(root, text=f'Hello {e.get()}').pack()\n",
    "\n",
    "\n",
    "\n",
    "photo = PhotoImage(file = r\"green_button.png\")\n",
    "#command=under_button\n",
    "Button(root, command=under_button,image=photo, borderwidth=0).pack()\n",
    "\n",
    "root.mainloop()"
   ],
   "metadata": {
    "collapsed": false,
    "pycharm": {
     "name": "#%%\n"
    }
   }
  },
  {
   "cell_type": "markdown",
   "source": [
    "Мы можем прописать несколько команд для элементов страницы. Для этого воспользуемся лямбда-функцией. Пусть при нажатии на кнопку, она будет изменять свой цвет и не будет исполнять никаких функций\n",
    "Для начала вспомним что такое лямбда-функция. Понятнее будет, если сравнивать ее с обычной функцией"
   ],
   "metadata": {
    "collapsed": false,
    "pycharm": {
     "name": "#%% md\n"
    }
   }
  },
  {
   "cell_type": "code",
   "execution_count": null,
   "outputs": [],
   "source": [
    "num_x = 2\n",
    "def short_function(x=num_x):\n",
    "    return x * 2\n",
    "\n",
    "equiv_anon = lambda x=num_x: x * 2\n",
    "\n",
    "a = short_function()\n",
    "b = equiv_anon()\n",
    "print(a, b)\n",
    "\n",
    "c = short_function(3)\n",
    "d = equiv_anon(3)\n",
    "print(c, d)"
   ],
   "metadata": {
    "collapsed": false,
    "pycharm": {
     "name": "#%%\n"
    }
   }
  },
  {
   "cell_type": "code",
   "execution_count": null,
   "outputs": [],
   "source": [
    "from tkinter import *\n",
    "\n",
    "root = Tk()\n",
    "\n",
    "e = Entry(root, width=50)\n",
    "e.pack()\n",
    "\n",
    "def under_button():\n",
    "    Label(root, text=f'Hello {e.get()}').pack()\n",
    "\n",
    "def change_button(x):\n",
    "    a.config(bg='white', image=x, command='')\n",
    "\n",
    "photo_green = PhotoImage(file = r\"green_button.png\")\n",
    "photo_gray = PhotoImage(file = r\"gray_button.png\")\n",
    "#command=under_button\n",
    "a = Button(root, command=lambda x = photo_gray: [under_button(),change_button(x)],image=photo_green, borderwidth=0)\n",
    "a.pack()\n",
    "\n",
    "root.mainloop()"
   ],
   "metadata": {
    "collapsed": false,
    "pycharm": {
     "name": "#%%\n"
    }
   }
  },
  {
   "cell_type": "markdown",
   "source": [
    "Выведем погоду в Обнинске используя API openweathermap (https://home.openweathermap.org/api_keys)"
   ],
   "metadata": {
    "collapsed": false,
    "pycharm": {
     "name": "#%% md\n"
    }
   }
  },
  {
   "cell_type": "code",
   "execution_count": null,
   "outputs": [],
   "source": [
    "from tkinter import *\n",
    "import requests\n",
    "\n",
    "root = Tk()\n",
    "\n",
    "e = Entry(root, width=50)\n",
    "e.pack()\n",
    "\n",
    "def get_weather():\n",
    "\n",
    "    key = '8cfbbf5c27ead5d2adc5a40793eb06b9'\n",
    "    url = 'http://api.openweathermap.org/data/2.5/weather'\n",
    "    city = e.get()\n",
    "\n",
    "    params = {'lang': 'ru', 'appid': key, 'q': city, 'units': 'metric'}\n",
    "\n",
    "    response = requests.get(url, params=params)\n",
    "\n",
    "    dict = response.json()\n",
    "    desc = dict['weather'][0]['description']\n",
    "    temp = dict['main'][0]['temp']\n",
    "\n",
    "    Label(root, text=f'Погода в {city}: {desc}, температура {temp} градусов Цельсия').pack()\n",
    "\n",
    "photo_green = PhotoImage(file = r\"green_button.png\")\n",
    "photo_gray = PhotoImage(file = r\"gray_button.png\")\n",
    "#command=under_button\n",
    "a = Button(root, command=get_weather,image=photo_green, borderwidth=0)\n",
    "a.pack()\n",
    "\n",
    "root.mainloop()"
   ],
   "metadata": {
    "collapsed": false,
    "pycharm": {
     "name": "#%%\n"
    }
   }
  },
  {
   "cell_type": "code",
   "execution_count": null,
   "outputs": [],
   "source": [],
   "metadata": {
    "collapsed": false,
    "pycharm": {
     "name": "#%%\n"
    }
   }
  }
 ],
 "metadata": {
  "kernelspec": {
   "display_name": "Python 3",
   "language": "python",
   "name": "python3"
  },
  "language_info": {
   "codemirror_mode": {
    "name": "ipython",
    "version": 2
   },
   "file_extension": ".py",
   "mimetype": "text/x-python",
   "name": "python",
   "nbconvert_exporter": "python",
   "pygments_lexer": "ipython2",
   "version": "2.7.6"
  }
 },
 "nbformat": 4,
 "nbformat_minor": 0
}