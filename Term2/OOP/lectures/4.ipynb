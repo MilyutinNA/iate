{
 "cells": [
  {
   "cell_type": "markdown",
   "source": [
    "#### Введение в функции диалогового окна открытия файла Tkinter\n",
    "\n",
    "* Используйте эту askopenfilename() функцию для отображения диалогового окна открытия файла, которое позволяет пользователям выбрать один файл.\n",
    "\n",
    "* Используйте эту askopenfilenames() функцию для отображения диалогового окна открытия файла, которое позволяет пользователям выбирать несколько файлов.\n",
    "\n",
    "* Используйте функцию askopenfile() или askopenfiles() для отображения диалогового окна открытия файла, которое позволяет пользователям выбирать один или несколько файлов и получать файл или несколько файловых объектов.\n",
    "\n",
    "При разработке приложения Tkinter, работающего с файловой системой, вам необходимо предоставить диалоговое окно, позволяющее выбирать файлы. Для этого можно использовать tkinter.filedialog модуль. Следующие шаги показывают, как отобразить диалоговое окно открытия файла (одного):\n",
    "\n",
    "Сначала импортируйте tkinter.filedialog модуль:\n",
    "\n",
    "```\n",
    "from tkinter import filedialog as fd\n",
    "```\n",
    "\n",
    "Во-вторых, вызовите fd.askopenfilename() функцию, чтобы отобразить диалоговое окно, позволяющее выбрать один файл:\n",
    "\n",
    "```\n",
    "filename = fd.askopenfilename()\n",
    "```\n",
    "\n",
    "Функция askopenfilename() возвращает имя файла, которое вы выбрали.\n",
    "\n",
    "Также askopenfilename() поддерживаются другие полезные параметры, в том числе начальный каталог, отображаемый в диалоговом окне, или фильтрация файлов по их расширениям.\n",
    "\n",
    "Следующая программа отображает кнопку нажатие на которую открывает диалоговое окно с файлом. После выбора файла программа покажет полный путь к выбранному файлу:"
   ],
   "metadata": {
    "collapsed": false,
    "pycharm": {
     "name": "#%% md\n"
    }
   }
  },
  {
   "cell_type": "code",
   "execution_count": 11,
   "outputs": [
    {
     "name": "stdout",
     "output_type": "stream",
     "text": [
      " 0\n",
      " 0\n",
      "C:/Users/Nikita/Desktop/123.txt 31\n"
     ]
    }
   ],
   "source": [
    "import tkinter as tk\n",
    "from tkinter import ttk\n",
    "from tkinter import filedialog as fd\n",
    "from tkinter.messagebox import showinfo\n",
    "\n",
    "# create the root window\n",
    "root = tk.Tk()\n",
    "root.title('Tkinter Open File Dialog')\n",
    "root.resizable(False, False)\n",
    "root.geometry('300x150')\n",
    "\n",
    "\n",
    "def select_file():\n",
    "    filetypes = (('text files', '*.txt'),('All files', '*.*'))\n",
    "\n",
    "    filename = fd.askopenfilename(title='Open a file',initialdir='/',filetypes=filetypes)\n",
    "\n",
    "    print(filename, len(filename))\n",
    "\n",
    "    if len(filename) > 0:\n",
    "        showinfo(title='Selected File',message=filename)\n",
    "\n",
    "\n",
    "# open button\n",
    "open_button = ttk.Button(root,text='Open a File',command=select_file)\n",
    "\n",
    "open_button.pack(expand=True)\n",
    "\n",
    "\n",
    "# run the application\n",
    "root.mainloop()"
   ],
   "metadata": {
    "collapsed": false,
    "pycharm": {
     "name": "#%%\n"
    }
   }
  },
  {
   "cell_type": "markdown",
   "source": [
    "#### Открытие файлов напрямую\n",
    "\n",
    "Получив выбранные имена файлов, вы можете открыть их с помощью метода open().\n",
    "\n",
    "Чтобы сделать его более удобным, tkinter.filedialog модуль также предоставляет некоторые функции, которые позволяют вам выбирать один или несколько файлов и напрямую возвращать файловые объекты.\n",
    "\n",
    "Функция askopenfile() отображает файловый диалог и возвращает файловый объект выбранного файла:\n",
    "\n",
    "```\n",
    "f = fd.askopenfile()\n",
    "```\n",
    "\n",
    "Следующая программа иллюстрирует, как использовать эту askopenfile() функцию. Это позволит вам открыть текстовый файл и отобразить содержимое файла в текстовом виджете:"
   ],
   "metadata": {
    "collapsed": false,
    "pycharm": {
     "name": "#%% md\n"
    }
   }
  },
  {
   "cell_type": "code",
   "execution_count": 15,
   "outputs": [],
   "source": [
    "import tkinter as tk\n",
    "from tkinter import ttk\n",
    "from tkinter import filedialog as fd\n",
    "\n",
    "# Root window\n",
    "root = tk.Tk()\n",
    "root.title('Display a Text File')\n",
    "root.resizable(False, False)\n",
    "root.geometry('550x250')\n",
    "\n",
    "# Text editor\n",
    "text = tk.Text(root, height=12)\n",
    "text.grid(column=0, row=0, sticky='nsew')\n",
    "\n",
    "\n",
    "def open_text_file():\n",
    "    # file type\n",
    "    filetypes = (\n",
    "        ('text files', '*.txt'),\n",
    "        ('All files', '*.*')\n",
    "    )\n",
    "    # show the open file dialog\n",
    "    f = fd.askopenfile(filetypes=filetypes)\n",
    "\n",
    "    print(f)\n",
    "\n",
    "    # read the text file and show its content on the Text\n",
    "    text.insert('1.0', f.readlines())\n",
    "\n",
    "\n",
    "# open file button\n",
    "open_button = ttk.Button(root,text='Open a File',command=open_text_file)\n",
    "\n",
    "open_button.grid(column=0, row=1, sticky='w', padx=10, pady=10)\n",
    "\n",
    "\n",
    "root.mainloop()"
   ],
   "metadata": {
    "collapsed": false,
    "pycharm": {
     "name": "#%%\n"
    }
   }
  },
  {
   "cell_type": "markdown",
   "source": [
    "Для открытия файла с русской локализацией можно воспользоваться библиотекой codecs"
   ],
   "metadata": {
    "collapsed": false,
    "pycharm": {
     "name": "#%% md\n"
    }
   }
  },
  {
   "cell_type": "code",
   "execution_count": null,
   "outputs": [],
   "source": [
    "import tkinter as tk\n",
    "from tkinter import ttk\n",
    "from tkinter import filedialog as fd\n",
    "import codecs\n",
    "\n",
    "# Root window\n",
    "root = tk.Tk()\n",
    "root.title('Display a Text File')\n",
    "root.resizable(False, False)\n",
    "root.geometry('550x250')\n",
    "\n",
    "# Text editor\n",
    "text = tk.Text(root, height=12)\n",
    "text.grid(column=0, row=0, sticky='nsew')\n",
    "\n",
    "\n",
    "def open_text_file():\n",
    "    # file type\n",
    "    filetypes = (\n",
    "        ('text files', '*.txt'),\n",
    "        ('All files', '*.*')\n",
    "    )\n",
    "    # show the open file dialog\n",
    "    ask_file = fd.askopenfilename(filetypes=filetypes)\n",
    "\n",
    "    with codecs.open(ask_file, encoding='utf-8') as f:\n",
    "        text.insert('1.0', f.readlines())\n",
    "\n",
    "\n",
    "# open file button\n",
    "open_button = ttk.Button(root,text='Open a File',command=open_text_file)\n",
    "\n",
    "open_button.grid(column=0, row=1, sticky='w', padx=10, pady=10)\n",
    "\n",
    "\n",
    "root.mainloop()"
   ],
   "metadata": {
    "collapsed": false,
    "pycharm": {
     "name": "#%%\n"
    }
   }
  },
  {
   "cell_type": "markdown",
   "source": [
    "#### Объекты-холсты\n",
    "В tkinter от класса Canvas создаются объекты-холсты, на которых можно \"рисовать\", размещая различные фигуры и объекты. Делается это с помощью вызовов соответствующих методов.\n",
    "\n",
    "При создании экземпляра Canvas необходимо указать его ширину и высоту. При размещении геометрических примитивов и других объектов указываются их координаты на холсте. Точкой отсчета является верхний левый угол.\n",
    "\n",
    "В программе ниже создается холст. На нем с помощью метода create_line рисуются отрезки. Сначала указываются координаты начала (x1, y1), затем – конца (x2, y2)."
   ],
   "metadata": {
    "collapsed": false,
    "pycharm": {
     "name": "#%% md\n"
    }
   }
  },
  {
   "cell_type": "code",
   "execution_count": 18,
   "outputs": [],
   "source": [
    "from tkinter import *\n",
    "root = Tk()\n",
    "\n",
    "c = Canvas(root, width=200, height=200, bg='white')\n",
    "c.pack()\n",
    "\n",
    "c.create_line(10, 10, 190, 50)\n",
    "\n",
    "c.create_line(100, 180, 100, 60, fill='green',width=5, arrow=LAST, dash=(10,2),activefill='lightgreen',arrowshape=\"10 20 10\")\n",
    "\n",
    "root.mainloop()"
   ],
   "metadata": {
    "collapsed": false,
    "pycharm": {
     "name": "#%%\n"
    }
   }
  },
  {
   "cell_type": "markdown",
   "source": [
    "Остальные свойства являются необязательными. Так activefill определяет цвет отрезка при наведении на него курсора мыши.\n",
    "![Прямоугольник](https://younglinux.info/images/python/tkinter/create_line.png)"
   ],
   "metadata": {
    "collapsed": false,
    "pycharm": {
     "name": "#%% md\n"
    }
   }
  },
  {
   "cell_type": "code",
   "execution_count": 21,
   "outputs": [],
   "source": [
    "root = Tk()\n",
    "\n",
    "c = Canvas(root, width=200, height=200, bg='white')\n",
    "c.pack()\n",
    "\n",
    "c.create_rectangle(10, 10, 190, 60)\n",
    "\n",
    "c.create_rectangle(60, 80, 140, 190, fill='yellow', outline='green', width=3, activedash=(5, 4))\n",
    "\n",
    "root.mainloop()"
   ],
   "metadata": {
    "collapsed": false,
    "pycharm": {
     "name": "#%%\n"
    }
   }
  },
  {
   "cell_type": "markdown",
   "source": [
    "\n",
    "\n",
    "Создание прямоугольников методом create_rectangle:\n",
    "\n",
    "![Прямоугольник](https://younglinux.info/images/python/tkinter/create_rectangle.png)"
   ],
   "metadata": {
    "collapsed": false,
    "pycharm": {
     "name": "#%% md\n"
    }
   }
  },
  {
   "cell_type": "markdown",
   "source": [
    "Методом create_polygon рисуется произвольный многоугольник путем задания координат каждой его точки:\n",
    "\n",
    "![Прямоугольник](https://younglinux.info/images/python/tkinter/create_polygon.png)"
   ],
   "metadata": {
    "collapsed": false,
    "pycharm": {
     "name": "#%% md\n"
    }
   }
  },
  {
   "cell_type": "code",
   "execution_count": 34,
   "outputs": [],
   "source": [
    "root = Tk()\n",
    "\n",
    "c = Canvas(root, width=200, height=200, bg='white')\n",
    "c.pack()\n",
    "\n",
    "c.create_polygon(100, 10, 20, 90, 180, 90)\n",
    "\n",
    "c.create_polygon((40, 110), (160, 110),(190, 180), (10, 180),fill='orange', outline='black')\n",
    "\n",
    "root.mainloop()"
   ],
   "metadata": {
    "collapsed": false,
    "pycharm": {
     "name": "#%%\n"
    }
   }
  },
  {
   "cell_type": "markdown",
   "source": [
    "Метод create_oval создает эллипсы. При этом задаются координаты гипотетического прямоугольника, описывающего эллипс. Если нужно получить круг, то соответственно описываемый прямоугольник должен быть квадратом.\n",
    "![Прямоугольник](https://younglinux.info/images/python/tkinter/create_oval.png)"
   ],
   "metadata": {
    "collapsed": false,
    "pycharm": {
     "name": "#%% md\n"
    }
   }
  },
  {
   "cell_type": "code",
   "execution_count": 24,
   "outputs": [],
   "source": [
    "root = Tk()\n",
    "\n",
    "c = Canvas(root, width=200, height=200, bg='white')\n",
    "c.pack()\n",
    "\n",
    "c.create_oval(50, 10, 150, 110, width=2)\n",
    "c.create_oval(10, 120, 190, 190,fill='grey70', outline='white')\n",
    "\n",
    "root.mainloop()"
   ],
   "metadata": {
    "collapsed": false,
    "pycharm": {
     "name": "#%%\n"
    }
   }
  },
  {
   "cell_type": "markdown",
   "source": [
    "Более сложные для понимания фигуры получаются при использовании метода create_arc. В зависимости от значения опции style можно получить сектор (по умолчанию), сегмент (CHORD) или дугу (ARC). Также как в случае create_oval координаты задают прямоугольник, в который вписана окружность (или эллипс), из которой \"вырезают\" сектор, сегмент или дугу. Опции start присваивается градус начала фигуры, extent определяет угол поворота."
   ],
   "metadata": {
    "collapsed": false,
    "pycharm": {
     "name": "#%% md\n"
    }
   }
  },
  {
   "cell_type": "code",
   "execution_count": 35,
   "outputs": [],
   "source": [
    "root = Tk()\n",
    "\n",
    "c = Canvas(root, width=200, height=200, bg='white')\n",
    "c.pack()\n",
    "\n",
    "c.create_oval(10, 10, 190, 190,fill='lightgrey',outline='white')\n",
    "c.create_arc(10, 10, 190, 190,start=0, extent=45,fill='red')\n",
    "c.create_arc(10, 10, 190, 190,start=180, extent=25,fill='orange')\n",
    "c.create_arc(10, 10, 190, 190,start=240, extent=100,style=CHORD, fill='green')\n",
    "c.create_arc(10, 10, 190, 190,start=160, extent=-70,style=ARC, outline='darkblue',width=5)\n",
    "\n",
    "root.mainloop()"
   ],
   "metadata": {
    "collapsed": false,
    "pycharm": {
     "name": "#%%\n"
    }
   }
  },
  {
   "cell_type": "markdown",
   "source": [
    "В данном примере светло-серый круг используется исключительно для наглядности.\n",
    "\n",
    "На холсте можно разместить текст. Делается это с помощью метода create_text:"
   ],
   "metadata": {
    "collapsed": false,
    "pycharm": {
     "name": "#%% md\n"
    }
   }
  },
  {
   "cell_type": "code",
   "execution_count": null,
   "outputs": [],
   "source": [
    "root = Tk()\n",
    "\n",
    "c = Canvas(root, width=200, height=200, bg='white')\n",
    "c.pack()\n",
    "\n",
    "c.create_text(100, 100,\n",
    "              text=\"Hello World,\\nPython\\nand Tk\",\n",
    "              justify=CENTER, font=\"Verdana 14\")\n",
    "c.create_text(200, 200, text=\"About this\",\n",
    "              anchor=SE, fill=\"grey\")\n",
    "\n",
    "root.mainloop()"
   ],
   "metadata": {
    "collapsed": false,
    "pycharm": {
     "name": "#%%\n"
    }
   }
  },
  {
   "cell_type": "markdown",
   "source": [
    "Вывод изображения\n",
    "\n",
    "Для вывода изображения применяется метод create_image(), который в качестве обязательно параметра принимает координаты изображения. Для установки самого изображения в метод через параметр image передается ссылка на изображение:"
   ],
   "metadata": {
    "collapsed": false,
    "pycharm": {
     "name": "#%% md\n"
    }
   }
  },
  {
   "cell_type": "code",
   "execution_count": 42,
   "outputs": [],
   "source": [
    "root = Tk()\n",
    "root.geometry(\"450x250\")\n",
    "\n",
    "canvas = Canvas(bg=\"white\", width=400, height=200)\n",
    "canvas.pack(anchor=CENTER, expand=1)\n",
    "\n",
    "python_image = PhotoImage(file=\"green_button.png\")\n",
    "\n",
    "canvas.create_image(10, 10, anchor=NW, image=python_image)\n",
    "\n",
    "root.mainloop()"
   ],
   "metadata": {
    "collapsed": false,
    "pycharm": {
     "name": "#%%\n"
    }
   }
  },
  {
   "cell_type": "markdown",
   "source": [
    "В данном случае координаты представлены точкой с x=10 и y=10, а изображение представляет объект PhotoImage (здесь предполагается, что в одной папке с файлом программы находится файл \"green_button.png\"). Но, как и в случае с выводом текста, следует учитывать, что по умолчанию координаты представляют центр изображения. Чтобы настроить положение изображения относительно координат, применяется параметр anchor. Так, в данном случае значение \"NW\" означает, что координата представляет верхний левый угол изображения."
   ],
   "metadata": {
    "collapsed": false,
    "pycharm": {
     "name": "#%% md\n"
    }
   }
  },
  {
   "cell_type": "markdown",
   "source": [
    "#### Метод bind\n",
    "\n",
    "В tkinter с помощью метода bind между собой связываются виджет, событие и действие. Например, виджет – кнопка, событие – клик по ней левой кнопкой мыши, действие – отправка сообщения. Другой пример: виджет – текстовое поле, событие – нажатие Enter, действие – получение текста из поля методом get для последующей обработки программой. Действие оформляют как функцию или метод, которые вызываются при наступлении события.\n",
    "\n",
    "![bind](https://younglinux.info/images/python/tkinter/bind.png)"
   ],
   "metadata": {
    "collapsed": false,
    "pycharm": {
     "name": "#%% md\n"
    }
   }
  },
  {
   "cell_type": "code",
   "execution_count": null,
   "outputs": [],
   "source": [],
   "metadata": {
    "collapsed": false,
    "pycharm": {
     "name": "#%%\n"
    }
   }
  },
  {
   "cell_type": "markdown",
   "source": [
    "Определение координаты на холсте при нажатии ЛКМ и отпускании ЛКМ\n",
    "\n",
    "<Button> − используйте событие Button в обработчике для привязки колесика мыши и кнопок.\n",
    "<ButtonRelease> - вместо нажатия кнопки вы также можете вызвать событие, отпустив кнопки мыши.\n",
    "<Double-Button> - двойное нажатие"
   ],
   "metadata": {
    "collapsed": false,
    "pycharm": {
     "name": "#%% md\n"
    }
   }
  },
  {
   "cell_type": "code",
   "execution_count": 73,
   "outputs": [
    {
     "name": "stdout",
     "output_type": "stream",
     "text": [
      "233 222\n",
      "233 222\n"
     ]
    }
   ],
   "source": [
    "root = Tk()\n",
    "root.geometry('600x600')\n",
    "\n",
    "canvas = Canvas(bg='white')\n",
    "canvas.pack(fill=BOTH,expand=1)\n",
    "\n",
    "def click(event):\n",
    "    print(event.x, event.y)\n",
    "\n",
    "canvas.bind('<Button>',click)\n",
    "canvas.bind('<ButtonRelease>',click)\n",
    "canvas.bind('<Double-Button>',click)\n",
    "root.mainloop()"
   ],
   "metadata": {
    "collapsed": false,
    "pycharm": {
     "name": "#%%\n"
    }
   }
  },
  {
   "cell_type": "markdown",
   "source": [
    "Виды событий\n",
    "\n",
    "Button\n",
    "Кнопка мыши нажата, когда указатель мыши находится над виджетом. Детальная часть указывает, какая кнопка, например, левая кнопка мыши определяется событием <Button-1>, средняя кнопка — <Button-2>, а крайняя правая кнопка мыши — Button-3\n",
    "\n",
    "Button-4 определяет событие прокрутки вверх на мышах с колесиком, а Button-5 — прокрутку вниз.\n",
    "Если вы нажмете кнопку мыши над виджетом и будете удерживать ее нажатой, Tkinter автоматически «схватит» указатель мыши. Дальнейшие события мыши, такие как события Motion и Release, будут отправлены текущему виджету, даже если мышь перемещается за пределы текущего виджета. Текущая позиция относительно виджета указателя мыши указывается в элементах x и y объекта события, передаваемого в функцию обратного вызова.\n",
    "\n",
    "Motion\n",
    "Мышь перемещается с зажатой кнопкой мыши. Чтобы указать левую, среднюю или правую кнопку мыши, используйте B1-Motion, B2-Motion и B3-Motion соответственно. Текущая позиция указателя мыши указывается в элементах x и y объекта события, передаваемого в функцию обратного вызова, т. е. event.x, event.y.\n",
    "\n",
    "ButtonRelease\n",
    "Событие, если кнопка отпущена. Чтобы указать левую, среднюю или правую кнопку мыши, используйте ButtonRelease-1, ButtonRelease-2 и ButtonRelease-3 соответственно. Текущая позиция указателя мыши указывается в элементах x и y объекта события, передаваемого в функцию обратного вызова, т. е. event.x, event.y.\n",
    "\n",
    "Double-Button\n",
    "Подобно событию Button, см. выше, но кнопка щелкается дважды, а не один раз. Чтобы указать левую, среднюю или правую кнопку мыши, используйте Double-Button-1, Double-Button-2 и Double-Button-3 соответственно.\n",
    "Вы можете использовать Double или Triple в качестве префиксов. Обратите внимание, что если вы выполняете привязку как к одиночному щелчку (Button-1), так и к двойному щелчку (Double-Button-1), будут вызываться обе привязки.\n",
    "\n",
    "Enter\n",
    "Указатель мыши вошел в виджет.\n",
    "Внимание: Это не означает, что пользователь нажал клавишу Enter!. Return используется для этой цели.\n",
    "\n",
    "Leave\n",
    "Указатель мыши покинул виджет.\n",
    "\n",
    "FocusIn\n",
    "Фокус клавиатуры был перемещен на этот виджет или на дочерний элемент этого виджета.\n",
    "\n",
    "FocusOut\n",
    "Фокус клавиатуры был перемещен с этого виджета на другой виджет.\n",
    "\n",
    "Return\n",
    "Пользователь нажал клавишу Enter. Вы можете привязать практически все клавиши на клавиатуре: специальные клавиши: Cancel (клавиша Break), BackSpace, Tab, Return (клавиша Enter), Shift_L (любая клавиша Shift), Control_L (любая клавиша Control), Alt_L (любая клавиша клавиша Alt), пауза, Caps_Lock, Escape, предыдущий (Page Up), следующий (Page Down), End, Home, Left, Up, Right, Down, Print, Insert, Delete, F1, F2, F3, F4, F5, F6, F7, F8, F9, F10, F11, F12, Num_Lock и Scroll_Lock.\n",
    "\n",
    "Key\n",
    "Пользователь нажал любую клавишу. Ключ предоставляется в элементе char объекта события, переданного в функцию обратного вызова (это пустая строка для специальных ключей).\n",
    "\n",
    "а\tПользователь набрал клавишу «а». Большинство печатных символов можно использовать как есть. Исключениями являются пробел (space) и меньше (less). Обратите внимание, что 1 — это привязка клавиатуры, а 1 — привязка кнопки.\n",
    "\n",
    "Shift-Up\tПользователь нажал стрелку вверх, удерживая нажатой клавишу Shift. Вы можете использовать такие префиксы, как Alt, Shift и Control.\n",
    "\n",
    "Configure\tИзменился размер виджета. Новый размер предоставляется в атрибутах ширины и высоты объекта события, передаваемого в функцию обратного вызова. На некоторых платформах это может означать, что местоположение изменилось."
   ],
   "metadata": {
    "collapsed": false,
    "pycharm": {
     "name": "#%% md\n"
    }
   }
  },
  {
   "cell_type": "code",
   "execution_count": null,
   "outputs": [],
   "source": [],
   "metadata": {
    "collapsed": false,
    "pycharm": {
     "name": "#%%\n"
    }
   }
  }
 ],
 "metadata": {
  "kernelspec": {
   "display_name": "Python 3",
   "language": "python",
   "name": "python3"
  },
  "language_info": {
   "codemirror_mode": {
    "name": "ipython",
    "version": 2
   },
   "file_extension": ".py",
   "mimetype": "text/x-python",
   "name": "python",
   "nbconvert_exporter": "python",
   "pygments_lexer": "ipython2",
   "version": "2.7.6"
  }
 },
 "nbformat": 4,
 "nbformat_minor": 0
}