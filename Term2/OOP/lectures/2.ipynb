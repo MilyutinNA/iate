{
 "cells": [
  {
   "cell_type": "markdown",
   "source": [
    "### НАСЛЕДОВАНИЕ ОТ ДРУГИХ КЛАССОВ\n",
    "### INHERITANCE FROM OTHER CLASSES\n",
    "\n",
    "**Наследованием** называется процесс, в котором один класс получает атрибуты и методы другого класса. Создаваемый класс называется **производным**, или **дочерним, классом**, а классы, от которых наследуют производные классы, называются **родительскими**.\n",
    "#### **Inheritance** is a process in which one class obtains attributes and methods of another class. The class being created is called **derived**, or **child, class**, and the classes from which the derived classes inherit are called **parent**.\n",
    "\n",
    "Дочерние классы могут переопределять или расширять атрибуты и методы родительских классов. Другими словами, они наследуют все атрибуты и методы родительских классов, но также могут задавать свои уникальные атрибуты и методы.\n",
    "#### Child classes can override or extend attributes and methods of parent classes. In other words, they inherit all the attributes and methods of the parent classes, but they can also set their own unique attributes and methods.\n",
    "\n",
    "Как и в прошлом примере создадим класс Dog, но добавим в него атрибут .breed - определяющий породу собаки\n",
    "#### As in the previous example, we will create a Dog class, but add an attribute to it.breed - defining the breed of the dog"
   ],
   "metadata": {
    "collapsed": false,
    "pycharm": {
     "name": "#%% md\n"
    }
   }
  },
  {
   "cell_type": "code",
   "execution_count": 64,
   "outputs": [],
   "source": [
    "class Dog:\n",
    "    # Атрибут класса\n",
    "    species = \"Canis familiaris\"\n",
    "\n",
    "    def __init__(self, name, age, breed):\n",
    "        self.name = name\n",
    "        self.age = age\n",
    "        self.breed = breed\n",
    "    # Метод экземпляра\n",
    "    def __str__(self):\n",
    "        return f\"{self.name} is {self.age} years old\"\n",
    "    # Другой метод экземпляра\n",
    "    def speak(self, sound):\n",
    "        return f\"{self.name} says {sound}\""
   ],
   "metadata": {
    "collapsed": false,
    "pycharm": {
     "name": "#%%\n"
    }
   }
  },
  {
   "cell_type": "markdown",
   "source": [
    "Определим экземпляры класса Dog\n",
    "#### Define instances of the Dog class"
   ],
   "metadata": {
    "collapsed": false,
    "pycharm": {
     "name": "#%% md\n"
    }
   }
  },
  {
   "cell_type": "code",
   "execution_count": 66,
   "outputs": [],
   "source": [
    "miles = Dog(\"Miles\", 4, \"Jack Russell Terrier\")\n",
    "buddy = Dog(\"Buddy\", 9, \"Dachshund\")\n",
    "jack = Dog(\"Jack\", 3, \"Bulldog\")\n",
    "jim = Dog(\"Jim\", 5, \"Bulldog\")"
   ],
   "metadata": {
    "collapsed": false,
    "pycharm": {
     "name": "#%%\n"
    }
   }
  },
  {
   "cell_type": "markdown",
   "source": [
    "Разные породы собак имеют разные отличительные особенности. Например, у бульдогов лай низкий, а у такс - высокий и пронзительный.\n",
    "#### Different breeds of dogs have different distinctive features. For example, bulldogs have a low bark, and dachshunds have a high and piercing one.\n",
    "\n",
    "Если использовать только класс Dog, можно передавать методу .speak строку с транскрипцией лая каждый раз, когда этот метод вызывается для экземпляра Dog:\n",
    "#### If you use only the Dog class, you can pass a string with a barking transcription to the .speak method every time this method is called for an instance of Dog:"
   ],
   "metadata": {
    "collapsed": false,
    "pycharm": {
     "name": "#%% md\n"
    }
   }
  },
  {
   "cell_type": "code",
   "execution_count": 69,
   "outputs": [
    {
     "name": "stdout",
     "output_type": "stream",
     "text": [
      "Buddy says Vap\n",
      "Jim says Woof\n",
      "Jack says Woof\n"
     ]
    }
   ],
   "source": [
    "print(buddy.speak(\"Vap\"))\n",
    "print(jim.speak(\"Woof\"))\n",
    "print(jack.speak(\"Woof\"))"
   ],
   "metadata": {
    "collapsed": false,
    "pycharm": {
     "name": "#%%\n"
    }
   }
  },
  {
   "cell_type": "markdown",
   "source": [
    "Впрочем, решение с передачей строки при каждом вызове .speak() однообразно и неудобно. Более того, строка, представляющая звук, издаваемый каждым экземпляром Dog, должна определяться его атрибутом .breed, а нам приходится вручную передавать правильную строку .speak() при каждом вызове.\n",
    "#### However, the solution with passing a string at each call to .speak() is monotonous and inconvenient. Moreover, the string representing the sound produced by each instance of Dog should be determined by its attribute.breed, and we have to manually pass the correct string .speak() at each call.\n",
    "\n",
    "Чтобы с классом Dog было удобнее работать, мы создадим отдельный дочерний класс для каждой породы собак. Это позволит расширить функциональность, наследуемую каждым производным классом, включая определение аргумента по умолчанию для .sреаk().\n",
    "#### To make it easier to work with the Dog class, we will create a separate child class for each dog breed. This will extend the functionality inherited by each derived class, including defining the default argument for .speak().\n",
    "\n",
    "#### Родительские классы и дочерние классы\n",
    "#### Parent classes and child classes\n",
    "\n",
    "Создадим дочерний класс для каждой из трех пород, упоминавшихся ранее: джек-рассел-терьер Jack Russell Terrier), такса (Dachshund) и бульдог (Bulldog).\n",
    "#### Let's create a child class for each of the three breeds mentioned earlier: Jack Russell Terrier (Jack Russell Terrier), Dachshund (Dachshund) and bulldog (Bulldog).\n",
    "\n",
    "Чтобы создать дочерний класс, создайте новый класс с соответствующим именем и укажите имя родительского класса в круглых скобках. Следующий фрагмент после класса Dog создает три новых класса, производных от Dog:\n",
    "#### To create a child class, create a new class with the appropriate name and specify the name of the parent class in parentheses. The following fragment after the Dog class creates three new classes derived from Dog:"
   ],
   "metadata": {
    "collapsed": false,
    "pycharm": {
     "name": "#%% md\n"
    }
   }
  },
  {
   "cell_type": "code",
   "execution_count": 70,
   "outputs": [],
   "source": [
    "class Dog:\n",
    "    # Атрибут класса\n",
    "    species = \"Canis familiaris\"\n",
    "\n",
    "    def __init__(self, name, age):\n",
    "        self.name = name\n",
    "        self.age = age\n",
    "    # Метод экземпляра\n",
    "    def __str__(self):\n",
    "        return f\"{self.name} is {self.age} years old\"\n",
    "    # Другой метод экземпляра\n",
    "    def speak(self, sound):\n",
    "        return f\"{self.name} says {sound}\"\n",
    "\n",
    "class JackRussellTerrier(Dog):\n",
    "    pass\n",
    "class Dachshund(Dog):\n",
    "    pass\n",
    "class Bulldog(Dog):\n",
    "    pass"
   ],
   "metadata": {
    "collapsed": false,
    "pycharm": {
     "name": "#%%\n"
    }
   }
  },
  {
   "cell_type": "markdown",
   "source": [
    "После того как дочерние классы будут определены, можно создать экземпляры собак конкретных пород:\n",
    "#### After the child classes are defined, you can create instances of dogs of specific breeds:"
   ],
   "metadata": {
    "collapsed": false,
    "pycharm": {
     "name": "#%% md\n"
    }
   }
  },
  {
   "cell_type": "code",
   "execution_count": 72,
   "outputs": [],
   "source": [
    "miles = JackRussellTerrier(\"Miles\", 4)\n",
    "buddy = Dachshund(\"Buddy\", 9)\n",
    "jack = Bulldog(\"Jack\", 3)\n",
    "jim = Bulldog(\"Jim\", 5)\n"
   ],
   "metadata": {
    "collapsed": false,
    "pycharm": {
     "name": "#%%\n"
    }
   }
  },
  {
   "cell_type": "markdown",
   "source": [
    "Экземпляры дочерних классов наследуют все атрибуты и методы родительского класса:\n",
    "#### Instances of child classes inherit all attributes and methods of the parent class:"
   ],
   "metadata": {
    "collapsed": false,
    "pycharm": {
     "name": "#%% md\n"
    }
   }
  },
  {
   "cell_type": "code",
   "execution_count": 73,
   "outputs": [
    {
     "name": "stdout",
     "output_type": "stream",
     "text": [
      "Canis familiaris\n",
      "Buddy\n",
      "Jack is 3 years old\n",
      "Jim says Woof\n"
     ]
    }
   ],
   "source": [
    "print(miles.species)\n",
    "print(buddy.name)\n",
    "print(jack)\n",
    "print(jim.speak('Woof'))"
   ],
   "metadata": {
    "collapsed": false,
    "pycharm": {
     "name": "#%%\n"
    }
   }
  },
  {
   "cell_type": "markdown",
   "source": [
    "Чтобы увидеть, к какому классу принадлежит объект, воспользуйтесь встроенной функцией type():\n",
    "#### To see which class an object belongs to, use the built-in type() function:"
   ],
   "metadata": {
    "collapsed": false,
    "pycharm": {
     "name": "#%% md\n"
    }
   }
  },
  {
   "cell_type": "code",
   "execution_count": 74,
   "outputs": [
    {
     "data": {
      "text/plain": "__main__.JackRussellTerrier"
     },
     "execution_count": 74,
     "metadata": {},
     "output_type": "execute_result"
    }
   ],
   "source": [
    "type(miles)"
   ],
   "metadata": {
    "collapsed": false,
    "pycharm": {
     "name": "#%%\n"
    }
   }
  },
  {
   "cell_type": "markdown",
   "source": [
    "А если вы захотите узнать, является ли miles также экземпляром класса Dog? В этом вам поможет встроенная функция isinstance( ):\n",
    "#### And if you want to know if miles is also an instance of the Dog class? The built-in isinstance( ) function will help you with this:"
   ],
   "metadata": {
    "collapsed": false,
    "pycharm": {
     "name": "#%% md\n"
    }
   }
  },
  {
   "cell_type": "code",
   "execution_count": 75,
   "outputs": [
    {
     "data": {
      "text/plain": "True"
     },
     "execution_count": 75,
     "metadata": {},
     "output_type": "execute_result"
    }
   ],
   "source": [
    "isinstance(miles, Dog)"
   ],
   "metadata": {
    "collapsed": false,
    "pycharm": {
     "name": "#%%\n"
    }
   }
  },
  {
   "cell_type": "markdown",
   "source": [
    "Обратите внимание: функция isinstance() получает два аргумента, объект и класс. В данном случае isinstance() проверяет, является ли miles экземпляром класса Dog, и возвращает True.\n",
    "#### Note: the isinstance() function gets two arguments, an object and a class. In this case, isinstance() checks whether miles is an instance of the Dog class and returns True.\n",
    "\n",
    "Все объекты, miles, buddy, jack и jim, являются экземплярами Dog, но miles не является экземпляром Bulldog, а jack не является экземпляром Dachshund:\n",
    "#### All objects, miles, buddy, jack and jim, are instances of Dog, but miles is not an instance of Bulldog, and jack is not an instance of Dachshund:"
   ],
   "metadata": {
    "collapsed": false,
    "pycharm": {
     "name": "#%% md\n"
    }
   }
  },
  {
   "cell_type": "code",
   "execution_count": 76,
   "outputs": [
    {
     "name": "stdout",
     "output_type": "stream",
     "text": [
      "False\n",
      "False\n"
     ]
    }
   ],
   "source": [
    "print(isinstance(miles, Bulldog))\n",
    "print(isinstance(jack, Dachshund))"
   ],
   "metadata": {
    "collapsed": false,
    "pycharm": {
     "name": "#%%\n"
    }
   }
  },
  {
   "cell_type": "markdown",
   "source": [
    "В более общем понимании все объекты, созданные на основе дочерних классов, являются экземплярами родительского класса, хотя при этом не являются экземплярами других дочерних классов.\n",
    "#### In a more general sense, all objects created on the basis of child classes are instances of the parent class, although they are not instances of other child classes.\n",
    "\n",
    "Итак, мы создали дочерние классы для нескольких пород собак. Теперь назначим каждой породе транскрипцию звука, который она издает.\n",
    "#### So, we have created child classes for several dog breeds. Now assign each breed a transcription of the sound it makes.\n",
    "\n",
    "#### Расширение функциональности родительского класса\n",
    "#### Extending the functionality of the parent class\n",
    "\n",
    "Так как разные породы собак лают по-разному, мы хотим предоставить значение по умолчанию для аргумента sound в соответствующем методе .speak(). Для этого необходимо переопределить .speak() в определении класса для каждой породы.\n",
    "#### Since different dog breeds bark differently, we want to provide a default value for the sound argument in the corresponding .speak() method. To do this, redefine .speak() in the class definition for each breed.\n",
    "\n",
    "Чтобы переопределить метод, заданный в родительском классе, вы определяете одноименный метод в дочернем классе. Вот как это делается в классе JackRussellTerrier:\n",
    "#### To override a method defined in a parent class, you define a method of the same name in the child class. Here's how it's done in the JackRussellTerrier class:"
   ],
   "metadata": {
    "collapsed": false,
    "pycharm": {
     "name": "#%% md\n"
    }
   }
  },
  {
   "cell_type": "code",
   "execution_count": 77,
   "outputs": [],
   "source": [
    "class JackRussellTerrier(Dog):\n",
    "    def speak(self, sound=\"Arf\"):\n",
    "        return f\"{self.name} says {sound}\""
   ],
   "metadata": {
    "collapsed": false,
    "pycharm": {
     "name": "#%%\n"
    }
   }
  },
  {
   "cell_type": "markdown",
   "source": [
    "Теперь метод .speak() определен в классе JackRussellTerrier с аргументом по умолчанию для sound, которому присвоено значение \"Arf\". Этот аргумент можно установить произвольным, для чего при вызове метода .speak() необходимо передать параметр sound\n",
    "#### Now the .speak() method is defined in the JackRussellTerrier class with the default argument for sound, which is assigned the value \"Arf\". This argument can be set arbitrarily, for which, when calling the .speak() method, the sound parameter must be passed"
   ],
   "metadata": {
    "collapsed": false,
    "pycharm": {
     "name": "#%% md\n"
    }
   }
  },
  {
   "cell_type": "code",
   "execution_count": 79,
   "outputs": [
    {
     "name": "stdout",
     "output_type": "stream",
     "text": [
      "Miles says Arf\n",
      "Miles says Grr\n"
     ]
    }
   ],
   "source": [
    "miles = JackRussellTerrier(\"Miles\", 4)\n",
    "print(miles.speak())\n",
    "print(miles.speak('Grr'))"
   ],
   "metadata": {
    "collapsed": false,
    "pycharm": {
     "name": "#%%\n"
    }
   }
  },
  {
   "cell_type": "markdown",
   "source": [
    "Имея дело с наследованием классов, важно помнить, что изменения в родительском классе автоматически распространяются на дочерние классы - при условии, что изменяемый атрибут или метод не был переопределен в дочернем классе.\n",
    "#### When dealing with class inheritance, it is important to remember that changes in the parent class are automatically propagated to child classes - provided that the attribute or method being modified has not been overridden in the child class.\n",
    "\n",
    "Например, изменив строку, возвращаемую методом .speak() из класса Dog мы получим изменение и для класса Bulldog в методе .speak()\n",
    "#### For example, by changing the string returned by the .speak() method from the Dog class, we will get a change for the Bulldog class in the .speak() method as well\n",
    "\n",
    "А в случае класса JackRussellTerrier изменений не будет, так как мы переопределили метод .speak() в дочернем классе\n",
    "#### And in the case of the JackRussellTerrier class, there will be no changes, since we have redefined the .speak() method in the child class\n",
    "\n",
    "Иногда полное переопределение метода из родительского класса оправданно. Но в данном случае мы не хотим, чтобы в классе JackRussell Terrier терялись изменения, внесенные в форматирование выходной строки Dog.speak().\n",
    "#### Sometimes a complete redefinition of a method from the parent class is justified. But in this case, we don't want the JackRussell Terrier class to lose the changes made to the formatting of the output string Dog.speak().\n",
    "\n",
    "Как и прежде, задача решается определением метода .speak() в дочернем классе JackRussell Terrier.\n",
    "#### As before, the problem is solved by defining the .speak() method in the child class JackRussell Terrier.\n",
    "\n",
    "Но вместо того, чтобы явно определять выходную строку, мы вызовем метод .speak () класса Dog внутри метода .speak() дочернего класса с теми же аргументами, которые передавались JackRussellTerrier.speak().\n",
    "#### But instead of explicitly defining the output string, we will call the .speak() method of the Dog class inside the .speak() method of the child class with the same arguments that were passed to JackRussellTerrier.speak().\n",
    "\n",
    "Для обращения к родительскому классу из метода дочернего класса используется вызов super():\n",
    "#### To access the parent class from the method of the child class, the super() call is used:"
   ],
   "metadata": {
    "collapsed": false,
    "pycharm": {
     "name": "#%% md\n"
    }
   }
  },
  {
   "cell_type": "code",
   "execution_count": 89,
   "outputs": [],
   "source": [
    "class JackRussellTerrier(Dog):\n",
    "    def speak(self, sound=\"Arf\"):\n",
    "        return super().speak(sound)"
   ],
   "metadata": {
    "collapsed": false,
    "pycharm": {
     "name": "#%%\n"
    }
   }
  },
  {
   "cell_type": "markdown",
   "source": [
    "Когда вы вызываете super().speak(sound) внутри JackRussell Terrier, Python ищет в родительском классе Dog метод .speak() и вызывает его с переменной sound.\n",
    "#### When you call super().sneaky(sound) inside JackRussell Terrier, Python looks for the .speak() method in the parent Dog class and calls it with the sound variable.\n",
    "\n",
    "Теперь при вызове miles.speak() вывод будет отражать новое форматирование в классе.\n",
    "#### Now when miles.speak() is called, the output will reflect the new formatting in the class."
   ],
   "metadata": {
    "collapsed": false,
    "pycharm": {
     "name": "#%% md\n"
    }
   }
  },
  {
   "cell_type": "code",
   "execution_count": 91,
   "outputs": [
    {
     "data": {
      "text/plain": "'Miles barks: Arf'"
     },
     "execution_count": 91,
     "metadata": {},
     "output_type": "execute_result"
    }
   ],
   "source": [
    "miles = JackRussellTerrier(\"Miles\", 4)\n",
    "miles.speak()"
   ],
   "metadata": {
    "collapsed": false,
    "pycharm": {
     "name": "#%%\n"
    }
   }
  },
  {
   "cell_type": "markdown",
   "source": [
    "В этом примере иерархия классов очень проста: у класса JackRussellTerrier всего один родительский класс Dog. В реальных примерах иерархии классов могут быть достаточно сложными.\n",
    "#### In this example, the class hierarchy is very simple: the JackRussellTerrier class has only one parent Dog class. In real-world examples, class hierarchies can be quite complex.\n",
    "\n",
    "Вызов .super() не ограничивается простым поиском метода или атрибута в родительском классе. Он обходит всю иерархию классов в поисках подходящего метода или атрибута. При малейшей невнимательности super() может привести к удивительным результатам.\n",
    "#### Calling .super() is not limited to simply searching for a method or attribute in the parent class. It traverses the entire class hierarchy in search of a suitable method or attribute. With the slightest carelessness, super() can lead to amazing results."
   ],
   "metadata": {
    "collapsed": false,
    "pycharm": {
     "name": "#%% md\n"
    }
   }
  }
 ],
 "metadata": {
  "kernelspec": {
   "display_name": "Python 3",
   "language": "python",
   "name": "python3"
  },
  "language_info": {
   "codemirror_mode": {
    "name": "ipython",
    "version": 2
   },
   "file_extension": ".py",
   "mimetype": "text/x-python",
   "name": "python",
   "nbconvert_exporter": "python",
   "pygments_lexer": "ipython2",
   "version": "2.7.6"
  }
 },
 "nbformat": 4,
 "nbformat_minor": 0
}