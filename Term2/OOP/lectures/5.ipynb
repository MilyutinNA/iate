{
 "cells": [
  {
   "cell_type": "markdown",
   "source": [
    "Каждый виджет, кроме окна, располагается в определенном родительском контейнере. Например:"
   ],
   "metadata": {
    "collapsed": false,
    "pycharm": {
     "name": "#%% md\n"
    }
   }
  },
  {
   "cell_type": "code",
   "execution_count": 1,
   "outputs": [],
   "source": [
    "from tkinter import *\n",
    "from tkinter import ttk\n",
    "\n",
    "root = Tk()\n",
    "root.title(\"Example\")\n",
    "root.geometry(\"250x200\")\n",
    "\n",
    "lbl = ttk.Label(text=\"Some text\")\n",
    "lbl.pack()\n",
    "\n",
    "root.mainloop()"
   ],
   "metadata": {
    "collapsed": false,
    "pycharm": {
     "name": "#%%\n"
    }
   }
  },
  {
   "cell_type": "markdown",
   "source": [
    "Здесь для метки lbl контейнером выступает главное окно - root. Однако графическое приложение может иметь более сложную структуру со множеством вложенных контейнеров. И для каждого виджета можно явным образом установить контейнер с помощью первого параметра конструктора, который называется master. Например, в примере выше мы могли бы явным образом прописать для Label родительский контейнер:"
   ],
   "metadata": {
    "collapsed": false,
    "pycharm": {
     "name": "#%% md\n"
    }
   }
  },
  {
   "cell_type": "code",
   "execution_count": null,
   "outputs": [],
   "source": [
    "from tkinter import *\n",
    "from tkinter import ttk\n",
    "\n",
    "root = Tk()\n",
    "root.title(\"Example\")\n",
    "root.geometry(\"250x200\")\n",
    "\n",
    "lbl = ttk.Label(master=root, text=\"Some text\")\n",
    "lbl.pack()\n",
    "\n",
    "root.mainloop()"
   ],
   "metadata": {
    "collapsed": false,
    "pycharm": {
     "name": "#%%\n"
    }
   }
  },
  {
   "cell_type": "markdown",
   "source": [
    "В данном случае это не имеет смысла, кнопка по умолчанию добавляется в окно. Однако также мы можем определять вложенные контейнеры. В частности, для в Tkinter предназначен виджет Frame.\n",
    "\n",
    "#### Frame\n",
    "\n",
    "**Frame** отображает прямоугольник и обычно применяется для организации интерфейса в отдельные блоки. Некоторые основные параметры, которые мы можем установить через конструктор класса Frame:\n",
    "\n",
    "* borderwidth: толщина границы фрейма, по умолчанию равно 0\n",
    "\n",
    "* relief: определяет тип границы, может принимать значения SUNKEN, RAISED, GROOVE, RIDGE\n",
    "\n",
    "* cursor: устанавливает курсор при наведении на фрейм\n",
    "\n",
    "* height: высота фрейма\n",
    "\n",
    "* width: ширина фрейма\n",
    "\n",
    "* padding: отступы от вложенного содержимого до границ фрейма\n",
    "\n",
    "Используем фреймы:"
   ],
   "metadata": {
    "collapsed": false,
    "pycharm": {
     "name": "#%% md\n"
    }
   }
  },
  {
   "cell_type": "code",
   "execution_count": 3,
   "outputs": [],
   "source": [
    "import re\n",
    "from tkinter import *\n",
    "from tkinter import ttk\n",
    "\n",
    "root = Tk()\n",
    "root.title(\"Example\")\n",
    "root.geometry(\"250x200\")\n",
    "\n",
    "frame = ttk.Frame(borderwidth=1, relief=SOLID, padding=[8, 10])\n",
    "name_label = ttk.Label(frame, text=\"Введите имя\")\n",
    "name_label.pack(anchor=NW)\n",
    "\n",
    "name_entry = ttk.Entry(frame)\n",
    "name_entry.pack(anchor=NW)\n",
    "\n",
    "frame.pack(anchor=NW, fill=X, padx=5, pady=5)\n",
    "\n",
    "root.mainloop()"
   ],
   "metadata": {
    "collapsed": false,
    "pycharm": {
     "name": "#%%\n"
    }
   }
  },
  {
   "cell_type": "markdown",
   "source": [
    "Здесь фрейм имеет границу толщиной в 1 пиксель. Граница представляет обычную линию (relief=SOLID). Также для фрейма заданы внутренние отступы: 8 по горизонтали и 10 по вертикали.\n",
    "В сам фрейм добавляются два других виджета: Label и Entry. Для этого для обоих виджетов указываем фрейм в качестве родительского контейнера.\n",
    "\n",
    "При этом мы можем вынести во вне создание фрейма\n",
    "\n",
    "Здесь для создания фрейма определена функция create_frame, которая возвращает фрейм с меткой и текстовым полем. Далее создаем с помощью этой функции два фрейма и добавляем их в окно:"
   ],
   "metadata": {
    "collapsed": false,
    "pycharm": {
     "name": "#%% md\n"
    }
   }
  },
  {
   "cell_type": "code",
   "execution_count": 5,
   "outputs": [],
   "source": [
    "from tkinter import *\n",
    "from tkinter import ttk\n",
    "\n",
    "def create_frame(label_text):\n",
    "    frame = ttk.Frame(borderwidth=1, relief=SOLID, padding=[8, 10])\n",
    "    # добавляем на фрейм метку\n",
    "    label = ttk.Label(frame, text=label_text)\n",
    "    label.pack(anchor=NW)\n",
    "    # добавляем на фрейм текстовое поле\n",
    "    entry = ttk.Entry(frame)\n",
    "    entry.pack(anchor=NW)\n",
    "    # возвращаем фрейм из функции\n",
    "    return frame\n",
    "\n",
    "root = Tk()\n",
    "root.title(\"Example\")\n",
    "root.geometry(\"250x200\")\n",
    "\n",
    "name_frame = create_frame(\"Введите имя\")\n",
    "name_frame.pack(anchor=NW, fill=X, padx=5, pady=5)\n",
    "\n",
    "email_frame = create_frame(\"Введите email\")\n",
    "email_frame.pack(anchor=NW, fill=X, padx=5, pady=5)\n",
    "\n",
    "root.mainloop()"
   ],
   "metadata": {
    "collapsed": false,
    "pycharm": {
     "name": "#%%\n"
    }
   }
  }
 ],
 "metadata": {
  "kernelspec": {
   "display_name": "Python 3",
   "language": "python",
   "name": "python3"
  },
  "language_info": {
   "codemirror_mode": {
    "name": "ipython",
    "version": 2
   },
   "file_extension": ".py",
   "mimetype": "text/x-python",
   "name": "python",
   "nbconvert_exporter": "python",
   "pygments_lexer": "ipython2",
   "version": "2.7.6"
  }
 },
 "nbformat": 4,
 "nbformat_minor": 0
}