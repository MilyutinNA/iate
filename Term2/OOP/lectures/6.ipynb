{
 "cells": [
  {
   "cell_type": "markdown",
   "source": [
    "#### Декораторы\n",
    "Декоратор — это функция, которая позволяет обернуть другую функцию для расширения её функциональности без непосредственного изменения её кода.\n",
    "Чтобы понять, как это работает, сначала разберёмся в работе функций в Python."
   ],
   "metadata": {
    "collapsed": false,
    "pycharm": {
     "name": "#%% md\n"
    }
   }
  },
  {
   "cell_type": "markdown",
   "source": [
    "##### Функции как объекты первого класса\n",
    "В Python всё является объектом, а не только объекты, которые вы создаёте из классов. В этом смысле он (Python) полностью соответствует идеям объектно-ориентированного программирования. Это значит, что в Python всё это — объекты:\n",
    "* числа;\n",
    "* строки;\n",
    "* классы (да, даже классы);\n",
    "* функции (то, что нас интересует).\n",
    "Тот факт, что всё является объектами, открывает перед нами множество возможностей. Мы можем сохранять функции в переменные, передавать их в качестве аргументов и возвращать из других функций. Можно даже определить одну функцию внутри другой. Иными словами, функции — это объекты первого класса"
   ],
   "metadata": {
    "collapsed": false,
    "pycharm": {
     "name": "#%% md\n"
    }
   }
  },
  {
   "cell_type": "markdown",
   "source": [
    "##### Функциональное программирование — функции высших порядков\n",
    "* функции являются объектами первого класса;\n",
    "* следовательно, язык поддерживает функции высших порядков.\n",
    "> Функции высших порядков — это такие функции, которые могут принимать в качестве аргументов и возвращать другие функции.\n",
    "\n",
    "Если вы знакомы с основами высшей математики, то вы уже знаете некоторые математические функции высших порядков порядка вроде дифференциального оператора d/dx. Он принимает на входе функцию и возвращает другую функцию, производную от исходной. Функции высших порядков в программировании работают точно так же — они либо принимают функцию(и) на входе и/или возвращают функцию(и)."
   ],
   "metadata": {
    "collapsed": false,
    "pycharm": {
     "name": "#%% md\n"
    }
   }
  },
  {
   "cell_type": "markdown",
   "source": [
    "Определим простую функцию и убедимся что эта функция, как и классы с числами, является объектом в Python:"
   ],
   "metadata": {
    "collapsed": false,
    "pycharm": {
     "name": "#%% md\n"
    }
   }
  },
  {
   "cell_type": "code",
   "execution_count": 17,
   "outputs": [
    {
     "data": {
      "text/plain": "function"
     },
     "execution_count": 17,
     "metadata": {},
     "output_type": "execute_result"
    }
   ],
   "source": [
    "def hello_world():\n",
    "    print('Hello world!')\n",
    "\n",
    "type(hello_world)"
   ],
   "metadata": {
    "collapsed": false,
    "pycharm": {
     "name": "#%%\n"
    }
   }
  },
  {
   "cell_type": "code",
   "execution_count": 5,
   "outputs": [
    {
     "data": {
      "text/plain": "type"
     },
     "execution_count": 5,
     "metadata": {},
     "output_type": "execute_result"
    }
   ],
   "source": [
    "class Hello:\n",
    "    pass\n",
    "\n",
    "type(Hello)"
   ],
   "metadata": {
    "collapsed": false,
    "pycharm": {
     "name": "#%%\n"
    }
   }
  },
  {
   "cell_type": "code",
   "execution_count": 4,
   "outputs": [
    {
     "data": {
      "text/plain": "int"
     },
     "execution_count": 4,
     "metadata": {},
     "output_type": "execute_result"
    }
   ],
   "source": [
    "type(10)"
   ],
   "metadata": {
    "collapsed": false,
    "pycharm": {
     "name": "#%%\n"
    }
   }
  },
  {
   "cell_type": "markdown",
   "source": [
    "Как вы заметили, функция hello_world принадлежит типу <class 'function'>. Это означает, что она является объектом класса function. Кроме того, класс, который мы определили, принадлежит классу type. От этого всего голова может пойти кругом, но чуть поигравшись с функцией type вы со всем разберётесь.\n",
    "\n",
    "Теперь давайте посмотрим на функции в качестве объектов первого класса. Мы можем хранить функции в переменных:"
   ],
   "metadata": {
    "collapsed": false,
    "pycharm": {
     "name": "#%% md\n"
    }
   }
  },
  {
   "cell_type": "code",
   "execution_count": null,
   "outputs": [],
   "source": [
    "hello = hello_world\n",
    "hello()"
   ],
   "metadata": {
    "collapsed": false,
    "pycharm": {
     "name": "#%%\n"
    }
   }
  },
  {
   "cell_type": "markdown",
   "source": [
    "Определять функции внутри других функций:"
   ],
   "metadata": {
    "collapsed": false,
    "pycharm": {
     "name": "#%% md\n"
    }
   }
  },
  {
   "cell_type": "code",
   "execution_count": 18,
   "outputs": [
    {
     "name": "stdout",
     "output_type": "stream",
     "text": [
      "Hello world!\n"
     ]
    }
   ],
   "source": [
    "def wrapper_function():\n",
    "    def hello_world():\n",
    "        print('Hello world!')\n",
    "    hello_world()\n",
    "\n",
    "wrapper_function()"
   ],
   "metadata": {
    "collapsed": false,
    "pycharm": {
     "name": "#%%\n"
    }
   }
  },
  {
   "cell_type": "markdown",
   "source": [
    "Передавать функции в качестве аргументов и возвращать их из других функций:"
   ],
   "metadata": {
    "collapsed": false,
    "pycharm": {
     "name": "#%% md\n"
    }
   }
  },
  {
   "cell_type": "code",
   "execution_count": 19,
   "outputs": [
    {
     "name": "stdout",
     "output_type": "stream",
     "text": [
      "Получена функция <function hello_world at 0x000002EAF8A83430> в качестве аргумента\n",
      "Hello world!\n"
     ]
    },
    {
     "data": {
      "text/plain": "<function __main__.hello_world()>"
     },
     "execution_count": 19,
     "metadata": {},
     "output_type": "execute_result"
    }
   ],
   "source": [
    "def higher_order(func):\n",
    "    print(f'Получена функция {func} в качестве аргумента')\n",
    "    func()\n",
    "    return func\n",
    "\n",
    "higher_order(hello_world)"
   ],
   "metadata": {
    "collapsed": false,
    "pycharm": {
     "name": "#%%\n"
    }
   }
  },
  {
   "cell_type": "markdown",
   "source": [
    "С учётом этого можно переходить к обсуждению декораторов. Раз мы знаем, как работают функции высших порядков, теперь мы можем понять как работают декораторы. Сначала посмотрим на пример декоратора:"
   ],
   "metadata": {
    "collapsed": false,
    "pycharm": {
     "name": "#%% md\n"
    }
   }
  },
  {
   "cell_type": "code",
   "execution_count": 7,
   "outputs": [],
   "source": [
    "def func_decorator(func):\n",
    "    def wrapper():\n",
    "        print(\"----- что-то делаем перед вызовом функции -----\")\n",
    "        func()\n",
    "        print(\"----- что-то делаем после вызова функции -----\")\n",
    "    return wrapper"
   ],
   "metadata": {
    "collapsed": false,
    "pycharm": {
     "name": "#%%\n"
    }
   }
  },
  {
   "cell_type": "markdown",
   "source": [
    "Здесь decorator_function() является функцией-декоратором. Как вы могли заметить, она является функцией высшего порядка, так как принимает функцию в качестве аргумента, а также возвращает функцию. Внутри decorator_function() мы определили другую функцию, обёртку, так сказать, которая обёртывает функцию-аргумент и затем изменяет её поведение. Декоратор возвращает эту обёртку. Теперь посмотрим на декоратор в действии:"
   ],
   "metadata": {
    "collapsed": false,
    "pycharm": {
     "name": "#%% md\n"
    }
   }
  },
  {
   "cell_type": "code",
   "execution_count": 11,
   "outputs": [
    {
     "name": "stdout",
     "output_type": "stream",
     "text": [
      "Функция-обёртка!\n",
      "Оборачиваемая функция: <function hello_world at 0x000002EAF8A831F0>\n",
      "Выполняем обёрнутую функцию...\n",
      "Hello world!\n",
      "Выходим из обёртки\n"
     ]
    }
   ],
   "source": [
    "@func_decorator\n",
    "def hello_world():\n",
    "    print('Hello world!')\n",
    "hello_world()"
   ],
   "metadata": {
    "collapsed": false,
    "pycharm": {
     "name": "#%%\n"
    }
   }
  },
  {
   "cell_type": "markdown",
   "source": [
    "Просто добавив @decorator_function перед определением функции hello_world(), мы модифицировали её поведение. Однако как вы уже могли догадаться, выражение с @ является всего лишь синтаксическим сахаром для hello_world = func_decorator(hello_world). С тем же успехом мы могли записать так:"
   ],
   "metadata": {
    "collapsed": false,
    "pycharm": {
     "name": "#%% md\n"
    }
   }
  },
  {
   "cell_type": "code",
   "execution_count": 12,
   "outputs": [
    {
     "name": "stdout",
     "output_type": "stream",
     "text": [
      "Функция-обёртка!\n",
      "Оборачиваемая функция: <function hello_world at 0x000002EAF8541C10>\n",
      "Выполняем обёрнутую функцию...\n",
      "Hello world!\n",
      "Выходим из обёртки\n"
     ]
    }
   ],
   "source": [
    "def hello_world():\n",
    "    print('Hello world!')\n",
    "f = func_decorator(hello_world)\n",
    "f()"
   ],
   "metadata": {
    "collapsed": false,
    "pycharm": {
     "name": "#%%\n"
    }
   }
  },
  {
   "cell_type": "markdown",
   "source": [
    "Иными словами, выражение @func_decorator вызывает func_decorator() с hello_world в качестве аргумента и присваивает имени f возвращаемую функцию."
   ],
   "metadata": {
    "collapsed": false,
    "pycharm": {
     "name": "#%% md\n"
    }
   }
  },
  {
   "cell_type": "markdown",
   "source": [
    "Используем аргументы и возвращаем значения\n",
    "В приведённых выше примерах декораторы ничего не принимали и не возвращали. Модифицируем наш декоратор для измерения времени выполнения:"
   ],
   "metadata": {
    "collapsed": false,
    "pycharm": {
     "name": "#%% md\n"
    }
   }
  },
  {
   "cell_type": "code",
   "execution_count": 5,
   "outputs": [
    {
     "name": "stdout",
     "output_type": "stream",
     "text": [
      "----- что-то делаем перед вызовом функции -----\n",
      "title = Главная страница\n",
      "----- что-то делаем после вызова функции -----\n"
     ]
    }
   ],
   "source": [
    "def func_decorator(func):\n",
    "    def wrapper(title):\n",
    "        print(\"----- что-то делаем перед вызовом функции -----\")\n",
    "        func(title)\n",
    "        print(\"----- что-то делаем после вызова функции -----\")\n",
    "    return wrapper\n",
    "\n",
    "@func_decorator\n",
    "def some_func(title):\n",
    "    print(f\"title = {title}\")\n",
    "\n",
    "some_func('Главная страница')"
   ],
   "metadata": {
    "collapsed": false,
    "pycharm": {
     "name": "#%%\n"
    }
   }
  },
  {
   "cell_type": "markdown",
   "source": [
    "Или можно воспользоваться универсальной записью используя *args, **kwargs"
   ],
   "metadata": {
    "collapsed": false,
    "pycharm": {
     "name": "#%% md\n"
    }
   }
  },
  {
   "cell_type": "code",
   "execution_count": null,
   "outputs": [],
   "source": [
    "def func_decorator(func):\n",
    "    def wrapper(*args, **kwargs):\n",
    "        print(\"----- что-то делаем перед вызовом функции -----\")\n",
    "        func(*args, **kwargs)\n",
    "        print(\"----- что-то делаем после вызова функции -----\")\n",
    "    return wrapper\n",
    "\n",
    "@func_decorator\n",
    "def some_func(title, tag):\n",
    "    print(f\"title = {title}, tag = {tag}\")\n",
    "\n",
    "some_func('Главная страница', 'h1')"
   ],
   "metadata": {
    "collapsed": false,
    "pycharm": {
     "name": "#%%\n"
    }
   }
  }
 ],
 "metadata": {
  "kernelspec": {
   "display_name": "Python 3",
   "language": "python",
   "name": "python3"
  },
  "language_info": {
   "codemirror_mode": {
    "name": "ipython",
    "version": 2
   },
   "file_extension": ".py",
   "mimetype": "text/x-python",
   "name": "python",
   "nbconvert_exporter": "python",
   "pygments_lexer": "ipython2",
   "version": "2.7.6"
  }
 },
 "nbformat": 4,
 "nbformat_minor": 0
}