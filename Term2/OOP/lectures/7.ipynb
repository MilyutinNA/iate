{
 "cells": [
  {
   "cell_type": "markdown",
   "source": [
    "#### Базы данных. Паттерн проектирования Singleton"
   ],
   "metadata": {
    "collapsed": false,
    "pycharm": {
     "name": "#%% md\n"
    }
   }
  },
  {
   "cell_type": "markdown",
   "source": [
    "В разработке программного обеспечения паттерн – это общее, многократно используемое решение проблемы, которая часто встречается внутри конкретной ситуации. Это похоже на готовые чертежи, которые можно использовать для решения проблемы в вашем коде.\n",
    "Стоит отметить, что нельзя применять паттерн проектирования так же, как используется функция из импортированной библиотеки. Вместо этого, вы должны следовать концепции паттерна и реализовать решение, которое соответствует требованиям вашей программы. Паттерн – это не фрагмент кода, а общая концепция, которая описывает, как решить конкретную повторяющуюся проблему."
   ],
   "metadata": {
    "collapsed": false,
    "pycharm": {
     "name": "#%% md\n"
    }
   }
  },
  {
   "cell_type": "markdown",
   "source": [
    "#### Классификация паттернов проектирования\n",
    "Изначально существовало две основные классификации паттернов проектирования:\n",
    "\n",
    "1. Какую проблему решает паттерн.\n",
    "2. Как относится паттерн к классам или объектам."
   ],
   "metadata": {
    "collapsed": false,
    "pycharm": {
     "name": "#%% md\n"
    }
   }
  },
  {
   "cell_type": "markdown",
   "source": [
    "Принимая во внимание первую классификацию, паттерны можно разделить на три группы:\n",
    "\n",
    "1. Порождающие – предоставляют возможность создания контролируемым образом, инициализации и конфигурации объектов, классов и типов данных на основе требуемых критериев.\n",
    "2. Структурные – помогают организовать структуры связанных объектов и классов, предоставляя новые функциональные возможности.\n",
    "3. Поведенческие – направлены на выявление общих моделей взаимодействия между объектами.\n",
    "\n",
    "Позже появились новые паттерны проектирования, из которых можно выделить еще одну категорию:\n",
    "\n",
    "Concurrency (параллелизм) – это тот тип паттернов проектирования, который имеет дело с многопоточной парадигмой программирования.\n",
    "\n",
    "Рассмотрим паттерн проектирования - Singleton"
   ],
   "metadata": {
    "collapsed": false,
    "pycharm": {
     "name": "#%% md\n"
    }
   }
  },
  {
   "cell_type": "markdown",
   "source": [
    "#### Паттерн 1: Singleton\n",
    "Singleton (одиночка) – это паттерн проектирования, цель которого ограничить возможность создания объектов данного класса одним экземпляром. Он обеспечивает глобальность до одного экземпляра и глобальный доступ к созданному объекту.\n",
    "\n",
    "Примеры использования\n",
    "\n",
    "* Класс в вашей программе имеет только один экземпляр, доступный всем клиентам. Например, один объект базы данных, разделяемый различными частями программы.\n",
    "* В случае если вам необходим более строгий контроль над глобальными переменными."
   ],
   "metadata": {
    "collapsed": false,
    "pycharm": {
     "name": "#%% md\n"
    }
   }
  },
  {
   "cell_type": "markdown",
   "source": [
    "Перед созданием класса с использованием паттерна Singleton необходимо знать как работают магические методы \\_\\_new\\_\\_() и \\_\\_init\\_\\_()\n",
    "\n",
    "Сначала, перед созданием объекта класса, вызывается магический метод \\_\\_new\\_\\_()\n",
    "\n",
    "Создается объект\n",
    "\n",
    "После создания объекта класса вызывается магический метод \\_\\_init\\_\\_()"
   ],
   "metadata": {
    "collapsed": false,
    "pycharm": {
     "name": "#%% md\n"
    }
   }
  },
  {
   "cell_type": "code",
   "execution_count": 4,
   "outputs": [
    {
     "name": "stdout",
     "output_type": "stream",
     "text": [
      "вызов __new__ для<class '__main__.Point'>\n",
      "None\n"
     ]
    }
   ],
   "source": [
    "class Point:\n",
    "    def __new__(cls, *args, **kwargs):\n",
    "        print('вызов __new__ для' + str(cls))\n",
    "\n",
    "    def __init__(self, x=0, y=0):\n",
    "        print('вызов __init__ для' + str(self))\n",
    "        self.x = x\n",
    "        self.y = y\n",
    "\n",
    "pt = Point(1, 2)\n",
    "print(pt)"
   ],
   "metadata": {
    "collapsed": false,
    "pycharm": {
     "name": "#%%\n"
    }
   }
  },
  {
   "cell_type": "markdown",
   "source": [
    "По результату выполнения кода видно что \\_\\_init\\_\\_() не был вызван и экземпляр класса не был создан\n",
    "Все дело в том что метод \\_\\_new\\_\\_() должен возвращать адрес для создаваемого объекта. Для этого необходимо вызывать метод \\_\\_new\\_\\_() из базового класса object"
   ],
   "metadata": {
    "collapsed": false,
    "pycharm": {
     "name": "#%% md\n"
    }
   }
  },
  {
   "cell_type": "code",
   "execution_count": 5,
   "outputs": [
    {
     "name": "stdout",
     "output_type": "stream",
     "text": [
      "вызов __new__ для<class '__main__.Point'>\n",
      "вызов __init__ для<__main__.Point object at 0x000002341AD90F10>\n",
      "<__main__.Point object at 0x000002341AD90F10>\n"
     ]
    }
   ],
   "source": [
    "class Point:\n",
    "    def __new__(cls, *args, **kwargs):\n",
    "        print('вызов __new__ для' + str(cls))\n",
    "        return super().__new__(cls)\n",
    "\n",
    "    def __init__(self, x=0, y=0):\n",
    "        print('вызов __init__ для' + str(self))\n",
    "        self.x = x\n",
    "        self.y = y\n",
    "\n",
    "pt = Point(1, 2)\n",
    "print(pt)"
   ],
   "metadata": {
    "collapsed": false,
    "pycharm": {
     "name": "#%%\n"
    }
   }
  },
  {
   "cell_type": "code",
   "execution_count": 7,
   "outputs": [
    {
     "name": "stdout",
     "output_type": "stream",
     "text": [
      "<__main__.DataBase object at 0x000002341A589340>\n",
      "<__main__.DataBase object at 0x000002341A589340>\n"
     ]
    }
   ],
   "source": [
    "class DataBase:\n",
    "    __instance = None\n",
    "\n",
    "    def __new__(cls, *args, **kwargs):\n",
    "        if cls.__instance is None:\n",
    "            cls.__instance = super().__new__(cls)\n",
    "        return cls.__instance\n",
    "\n",
    "    def __del__(self):\n",
    "        DataBase.__instance = None\n",
    "\n",
    "    def __init__(self, dbname, user, password, host):\n",
    "            self.dbname = dbname\n",
    "            self.user = user\n",
    "            self.password = password\n",
    "            self.host = host\n",
    "\n",
    "db_users1 = DataBase('users1', 'postgres', 'qwerty', 'localhost')\n",
    "db_users2 = DataBase('users2', 'postgres', '1234', 'localhost')\n",
    "print(db_users1)\n",
    "print(db_users2)"
   ],
   "metadata": {
    "collapsed": false,
    "pycharm": {
     "name": "#%%\n"
    }
   }
  },
  {
   "cell_type": "markdown",
   "source": [
    "Подведем итоги. Особенности использования Синглтона:\n",
    "\n",
    "1. Класс имеет только один экземпляр;\n",
    "2. Вы получаете глобальную точку доступа к этому экземпляру;\n",
    "3. Синглтон инициализируется только при первом запросе;"
   ],
   "metadata": {
    "collapsed": false,
    "pycharm": {
     "name": "#%% md\n"
    }
   }
  },
  {
   "cell_type": "code",
   "execution_count": 47,
   "metadata": {
    "collapsed": true,
    "pycharm": {
     "name": "#%%\n"
    }
   },
   "outputs": [
    {
     "name": "stdout",
     "output_type": "stream",
     "text": [
      "готовимся выполнить функцию create_user\n",
      "Выполнили функцию create_user, сохраняем результат\n"
     ]
    }
   ],
   "source": [
    "import psycopg2\n",
    "\n",
    "def save_after_post(method):\n",
    "    def wrapper(*args, **kw):\n",
    "        print(f'готовимся выполнить функцию {method.__name__}')\n",
    "        f = method(*args, **kw)\n",
    "        print(f'Выполнили функцию {method.__name__}, сохраняем результат')\n",
    "        args[0]._Users__connect.commit()\n",
    "        return f\n",
    "    return wrapper\n",
    "\n",
    "class Users:\n",
    "\n",
    "    __connect = None\n",
    "\n",
    "    def __new__(cls, *args, **kwargs):\n",
    "        if cls.__connect is None:\n",
    "            cls.__connect = psycopg2.connect(\n",
    "            dbname=args[0],\n",
    "            user=args[1],\n",
    "            password=args[2],\n",
    "            host=args[3])\n",
    "\n",
    "        return super().__new__(cls)\n",
    "\n",
    "    def __init__(self, dbname, user, password, host):\n",
    "            self.dbname = dbname\n",
    "            self.user = user\n",
    "            self.password = password\n",
    "            self.host = host\n",
    "\n",
    "    def select_users(self):\n",
    "        \"\"\"Получаем список всех пользователей\"\"\"\n",
    "        with Users.__connect.cursor() as curs:\n",
    "            curs.execute('SELECT * FROM main.users')\n",
    "            return curs.fetchall()\n",
    "\n",
    "    @save_after_post\n",
    "    def create_user(self, first_name=None, login=None, password=None):\n",
    "        \"\"\"Добавляем нового пользователя\"\"\"\n",
    "        with Users.__connect.cursor() as curs:\n",
    "            return curs.execute('INSERT INTO main.users (first_name, login, password) VALUES (%s, %s, %s)', (first_name, login, password))\n",
    "\n",
    "    @save_after_post\n",
    "    def change_password(self, login=None, password=None):\n",
    "        \"\"\"Изменяем пароль пользователя\"\"\"\n",
    "        with Users.__connect.cursor() as curs:\n",
    "            return curs.execute('UPDATE main.users SET password=%s WHERE login=%s', (password, login))\n",
    "\n",
    "db_users = Users('users', 'postgres', '1234', 'localhost')\n",
    "#select = db_users.select_users()\n",
    "update = db_users.create_user('Алексей', 'alex123', 'qwerty')"
   ]
  },
  {
   "cell_type": "code",
   "execution_count": null,
   "outputs": [],
   "source": [],
   "metadata": {
    "collapsed": false,
    "pycharm": {
     "name": "#%%\n"
    }
   }
  }
 ],
 "metadata": {
  "kernelspec": {
   "display_name": "Python 3",
   "language": "python",
   "name": "python3"
  },
  "language_info": {
   "codemirror_mode": {
    "name": "ipython",
    "version": 2
   },
   "file_extension": ".py",
   "mimetype": "text/x-python",
   "name": "python",
   "nbconvert_exporter": "python",
   "pygments_lexer": "ipython2",
   "version": "2.7.6"
  }
 },
 "nbformat": 4,
 "nbformat_minor": 0
}