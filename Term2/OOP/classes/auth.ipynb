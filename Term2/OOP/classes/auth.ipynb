{
 "cells": [
  {
   "cell_type": "code",
   "execution_count": 8,
   "outputs": [],
   "source": [
    "from tkinter import *\n",
    "from tkinter import ttk\n",
    "import psycopg2"
   ],
   "metadata": {
    "collapsed": false,
    "pycharm": {
     "name": "#%%\n"
    }
   }
  },
  {
   "cell_type": "code",
   "execution_count": 9,
   "outputs": [],
   "source": [
    "def commit(method):\n",
    "    def wrapper(*args, **kw):\n",
    "        f = method(*args, **kw)\n",
    "        args[0].connect.commit()\n",
    "        print('Изменения сохранены')\n",
    "        return f\n",
    "    return wrapper\n",
    "\n",
    "def del_frames(method):\n",
    "    def wrapper(*args, **kw):\n",
    "        all_frames = [f for f in args[0].children]\n",
    "        if all_frames:\n",
    "            for f_name in all_frames:\n",
    "                args[0].nametowidget(f_name).destroy()\n",
    "            print(f'Перед методом {method.__name__} удалились фреймы {all_frames}')\n",
    "            return method(*args, **kw)\n",
    "        else:\n",
    "            print('Нет фреймов, которые можно удалить')\n",
    "            return method(*args, **kw)\n",
    "    return wrapper"
   ],
   "metadata": {
    "collapsed": false,
    "pycharm": {
     "name": "#%%\n"
    }
   }
  },
  {
   "cell_type": "code",
   "execution_count": 10,
   "outputs": [],
   "source": [
    "class Users:\n",
    "    __instance = None\n",
    "\n",
    "    def connect_db(self, dbname, user, password, host):\n",
    "        try:\n",
    "            self.connect = psycopg2.connect(\n",
    "            dbname=dbname,\n",
    "            user=user,\n",
    "            password=password,\n",
    "            host=host)\n",
    "        except:\n",
    "            print('Can`t establish connection to database')\n",
    "            self.connect = None\n",
    "        finally:\n",
    "            return self.connect\n",
    "\n",
    "    def __new__(cls, *args, **kwargs):\n",
    "        if cls.__instance is None:\n",
    "            cls.__instance = super().__new__(cls)\n",
    "\n",
    "        return super().__new__(cls)\n",
    "\n",
    "    def __del__(self):\n",
    "        Users.__instance = None\n",
    "\n",
    "    def __init__(self, dbname, user, password, host):\n",
    "        if self.connect_db(dbname, user, password, host):\n",
    "            self.dbname = dbname\n",
    "            self.user = user\n",
    "            self.password = password\n",
    "            self.host = host\n",
    "\n",
    "    def select_users(self):\n",
    "        \"\"\"Получаем список всех пользователей\"\"\"\n",
    "        with self.connect.cursor() as curs:\n",
    "            curs.execute('SELECT * FROM main.users')\n",
    "            return curs.fetchall()\n",
    "\n",
    "    def user_exist(self, login):\n",
    "        \"\"\"Получаем список всех пользователей\"\"\"\n",
    "        with self.connect.cursor() as curs:\n",
    "            curs.execute('SELECT * FROM main.users WHERE login = (%s)', (login,))\n",
    "            return curs.fetchall()\n",
    "\n",
    "    @commit\n",
    "    def create_user(self, **kw):\n",
    "        # Добавляем нового пользователя\n",
    "        with self.connect.cursor() as curs:\n",
    "            print(f'Ожидается запись нового пользователя {kw[\"login\"]}')\n",
    "            return curs.execute('INSERT INTO main.users (first_name, login, password) VALUES (%s, %s, %s)', tuple(kw.values()))\n",
    "\n",
    "    @commit\n",
    "    def change_password(self, login=None, password=None):\n",
    "        \"\"\"Добавляем нового пользователя\"\"\"\n",
    "        with self.connect.cursor() as curs:\n",
    "            print(f'Пользователь {login} изменил пароль')\n",
    "            return curs.execute('UPDATE main.users SET password=%s WHERE login=%s', (password, login))"
   ],
   "metadata": {
    "collapsed": false,
    "pycharm": {
     "name": "#%%\n"
    }
   }
  },
  {
   "cell_type": "code",
   "execution_count": 22,
   "outputs": [],
   "source": [
    "class App(Tk):\n",
    "\n",
    "    def __init__(self):\n",
    "        super().__init__()\n",
    "        self.title('Auth')\n",
    "        self.main_page = self.main_page()\n",
    "\n",
    "    @del_frames\n",
    "    def main_page(self):\n",
    "        self.main_page = MainPage().pack()\n",
    "\n",
    "    @del_frames\n",
    "    def success_sign_in_page(self, name):\n",
    "        self.success_sign_in_page = SuccessPage(f'Привет, {name}').pack()\n",
    "\n",
    "    @del_frames\n",
    "    def success_sign_up_page(self):\n",
    "        self.success_sign_up_page = SuccessPage(f'Регистрация прошла успешно').pack()\n",
    "\n",
    "    @del_frames\n",
    "    def success_change_password_page(self):\n",
    "        self.success_change_password_page = SuccessPage(f'Пароль был успешно изменен').pack()\n",
    "\n",
    "    @del_frames\n",
    "    def change_password_page(self):\n",
    "        self.change_password_page = ChangePassword().pack()\n",
    "\n",
    "    @del_frames\n",
    "    def sign_up_page(self):\n",
    "        self.sign_up_page = SignUp().pack()"
   ],
   "metadata": {
    "collapsed": false,
    "pycharm": {
     "name": "#%%\n"
    }
   }
  },
  {
   "cell_type": "code",
   "execution_count": 23,
   "outputs": [],
   "source": [
    "class MainPage(Frame):\n",
    "\n",
    "    \"\"\"Главная страница\"\"\"\n",
    "\n",
    "    def __init__(self):\n",
    "        super().__init__()\n",
    "        self.field_login = Field(self, 'Логин')\n",
    "        self.field_password = Field(self, 'Пароль')\n",
    "        self.sign_on = Button(self,text = 'Войти', command=self.click_sign_in)\n",
    "        self.sign_on.pack()\n",
    "        self.sign_in = Button(self,text = 'Зарегистрироваться', command=self.click_sign_up)\n",
    "        self.sign_in.pack()\n",
    "        self.forgot_password = Button(self,text = 'Забыли пароль?', command=self.click_forgot_password)\n",
    "        self.forgot_password.pack()\n",
    "\n",
    "\n",
    "    def check_fields(self, e_login, e_password):\n",
    "        user = db_users.user_exist(e_login)\n",
    "        if user:\n",
    "            name = user[0][1]\n",
    "            if e_password == user[0][-1]:\n",
    "                self.master.success_sign_in_page(name)\n",
    "            else:\n",
    "                self.field_password.info.config(text='Введен неверный пароль')\n",
    "                self.field_login.info.config(text='')\n",
    "        else:\n",
    "            self.field_login.info.config(text='Пользователь не найден')\n",
    "            self.field_password.info.config(text='')\n",
    "\n",
    "\n",
    "\n",
    "    def click_sign_in(self):\n",
    "        e_login = self.field_login.e.get()\n",
    "        e_password = self.field_password.e.get()\n",
    "        self.check_fields(e_login, e_password)\n",
    "\n",
    "    def click_sign_up(self):\n",
    "        self.master.sign_up_page()\n",
    "\n",
    "    def click_forgot_password(self):\n",
    "        self.master.change_password_page()\n",
    "\n",
    "\n",
    "class SuccessPage(Frame):\n",
    "\n",
    "    def __init__(self, alert_text):\n",
    "        super().__init__()\n",
    "        self.l = Label(self, text = alert_text, font=30)\n",
    "        self.l.grid(row=0,column=0,columnspan=1)\n",
    "        self.b = Button(self,text = 'Выйти на главную', command=self.return_back)\n",
    "        self.b.grid(row=1,column=0,columnspan=1)\n",
    "\n",
    "    def return_back(self):\n",
    "        self.master.main_page()\n",
    "\n",
    "\n",
    "class ChangePassword(Frame):\n",
    "\n",
    "    \"\"\"Страница смены пароля\"\"\"\n",
    "\n",
    "    def __init__(self):\n",
    "        super().__init__()\n",
    "        self.field_login = Field(self, 'Логин')\n",
    "        self.field_old_password = Field(self, 'Старый пароль')\n",
    "        self.field_new_password = Field(self, 'Новый пароль')\n",
    "        self.field_new_password_repeat = Field(self, 'Повторите новый пароль')\n",
    "        self.change_password = Button(self,text = 'Зарегистрироваться', command=self.click_change_password)\n",
    "        self.change_password.pack()\n",
    "        self.back = Button(self,text = 'Назад', command=self.return_back)\n",
    "        self.back.pack()\n",
    "\n",
    "    def get_info(self):\n",
    "        for var_dict in self.__dir__():\n",
    "            for k in var_dict:\n",
    "                print(k)\n",
    "                var = exec('%s = %d' % (f'self{k}', v))\n",
    "                print(var)\n",
    "\n",
    "    def check_fields(self, e_login, e_old_password, e_new_password, e_new_password_repeat):\n",
    "        user = db_users.user_exist(e_login)\n",
    "        if user:\n",
    "            name = user[0][1]\n",
    "            if e_old_password == user[0][-1]:\n",
    "                if e_new_password:\n",
    "                    if len(e_new_password) >= 4:\n",
    "                        if e_new_password != user[0][-1]:\n",
    "                            if e_new_password == e_new_password_repeat:\n",
    "                                db_users.change_password(login=e_login,password=e_new_password)\n",
    "                                self.master.success_change_password_page()\n",
    "                            else:\n",
    "                                self.field_login.info.config(text='')\n",
    "                                self.field_old_password.info.config(text='')\n",
    "                                self.field_new_password.info.config(text='')\n",
    "                                self.field_new_password_repeat.info.config(text='Новый пароль введен неверно')\n",
    "                        else:\n",
    "                            self.field_login.info.config(text='')\n",
    "                            self.field_old_password.info.config(text='')\n",
    "                            self.field_new_password.info.config(text='Новый пароль не должен совпадать со старым')\n",
    "                            self.field_new_password_repeat.info.config(text='')\n",
    "                    else:\n",
    "                        self.field_login.info.config(text='')\n",
    "                        self.field_old_password.info.config(text='')\n",
    "                        self.field_new_password.info.config(text='Новый пароль должен быть длиннее 4 символов')\n",
    "                        self.field_new_password_repeat.info.config(text='')\n",
    "                else:\n",
    "                    self.field_login.info.config(text='')\n",
    "                    self.field_old_password.info.config(text='')\n",
    "                    self.field_new_password.info.config(text='Введите пароль')\n",
    "                    self.field_new_password_repeat.info.config(text='')\n",
    "            else:\n",
    "                self.field_login.info.config(text='')\n",
    "                self.field_old_password.info.config(text='Введен неверный пароль')\n",
    "                self.field_new_password.info.config(text='')\n",
    "                self.field_new_password_repeat.info.config(text='')\n",
    "        else:\n",
    "            self.get_info()\n",
    "            self.field_login.info.config(text='Пользователь не найден')\n",
    "            self.field_old_password.info.config(text='')\n",
    "            self.field_new_password.info.config(text='')\n",
    "            self.field_new_password_repeat.info.config(text='')\n",
    "\n",
    "    def click_change_password(self):\n",
    "        #Добавить проверку пароля. Цеплять старый пароль из БД\n",
    "        e_login = self.field_login.e.get()\n",
    "        e_old_password = self.field_old_password.e.get()\n",
    "        e_new_password = self.field_new_password.e.get()\n",
    "        e_new_password_repeat = self.field_new_password_repeat.e.get()\n",
    "        self.check_fields(e_login, e_old_password, e_new_password, e_new_password_repeat)\n",
    "\n",
    "    def return_back(self):\n",
    "        self.master.main_page()\n",
    "\n",
    "class SignUp(Frame):\n",
    "\n",
    "    \"\"\"Страница регистрации\"\"\"\n",
    "\n",
    "    def __init__(self):\n",
    "        super().__init__()\n",
    "        self.field_name = Field(self, 'Имя')\n",
    "        self.field_login = Field(self, 'Логин')\n",
    "        self.field_password = Field(self, 'Пароль')\n",
    "        self.sign_up = Button(self,text = 'Зарегистрироваться', command=self.click_sign_up)\n",
    "        self.sign_up.pack()\n",
    "        self.back = Button(self,text = 'Назад', command=self.return_back)\n",
    "        self.back.pack()\n",
    "\n",
    "    def click_sign_up(self):\n",
    "        #Добавить проверку логина. Цеплять старый пароль из БД\n",
    "        self.master.success_sign_up_page()\n",
    "\n",
    "    def return_back(self):\n",
    "        self.master.main_page()"
   ],
   "metadata": {
    "collapsed": false,
    "pycharm": {
     "name": "#%%\n"
    }
   }
  },
  {
   "cell_type": "code",
   "execution_count": 24,
   "outputs": [],
   "source": [
    "class Field(Frame):\n",
    "\n",
    "    \"\"\"Фрейм - поле с названием\"\"\"\n",
    "\n",
    "    def __init__(self, master, text):\n",
    "        super().__init__()\n",
    "        self.l = Label(master, text = text, font=30)\n",
    "        self.l.pack()\n",
    "        self.e = Entry(master)\n",
    "        self.e.pack()\n",
    "        self.info = Label(master, text = '')\n",
    "        self.info.pack()"
   ],
   "metadata": {
    "collapsed": false,
    "pycharm": {
     "name": "#%%\n"
    }
   }
  },
  {
   "cell_type": "code",
   "execution_count": 25,
   "outputs": [
    {
     "name": "stdout",
     "output_type": "stream",
     "text": [
      "Нет фреймов, которые можно удалить\n",
      "Перед методом success_sign_in_page удалились фреймы ['!mainpage', '!field', '!field2']\n"
     ]
    },
    {
     "name": "stderr",
     "output_type": "stream",
     "text": [
      "Exception in Tkinter callback\n",
      "Traceback (most recent call last):\n",
      "  File \"D:\\Anaconda3\\lib\\tkinter\\__init__.py\", line 1892, in __call__\n",
      "    return self.func(*args)\n",
      "  File \"C:\\Users\\Nikita\\AppData\\Local\\Temp\\ipykernel_16096\\735244311.py\", line 54, in return_back\n",
      "    self.master.main_page()\n",
      "TypeError: 'NoneType' object is not callable\n"
     ]
    }
   ],
   "source": [
    "db_users = Users('users', 'postgres', '1234', 'localhost')\n",
    "if db_users.connect:\n",
    "    app = App()\n",
    "    app.mainloop()"
   ],
   "metadata": {
    "collapsed": false,
    "pycharm": {
     "name": "#%%\n"
    }
   }
  },
  {
   "cell_type": "code",
   "execution_count": 14,
   "outputs": [],
   "source": [],
   "metadata": {
    "collapsed": false,
    "pycharm": {
     "name": "#%%\n"
    }
   }
  }
 ],
 "metadata": {
  "kernelspec": {
   "display_name": "Python 3",
   "language": "python",
   "name": "python3"
  },
  "language_info": {
   "codemirror_mode": {
    "name": "ipython",
    "version": 2
   },
   "file_extension": ".py",
   "mimetype": "text/x-python",
   "name": "python",
   "nbconvert_exporter": "python",
   "pygments_lexer": "ipython2",
   "version": "2.7.6"
  }
 },
 "nbformat": 4,
 "nbformat_minor": 0
}