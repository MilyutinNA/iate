{
 "cells": [
  {
   "cell_type": "code",
   "execution_count": 8,
   "outputs": [
    {
     "name": "stdout",
     "output_type": "stream",
     "text": [
      "[{\"id\":1, \"email\":\"ivan_10@gmail.com\", \"login\":\"ivan_10\", \"pwd\":\"qwerty\"}]"
     ]
    }
   ],
   "source": [
    "from tkinter import *\n",
    "from tkinter import ttk\n",
    "\n",
    "with open('users_db.txt','r') as file:\n",
    "    for line in file:\n",
    "        print(line, end = '')\n",
    "\n",
    "user = {\"id\":1, \"email\":\"ivan_10@gmail.com\", \"login\":\"ivan_10\", \"pwd\":\"qwerty\"}\n",
    "\n",
    "class App(Tk):\n",
    "    def __init__(self):\n",
    "        super().__init__()\n",
    "        self.main_page()\n",
    "\n",
    "    def main_page(self):\n",
    "        self.forget_page()\n",
    "        self.main = MainPage()\n",
    "        self.main.pack()\n",
    "\n",
    "    def success_page(self):\n",
    "        self.forget_page()\n",
    "        self.success= Success()\n",
    "        self.success.pack()\n",
    "\n",
    "    def signup_page(self):\n",
    "        self.forget_page()\n",
    "        self.sign_up = SingUp()\n",
    "        self.sign_up.pack()\n",
    "\n",
    "    def forget_page(self):\n",
    "        all_frames = [f for f in self.children]\n",
    "        for f_name in all_frames:\n",
    "            self.nametowidget(f_name).destroy()\n",
    "\n",
    "    def forgotpwd_page(self):\n",
    "        self.forget_page()\n",
    "        self.forgotpwd= ForgotPwd()\n",
    "        self.forgotpwd.pack()\n",
    "\n",
    "\n",
    "class Field(Frame):\n",
    "    def __init__(self, text):\n",
    "        super().__init__()\n",
    "        self.l = Label(self, text=text)\n",
    "        self.e = Entry(self)\n",
    "        self.info = Label(self, text=\"\")\n",
    "        self.l.pack()\n",
    "        self.e.pack()\n",
    "        self.info.pack()\n",
    "\n",
    "\n",
    "class MainPage(Frame):\n",
    "\n",
    "    def __init__(self):\n",
    "        super().__init__()\n",
    "        self.field_login = Field(\"Логин\")\n",
    "        self.field_login.pack()\n",
    "        self.field_password = Field(\"Пароль\")\n",
    "        self.field_password.pack()\n",
    "        self.b_forgot_pwd = Button(self, text='Forgot password', command=self.master.forgotpwd_page)\n",
    "        self.b_forgot_pwd.pack()\n",
    "        self.b_sign_in = Button(self, text='Sign in', command=self.master.success_page)\n",
    "        self.b_sign_in.pack()\n",
    "        self.b_sign_up = Button(self, text='Sign up', command=self.master.signup_page)\n",
    "        self.b_sign_up.pack()\n",
    "\n",
    "class SingUp(Frame):\n",
    "    def __init__(self):\n",
    "        super().__init__()\n",
    "        self.field_email = Field(\"email\")\n",
    "        self.field_email.pack()\n",
    "        self.field_login = Field(\"login\")\n",
    "        self.field_login.pack()\n",
    "        self.field_pwd = Field(\"password\")\n",
    "        self.field_pwd.pack()\n",
    "        self.field_rpwd = Field(\"repeat password\")\n",
    "        self.field_rpwd.pack()\n",
    "        self.b_singup = Button(self, text='singup', command=self.master.success_page)\n",
    "        self.b_singup.pack()\n",
    "\n",
    "\n",
    "class ForgotPwd(Frame):\n",
    "    def __init__(self):\n",
    "        super().__init__()\n",
    "        self.field_email = Field(\"email\")\n",
    "        self.field_email.pack()\n",
    "        self.field_newpwd = Field(\"new password\")\n",
    "        self.field_newpwd.pack()\n",
    "        self.field_rpwd = Field(\"repeat new password\")\n",
    "        self.field_rpwd.pack()\n",
    "        self.b_changepwd = Button(self, text='Change password', command=self.master.success_page)\n",
    "        self.b_changepwd.pack()\n",
    "\n",
    "\n",
    "\n",
    "class Success(Frame):\n",
    "   def __init__(self):\n",
    "       super().__init__()\n",
    "       self.success_label=Label(self,text=\"You have logged in successfully\")\n",
    "       self.success_label.pack()\n",
    "       self.b_return=Button(self,text=\"return\",command=self.master.main_page)\n",
    "       self.b_return.pack()\n",
    "\n",
    "a = App()\n",
    "a.mainloop()\n"
   ],
   "metadata": {
    "collapsed": false,
    "pycharm": {
     "name": "#%%\n"
    }
   }
  },
  {
   "cell_type": "code",
   "execution_count": null,
   "outputs": [],
   "source": [],
   "metadata": {
    "collapsed": false,
    "pycharm": {
     "name": "#%%\n",
     "is_executing": true
    }
   }
  }
 ],
 "metadata": {
  "kernelspec": {
   "display_name": "Python 3",
   "language": "python",
   "name": "python3"
  },
  "language_info": {
   "codemirror_mode": {
    "name": "ipython",
    "version": 2
   },
   "file_extension": ".py",
   "mimetype": "text/x-python",
   "name": "python",
   "nbconvert_exporter": "python",
   "pygments_lexer": "ipython2",
   "version": "2.7.6"
  }
 },
 "nbformat": 4,
 "nbformat_minor": 0
}