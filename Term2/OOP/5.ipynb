{
 "cells": [
  {
   "cell_type": "markdown",
   "source": [
    "Каждый виджет, кроме окна, располагается в определенном родительском контейнере. Например:"
   ],
   "metadata": {
    "collapsed": false,
    "pycharm": {
     "name": "#%% md\n"
    }
   }
  },
  {
   "cell_type": "code",
   "execution_count": 1,
   "outputs": [],
   "source": [
    "from tkinter import *\n",
    "from tkinter import ttk\n",
    "\n",
    "root = Tk()\n",
    "root.title(\"Example\")\n",
    "root.geometry(\"250x200\")\n",
    "\n",
    "lbl = ttk.Label(text=\"Some text\")\n",
    "lbl.pack()\n",
    "\n",
    "root.mainloop()"
   ],
   "metadata": {
    "collapsed": false,
    "pycharm": {
     "name": "#%%\n"
    }
   }
  },
  {
   "cell_type": "markdown",
   "source": [
    "Здесь для метки lbl контейнером выступает главное окно - root. Однако графическое приложение может иметь более сложную структуру со множеством вложенных контейнеров. И для каждого виджета можно явным образом установить контейнер с помощью первого параметра конструктора, который называется master. Например, в примере выше мы могли бы явным образом прописать для Label родительский контейнер:"
   ],
   "metadata": {
    "collapsed": false,
    "pycharm": {
     "name": "#%% md\n"
    }
   }
  },
  {
   "cell_type": "code",
   "execution_count": null,
   "outputs": [],
   "source": [
    "from tkinter import *\n",
    "from tkinter import ttk\n",
    "\n",
    "root = Tk()\n",
    "root.title(\"Example\")\n",
    "root.geometry(\"250x200\")\n",
    "\n",
    "lbl = ttk.Label(master=root, text=\"Some text\")\n",
    "lbl.pack()\n",
    "\n",
    "root.mainloop()"
   ],
   "metadata": {
    "collapsed": false,
    "pycharm": {
     "name": "#%%\n"
    }
   }
  },
  {
   "cell_type": "markdown",
   "source": [
    "В данном случае это не имеет смысла, кнопка по умолчанию добавляется в окно. Однако также мы можем определять вложенные контейнеры. В частности, для в Tkinter предназначен виджет Frame.\n",
    "\n",
    "#### Frame\n",
    "\n",
    "**Frame** отображает прямоугольник и обычно применяется для организации интерфейса в отдельные блоки. Некоторые основные параметры, которые мы можем установить через конструктор класса Frame:\n",
    "\n",
    "* borderwidth: толщина границы фрейма, по умолчанию равно 0\n",
    "\n",
    "* relief: определяет тип границы, может принимать значения SUNKEN, RAISED, GROOVE, RIDGE\n",
    "\n",
    "* cursor: устанавливает курсор при наведении на фрейм\n",
    "\n",
    "* height: высота фрейма\n",
    "\n",
    "* width: ширина фрейма\n",
    "\n",
    "* padding: отступы от вложенного содержимого до границ фрейма\n",
    "\n",
    "Используем фреймы:"
   ],
   "metadata": {
    "collapsed": false,
    "pycharm": {
     "name": "#%% md\n"
    }
   }
  },
  {
   "cell_type": "code",
   "execution_count": 3,
   "outputs": [],
   "source": [
    "import re\n",
    "from tkinter import *\n",
    "from tkinter import ttk\n",
    "\n",
    "root = Tk()\n",
    "root.title(\"Example\")\n",
    "root.geometry(\"250x200\")\n",
    "\n",
    "frame = ttk.Frame(borderwidth=1, relief=SOLID, padding=[8, 10])\n",
    "name_label = ttk.Label(frame, text=\"Введите имя\")\n",
    "name_label.pack(anchor=NW)\n",
    "\n",
    "name_entry = ttk.Entry(frame)\n",
    "name_entry.pack(anchor=NW)\n",
    "\n",
    "frame.pack(anchor=NW, fill=X, padx=5, pady=5)\n",
    "\n",
    "root.mainloop()"
   ],
   "metadata": {
    "collapsed": false,
    "pycharm": {
     "name": "#%%\n"
    }
   }
  },
  {
   "cell_type": "markdown",
   "source": [
    "Здесь фрейм имеет границу толщиной в 1 пиксель. Граница представляет обычную линию (relief=SOLID). Также для фрейма заданы внутренние отступы: 8 по горизонтали и 10 по вертикали.\n",
    "В сам фрейм добавляются два других виджета: Label и Entry. Для этого для обоих виджетов указываем фрейм в качестве родительского контейнера.\n",
    "\n",
    "При этом мы можем вынести во вне создание фрейма\n",
    "\n",
    "Здесь для создания фрейма определена функция create_frame, которая возвращает фрейм с меткой и текстовым полем. Далее создаем с помощью этой функции два фрейма и добавляем их в окно:"
   ],
   "metadata": {
    "collapsed": false,
    "pycharm": {
     "name": "#%% md\n"
    }
   }
  },
  {
   "cell_type": "code",
   "execution_count": 5,
   "outputs": [],
   "source": [
    "from tkinter import *\n",
    "from tkinter import ttk\n",
    "\n",
    "def create_frame(label_text):\n",
    "    frame = ttk.Frame(borderwidth=1, relief=SOLID, padding=[8, 10])\n",
    "    # добавляем на фрейм метку\n",
    "    label = ttk.Label(frame, text=label_text)\n",
    "    label.pack(anchor=NW)\n",
    "    # добавляем на фрейм текстовое поле\n",
    "    entry = ttk.Entry(frame)\n",
    "    entry.pack(anchor=NW)\n",
    "    # возвращаем фрейм из функции\n",
    "    return frame\n",
    "\n",
    "root = Tk()\n",
    "root.title(\"Example\")\n",
    "root.geometry(\"250x200\")\n",
    "\n",
    "name_frame = create_frame(\"Введите имя\")\n",
    "name_frame.pack(anchor=NW, fill=X, padx=5, pady=5)\n",
    "\n",
    "email_frame = create_frame(\"Введите email\")\n",
    "email_frame.pack(anchor=NW, fill=X, padx=5, pady=5)\n",
    "\n",
    "root.mainloop()"
   ],
   "metadata": {
    "collapsed": false,
    "pycharm": {
     "name": "#%%\n"
    }
   }
  },
  {
   "cell_type": "markdown",
   "source": [
    "Реализуем простую программу авторизации пользователя:\n",
    "\n",
    "![Страница авторизации](https://samgtu.ru/uploads/distance-learning/authorization.png)"
   ],
   "metadata": {
    "collapsed": false,
    "pycharm": {
     "name": "#%% md\n"
    }
   }
  },
  {
   "cell_type": "markdown",
   "source": [
    "В коде мы будем использовать декораторы"
   ],
   "metadata": {
    "collapsed": false,
    "pycharm": {
     "name": "#%% md\n"
    }
   }
  },
  {
   "cell_type": "code",
   "execution_count": 2,
   "outputs": [
    {
     "name": "stdout",
     "output_type": "stream",
     "text": [
      "----- что-то делаем перед вызовом функции -----\n",
      "Вызов функции some_func\n",
      "----- что-то делаем после вызова функции -----\n"
     ]
    }
   ],
   "source": [
    "def func_decorator(func):\n",
    "    def wrapper():\n",
    "        print(\"----- что-то делаем перед вызовом функции -----\")\n",
    "        func()\n",
    "        print(\"----- что-то делаем после вызова функции -----\")\n",
    "    return wrapper\n",
    "\n",
    "def some_func():\n",
    "    print(\"Вызов функции some_func\")\n",
    "\n",
    "f = func_decorator(some_func)\n",
    "f()"
   ],
   "metadata": {
    "collapsed": false,
    "pycharm": {
     "name": "#%%\n"
    }
   }
  },
  {
   "cell_type": "code",
   "execution_count": 5,
   "outputs": [
    {
     "name": "stdout",
     "output_type": "stream",
     "text": [
      "----- что-то делаем перед вызовом функции -----\n",
      "title = Главная страница\n",
      "----- что-то делаем после вызова функции -----\n"
     ]
    }
   ],
   "source": [
    "def func_decorator(func):\n",
    "    def wrapper(title):\n",
    "        print(\"----- что-то делаем перед вызовом функции -----\")\n",
    "        func(title)\n",
    "        print(\"----- что-то делаем после вызова функции -----\")\n",
    "    return wrapper\n",
    "\n",
    "def some_func(title):\n",
    "    print(f\"title = {title}\")\n",
    "\n",
    "some_func = func_decorator(some_func)\n",
    "some_func('Главная страница')"
   ],
   "metadata": {
    "collapsed": false,
    "pycharm": {
     "name": "#%%\n"
    }
   }
  },
  {
   "cell_type": "code",
   "execution_count": null,
   "outputs": [],
   "source": [
    "def func_decorator(func):\n",
    "    def wrapper(*args, **kwargs):\n",
    "        print(\"----- что-то делаем перед вызовом функции -----\")\n",
    "        func(*args, **kwargs)\n",
    "        print(\"----- что-то делаем после вызова функции -----\")\n",
    "    return wrapper\n",
    "\n",
    "def some_func(title, tag):\n",
    "    print(f\"title = {title}, tag = {tag}\")\n",
    "\n",
    "some_func = func_decorator(some_func)\n",
    "some_func('Главная страница', 'h1')"
   ],
   "metadata": {
    "collapsed": false,
    "pycharm": {
     "name": "#%%\n"
    }
   }
  },
  {
   "cell_type": "code",
   "execution_count": 6,
   "outputs": [
    {
     "name": "stdout",
     "output_type": "stream",
     "text": [
      "----- что-то делаем перед вызовом функции -----\n",
      "title = Главная страница, tag = h1\n",
      "----- что-то делаем после вызова функции -----\n",
      "None\n"
     ]
    }
   ],
   "source": [
    "def func_decorator(func):\n",
    "    def wrapper(*args, **kwargs):\n",
    "        print(\"----- что-то делаем перед вызовом функции -----\")\n",
    "        func(*args, **kwargs)\n",
    "        print(\"----- что-то делаем после вызова функции -----\")\n",
    "    return wrapper\n",
    "\n",
    "def some_func(title, tag):\n",
    "    print(f\"title = {title}, tag = {tag}\")\n",
    "    return f'<{tag}>{title}</{tag}>'\n",
    "\n",
    "some_func = func_decorator(some_func)\n",
    "result = some_func('Главная страница', 'h1')\n",
    "print(result)"
   ],
   "metadata": {
    "collapsed": false,
    "pycharm": {
     "name": "#%%\n"
    }
   }
  },
  {
   "cell_type": "markdown",
   "source": [
    "Универсальное определение декоратора"
   ],
   "metadata": {
    "collapsed": false,
    "pycharm": {
     "name": "#%% md\n"
    }
   }
  },
  {
   "cell_type": "code",
   "execution_count": 8,
   "outputs": [
    {
     "name": "stdout",
     "output_type": "stream",
     "text": [
      "----- что-то делаем перед вызовом функции -----\n",
      "title = Главная страница, tag = h1\n",
      "----- что-то делаем после вызова функции -----\n",
      "<h1>Главная страница</h1>\n"
     ]
    }
   ],
   "source": [
    "def func_decorator(func):\n",
    "    def wrapper(*args, **kwargs):\n",
    "        print(\"----- что-то делаем перед вызовом функции -----\")\n",
    "        res = func(*args, **kwargs)\n",
    "        print(\"----- что-то делаем после вызова функции -----\")\n",
    "        return res\n",
    "    return wrapper\n",
    "\n",
    "def some_func(title, tag):\n",
    "    print(f\"title = {title}, tag = {tag}\")\n",
    "    return f'<{tag}>{title}</{tag}>'\n",
    "\n",
    "some_func = func_decorator(some_func)\n",
    "result = some_func('Главная страница', 'h1')\n",
    "print(result)"
   ],
   "metadata": {
    "collapsed": false,
    "pycharm": {
     "name": "#%%\n"
    }
   }
  },
  {
   "cell_type": "code",
   "execution_count": 11,
   "outputs": [
    {
     "name": "stdout",
     "output_type": "stream",
     "text": [
      "----- что-то делаем перед вызовом функции -----\n",
      "title = Главная страница, tag = h1\n",
      "----- что-то делаем после вызова функции -----\n"
     ]
    }
   ],
   "source": [
    "def func_decorator(func):\n",
    "    def wrapper(*args, **kwargs):\n",
    "        print(\"----- что-то делаем перед вызовом функции -----\")\n",
    "        res = func(*args, **kwargs)\n",
    "        print(\"----- что-то делаем после вызова функции -----\")\n",
    "        return res\n",
    "    return wrapper\n",
    "\n",
    "@func_decorator\n",
    "def some_func(title, tag):\n",
    "    print(f\"title = {title}, tag = {tag}\")\n",
    "    return f'<{tag}>{title}</{tag}>'\n",
    "\n",
    "result = some_func('Главная страница', 'h1')\n",
    "print(result)"
   ],
   "metadata": {
    "collapsed": false,
    "pycharm": {
     "name": "#%%\n"
    }
   }
  },
  {
   "cell_type": "code",
   "execution_count": null,
   "outputs": [],
   "source": [
    "import time\n",
    "# это вспомогательный декоратор будет декорировать каждый метод класса, см. ниже\n",
    "def timeit(method):\n",
    "    def timed(*args, **kw):\n",
    "        ts = time.time()\n",
    "        result = method(*args, **kw)\n",
    "        te = time.time()\n",
    "        delta = (te - ts) * 1000\n",
    "        print(f'{method.__name__} выполнялся {delta:2.2f} ms')\n",
    "        return result\n",
    "    return timed\n",
    "def timeit_all_methods(cls):\n",
    "    class NewCls:\n",
    "        def __init__(self, *args, **kwargs):\n",
    "            # проксируем полностью создание класса\n",
    "            # как создали этот NewCls, также создадим и декорируемый класс\n",
    "            self._obj = cls(*args, **kwargs)\n",
    "        def __getattribute__(self, s):\n",
    "            try:\n",
    "                # папа, у меня есть атрибут s?\n",
    "                x = super().__getattribute__(s)\n",
    "            except AttributeError:\n",
    "                # нет сынок, это не твой атрибут\n",
    "                pass\n",
    "            else:\n",
    "                # да сынок, это твое\n",
    "                return x\n",
    "            # объект, значит у тебя должен быть атрибут s\n",
    "            attr = self._obj.__getattribute__(s)\n",
    "            # метод ли он?\n",
    "            if isinstance(attr, type(self.__init__)):\n",
    "                # да, обернуть его в измеритель времени\n",
    "                return timeit(attr)\n",
    "            else:\n",
    "                # не метод, что-то другое\n",
    "                return attr\n",
    "    return NewCls\n",
    "@time_all_class_methods\n",
    "class Foo:\n",
    "    def a(self):\n",
    "        print(\"метод a начался\")\n",
    "        time.sleep(0.666)\n",
    "        print(\"метод a кончился\")\n",
    "f = Foo()\n",
    "f.a()\n",
    "# метод a начался\n",
    "# метод a кончился\n",
    "# a 668.74 ms"
   ],
   "metadata": {
    "collapsed": false,
    "pycharm": {
     "name": "#%%\n"
    }
   }
  }
 ],
 "metadata": {
  "kernelspec": {
   "display_name": "Python 3",
   "language": "python",
   "name": "python3"
  },
  "language_info": {
   "codemirror_mode": {
    "name": "ipython",
    "version": 2
   },
   "file_extension": ".py",
   "mimetype": "text/x-python",
   "name": "python",
   "nbconvert_exporter": "python",
   "pygments_lexer": "ipython2",
   "version": "2.7.6"
  }
 },
 "nbformat": 4,
 "nbformat_minor": 0
}