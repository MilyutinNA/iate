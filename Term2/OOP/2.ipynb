{
 "cells": [
  {
   "cell_type": "markdown",
   "source": [
    "### НАСЛЕДОВАНИЕ ОТ ДРУГИХ КЛАССОВ\n",
    "\n",
    "**Наследованием** называется процесс, в котором один класс получает атрибуты и методы другого класса. Создаваемый класс называется **производным**, или **дочерним, классом**, а классы, от которых наследуют производные классы, называются **родительскими**.\n",
    "\n",
    "Дочерние классы могут переопределять или расширять атрибуты и методы родительских классов. Другими словами, они наследуют все атрибуты и методы родительских классов, но также могут задавать свои уникальные атрибуты и методы.\n",
    "\n",
    "Как и в прошлом примере создадим класс Dog, но добавим в него атрибут .breed - определяющий породу собаки"
   ],
   "metadata": {
    "collapsed": false,
    "pycharm": {
     "name": "#%% md\n"
    }
   }
  },
  {
   "cell_type": "code",
   "execution_count": 64,
   "outputs": [],
   "source": [
    "class Dog:\n",
    "    # Атрибут класса\n",
    "    species = \"Canis familiaris\"\n",
    "\n",
    "    def __init__(self, name, age, breed):\n",
    "        self.name = name\n",
    "        self.age = age\n",
    "        self.breed = breed\n",
    "    # Метод экземпляра\n",
    "    def __str__(self):\n",
    "        return f\"{self.name} is {self.age} years old\"\n",
    "    # Другой метод экземпляра\n",
    "    def speak(self, sound):\n",
    "        return f\"{self.name} says {sound}\""
   ],
   "metadata": {
    "collapsed": false,
    "pycharm": {
     "name": "#%%\n"
    }
   }
  },
  {
   "cell_type": "markdown",
   "source": [
    "Определим экземпляры класса Dog"
   ],
   "metadata": {
    "collapsed": false,
    "pycharm": {
     "name": "#%% md\n"
    }
   }
  },
  {
   "cell_type": "code",
   "execution_count": 66,
   "outputs": [],
   "source": [
    "miles = Dog(\"Miles\", 4, \"Jack Russell Terrier\")\n",
    "buddy = Dog(\"Buddy\", 9, \"Dachshund\")\n",
    "jack = Dog(\"Jack\", 3, \"Bulldog\")\n",
    "jim = Dog(\"Jim\", 5, \"Bulldog\")"
   ],
   "metadata": {
    "collapsed": false,
    "pycharm": {
     "name": "#%%\n"
    }
   }
  },
  {
   "cell_type": "markdown",
   "source": [
    "Разные породы собак имеют разные отличительные особенности. Например, у бульдогов лай низкий, а у такс - высокий и пронзительный.\n",
    "\n",
    "Если использовать только класс Dog, можно передавать методу .speak строку с транскрипцией лая каждый раз, когда этот метод вызывается для экземпляра Dog:"
   ],
   "metadata": {
    "collapsed": false,
    "pycharm": {
     "name": "#%% md\n"
    }
   }
  },
  {
   "cell_type": "code",
   "execution_count": 69,
   "outputs": [
    {
     "name": "stdout",
     "output_type": "stream",
     "text": [
      "Buddy says Vap\n",
      "Jim says Woof\n",
      "Jack says Woof\n"
     ]
    }
   ],
   "source": [
    "print(buddy.speak(\"Vap\"))\n",
    "print(jim.speak(\"Woof\"))\n",
    "print(jack.speak(\"Woof\"))"
   ],
   "metadata": {
    "collapsed": false,
    "pycharm": {
     "name": "#%%\n"
    }
   }
  },
  {
   "cell_type": "markdown",
   "source": [
    "Впрочем, решение с передачей строки при каждом вызове .speak() однообразно и неудобно. Более того, строка, представляющая звук, издаваемый каждым экземпляром Dog, должна определяться его атрибутом .breed, а нам приходится вручную передавать правильную строку .speak() при каждом вызове.\n",
    "\n",
    "Чтобы с классом Dog было удобнее работать, мы создадим отдельный дочерний класс для каждой породы собак. Это позволит расширить функциональность, наследуемую каждым производным классом, включая определение аргумента по умолчанию для .sреаk().\n",
    "\n",
    "#### Родительские классы и дочерние классы\n",
    "\n",
    "Создадим дочерний класс для каждой из трех пород, упоминавшихся ранее: джек-рассел-терьер Jack Russell Terrier), такса (Dachshund) и бульдог\n",
    "(Bulldog).\n",
    "\n",
    "Чтобы создать дочерний класс, создайте новый класс с соответствующим именем и укажите имя родительского класса в круглых скобках. Следующий фрагмент после класса Dog создает три новых класса, производных от Dog:"
   ],
   "metadata": {
    "collapsed": false,
    "pycharm": {
     "name": "#%% md\n"
    }
   }
  },
  {
   "cell_type": "code",
   "execution_count": 70,
   "outputs": [],
   "source": [
    "class Dog:\n",
    "    # Атрибут класса\n",
    "    species = \"Canis familiaris\"\n",
    "\n",
    "    def __init__(self, name, age):\n",
    "        self.name = name\n",
    "        self.age = age\n",
    "    # Метод экземпляра\n",
    "    def __str__(self):\n",
    "        return f\"{self.name} is {self.age} years old\"\n",
    "    # Другой метод экземпляра\n",
    "    def speak(self, sound):\n",
    "        return f\"{self.name} says {sound}\"\n",
    "\n",
    "class JackRussellTerrier(Dog):\n",
    "    pass\n",
    "class Dachshund(Dog):\n",
    "    pass\n",
    "class Bulldog(Dog):\n",
    "    pass"
   ],
   "metadata": {
    "collapsed": false,
    "pycharm": {
     "name": "#%%\n"
    }
   }
  },
  {
   "cell_type": "markdown",
   "source": [
    "После того как дочерние классы будут определены, можно создать экземпляры собак конкретных пород:"
   ],
   "metadata": {
    "collapsed": false,
    "pycharm": {
     "name": "#%% md\n"
    }
   }
  },
  {
   "cell_type": "code",
   "execution_count": 72,
   "outputs": [],
   "source": [
    "miles = JackRussellTerrier(\"Miles\", 4)\n",
    "buddy = Dachshund(\"Buddy\", 9)\n",
    "jack = Bulldog(\"Jack\", 3)\n",
    "jim = Bulldog(\"Jim\", 5)\n"
   ],
   "metadata": {
    "collapsed": false,
    "pycharm": {
     "name": "#%%\n"
    }
   }
  },
  {
   "cell_type": "markdown",
   "source": [
    "Экземпляры дочерних классов наследуют все атрибуты и методы родительского класса:"
   ],
   "metadata": {
    "collapsed": false,
    "pycharm": {
     "name": "#%% md\n"
    }
   }
  },
  {
   "cell_type": "code",
   "execution_count": 73,
   "outputs": [
    {
     "name": "stdout",
     "output_type": "stream",
     "text": [
      "Canis familiaris\n",
      "Buddy\n",
      "Jack is 3 years old\n",
      "Jim says Woof\n"
     ]
    }
   ],
   "source": [
    "print(miles.species)\n",
    "print(buddy.name)\n",
    "print(jack)\n",
    "print(jim.speak('Woof'))"
   ],
   "metadata": {
    "collapsed": false,
    "pycharm": {
     "name": "#%%\n"
    }
   }
  },
  {
   "cell_type": "markdown",
   "source": [
    "Чтобы увидеть, к какому классу принадлежит объект, воспользуйтесь встроенной функцией type():"
   ],
   "metadata": {
    "collapsed": false,
    "pycharm": {
     "name": "#%% md\n"
    }
   }
  },
  {
   "cell_type": "code",
   "execution_count": 74,
   "outputs": [
    {
     "data": {
      "text/plain": "__main__.JackRussellTerrier"
     },
     "execution_count": 74,
     "metadata": {},
     "output_type": "execute_result"
    }
   ],
   "source": [
    "type(miles)"
   ],
   "metadata": {
    "collapsed": false,
    "pycharm": {
     "name": "#%%\n"
    }
   }
  },
  {
   "cell_type": "markdown",
   "source": [
    "А если вы захотите узнать, является ли miles также экземпляром класса Dog? В этом вам поможет встроенная функция isinstance( ):"
   ],
   "metadata": {
    "collapsed": false,
    "pycharm": {
     "name": "#%% md\n"
    }
   }
  },
  {
   "cell_type": "code",
   "execution_count": 75,
   "outputs": [
    {
     "data": {
      "text/plain": "True"
     },
     "execution_count": 75,
     "metadata": {},
     "output_type": "execute_result"
    }
   ],
   "source": [
    "isinstance(miles, Dog)"
   ],
   "metadata": {
    "collapsed": false,
    "pycharm": {
     "name": "#%%\n"
    }
   }
  },
  {
   "cell_type": "markdown",
   "source": [
    "Обратите внимание: функция isinstance() получает два аргумента, объект и класс. В данном случае isinstance() проверяет, является ли miles экземпляром класса Dog, и возвращает True.\n",
    "Все объекты, miles, buddy, jack и jim, являются экземплярами Dog, но miles не является экземпляром Bulldog, а jack не является экземпляром Dachshund:"
   ],
   "metadata": {
    "collapsed": false,
    "pycharm": {
     "name": "#%% md\n"
    }
   }
  },
  {
   "cell_type": "code",
   "execution_count": 76,
   "outputs": [
    {
     "name": "stdout",
     "output_type": "stream",
     "text": [
      "False\n",
      "False\n"
     ]
    }
   ],
   "source": [
    "print(isinstance(miles, Bulldog))\n",
    "print(isinstance(jack, Dachshund))"
   ],
   "metadata": {
    "collapsed": false,
    "pycharm": {
     "name": "#%%\n"
    }
   }
  },
  {
   "cell_type": "markdown",
   "source": [
    "В более общем понимании все объекты, созданные на основе дочерних классов, являются экземплярами родительского класса, хотя при этом не являются экземплярами других дочерних классов.\n",
    "\n",
    "Итак, мы создали дочерние классы для нескольких пород собак. Теперь назначим каждой породе транскрипцию звука, который она издает.\n",
    "\n",
    "#### Расширение функциональности родительского класса\n",
    "\n",
    "Так как разные породы собак лают по-разному, мы хотим предоставить значение по умолчанию для аргумента sound в соответствующем методе .speak(). Для этого необходимо переопределить .speak() в определении класса для каждой породы.\n",
    "\n",
    "Чтобы переопределить метод, заданный в родительском классе, вы определяете одноименный метод в дочернем классе. Вот как это делается в классе JackRussellTerrier:"
   ],
   "metadata": {
    "collapsed": false,
    "pycharm": {
     "name": "#%% md\n"
    }
   }
  },
  {
   "cell_type": "code",
   "execution_count": 77,
   "outputs": [],
   "source": [
    "class JackRussellTerrier(Dog):\n",
    "    def speak(self, sound=\"Arf\"):\n",
    "        return f\"{self.name} says {sound}\""
   ],
   "metadata": {
    "collapsed": false,
    "pycharm": {
     "name": "#%%\n"
    }
   }
  },
  {
   "cell_type": "markdown",
   "source": [
    "Теперь метод .speak() определен в классе JackRussellTerrier с аргументом по умолчанию для sound, которому присвоено значение \"Arf\". Этот аргумент можно установить произвольным, для чего при вызове метода .speak() необходимо передать параметр sound"
   ],
   "metadata": {
    "collapsed": false,
    "pycharm": {
     "name": "#%% md\n"
    }
   }
  },
  {
   "cell_type": "code",
   "execution_count": 79,
   "outputs": [
    {
     "name": "stdout",
     "output_type": "stream",
     "text": [
      "Miles says Arf\n",
      "Miles says Grr\n"
     ]
    }
   ],
   "source": [
    "miles = JackRussellTerrier(\"Miles\", 4)\n",
    "print(miles.speak())\n",
    "print(miles.speak('Grr'))"
   ],
   "metadata": {
    "collapsed": false,
    "pycharm": {
     "name": "#%%\n"
    }
   }
  },
  {
   "cell_type": "markdown",
   "source": [
    "Имея дело с наследованием классов, важно помнить, что изменения в родительском классе автоматически распространяются на дочерние классы - при условии, что изменяемый атрибут или метод не был переопределен в дочернем классе.\n",
    "Например, изменив строку, возвращаемую методом .speak() из класса Dog мы получим изменение и для класса Bulldog в методе .speak()\n",
    "А в случае класса JackRussellTerrier изменений не будет, так как мы переопределили метод .speak() в дочернем классе\n",
    "\n",
    "Иногда полное переопределение метода из родительского класса оправданно. Но в данном случае мы не хотим, чтобы в классе JackRussell Terrier терялись изменения, внесенные в форматирование выходной строки Dog.speak().\n",
    "\n",
    "Как и прежде, задача решается определением метода .speak() в дочернем классе JackRussell Terrier. Но вместо того, чтобы явно определять выходную строку, мы вызовем метод .speak () класса Dog внутри метода .speak() дочернего класса с теми же аргументами, которые передавались JackRussellTerrier.speak().\n",
    "\n",
    "Для обращения к родительскому классу из метода дочернего класса используется вызов super():"
   ],
   "metadata": {
    "collapsed": false,
    "pycharm": {
     "name": "#%% md\n"
    }
   }
  },
  {
   "cell_type": "code",
   "execution_count": 89,
   "outputs": [],
   "source": [
    "class JackRussellTerrier(Dog):\n",
    "    def speak(self, sound=\"Arf\"):\n",
    "        return super().speak(sound)"
   ],
   "metadata": {
    "collapsed": false,
    "pycharm": {
     "name": "#%%\n"
    }
   }
  },
  {
   "cell_type": "markdown",
   "source": [
    "Когда вы вызываете super().speak(sound) внутри JackRussell Terrier, Python ищет в родительском классе Dog метод .speak() и вызывает его с переменной sound.\n",
    "\n",
    "Теперь при вызове miles.speak() вывод будет отражать новое форматирование в классе."
   ],
   "metadata": {
    "collapsed": false,
    "pycharm": {
     "name": "#%% md\n"
    }
   }
  },
  {
   "cell_type": "code",
   "execution_count": 91,
   "outputs": [
    {
     "data": {
      "text/plain": "'Miles barks: Arf'"
     },
     "execution_count": 91,
     "metadata": {},
     "output_type": "execute_result"
    }
   ],
   "source": [
    "miles = JackRussellTerrier(\"Miles\", 4)\n",
    "miles.speak()"
   ],
   "metadata": {
    "collapsed": false,
    "pycharm": {
     "name": "#%%\n"
    }
   }
  },
  {
   "cell_type": "markdown",
   "source": [
    "В этом примере иерархия классов очень проста: у класса JackRussellTerrier всего один родительский класс Dog. В реальных примерах иерархии классов могут быть достаточно сложными.\n",
    "Вызов .super() не ограничивается простым поиском метода или атрибута в родительском классе. Он обходит всю иерархию классов в поисках подходящего метода или атрибута. При малейшей невнимательности super() может привести к удивительным результатам."
   ],
   "metadata": {
    "collapsed": false,
    "pycharm": {
     "name": "#%% md\n"
    }
   }
  }
 ],
 "metadata": {
  "kernelspec": {
   "display_name": "Python 3",
   "language": "python",
   "name": "python3"
  },
  "language_info": {
   "codemirror_mode": {
    "name": "ipython",
    "version": 2
   },
   "file_extension": ".py",
   "mimetype": "text/x-python",
   "name": "python",
   "nbconvert_exporter": "python",
   "pygments_lexer": "ipython2",
   "version": "2.7.6"
  }
 },
 "nbformat": 4,
 "nbformat_minor": 0
}