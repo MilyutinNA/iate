{
 "cells": [
  {
   "cell_type": "markdown",
   "source": [
    "Цветной призрак\n",
    "\n",
    "Создайте класс Ghost\n",
    "\n",
    "Объекты-призраки создаются без каких-либо аргументов.\n",
    "\n",
    "Призрачным объектам присваивается случайный цветовой атрибут \"белый\", или \"желтый\", или \"фиолетовый\", или \"красный\" при создании экземпляра\n",
    "\n",
    "*для выбора случайного элемента из списка используйте функцию choice(list) из библиотеки random"
   ],
   "metadata": {
    "collapsed": false,
    "pycharm": {
     "name": "#%% md\n"
    }
   }
  },
  {
   "cell_type": "code",
   "execution_count": null,
   "outputs": [],
   "source": [],
   "metadata": {
    "collapsed": false,
    "pycharm": {
     "name": "#%%\n"
    }
   }
  },
  {
   "cell_type": "markdown",
   "source": [
    "Color Ghost\n",
    "Create a class Ghost\n",
    "\n",
    "Ghost objects are instantiated without any arguments.\n",
    "\n",
    "Ghost objects are given a random color attribute of \"white\" or \"yellow\" or \"purple\" or \"red\" when instantiated\n",
    "\n",
    "ghost = Ghost()\n",
    "ghost.color  #=> \"white\" or \"yellow\" or \"purple\" or \"red\""
   ],
   "metadata": {
    "collapsed": false,
    "pycharm": {
     "name": "#%% md\n"
    }
   }
  },
  {
   "cell_type": "code",
   "execution_count": 21,
   "outputs": [],
   "source": [
    "import random\n",
    "\n",
    "class Ghost:\n",
    "\n",
    "    colors = [\"white\",\"yellow\",\"purple\",\"red\"]\n",
    "\n",
    "    def __init__(self):\n",
    "        self.color = random.choice(self.colors)"
   ],
   "metadata": {
    "collapsed": false,
    "pycharm": {
     "name": "#%%\n"
    }
   }
  },
  {
   "cell_type": "code",
   "execution_count": 22,
   "outputs": [
    {
     "data": {
      "text/plain": "'purple'"
     },
     "execution_count": 22,
     "metadata": {},
     "output_type": "execute_result"
    }
   ],
   "source": [
    "Ghost().color"
   ],
   "metadata": {
    "collapsed": false,
    "pycharm": {
     "name": "#%%\n"
    }
   }
  },
  {
   "cell_type": "code",
   "execution_count": 23,
   "outputs": [],
   "source": [
    "ghosts = [Ghost().color for _ in range(100)]"
   ],
   "metadata": {
    "collapsed": false,
    "pycharm": {
     "name": "#%%\n"
    }
   }
  },
  {
   "cell_type": "markdown",
   "source": [
    "---"
   ],
   "metadata": {
    "collapsed": false,
    "pycharm": {
     "name": "#%% md\n"
    }
   }
  },
  {
   "cell_type": "markdown",
   "source": [
    "Вы - лидер небольшой пиратской команды. И у тебя есть план. С помощью ООП вы хотите создать довольно эффективную систему для идентификации судов с тяжелой добычей на борту!\n",
    "\n",
    "К несчастью для вас, в наши дни люди много весят, так как же вы узнаете, что корабль полон золота, а не людей?\n",
    "\n",
    "Вы начинаете с написания универсального класса / структуры корабля:\n",
    "\n",
    "```\n",
    "class Ship:\n",
    "    def __init__(self, draft, crew):\n",
    "        self.draft = draft\n",
    "        self.crew = crew\n",
    "```\n",
    "\n",
    "Каждый раз, когда ваши шпионы видят, как новый корабль входит в док, они будут создавать новый объект корабля на основе своих наблюдений:\n",
    "\n",
    "draft - оценка веса судна, основанная на том, насколько низко оно находится в воде\n",
    "crew - количество членов экипажа на борту\n",
    "```\n",
    "Titanic = Ship(15, 10)\n",
    "```\n",
    "\n",
    "Задача\n",
    "У вас есть доступ к \"draft\" корабля и \"crew\". \"draft\" - это общий вес судна, а \"crew\" - это количество людей на судне.\n",
    "\n",
    "Каждый член экипажа добавляет 1,5 единицы к осадке судна. Если после снятия веса экипажа осадка все еще составляет более 20, то корабль стоит разграбить. На любом корабле такого веса должно быть много добычи!\n",
    "\n",
    "Добавьте метод\n",
    "\n",
    "is_worth_it\n",
    "который должен решать, достоин ли корабль разграбления. Например:\n",
    "\n",
    "```\n",
    "Titanic.is_worth_it()\n",
    "False\n",
    "```"
   ],
   "metadata": {
    "collapsed": false,
    "pycharm": {
     "name": "#%% md\n"
    }
   }
  },
  {
   "cell_type": "code",
   "execution_count": null,
   "outputs": [],
   "source": [],
   "metadata": {
    "collapsed": false,
    "pycharm": {
     "name": "#%%\n"
    }
   }
  },
  {
   "cell_type": "markdown",
   "source": [
    "You are the leader of a small pirate team. And you have a plan. With the help of the OOP, you want to create a fairly effective system for identifying ships with heavy prey on board!\n",
    "\n",
    "Unfortunately for you, people weigh a lot these days, so how do you know that a ship is full of gold and not people?\n",
    "\n",
    "You start by writing a generic class/ship structure:\n",
    "\n",
    "```\n",
    "class Ship:\n",
    "    def __init__(self, draft, crew):\n",
    "    self.draft = draft\n",
    "self.crew = crew\n",
    "```\n",
    "\n",
    "Every time your spies see a new ship enter the dock, they will create a new ship object based on their observations:\n",
    "\n",
    "draft - an estimate of the weight of the vessel based on how low it is in the water\n",
    "crew - the number of crew members on board\n",
    "``\n",
    "Titanic = Ship(15, 10)\n",
    "```\n",
    "\n",
    "Task\n",
    "You have access to the ship's \"draft\" and \"crew\". \"draft\" is the total weight of the vessel, and \"crew\" is the number of people on the vessel.\n",
    "\n",
    "Each crew member adds 1.5 units to the draft of the vessel. If, after removing the crew's weight, the draft is still more than 20, then the ship should be looted. There should be a lot of loot on any ship of this weight!\n",
    "\n",
    "Add a method\n",
    "\n",
    "is_worth_it\n",
    "which should decide whether the ship is worthy of looting. For example:\n",
    "\n",
    "```\n",
    "Titanic.is_worth_it()\n",
    "False\n",
    "```"
   ],
   "metadata": {
    "collapsed": false,
    "pycharm": {
     "name": "#%% md\n"
    }
   }
  },
  {
   "cell_type": "code",
   "execution_count": 25,
   "outputs": [
    {
     "data": {
      "text/plain": "False"
     },
     "execution_count": 25,
     "metadata": {},
     "output_type": "execute_result"
    }
   ],
   "source": [
    "class Ship:\n",
    "    def __init__(self, draft, crew):\n",
    "        self.draft = draft\n",
    "        self.crew = crew\n",
    "    # Your code here\n",
    "    def is_worth_it(self):\n",
    "        return self.draft - 1.5 * self.crew > 20\n",
    "\n",
    "EmptyShip = Ship(0, 0)\n",
    "EmptyShip.is_worth_it()\n"
   ],
   "metadata": {
    "collapsed": false,
    "pycharm": {
     "name": "#%%\n"
    }
   }
  },
  {
   "cell_type": "markdown",
   "source": [
    "---"
   ],
   "metadata": {
    "collapsed": false,
    "pycharm": {
     "name": "#%% md\n"
    }
   }
  },
  {
   "cell_type": "markdown",
   "source": [
    "Вы находитесь в ресторане со своими друзьями, и пришло время уходить, но все еще есть одна большая проблема... счет. Кто и сколько заплатит? К счастью для вас, у вас есть свой компьютер под рукой! Одна простая функция, и счет оплачен - к тому же справедливо!\n",
    "\n",
    "Функция должна принимать один параметр: словарь dict с двумя или более парами имя-значение, которые представляют членов группы и сумму, потраченную каждым.\n",
    "\n",
    "Ваша функция должна возвращать словарь dict с теми же именами, показывая, сколько денег участники должны заплатить или получить.\n",
    "\n",
    "Дополнительные моменты:\n",
    "\n",
    "Значение должно быть положительным, если человек должен получать деньги от группы, и отрицательным, если у него есть деньги для группы.\n",
    "Если значение десятичное, округлите до двух знаков после запятой.\n",
    "Переводы и комментарии (и положительные отзывы!) добро пожаловать.\n",
    "\n",
    "Пример\n",
    "3 друга идут куда-нибудь вместе: А тратит 20 долларов, Б тратит 15 долларов, а С тратит 10 долларов. Функция должна вернуть словарь, показывающий, что A должен получить £ 5, B должен получить £ 0, а C должен заплатить £ 5."
   ],
   "metadata": {
    "collapsed": false,
    "pycharm": {
     "name": "#%% md\n"
    }
   }
  },
  {
   "cell_type": "markdown",
   "source": [
    "You're in a restaurant with your friends and it's time to go, but there's still one big problem...the bill. Who will pay what? Lucky for you, you've got your computer handy! One simple function and the bill is paid——fairly, too!\n",
    "\n",
    "The function should take one parameter: an object/dict with two or more name-value pairs that represent the members of the group and the amount spent by each.\n",
    "\n",
    "Your function should return an object/dict with the same names, showing how much money the members should pay or receive.\n",
    "\n",
    "Further points:\n",
    "\n",
    "The values should be positive numbers if the person should receive money from the group, negative numbers if they owe money to the group.\n",
    "If value is a decimal, round to two decimal places.\n",
    "Translations and comments (and upvotes!) welcome.\n",
    "\n",
    "Example\n",
    "3 friends go out together: A spends £20, B spends £15, and C spends £10. The function should return an object/dict showing that A should receive £5, B should receive £0, and C should pay £5.\n",
    "\n",
    "```\n",
    "group = {\n",
    "    'A': 20,\n",
    "    'B': 15,\n",
    "    'C': 10\n",
    "}\n",
    "\n",
    "split_the_bill(group) # returns {'A': 5, 'B': 0, 'C': -5}\n",
    "```"
   ],
   "metadata": {
    "collapsed": false,
    "pycharm": {
     "name": "#%% md\n"
    }
   }
  },
  {
   "cell_type": "code",
   "execution_count": 36,
   "outputs": [
    {
     "data": {
      "text/plain": "{'A': 5, 'B': 0, 'C': -5}"
     },
     "execution_count": 36,
     "metadata": {},
     "output_type": "execute_result"
    }
   ],
   "source": [
    "from statistics import mean\n",
    "\n",
    "def split_the_bill(x):\n",
    "    avg = mean(x.values())\n",
    "    for i in x:\n",
    "        x[i] = round(x[i] - avg, 2)\n",
    "    return x\n",
    "\n",
    "group = {\n",
    "    'A': 20,\n",
    "    'B': 15,\n",
    "    'C': 10\n",
    "}\n",
    "\n",
    "split_the_bill(group)"
   ],
   "metadata": {
    "collapsed": false,
    "pycharm": {
     "name": "#%%\n"
    }
   }
  },
  {
   "cell_type": "markdown",
   "source": [
    "---"
   ],
   "metadata": {
    "collapsed": false,
    "pycharm": {
     "name": "#%% md\n"
    }
   }
  },
  {
   "cell_type": "markdown",
   "source": [
    "Вы моделируете взаимодействие между большим количеством кварков и решили создать класс Quark, чтобы вы могли создавать свои собственные объекты quark.\n",
    "\n",
    "Кварки - это фундаментальные частицы и единственная фундаментальная частица, испытывающая все четыре фундаментальных взаимодействия.\n",
    "\n",
    "Ваша задача\n",
    "Ваш класс Quark должен позволять вам создавать кварки любого допустимого цвета (\"красный\", \"синий\" и \"зеленый\") и любого допустимого вкуса (\"up\", \"down\", \"strange\", \"charm\", \"top\" и \"bottom\").\n",
    "\n",
    "Каждый кварк имеет одинаковый baryon_number = 1/3.\n",
    "\n",
    "У каждого кварка должен быть метод .interact(), который позволяет любому кварку взаимодействовать с другим кварком с помощью сильной силы. Когда два кварка взаимодействуют, они обмениваются цветами.\n",
    "\n",
    "Пример\n",
    "\n",
    "```\n",
    ">>> q1 = Quark(\"red\", \"up\")\n",
    ">>> q1.color\n",
    "\"red\"\n",
    ">>> q1.flavor\n",
    "\"up\"\n",
    ">>> q2 = Quark(\"blue\", \"strange\")\n",
    ">>> q2.color\n",
    "\"blue\"\n",
    ">>> q2.baryon_number\n",
    "0.3333333333333333\n",
    ">>> q1.interact(q2)\n",
    ">>> q1.color\n",
    "\"blue\"\n",
    ">>> q2.color\n",
    "\"red\"\n",
    "```"
   ],
   "metadata": {
    "collapsed": false,
    "pycharm": {
     "name": "#%% md\n"
    }
   }
  },
  {
   "cell_type": "code",
   "execution_count": 40,
   "outputs": [],
   "source": [
    "class Quark:\n",
    "    baryon_number = 1/3\n",
    "    def __init__(self, color,flavor):\n",
    "        self.color = color\n",
    "        self.flavor = flavor\n",
    "    def interact(self, obj):\n",
    "        color_obj_1 = self.color\n",
    "        color_obj_2 = obj.color\n",
    "        self.color = color_obj_2\n",
    "        obj.color = color_obj_1\n",
    "\n",
    "q1 = Quark(\"red\", \"up\")\n",
    "q2 = Quark(\"blue\", \"strange\")\n",
    "q1.interact(q2)"
   ],
   "metadata": {
    "collapsed": false,
    "pycharm": {
     "name": "#%%\n"
    }
   }
  },
  {
   "cell_type": "markdown",
   "source": [
    "Background\n",
    "You're modelling the interaction between a large number of quarks and have decided to create a Quark class so you can generate your own quark objects.\n",
    "\n",
    "Quarks are fundamental particles and the only fundamental particle to experience all four fundamental forces.\n",
    "\n",
    "Your task\n",
    "Your Quark class should allow you to create quarks of any valid color (\"red\", \"blue\", and \"green\") and any valid flavor ('up', 'down', 'strange', 'charm', 'top', and 'bottom').\n",
    "\n",
    "Every quark has the same baryon_number (BaryonNumber in C#): 1/3.\n",
    "\n",
    "Every quark should have an .interact() (.Interact() in C#) method that allows any quark to interact with another quark via the strong force. When two quarks interact they exchange colors.\n",
    "\n",
    "Example"
   ],
   "metadata": {
    "collapsed": false,
    "pycharm": {
     "name": "#%% md\n"
    }
   }
  }
 ],
 "metadata": {
  "kernelspec": {
   "display_name": "Python 3",
   "language": "python",
   "name": "python3"
  },
  "language_info": {
   "codemirror_mode": {
    "name": "ipython",
    "version": 2
   },
   "file_extension": ".py",
   "mimetype": "text/x-python",
   "name": "python",
   "nbconvert_exporter": "python",
   "pygments_lexer": "ipython2",
   "version": "2.7.6"
  }
 },
 "nbformat": 4,
 "nbformat_minor": 0
}