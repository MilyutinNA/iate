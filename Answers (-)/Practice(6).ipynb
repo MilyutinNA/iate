{
 "cells": [
  {
   "cell_type": "markdown",
   "source": [
    "Если мы перечислим все натуральные числа ниже 10, кратные 3 или 5, то получим 3, 5, 6 и 9. Сумма этих кратных равна 23.\n",
    "\n",
    "Завершите решение так, чтобы оно возвращало сумму всех кратных 3 или 5 ниже переданного числа. Кроме того, если число отрицательное, верните 0 (для языков, в которых они есть).\n",
    "\n",
    "Примечание: Если число кратно как 3, так и 5, подсчитайте его только один раз."
   ],
   "metadata": {
    "collapsed": false,
    "pycharm": {
     "name": "#%% md\n"
    }
   }
  },
  {
   "cell_type": "code",
   "execution_count": 2,
   "outputs": [],
   "source": [
    "def solution(number):\n",
    "    return sum(x for x in range(number) if x % 3 == 0 or x % 5 == 0)\n",
    "def solution_2(number):\n",
    "    sum = 0\n",
    "    for i in range(number):\n",
    "        if (i % 3) == 0 or (i % 5) == 0:\n",
    "            sum += i\n",
    "    return sum"
   ],
   "metadata": {
    "collapsed": false,
    "pycharm": {
     "name": "#%%\n"
    }
   }
  },
  {
   "cell_type": "code",
   "execution_count": 3,
   "outputs": [
    {
     "name": "stdout",
     "output_type": "stream",
     "text": [
      "23\n"
     ]
    }
   ],
   "source": [
    "print(solution(number=10))"
   ],
   "metadata": {
    "collapsed": false,
    "pycharm": {
     "name": "#%%\n"
    }
   }
  },
  {
   "cell_type": "markdown",
   "source": [
    "---"
   ],
   "metadata": {
    "collapsed": false,
    "pycharm": {
     "name": "#%% md\n"
    }
   }
  },
  {
   "cell_type": "markdown",
   "source": [
    "Напишите функцию, которая принимает строку из одного или нескольких слов и возвращает ту же строку, но со всеми пятью или более буквенными словами в обратном порядке. Передаваемые строки будут состоять только из букв и пробелов. Пробелы будут включены только в том случае, если присутствует более одного слова.\n",
    "\n",
    "Примеры:\n",
    "\n",
    "spinWords( \"Hey fellow warriors\" ) => returns \"Hey wollef sroirraw\"\n",
    "spinWords( \"This is a test\") => returns \"This is a test\"\n",
    "spinWords( \"This is another test\" )=> returns \"This is rehtona test\""
   ],
   "metadata": {
    "collapsed": false,
    "pycharm": {
     "name": "#%% md\n"
    }
   }
  },
  {
   "cell_type": "code",
   "execution_count": null,
   "outputs": [],
   "source": [
    "def spin_words(sentence):\n",
    "    # Your code goes here\n",
    "    return \" \".join([x[::-1] if len(x) >= 5 else x for x in sentence.split(\" \")])\n",
    "\n",
    "def spin_words_2(sentence):\n",
    "    words = [word for word in sentence.split(\" \")]\n",
    "    words = [word if len(word) < 5 else word[::-1] for word in words]\n",
    "    return \" \".join(words)\n",
    "\n",
    "def spin_words_3(sentence):\n",
    "    output = []\n",
    "    for word in sentence.split(' '):\n",
    "        if len(word) > 4:\n",
    "            word = word[::-1]\n",
    "        output.append(word)\n",
    "    return ' '.join(output)"
   ],
   "metadata": {
    "collapsed": false,
    "pycharm": {
     "name": "#%%\n"
    }
   }
  },
  {
   "cell_type": "code",
   "execution_count": null,
   "outputs": [],
   "source": [
    "print(spin_words(sentence=\"Hey fellow warriors\"))\n",
    "print(spin_words(sentence=\"This is a test\"))\n",
    "print(spin_words(sentence=\"This is another test\"))"
   ],
   "metadata": {
    "collapsed": false,
    "pycharm": {
     "name": "#%%\n"
    }
   }
  },
  {
   "cell_type": "markdown",
   "source": [
    "---"
   ],
   "metadata": {
    "collapsed": false,
    "pycharm": {
     "name": "#%% md\n"
    }
   }
  },
  {
   "cell_type": "markdown",
   "source": [
    "Учитывая массив целых чисел, найдите то, которое встречается нечетное число раз.\n",
    "\n",
    "Всегда будет только одно целое число, которое появляется нечетное число раз.\n",
    "\n",
    "Примеры\n",
    "[7] должен возвращать 7, потому что это происходит 1 раз (что нечетно).\n",
    "[0] должно возвращать 0, потому что это происходит 1 раз (что нечетно).\n",
    "[1,1,2] должен возвращать 2, потому что это происходит 1 раз (что нечетно).\n",
    "[0,1,0,1,0] должен возвращать 0, потому что это происходит 3 раза (что нечетно).\n",
    "[1,2,2,3,3,3,4,3,3,3,2,2,1] должен возвращать 4, потому что он появляется 1 раз (что нечетно)."
   ],
   "metadata": {
    "collapsed": false,
    "pycharm": {
     "name": "#%% md\n"
    }
   }
  },
  {
   "cell_type": "code",
   "execution_count": 4,
   "outputs": [],
   "source": [
    "def find_it(seq):\n",
    "    for i in seq:\n",
    "        if seq.count(i)%2!=0:\n",
    "            return i\n",
    "\n",
    "def find_it_2(seq):\n",
    "    return [x for x in seq if seq.count(x) % 2][0]"
   ],
   "metadata": {
    "collapsed": false,
    "pycharm": {
     "name": "#%%\n"
    }
   }
  },
  {
   "cell_type": "code",
   "execution_count": 8,
   "outputs": [
    {
     "name": "stdout",
     "output_type": "stream",
     "text": [
      "0\n"
     ]
    }
   ],
   "source": [
    "print(find_it(seq=[0,1,0,1,0]))"
   ],
   "metadata": {
    "collapsed": false,
    "pycharm": {
     "name": "#%%\n"
    }
   }
  },
  {
   "cell_type": "markdown",
   "source": [
    "---"
   ],
   "metadata": {
    "collapsed": false,
    "pycharm": {
     "name": "#%% md\n"
    }
   }
  },
  {
   "cell_type": "markdown",
   "source": [
    "Цифровой корень - это рекурсивная сумма всех цифр в числе.\n",
    "\n",
    "Учитывая n, возьмите сумму цифр n. Если это значение содержит более одной цифры, продолжайте уменьшать таким образом, пока не будет получено однозначное число. Входным значением будет неотрицательное целое число.\n",
    "\n",
    "Примеры:\n",
    "    16  -->  1 + 6 = 7\n",
    "   942  -->  9 + 4 + 2 = 15  -->  1 + 5 = 6\n",
    "132189  -->  1 + 3 + 2 + 1 + 8 + 9 = 24  -->  2 + 4 = 6\n",
    "493193  -->  4 + 9 + 3 + 1 + 9 + 3 = 29  -->  2 + 9 = 11  -->  1 + 1 = 2"
   ],
   "metadata": {
    "collapsed": false,
    "pycharm": {
     "name": "#%% md\n"
    }
   }
  },
  {
   "cell_type": "code",
   "execution_count": 29,
   "outputs": [],
   "source": [
    "def digital_root(n):\n",
    "    return n if n < 10 else digital_root(sum(map(int,str(n))))\n",
    "\n",
    "def digital_root_3(n):\n",
    "    # ...\n",
    "    while n>9:\n",
    "        n=sum(map(int,str(n)))\n",
    "    return n"
   ],
   "metadata": {
    "collapsed": false,
    "pycharm": {
     "name": "#%%\n"
    }
   }
  },
  {
   "cell_type": "code",
   "execution_count": 30,
   "outputs": [
    {
     "name": "stdout",
     "output_type": "stream",
     "text": [
      "6\n"
     ]
    }
   ],
   "source": [
    "print(digital_root(n=942))"
   ],
   "metadata": {
    "collapsed": false,
    "pycharm": {
     "name": "#%%\n"
    }
   }
  },
  {
   "cell_type": "markdown",
   "source": [
    "---"
   ],
   "metadata": {
    "collapsed": false,
    "pycharm": {
     "name": "#%% md\n"
    }
   }
  },
  {
   "cell_type": "markdown",
   "source": [
    "Вы, вероятно, знаете систему \"мне нравится\" на Facebook и других страницах. Люди могут \"лайкать\" записи в блоге, фотографии или другие элементы. Мы хотим создать текст, который должен отображаться рядом с таким элементом.\n",
    "\n",
    "Реализуйте функцию, которая принимает массив, содержащий имена людей, которым нравится элемент. Он должен возвращать отображаемый текст, как показано в примерах:\n",
    "[]                                -->  \"no one likes this\"\n",
    "[\"Peter\"]                         -->  \"Peter likes this\"\n",
    "[\"Jacob\", \"Alex\"]                 -->  \"Jacob and Alex like this\"\n",
    "[\"Max\", \"John\", \"Mark\"]           -->  \"Max, John and Mark like this\"\n",
    "[\"Alex\", \"Jacob\", \"Mark\", \"Max\"]  -->  \"Alex, Jacob and 2 others like this\"\n",
    "Примечание: Для 4 или более имен число в \"и 2 других\" просто увеличивается."
   ],
   "metadata": {
    "collapsed": false,
    "pycharm": {
     "name": "#%% md\n"
    }
   }
  },
  {
   "cell_type": "code",
   "execution_count": 31,
   "outputs": [],
   "source": [
    "def likes(names):\n",
    "    n = len(names)\n",
    "    return {\n",
    "        0: 'no one likes this',\n",
    "        1: '{} likes this',\n",
    "        2: '{} and {} like this',\n",
    "        3: '{}, {} and {} like this',\n",
    "        4: '{}, {} and {others} others like this'\n",
    "    }[min(4, n)].format(*names[:3], others=n-2)\n",
    "\n",
    "def likes_2(names):\n",
    "    if len(names) == 0:\n",
    "        return \"no one likes this\"\n",
    "    elif len(names) == 1:\n",
    "        return \"%s likes this\" % names[0]\n",
    "    elif len(names) == 2:\n",
    "        return \"%s and %s like this\" % (names[0], names[1])\n",
    "    elif len(names) == 3:\n",
    "        return \"%s, %s and %s like this\" % (names[0], names[1], names[2])\n",
    "    else:\n",
    "        return \"%s, %s and %s others like this\" % (names[0], names[1], len(names)-2)\n",
    "\n",
    "def likes_3(names):\n",
    "    d = {\n",
    "        0: \"no one likes this\",\n",
    "        1: \"{} likes this\",\n",
    "        2: \"{} and {} like this\",\n",
    "        3: \"{}, {} and {} like this\",\n",
    "        4: \"{}, {} and {others} others like this\"\n",
    "    }\n",
    "    length = len(names)\n",
    "    return d[min(4, length)].format(*names, others = length - 2)"
   ],
   "metadata": {
    "collapsed": false,
    "pycharm": {
     "name": "#%%\n"
    }
   }
  },
  {
   "cell_type": "code",
   "execution_count": 32,
   "outputs": [
    {
     "name": "stdout",
     "output_type": "stream",
     "text": [
      "Alex, Jacob and 2 others like this\n"
     ]
    }
   ],
   "source": [
    "print(likes(names=[\"Alex\", \"Jacob\", \"Mark\", \"Max\"]))"
   ],
   "metadata": {
    "collapsed": false,
    "pycharm": {
     "name": "#%%\n"
    }
   }
  },
  {
   "cell_type": "code",
   "execution_count": null,
   "outputs": [],
   "source": [],
   "metadata": {
    "collapsed": false,
    "pycharm": {
     "name": "#%%\n"
    }
   }
  }
 ],
 "metadata": {
  "kernelspec": {
   "display_name": "Python 3",
   "language": "python",
   "name": "python3"
  },
  "language_info": {
   "codemirror_mode": {
    "name": "ipython",
    "version": 2
   },
   "file_extension": ".py",
   "mimetype": "text/x-python",
   "name": "python",
   "nbconvert_exporter": "python",
   "pygments_lexer": "ipython2",
   "version": "2.7.6"
  }
 },
 "nbformat": 4,
 "nbformat_minor": 0
}