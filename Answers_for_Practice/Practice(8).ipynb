{
 "cells": [
  {
   "cell_type": "markdown",
   "source": [
    "Создайте функцию, которая принимает целое число в качестве аргумента и возвращает \"Even\" для четных чисел или \"Odd\" для нечетных чисел\n",
    "2 -> Even\n",
    "1 -> Odd\n",
    "0 -> Even\n",
    "-123 -> Odd\n",
    "-456 -> Even"
   ],
   "metadata": {
    "collapsed": false,
    "pycharm": {
     "name": "#%% md\n"
    }
   }
  },
  {
   "cell_type": "code",
   "execution_count": null,
   "outputs": [],
   "source": [
    "def even_or_odd(number):\n",
    "    if number % 2 == 0:\n",
    "        return('Even')\n",
    "    else:\n",
    "        return('Odd')\n",
    "\n",
    "def even_or_odd_2(number):\n",
    "    return 'Odd' if number % 2 else 'Even'\n",
    "\n",
    "def even_or_odd_3(number):\n",
    "    return [\"Even\", \"Odd\"][number % 2]"
   ],
   "metadata": {
    "collapsed": false,
    "pycharm": {
     "name": "#%%\n"
    }
   }
  },
  {
   "cell_type": "code",
   "execution_count": null,
   "outputs": [],
   "source": [
    "for i in [2, 1, 0, -123, -456]:\n",
    "    print(even_or_odd(i))"
   ],
   "metadata": {
    "collapsed": false,
    "pycharm": {
     "name": "#%%\n"
    }
   }
  },
  {
   "cell_type": "markdown",
   "source": [
    "---\n",
    "ЯРМ-С22_1\n",
    "---\n",
    "---"
   ],
   "metadata": {
    "collapsed": false,
    "pycharm": {
     "name": "#%% md\n"
    }
   }
  },
  {
   "cell_type": "markdown",
   "source": [
    "Вам дается число, и вы должны сделать его отрицательным. Но, может быть, это число уже отрицательное?\n",
    "Примеры\n",
    "make_negative(1); # return -1\n",
    "make_negative(-5); # return -5\n",
    "make_negative(0); # return 0\n",
    "\n",
    "Число уже может быть отрицательным, и в этом случае никаких изменений не требуется.\n",
    "Ноль (0) не проверяется на наличие какого-либо определенного знака. Отрицательные нули не имеют никакого математического смысла."
   ],
   "metadata": {
    "collapsed": false,
    "pycharm": {
     "name": "#%% md\n"
    }
   }
  },
  {
   "cell_type": "code",
   "execution_count": null,
   "outputs": [],
   "source": [
    "def make_negative(number):\n",
    "    return -abs(number)"
   ],
   "metadata": {
    "collapsed": false,
    "pycharm": {
     "name": "#%%\n"
    }
   }
  },
  {
   "cell_type": "code",
   "execution_count": null,
   "outputs": [],
   "source": [
    "for i in [1,-5,0]:\n",
    "    print(make_negative(i))"
   ],
   "metadata": {
    "collapsed": false,
    "pycharm": {
     "name": "#%%\n"
    }
   }
  },
  {
   "cell_type": "markdown",
   "source": [
    "---"
   ],
   "metadata": {
    "collapsed": false,
    "pycharm": {
     "name": "#%% md\n"
    }
   }
  },
  {
   "cell_type": "markdown",
   "source": [
    "Вы получаете массив чисел, возвращаете сумму всех положительных. Пример [1,-4,7,12] -> 1 + 7 + 12 = 20\n",
    "Примечание: если суммировать нечего, сумма по умолчанию равна 0.\n",
    "[1, 2, 3, 4, 5] -> 15\n",
    "[1, -2, 3, 4, 5] -> 13\n",
    "[-1, 2, 3, 4, -5] -> 9"
   ],
   "metadata": {
    "collapsed": false,
    "pycharm": {
     "name": "#%% md\n"
    }
   }
  },
  {
   "cell_type": "code",
   "execution_count": null,
   "outputs": [],
   "source": [
    "def positive_sum(list):\n",
    "    answer = 0\n",
    "    for numbers in list:\n",
    "        if numbers > 0:\n",
    "            answer += numbers\n",
    "    return answer\n",
    "\n",
    "def positive_sum_2(arr):\n",
    "    return sum(x for x in arr if x > 0)\n",
    "\n",
    "def positive_sum_3(arr):\n",
    "    return sum(filter(lambda x: x > 0, arr))"
   ],
   "metadata": {
    "collapsed": false,
    "pycharm": {
     "name": "#%%\n"
    }
   }
  },
  {
   "cell_type": "code",
   "execution_count": null,
   "outputs": [],
   "source": [
    "print(positive_sum([1, 2, 3, 4, 5]))\n",
    "print(positive_sum([1, -2, 3, 4, 5]))\n",
    "print(positive_sum([-1, 2, 3, 4, -5]))"
   ],
   "metadata": {
    "collapsed": false,
    "pycharm": {
     "name": "#%%\n"
    }
   }
  },
  {
   "cell_type": "markdown",
   "source": [
    "---"
   ],
   "metadata": {
    "collapsed": false,
    "pycharm": {
     "name": "#%% md\n"
    }
   }
  },
  {
   "cell_type": "markdown",
   "source": [
    "Этот код не выполняется должным образом. Попытайтесь понять, почему."
   ],
   "metadata": {
    "collapsed": false,
    "pycharm": {
     "name": "#%% md\n"
    }
   }
  },
  {
   "cell_type": "code",
   "execution_count": null,
   "outputs": [],
   "source": [
    "def multiply(a, b):\n",
    "    a * b\n",
    "   #return a * b"
   ],
   "metadata": {
    "collapsed": false,
    "pycharm": {
     "name": "#%%\n"
    }
   }
  },
  {
   "cell_type": "markdown",
   "source": [
    "---"
   ],
   "metadata": {
    "collapsed": false,
    "pycharm": {
     "name": "#%% md\n"
    }
   }
  },
  {
   "cell_type": "markdown",
   "source": [
    "Завершите решение так, чтобы оно перевернуло переданную в него строку.\n",
    "\n",
    "'world'  =>  'dlrow'\n",
    "'word'   =>  'drow'"
   ],
   "metadata": {
    "collapsed": false,
    "pycharm": {
     "name": "#%% md\n"
    }
   }
  },
  {
   "cell_type": "code",
   "execution_count": null,
   "outputs": [],
   "source": [
    "def solution(string):\n",
    "    return string[::-1]\n",
    "\n",
    "solution_2 = lambda s: s[::-1]\n",
    "\n",
    "def solution_3(string):\n",
    "    temp = list(string)\n",
    "    temp.reverse()\n",
    "    return ''.join(temp)"
   ],
   "metadata": {
    "collapsed": false,
    "pycharm": {
     "name": "#%%\n"
    }
   }
  },
  {
   "cell_type": "code",
   "execution_count": null,
   "outputs": [],
   "source": [
    "print(solution('qwe qW'))\n",
    "print(solution('world'))"
   ],
   "metadata": {
    "collapsed": false,
    "pycharm": {
     "name": "#%%\n"
    }
   }
  },
  {
   "cell_type": "markdown",
   "source": [
    "---"
   ],
   "metadata": {
    "collapsed": false,
    "pycharm": {
     "name": "#%% md\n"
    }
   }
  },
  {
   "cell_type": "markdown",
   "source": [
    "Завершите метод, который принимает логическое значение и возвращает строку \"Yes\" для true или строку \"No\" для false."
   ],
   "metadata": {
    "collapsed": false,
    "pycharm": {
     "name": "#%% md\n"
    }
   }
  },
  {
   "cell_type": "code",
   "execution_count": null,
   "outputs": [],
   "source": [
    "def bool_to_word(bool):\n",
    "    return \"Yes\" if bool else \"No\"\n",
    "\n",
    "def bool_to_word_2(bool):\n",
    "    if bool:\n",
    "        return \"Yes\"\n",
    "    return \"No\"\n",
    "\n",
    "def bool_to_word_3(bool):\n",
    "    if bool:\n",
    "        return 'Yes'\n",
    "    else:\n",
    "        return 'No'\n",
    "bool_to_word_4 = lambda b: b and \"Yes\" or \"No\""
   ],
   "metadata": {
    "collapsed": false,
    "pycharm": {
     "name": "#%%\n"
    }
   }
  },
  {
   "cell_type": "code",
   "execution_count": null,
   "outputs": [],
   "source": [
    "print(bool_to_word(True))\n",
    "print(bool_to_word(False))"
   ],
   "metadata": {
    "collapsed": false,
    "pycharm": {
     "name": "#%%\n"
    }
   }
  },
  {
   "cell_type": "markdown",
   "source": [
    "---"
   ],
   "metadata": {
    "collapsed": false,
    "pycharm": {
     "name": "#%% md\n"
    }
   }
  },
  {
   "cell_type": "markdown",
   "source": [
    "Cоздать функцию, которая удаляет первый и последний символы строки. Вам дается один параметр - исходная строка. Вам не нужно беспокоиться о строках, содержащих менее двух символов.\n",
    "'eloquent' -> 'loquen'\n",
    "'ok' -> ''\n",
    "'person' -> 'erso'"
   ],
   "metadata": {
    "collapsed": false,
    "pycharm": {
     "name": "#%% md\n"
    }
   }
  },
  {
   "cell_type": "code",
   "execution_count": null,
   "outputs": [],
   "source": [
    "def remove_char(s):\n",
    "    return s[1 : -1]\n",
    "\n",
    "def remove_char_2(s):\n",
    "    return '' if len(s) <= 2 else s[1:-1]\n",
    "\n",
    "remove_char_3=lambda s: s[1:-1]"
   ],
   "metadata": {
    "collapsed": false,
    "pycharm": {
     "name": "#%%\n"
    }
   }
  },
  {
   "cell_type": "code",
   "execution_count": null,
   "outputs": [],
   "source": [
    "print(remove_char('eloquent'))\n",
    "print(remove_char('ok'))\n",
    "print(remove_char('person'))"
   ],
   "metadata": {
    "collapsed": false,
    "pycharm": {
     "name": "#%%\n"
    }
   }
  },
  {
   "cell_type": "markdown",
   "source": [
    "---"
   ],
   "metadata": {
    "collapsed": false,
    "pycharm": {
     "name": "#%% md\n"
    }
   }
  },
  {
   "cell_type": "markdown",
   "source": [
    "Напишите функцию, которая принимает целое число n и строки в качестве параметров и возвращает строку из s, повторяющуюся ровно n раз.\n",
    "\n",
    "Примеры (ввод -> вывод)\n",
    "6, \"I\" -> \"IIIIII\"\n",
    "5, \"Hello\" -> \"HelloHelloHelloHelloHello\""
   ],
   "metadata": {
    "collapsed": false,
    "pycharm": {
     "name": "#%% md\n"
    }
   }
  },
  {
   "cell_type": "code",
   "execution_count": null,
   "outputs": [],
   "source": [
    "def repeat_str(n, s):\n",
    "    return n * s"
   ],
   "metadata": {
    "collapsed": false,
    "pycharm": {
     "name": "#%%\n"
    }
   }
  },
  {
   "cell_type": "code",
   "execution_count": null,
   "outputs": [],
   "source": [
    "print(repeat_str(5, 'I'))\n",
    "print(repeat_str(8, 'Hello'))"
   ],
   "metadata": {
    "collapsed": false,
    "pycharm": {
     "name": "#%%\n"
    }
   }
  },
  {
   "cell_type": "markdown",
   "source": [
    "---"
   ],
   "metadata": {
    "collapsed": false,
    "pycharm": {
     "name": "#%% md\n"
    }
   }
  },
  {
   "cell_type": "markdown",
   "source": [
    "Все просто: удалите пробелы из строки, а затем верните результирующую строку."
   ],
   "metadata": {
    "collapsed": false,
    "pycharm": {
     "name": "#%% md\n"
    }
   }
  },
  {
   "cell_type": "code",
   "execution_count": null,
   "outputs": [],
   "source": [
    "def no_space(x):\n",
    "    return x.replace(' ' ,'')\n",
    "\n",
    "def no_space_2(x):\n",
    "    return \"\".join(x.split())\n",
    "\n",
    "def no_space_3(x):\n",
    "    str_char = ''\n",
    "    for i in range(len(x)):\n",
    "        if x[i] == ' ':\n",
    "            continue\n",
    "        else:\n",
    "            str_char = str_char + x[i]\n",
    "    return str_char"
   ],
   "metadata": {
    "collapsed": false,
    "pycharm": {
     "name": "#%%\n"
    }
   }
  },
  {
   "cell_type": "code",
   "execution_count": null,
   "outputs": [],
   "source": [
    "x = 'm e r ge i t'\n",
    "print(no_space(x))"
   ],
   "metadata": {
    "collapsed": false,
    "pycharm": {
     "name": "#%%\n"
    }
   }
  },
  {
   "cell_type": "markdown",
   "source": [
    "---"
   ],
   "metadata": {
    "collapsed": false,
    "pycharm": {
     "name": "#%% md\n"
    }
   }
  },
  {
   "cell_type": "markdown",
   "source": [
    "Напишите программу, которая находит суммирование каждого числа от 1 до num. Число всегда будет целым положительным, большим 0.\n",
    "\n",
    "Например:\n",
    "\n",
    "summation(2) -> 3\n",
    "1 + 2\n",
    "\n",
    "summation(8) -> 36\n",
    "1 + 2 + 3 + 4 + 5 + 6 + 7 + 8"
   ],
   "metadata": {
    "collapsed": false,
    "pycharm": {
     "name": "#%% md\n"
    }
   }
  },
  {
   "cell_type": "code",
   "execution_count": null,
   "outputs": [],
   "source": [
    "def summation(num):\n",
    "    total = 0\n",
    "    for i in range(0, num+1):\n",
    "        total = total + i\n",
    "    return total\n",
    "\n",
    "def summation_2(num):\n",
    "    return sum(range(num+1))"
   ],
   "metadata": {
    "collapsed": false,
    "pycharm": {
     "name": "#%%\n"
    }
   }
  },
  {
   "cell_type": "code",
   "execution_count": null,
   "outputs": [],
   "source": [
    "print(summation(num= 2))\n",
    "print(summation(num= 8))"
   ],
   "metadata": {
    "collapsed": false,
    "pycharm": {
     "name": "#%%\n"
    }
   }
  },
  {
   "cell_type": "markdown",
   "source": [
    "---"
   ],
   "metadata": {
    "collapsed": false,
    "pycharm": {
     "name": "#%% md\n"
    }
   }
  }
 ],
 "metadata": {
  "kernelspec": {
   "display_name": "Python 3",
   "language": "python",
   "name": "python3"
  },
  "language_info": {
   "codemirror_mode": {
    "name": "ipython",
    "version": 2
   },
   "file_extension": ".py",
   "mimetype": "text/x-python",
   "name": "python",
   "nbconvert_exporter": "python",
   "pygments_lexer": "ipython2",
   "version": "2.7.6"
  }
 },
 "nbformat": 4,
 "nbformat_minor": 0
}