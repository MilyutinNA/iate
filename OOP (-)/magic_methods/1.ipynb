{
 "cells": [
  {
   "cell_type": "markdown",
   "source": [
    "Все магические методы вступают в силу таким образом и требуют определенного имени функции и сигнатуры метода (иногда сигнатура метода является переменной), и тогда метод будет вызываться при определенных обстоятельствах."
   ],
   "metadata": {
    "collapsed": false,
    "pycharm": {
     "name": "#%% md\n"
    }
   }
  },
  {
   "cell_type": "code",
   "execution_count": null,
   "outputs": [],
   "source": [
    "class Word(str):\n",
    "    '''Класс для слов, определяющий сравнение по длине слов.'''\n",
    "\n",
    "    def __new__(cls, word):\n",
    "        # Мы должны использовать __new__, так как тип str неизменяемый\n",
    "        # и мы должны инициализировать его раньше (при создании)\n",
    "        if ' ' in word:\n",
    "            print (\"Value contains spaces. Truncating to first space.\")\n",
    "            word = word[:word.index(' ')] # Теперь Word это все символы до первого пробела\n",
    "        return str.__new__(cls, word)\n",
    "\n",
    "    def __gt__(self, other):\n",
    "        return len(self) > len(other)\n",
    "    def __lt__(self, other):\n",
    "        return len(self) < len(other)\n",
    "    def __ge__(self, other):\n",
    "        return len(self) >= len(other)\n",
    "    def __le__(self, other):\n",
    "        return len(self) <= len(other)\n",
    "\n",
    "word1 = Word('abcd')\n",
    "word2 = Word('abc')\n",
    "print(word1 > word2)"
   ],
   "metadata": {
    "collapsed": false,
    "pycharm": {
     "name": "#%%\n"
    }
   }
  },
  {
   "cell_type": "code",
   "execution_count": 26,
   "outputs": [
    {
     "name": "stdout",
     "output_type": "stream",
     "text": [
      "Проверка на равенство\n",
      "99\n"
     ]
    }
   ],
   "source": [
    "class Num:\n",
    "    def __init__(self,num):\n",
    "        self.num = num\n",
    "\n",
    "    def _get_num(self):\n",
    "        print(self.num)\n",
    "\n",
    "    def __add__(self,other):\n",
    "        print('Выполнилась операция num = num + other')\n",
    "        self.num  += other\n",
    "        self._get_num()\n",
    "\n",
    "    def __sub__(self,other):\n",
    "        print('Is dunder method __sub__ ')\n",
    "        self.num  -= other\n",
    "        self._get_num()\n",
    "\n",
    "    def __mul__(self,other):\n",
    "        print('Is Dunder method __mul__ ')\n",
    "        self.num  *= other\n",
    "        self._get_num()\n",
    "\n",
    "    def __floordiv__(self,other):\n",
    "        print('Is Dunder method __floordiv__ ')\n",
    "        self.num  //= other\n",
    "        self._get_num()\n",
    "\n",
    "    def __eq__(self,other):\n",
    "        print('Проверка на равенство')\n",
    "        print(self.num * other + 9)\n",
    "\n",
    "    def __truediv__(self,other):\n",
    "        print('Is Dunder method __floordiv__ ')\n",
    "        self.num  /= other\n",
    "        self._get_num()\n",
    "\n",
    "num = Num(10)\n",
    "num == 9"
   ],
   "metadata": {
    "collapsed": false,
    "pycharm": {
     "name": "#%%\n"
    }
   }
  },
  {
   "cell_type": "code",
   "execution_count": 89,
   "outputs": [
    {
     "ename": "TypeError",
     "evalue": "__init__() takes 1 positional argument but 2 were given",
     "output_type": "error",
     "traceback": [
      "\u001B[1;31m---------------------------------------------------------------------------\u001B[0m",
      "\u001B[1;31mTypeError\u001B[0m                                 Traceback (most recent call last)",
      "Input \u001B[1;32mIn [89]\u001B[0m, in \u001B[0;36m<cell line: 13>\u001B[1;34m()\u001B[0m\n\u001B[0;32m     10\u001B[0m         \u001B[38;5;28mself\u001B[39m\u001B[38;5;241m.\u001B[39mnum  \u001B[38;5;241m+\u001B[39m\u001B[38;5;241m=\u001B[39m other\n\u001B[0;32m     11\u001B[0m         \u001B[38;5;28mprint\u001B[39m(\u001B[38;5;28mself\u001B[39m\u001B[38;5;241m.\u001B[39mnum)\n\u001B[1;32m---> 13\u001B[0m num \u001B[38;5;241m=\u001B[39m \u001B[43mNum\u001B[49m\u001B[43m(\u001B[49m\u001B[38;5;241;43m10\u001B[39;49m\u001B[43m)\u001B[49m\n\u001B[0;32m     14\u001B[0m num \u001B[38;5;241m+\u001B[39m \u001B[38;5;241m10\u001B[39m\n",
      "\u001B[1;31mTypeError\u001B[0m: __init__() takes 1 positional argument but 2 were given"
     ]
    }
   ],
   "source": [
    "class Num:\n",
    "    def __init__(self,other):\n",
    "        print('Инициация')\n",
    "\n",
    "    def __add__(self,other):\n",
    "        print('Написать этот текст, если объект num сложить с числом other')\n",
    "\n",
    "    def __eq__(self,other):\n",
    "        print('Is Dunder method __eq__ ')\n",
    "        self.num  += other\n",
    "        print(self.num)\n",
    "\n",
    "num = Num(10)\n",
    "num + 10"
   ],
   "metadata": {
    "collapsed": false,
    "pycharm": {
     "name": "#%%\n"
    }
   }
  },
  {
   "cell_type": "code",
   "execution_count": null,
   "outputs": [],
   "source": [],
   "metadata": {
    "collapsed": false,
    "pycharm": {
     "name": "#%%\n",
     "is_executing": true
    }
   }
  }
 ],
 "metadata": {
  "kernelspec": {
   "display_name": "Python 3",
   "language": "python",
   "name": "python3"
  },
  "language_info": {
   "codemirror_mode": {
    "name": "ipython",
    "version": 2
   },
   "file_extension": ".py",
   "mimetype": "text/x-python",
   "name": "python",
   "nbconvert_exporter": "python",
   "pygments_lexer": "ipython2",
   "version": "2.7.6"
  }
 },
 "nbformat": 4,
 "nbformat_minor": 0
}