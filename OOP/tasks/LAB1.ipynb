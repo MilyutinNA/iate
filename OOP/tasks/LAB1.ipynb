{
 "cells": [
  {
   "cell_type": "markdown",
   "source": [
    "### Лучшая практика это решение каких-то реальных задач\n",
    "##### Задачки из книг и видеокурсов тут не подходят. Ставишь себе серьезную боевую задачу и решаешь ее любыми силами.\n",
    "### Один из лучших инструментов для нахождения ответа на вопросы - поисковик гугл\n",
    "##### Внимательно прошерсти все результаты поиска и потрать время и усилия на поиск решения своей задачи. Пробуй менять свой запрос, искать ответ в англоязычных ресурсах. Если не получится, меняй запрос еще раз и еще раз. И только тогда, когда ты видишь что ничего не можешь найти, тогда и можешь обратиться за помощью."
   ],
   "metadata": {
    "collapsed": false,
    "pycharm": {
     "name": "#%% md\n"
    }
   }
  },
  {
   "cell_type": "code",
   "execution_count": null,
   "outputs": [],
   "source": [],
   "metadata": {
    "collapsed": false,
    "pycharm": {
     "name": "#%%\n"
    }
   }
  }
 ],
 "metadata": {
  "kernelspec": {
   "display_name": "Python 3",
   "language": "python",
   "name": "python3"
  },
  "language_info": {
   "codemirror_mode": {
    "name": "ipython",
    "version": 2
   },
   "file_extension": ".py",
   "mimetype": "text/x-python",
   "name": "python",
   "nbconvert_exporter": "python",
   "pygments_lexer": "ipython2",
   "version": "2.7.6"
  }
 },
 "nbformat": 4,
 "nbformat_minor": 0
}