{
 "cells": [
  {
   "cell_type": "markdown",
   "source": [
    "### Задача\n",
    "##### Создайте декоратор @predicate, который позволяет удобно комбинировать логические функции с помощью and (И), or (ИЛИ) и not (НЕ) операторов:\n",
    "```\n",
    "@predicate\n",
    "def is_even(num):\n",
    "    return num % 2 == 0\n",
    "\n",
    "@predicate\n",
    "def is_positive(num):\n",
    "    return num > 0\n",
    "\n",
    "(is_even & is_positive)(4)   # True\n",
    "(is_even & is_positive)(3)   # False\n",
    "(is_even | is_positive)(3)   # True\n",
    "(~is_even & is_positive)(3)  # True\n",
    "```\n",
    "##### Он должен работать со всеми функциями, независимо от того, сколько аргументов они принимают:\n",
    "```\n",
    "@predicate\n",
    "def to_be():\n",
    "    return True\n",
    "\n",
    "(to_be | ~to_be)()  # True\n",
    "\n",
    "@predicate\n",
    "def is_equal(a, b):\n",
    "    return a == b\n",
    "\n",
    "@predicate\n",
    "def is_less_than(a, b):\n",
    "    return a < b\n",
    "\n",
    "(is_less_than | is_equal)(1, 2)      # True\n",
    "```\n",
    "##### Аргументы ключевых слов также должны работать:\n",
    "```\n",
    "(is_less_than | is_equal)(2, b=2)    # True\n",
    "(is_less_than | is_equal)(a=3, b=2)  # False\n",
    "```\n",
    "##### Комбинации функций с несовместимыми сигнатурами (например is_positive & is_less_than) не будут тестироваться.\n",
    "##### Декорированная функция должна вызываться сама по себе (без объединения с другими предикатами) и вести себя как исходная функция:\n",
    "```\n",
    "@predicate\n",
    "def is_less_than(a, b):\n",
    "    return a < b\n",
    "\n",
    "is_less_than(1, 2)  # True\n",
    "is_less_than(2, 2)  # False\n",
    "is_less_than(3, 2)  # False\n",
    "```"
   ],
   "metadata": {
    "collapsed": false,
    "pycharm": {
     "name": "#%% md\n"
    }
   }
  },
  {
   "cell_type": "raw",
   "source": [
    "@test.describe(\"Examples from the description\")\n",
    "def describe():\n",
    "    @test.it(\"1 argument\")\n",
    "    def it():\n",
    "        @predicate\n",
    "        def is_even(num):\n",
    "            return num % 2 == 0\n",
    "\n",
    "        @predicate\n",
    "        def is_positive(num):\n",
    "            return num > 0\n",
    "\n",
    "        test.assert_equals((is_even & is_positive)(4), True)\n",
    "        test.assert_equals((is_even & is_positive)(3), False)\n",
    "        test.assert_equals((is_even | is_positive)(3), True)\n",
    "        test.assert_equals((~is_even & is_positive)(3), True)\n",
    "\n",
    "    @test.it(\"0 arguments\")\n",
    "    def it():\n",
    "        @predicate\n",
    "        def to_be():\n",
    "            return True\n",
    "\n",
    "        test.assert_equals((to_be | ~to_be)(), True)\n",
    "\n",
    "    @test.it(\"2 arguments, keyword arguments\")\n",
    "    def it():\n",
    "        @predicate\n",
    "        def is_equal(a, b):\n",
    "            return a == b\n",
    "\n",
    "        @predicate\n",
    "        def is_less_than(a, b):\n",
    "            return a < b\n",
    "\n",
    "        test.assert_equals((is_less_than | is_equal)(1, 2), True)\n",
    "        test.assert_equals((is_less_than | is_equal)(2, b=2), True)\n",
    "        test.assert_equals((is_less_than | is_equal)(a=3, b=2), False)\n",
    "\n",
    "    @test.it(\"should be callable and behave like the original\")\n",
    "    def it():\n",
    "        @predicate\n",
    "        def is_less_than(a, b):\n",
    "            return a < b\n",
    "\n",
    "        test.assert_equals(is_less_than(1, 2), True)\n",
    "        test.assert_equals(is_less_than(2, 2), False)\n",
    "        test.assert_equals(is_less_than(3, 2), False)"
   ],
   "metadata": {
    "collapsed": false,
    "pycharm": {
     "name": "#%% raw\n"
    }
   }
  },
  {
   "cell_type": "code",
   "execution_count": null,
   "outputs": [],
   "source": [
    "def predicate():\n",
    "    ...\n",
    "\n",
    "class predicate:\n",
    "    ...\n",
    "\n",
    "predicate = ..."
   ],
   "metadata": {
    "collapsed": false,
    "pycharm": {
     "name": "#%%\n"
    }
   }
  }
 ],
 "metadata": {
  "kernelspec": {
   "display_name": "Python 3",
   "language": "python",
   "name": "python3"
  },
  "language_info": {
   "codemirror_mode": {
    "name": "ipython",
    "version": 2
   },
   "file_extension": ".py",
   "mimetype": "text/x-python",
   "name": "python",
   "nbconvert_exporter": "python",
   "pygments_lexer": "ipython2",
   "version": "2.7.6"
  }
 },
 "nbformat": 4,
 "nbformat_minor": 0
}