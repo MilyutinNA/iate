{
 "cells": [
  {
   "cell_type": "markdown",
   "source": [
    "Создайте объект Vector, который поддерживает сложение, вычитание, скалярные произведения и нормы. Так, например:\n",
    "```\n",
    "a = Vector([1, 2, 3])\n",
    "b = Vector([3, 4, 5])\n",
    "c = Vector([5, 6, 7, 8])\n",
    "\n",
    "a.add(b)      # should return a new Vector([4, 6, 8])\n",
    "a.subtract(b) # should return a new Vector([-2, -2, -2])\n",
    "a.dot(b)      # should return 1*3 + 2*4 + 3*5 = 26\n",
    "a.norm()      # should return sqrt(1^2 + 2^2 + 3^2) = sqrt(14)\n",
    "a.add(c)      # raises an exception\n",
    "```\n",
    "Если вы попытаетесь сложить, вычесть или поставить точки над двумя векторами разной длины, вы получите ошибку !\n",
    "\n",
    "Также предоставьте:\n",
    "\n",
    "* метод toString, чтобы использовать векторы сверху a.toString() === '(1,2,3)'(в Python это __str__метод, так что str(a) == '(1,2,3)')\n",
    "* метод equals проверки равенства двух векторов с одинаковыми компонентами\n",
    "\n",
    "Примечание. В тестовых примерах будет использоваться equals метод, предоставленный пользователем."
   ],
   "metadata": {
    "collapsed": false,
    "pycharm": {
     "name": "#%% md\n"
    }
   }
  },
  {
   "cell_type": "raw",
   "source": [
    "a = Vector([1, 2])\n",
    "b = Vector([3, 4])\n",
    "\n",
    "test.expect(a.add(b).equals(Vector([4, 6])))\n",
    "\n",
    "\n",
    "a = Vector([1, 2, 3])\n",
    "b = Vector([3, 4, 5])\n",
    "\n",
    "test.expect(a.add(b).equals(Vector([4, 6, 8])))\n",
    "test.expect(a.subtract(b).equals(Vector([-2, -2, -2])))\n",
    "test.assert_equals(a.dot(b), 26)\n",
    "test.assert_equals(a.norm(), 14 ** 0.5)"
   ],
   "metadata": {
    "collapsed": false,
    "pycharm": {
     "name": "#%% raw\n"
    }
   }
  },
  {
   "cell_type": "code",
   "execution_count": null,
   "outputs": [],
   "source": [
    "class Vector:\n",
    "# TODO: Finish the Vector class."
   ],
   "metadata": {
    "collapsed": false,
    "pycharm": {
     "name": "#%%\n"
    }
   }
  }
 ],
 "metadata": {
  "kernelspec": {
   "display_name": "Python 3",
   "language": "python",
   "name": "python3"
  },
  "language_info": {
   "codemirror_mode": {
    "name": "ipython",
    "version": 2
   },
   "file_extension": ".py",
   "mimetype": "text/x-python",
   "name": "python",
   "nbconvert_exporter": "python",
   "pygments_lexer": "ipython2",
   "version": "2.7.6"
  }
 },
 "nbformat": 4,
 "nbformat_minor": 0
}