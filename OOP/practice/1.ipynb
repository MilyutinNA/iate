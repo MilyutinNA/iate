{
 "cells": [
  {
   "cell_type": "markdown",
   "source": [
    "##### Вы только что закончили писать функцию, которая вычисляет окончательный счет игрока для вашей новой игры.\n",
    "##### Теперь все, что вам нужно, это таблица рекордов, в которую можно добавить окончательные результаты игрока. С такой функцией игрок будет мотивирован, чтобы попытаться побить свои предыдущие результаты.\n",
    "##### Таблица рекордов будет начинаться пустой. Ограничение на размер таблицы будет указано при создании таблицы.\n",
    "##### Вот пример ожидаемого поведения таблицы рекордов:"
   ],
   "metadata": {
    "collapsed": false,
    "pycharm": {
     "name": "#%% md\n"
    }
   }
  },
  {
   "cell_type": "raw",
   "source": [
    "test.describe('Example usage')\n",
    "\n",
    "highScoreTable = HighScoreTable(3)\n",
    "test.assert_equals(highScoreTable.scores, [])\n",
    "\n",
    "highScoreTable.update(10)\n",
    "test.assert_equals(highScoreTable.scores, [10])\n",
    "\n",
    "highScoreTable.update(8)\n",
    "highScoreTable.update(12)\n",
    "test.assert_equals(highScoreTable.scores, [12, 10, 8])\n",
    "\n",
    "highScoreTable.update(5)\n",
    "test.assert_equals(highScoreTable.scores, [12, 10, 8])\n",
    "\n",
    "highScoreTable.update(10)\n",
    "test.assert_equals(highScoreTable.scores, [12, 10, 10])\n",
    "\n",
    "highScoreTable.update(10)\n",
    "test.assert_equals(highScoreTable.scores, [12, 10, 10])\n",
    "\n",
    "highScoreTable.update(20)\n",
    "test.assert_equals(highScoreTable.scores, [20, 12, 10])\n",
    "\n",
    "highScoreTable.update(20)\n",
    "test.assert_equals(highScoreTable.scores, [20, 20, 12])\n",
    "\n",
    "highScoreTable.update(20)\n",
    "test.assert_equals(highScoreTable.scores, [20, 20, 20])\n",
    "\n",
    "highScoreTable.reset()\n",
    "test.assert_equals(highScoreTable.scores, [])"
   ],
   "metadata": {
    "collapsed": false,
    "pycharm": {
     "name": "#%% raw\n"
    }
   }
  },
  {
   "cell_type": "code",
   "execution_count": null,
   "outputs": [],
   "source": [
    "class HighScoreTable:\n",
    "\n",
    "    def __init__():\n",
    "    # YOUR CODE HERE\n",
    "\n",
    "    def update():\n",
    "    # YOUR CODE HERE\n",
    "\n",
    "    def reset():\n",
    "# YOUR CODE HERE"
   ],
   "metadata": {
    "collapsed": false,
    "pycharm": {
     "name": "#%%\n"
    }
   }
  },
  {
   "cell_type": "code",
   "execution_count": null,
   "outputs": [],
   "source": [],
   "metadata": {
    "collapsed": false,
    "pycharm": {
     "name": "#%%\n"
    }
   }
  }
 ],
 "metadata": {
  "kernelspec": {
   "display_name": "Python 3",
   "language": "python",
   "name": "python3"
  },
  "language_info": {
   "codemirror_mode": {
    "name": "ipython",
    "version": 2
   },
   "file_extension": ".py",
   "mimetype": "text/x-python",
   "name": "python",
   "nbconvert_exporter": "python",
   "pygments_lexer": "ipython2",
   "version": "2.7.6"
  }
 },
 "nbformat": 4,
 "nbformat_minor": 0
}