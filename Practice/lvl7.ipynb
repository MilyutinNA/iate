{
 "cells": [
  {
   "cell_type": "markdown",
   "source": [
    "Ваша задача - написать функцию, которая принимает строку и возвращает новую строку с удаленными всеми гласными.\n",
    "\n",
    "Пы.Сы. Гласных букв в русском языке- десять: «а» «у» «о» «и» «э» «ы» «я» «ю» «е» «ё».\n",
    "Например, строка \"В этом предложении нет гласных\"."
   ],
   "metadata": {
    "collapsed": false,
    "pycharm": {
     "name": "#%% md\n"
    }
   }
  },
  {
   "cell_type": "code",
   "execution_count": null,
   "outputs": [],
   "source": [
    "def disemvowel(string):\n"
   ],
   "metadata": {
    "collapsed": false,
    "pycharm": {
     "name": "#%%\n"
    }
   }
  },
  {
   "cell_type": "code",
   "execution_count": null,
   "outputs": [],
   "source": [
    "print(disemvowel(string=\"В этом предложении нет гласных\"))"
   ],
   "metadata": {
    "collapsed": false,
    "pycharm": {
     "name": "#%%\n"
    }
   }
  },
  {
   "cell_type": "markdown",
   "source": [
    "Возведите в квадрат каждую цифру числа и объедините их.\n",
    "\n",
    "Например, если мы запустим 9119 через функцию, получится 811181, потому что $9^2$ = 81, а $1^2$ = 1.\n",
    "\n",
    "Примечание: Функция принимает целое число и возвращает целое число"
   ],
   "metadata": {
    "collapsed": false,
    "pycharm": {
     "name": "#%% md\n"
    }
   }
  },
  {
   "cell_type": "code",
   "execution_count": null,
   "outputs": [],
   "source": [
    "def square_digits(num):\n"
   ],
   "metadata": {
    "collapsed": false,
    "pycharm": {
     "name": "#%%\n"
    }
   }
  },
  {
   "cell_type": "code",
   "execution_count": null,
   "outputs": [],
   "source": [
    "print(square_digits(num=51123))"
   ],
   "metadata": {
    "collapsed": false,
    "pycharm": {
     "name": "#%%\n"
    }
   }
  }
 ],
 "metadata": {
  "kernelspec": {
   "display_name": "Python 3",
   "language": "python",
   "name": "python3"
  },
  "language_info": {
   "codemirror_mode": {
    "name": "ipython",
    "version": 2
   },
   "file_extension": ".py",
   "mimetype": "text/x-python",
   "name": "python",
   "nbconvert_exporter": "python",
   "pygments_lexer": "ipython2",
   "version": "2.7.6"
  }
 },
 "nbformat": 4,
 "nbformat_minor": 0
}