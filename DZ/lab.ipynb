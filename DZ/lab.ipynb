{
 "cells": [
  {
   "cell_type": "code",
   "execution_count": 14,
   "metadata": {
    "collapsed": true,
    "pycharm": {
     "name": "#%%\n"
    }
   },
   "outputs": [],
   "source": [
    "import numpy as np\n",
    "from scipy import stats\n",
    "\n",
    "alpha = 0.95\n",
    "t_syst = 0.001\n",
    "m = {\"m1\":2.93, \"m2\":4.82, \"m3\":5.88}\n",
    "tab = {\"m1\":(1.808, 1.687,1.712,1.675,1.685, 1.787,1.682, 1.718, 1.687, 1.829), \"m2\":(1.419, 1.405, 1.381, 1.257, 1.347, 1.416, 1.336, 1.318, 1.317, 1.361), \"m3\":(1.209, 1.263, 1.166, 1.260, 1.231, 1.223, 1.187, 1.189, 1.210, 1.204)}\n",
    "u = len(tab[\"m1\"])\n",
    "\n",
    "#расчет среднего значения времени\n",
    "tab_avg = {}\n",
    "for n in tab:\n",
    "    sum_t = 0\n",
    "    for j in tab[n]:\n",
    "        sum_t += j\n",
    "    tab_avg[n] = round(sum_t/len(tab[n]), 3)\n",
    "\n",
    "#расчёт абсолютной погрешности для времени\n",
    "s = {}\n",
    "sum_t=0\n",
    "for n in tab:\n",
    "    for t in tab[n]:\n",
    "        sum_t = (t - tab_avg[n])**2\n",
    "    s[n] = round(((sum_t/(u*(u-1))))**(0.5),3)\n",
    "\n",
    "#Коэффициент Стьюдента\n",
    "t_an = stats.t.ppf((1 + alpha)/2, u-1)\n",
    "\n",
    "#расчёт случайно погрешности для времени\n",
    "t_sl = {}\n",
    "for n in s:\n",
    "    t_sl[n] = t_an * s[n]\n",
    "\n",
    "#расчёт абсолютной погрешности для времени\n",
    "abs_t = {}\n",
    "for e in m:\n",
    "    abs_t[e] = (t_sl[e]**2 + t_syst**2)**0.5\n",
    "\n",
    "#расчёт относительной погрешности для времени\n",
    "delta_t = {}\n",
    "for i in m:\n",
    "    delta_t[i] = abs_t[i]/tab_avg[i]\n",
    "\n",
    "\n",
    "\n",
    "\n"
   ]
  },
  {
   "cell_type": "code",
   "execution_count": null,
   "outputs": [],
   "source": [],
   "metadata": {
    "collapsed": false,
    "pycharm": {
     "name": "#%%\n"
    }
   }
  }
 ],
 "metadata": {
  "kernelspec": {
   "display_name": "Python 3",
   "language": "python",
   "name": "python3"
  },
  "language_info": {
   "codemirror_mode": {
    "name": "ipython",
    "version": 2
   },
   "file_extension": ".py",
   "mimetype": "text/x-python",
   "name": "python",
   "nbconvert_exporter": "python",
   "pygments_lexer": "ipython2",
   "version": "2.7.6"
  }
 },
 "nbformat": 4,
 "nbformat_minor": 0
}